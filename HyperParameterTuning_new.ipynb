{
 "cells": [
  {
   "cell_type": "markdown",
   "id": "4a5ac3e8-7f67-45ee-9d1b-f64f6abae184",
   "metadata": {},
   "source": [
    "## Introduction\n",
    "In this file, I have used the optuna library to optimize the hyperparameters for a feed forward neural network. The initial code is the same as the other file in which I preprocess the strain and stress data in a tensor form. I write several functions for different mathematical operations. I have also written the mathematical relationships between principal invariants and free energy etc that have been employed."
   ]
  },
  {
   "cell_type": "code",
   "execution_count": 1,
   "id": "60730c70-5027-49d0-9142-b0efeb4331a4",
   "metadata": {},
   "outputs": [],
   "source": [
    "# Load data\n",
    "import pandas as pd\n",
    "import numpy as np"
   ]
  },
  {
   "cell_type": "markdown",
   "id": "1c11656c-594a-40a3-9449-eac7a18d3c81",
   "metadata": {},
   "source": [
    "#### This function \"deviatoric\" calculates the deviatoric stress from a 3 by 3 list of stress. "
   ]
  },
  {
   "cell_type": "code",
   "execution_count": 2,
   "id": "475caf5a-5958-440e-ae03-dcbaea93dbf6",
   "metadata": {},
   "outputs": [],
   "source": [
    "def deviatoric(sig):\n",
    "    sig11 = sig[0,0]; sig12 = sig[0,1]; sig13 = sig[0,2]\n",
    "    sig21 = sig[1,0]; sig22 = sig[1,1]; sig23 = sig[1,2]\n",
    "    sig31 = sig[2,0]; sig32 = sig[2,1]; sig33 = sig[2,2]\n",
    "    sigDev = np.array([[sig11,sig12,sig13],[sig21,sig22,sig23],[sig31,sig32,sig33]]) \\\n",
    "        - 1/3*(sig11+sig22+sig33)*np.eye(3)\n",
    "    return sigDev"
   ]
  },
  {
   "cell_type": "code",
   "execution_count": 3,
   "id": "67c7e0ea-b00a-4f3d-bb71-03110e6253c4",
   "metadata": {},
   "outputs": [],
   "source": [
    "def readData(filepath=r'avgStrainStressInfoNEPureShearLoading.csv'):\n",
    "    T = pd.read_csv(filepath)\n",
    "    eps_nominal=T.iloc[:,0:6].values\n",
    "    sigMatrix = T.iloc[:,6:12].values\n",
    "    \n",
    "    \n",
    "    sigMatrixList = []\n",
    "    for k in range(len(T.sig11)):\n",
    "        sig = np.asarray([[T.sig11[k], T.sig12[k], T.sig13[k]],[T.sig12[k], T.sig22[k], T.sig23[k]],[T.sig13[k], T.sig23[k], T.sig33[k]]])\n",
    "        sigMatrixList.append(sig)\n",
    "    return eps_nominal, sigMatrix, sigMatrixList\n",
    "        \n",
    "eps_nominal, sigMatrix, sigMatrixList = readData()"
   ]
  },
  {
   "cell_type": "code",
   "execution_count": 4,
   "id": "afb66989",
   "metadata": {},
   "outputs": [
    {
     "data": {
      "text/plain": [
       "array([[ 5.881015e-02,  3.930000e-12, -1.410000e-12],\n",
       "       [ 3.930000e-12,  5.032935e-03,  6.440000e-12],\n",
       "       [-1.410000e-12,  6.440000e-12,  5.050588e-03]])"
      ]
     },
     "execution_count": 4,
     "metadata": {},
     "output_type": "execute_result"
    }
   ],
   "source": [
    "sigMatrixList[0]"
   ]
  },
  {
   "cell_type": "code",
   "execution_count": 5,
   "id": "8e379d55",
   "metadata": {},
   "outputs": [
    {
     "data": {
      "text/plain": [
       "(918, 6)"
      ]
     },
     "execution_count": 5,
     "metadata": {},
     "output_type": "execute_result"
    }
   ],
   "source": [
    "sigMatrix.shape"
   ]
  },
  {
   "cell_type": "code",
   "execution_count": 6,
   "id": "7ce0f2d2",
   "metadata": {},
   "outputs": [
    {
     "data": {
      "text/plain": [
       "array([ 1.076606e-03, -4.838850e-04, -4.838830e-04,  3.490000e-19,\n",
       "       -6.240000e-19, -2.730000e-12])"
      ]
     },
     "execution_count": 6,
     "metadata": {},
     "output_type": "execute_result"
    }
   ],
   "source": [
    "eps_nominal[5,:]"
   ]
  },
  {
   "cell_type": "code",
   "execution_count": 7,
   "id": "a62ceb04",
   "metadata": {},
   "outputs": [
    {
     "data": {
      "text/plain": [
       "(3, 1)"
      ]
     },
     "execution_count": 7,
     "metadata": {},
     "output_type": "execute_result"
    }
   ],
   "source": [
    "fiber_direction = np.array([[1],[0],[0]])\n",
    "fiber_direction.shape"
   ]
  },
  {
   "cell_type": "code",
   "execution_count": 10,
   "id": "70ec00e7-6c9e-4d1e-b874-a193a085f2d7",
   "metadata": {},
   "outputs": [
    {
     "name": "stdout",
     "output_type": "stream",
     "text": [
      "24\n"
     ]
    }
   ],
   "source": [
    "np.cbrt(8)\n",
    "print(np.prod([1, 2, 3, 4]))"
   ]
  },
  {
   "cell_type": "markdown",
   "id": "a750548d-ac5e-46a9-9ba8-4eae644e15c7",
   "metadata": {},
   "source": [
    "### F: Deformation gradient \n",
    "### C: Right Cauchy Tensor \n",
    "### b: Left Cauchy Tensor\n",
    "$$ \\bar{\\mathbf{F}} = J^{-\\frac{1}{3}} \\mathbf{F}$$\n",
    "$$ \\bar{\\mathbf{b}} = J^{-\\frac{2}{3}} \\mathbf{b} $$\n",
    "$$ \\bar{\\mathbf{C}} = J^{-\\frac{2}{3}} \\mathbf{C} $$\n",
    "$$ \\mathbf{F} = \\mathbf{R} \\cdot \\mathbf{U} = \\mathbf{v} \\cdot \\mathbf{R}$$"
   ]
  },
  {
   "cell_type": "markdown",
   "id": "0b12feef-9842-47a4-a220-b59de6d76732",
   "metadata": {},
   "source": [
    "$$ \\mathbf{b} = \\sum_{i=1}^{i=n}\\lambda_i^2 n_i \\otimes n_i$$\n",
    "$$ \\mathbf{U} = diag(\\lambda_i)$$"
   ]
  },
  {
   "cell_type": "code",
   "execution_count": 6,
   "id": "0cad4b6c",
   "metadata": {},
   "outputs": [],
   "source": [
    "def estimate_F_C(b,J):\n",
    "    # Perform spectral decomposition of b\n",
    "    eigenvalues, eigenvectors = np.linalg.eigh(b)\n",
    "    \n",
    "    # Since J = det(F), and for isotropic materials det(F) = det(v),\n",
    "    # adjust the principal stretches to reflect volume change\n",
    "    principal_stretches = np.sqrt(eigenvalues) * np.cbrt(J / np.prod(np.sqrt(eigenvalues)))\n",
    "\n",
    "    # Reconstruct F using the principal stretches and the eigenvectors of b\n",
    "    # Note: This reconstruction assumes F can be directly derived from b's eigendecomposition, \n",
    "    # which may not capture the full rotation effects in v. This is a simplification.\n",
    "    U = np.diag(principal_stretches)\n",
    "    F = eigenvectors @ U @ np.linalg.inv(eigenvectors)\n",
    "\n",
    "    # Calculate C = F.T * F\n",
    "    C = np.matmul(F.T, F)\n",
    "    b_estimate = np.matmul(F, F.T)\n",
    "    error = np.linalg.norm(b - b_estimate)\n",
    "\n",
    "    return F, C,error"
   ]
  },
  {
   "cell_type": "code",
   "execution_count": 7,
   "id": "4054dece",
   "metadata": {},
   "outputs": [],
   "source": [
    "import torch"
   ]
  },
  {
   "cell_type": "code",
   "execution_count": 8,
   "id": "015c362e",
   "metadata": {},
   "outputs": [],
   "source": [
    "def doubleDotProduct(A,B):\n",
    "    return np.trace(np.matmul(A.T,B))\n",
    "    \n",
    "def deviatoric(sig):\n",
    "    return sig - 1/3*np.trace(sig)*np.eye(3)\n",
    "class bases:\n",
    "    def __init__(self,base1,base2,base3,base4,base5):\n",
    "        self.base1 = torch.tensor(base1,dtype=torch.float32)\n",
    "        self.base2 = torch.tensor(base2,dtype=torch.float32)\n",
    "        self.base3 = torch.tensor(base3,dtype=torch.float32)\n",
    "        self.base4 = torch.tensor(base4,dtype=torch.float32)\n",
    "        self.base5 = torch.tensor(base5,dtype=torch.float32)\n",
    "    def to_dict(self):\n",
    "        return {\n",
    "            'base1': self.base1,\n",
    "            'base2': self.base2,\n",
    "            'base3': self.base3,\n",
    "            'base4': self.base4,\n",
    "            'base5': self.base5,\n",
    "        }\n",
    "    def __repr__(self) -> str:\n",
    "        return f'base1: {self.base1},\\n base2: {self.base2},\\n base3: {self.base3},\\n base4: {self.base4},\\n base5: {self.base5}\\n'\n",
    "def calc_bases(bbar,F,J,direction):\n",
    "    dev_bbar = deviatoric(bbar)\n",
    "    base1 = 2.0/J * dev_bbar\n",
    "    base2 = -2.0/J * deviatoric(bbar @ bbar)\n",
    "    Fbar = J**(-1/3)*F\n",
    "    a_bar = Fbar @ direction\n",
    "    a_bar_dash = bbar @ a_bar\n",
    "    base3 = np.eye(3) \n",
    "    base4 = 2.0 * a_bar @ a_bar.T\n",
    "    base5 = 2.0 * a_bar @ a_bar_dash.T + 2.0 * a_bar_dash @ a_bar.T\n",
    "    return bases(base1,base2,base3,base4,base5)\n",
    "\n",
    "\n",
    "\n",
    "\n",
    "\n",
    "def transforming_nominal_strain(eps_nominal):\n",
    "    v_mat_lin = np.zeros((len(eps_nominal),6))\n",
    "    b_mat_lin = np.zeros((len(eps_nominal),6))\n",
    "    I1 = np.zeros((len(eps_nominal),1))\n",
    "    I2 = np.zeros((len(eps_nominal),1))\n",
    "    I3 = np.zeros((len(eps_nominal),1))\n",
    "    I4 = np.zeros((len(eps_nominal),1))\n",
    "    I5 = np.zeros((len(eps_nominal),1))\n",
    "    I1_bar = np.zeros((len(eps_nominal),1))\n",
    "    I2_bar = np.zeros((len(eps_nominal),1))\n",
    "    I4_bar = np.zeros((len(eps_nominal),1))\n",
    "    I5_bar = np.zeros((len(eps_nominal),1))\n",
    "    fiber_direction = np.array([[1],[0],[0]])\n",
    "    fiber_dyad = np.matmul(fiber_direction,fiber_direction.T)\n",
    "    bases_data = []\n",
    "    # eps_nominal = numpy array with 918 x 6\n",
    "    for k in range(len(eps_nominal)):\n",
    "        # eps11,eps22,eps33,eps12,eps13,eps23\n",
    "        eps_nom = np.array([ [eps_nominal[k,0]  , eps_nominal[k,3], eps_nominal[k,4]], \n",
    "                    [eps_nominal[k,3], eps_nominal[k,1]  , eps_nominal[k,5]], \n",
    "                    [eps_nominal[k,4], eps_nominal[k,5], eps_nominal[k,2]  ] ])\n",
    "        v_mat = eps_nom + np.eye(3)\n",
    "        b_mat = np.matmul(v_mat,v_mat)\n",
    "        J = np.linalg.det(v_mat)\n",
    "        F, C,error = estimate_F_C(b_mat,J)\n",
    "        bbar = (J)**(-2/3)*b_mat\n",
    "        base_obj = calc_bases(bbar,F,J,fiber_direction)\n",
    "        Cbar = (J)**(-2/3)*C\n",
    "        # Calculate invariants\n",
    "        I1[k] = np.trace(b_mat)\n",
    "        I2[k] = 0.5*(I1[k]**2 - np.trace(np.matmul(b_mat,b_mat)))\n",
    "        I3[k] = J\n",
    "        I4[k] = doubleDotProduct(C,fiber_dyad)\n",
    "        I5[k] = doubleDotProduct(C @ C,fiber_dyad)\n",
    "        \n",
    "        \n",
    "        I1_bar[k] = np.trace(bbar)\n",
    "        I2_bar[k] = 0.5*(I1_bar[k]**2 - np.trace(np.matmul(bbar,bbar)))\n",
    "        I4_bar[k] = doubleDotProduct(Cbar,fiber_dyad)\n",
    "        I5_bar[k] = doubleDotProduct(Cbar @ Cbar,fiber_dyad)\n",
    "        \n",
    "        bases_data.append(base_obj) \n",
    "        v_mat_lin[k,:] = [v_mat[0,0],v_mat[1,1],v_mat[2,2], \\\n",
    "                            v_mat[0,1],v_mat[0,2],v_mat[1,2]]\n",
    "        b_mat_lin[k,:] = [b_mat[0,0],b_mat[1,1],b_mat[2,2], \\\n",
    "                            b_mat[0,1],b_mat[0,2],b_mat[1,2]]\n",
    "    invarices = np.concatenate((I1,I2,I3,I4,I5),axis=1)\n",
    "    invarices_bar = np.concatenate((I1_bar,I2_bar,I3,I4_bar,I5_bar),axis=1)\n",
    "    return v_mat_lin,b_mat_lin,invarices,invarices_bar,bases_data\n",
    "v_matrix,b_mat_lin,invarices,invarices_bar,bases_data_list = transforming_nominal_strain(eps_nominal)"
   ]
  },
  {
   "cell_type": "code",
   "execution_count": 9,
   "id": "fc16cd40",
   "metadata": {},
   "outputs": [
    {
     "data": {
      "text/plain": [
       "918"
      ]
     },
     "execution_count": 9,
     "metadata": {},
     "output_type": "execute_result"
    }
   ],
   "source": [
    "len(bases_data_list)"
   ]
  },
  {
   "cell_type": "code",
   "execution_count": 10,
   "id": "378abb85",
   "metadata": {},
   "outputs": [
    {
     "data": {
      "text/plain": [
       "(918, 6)"
      ]
     },
     "execution_count": 10,
     "metadata": {},
     "output_type": "execute_result"
    }
   ],
   "source": [
    "b_mat_lin.shape"
   ]
  },
  {
   "cell_type": "code",
   "execution_count": 11,
   "id": "41280527",
   "metadata": {},
   "outputs": [
    {
     "data": {
      "text/plain": [
       "(918, 5)"
      ]
     },
     "execution_count": 11,
     "metadata": {},
     "output_type": "execute_result"
    }
   ],
   "source": [
    "invarices_bar.shape"
   ]
  },
  {
   "cell_type": "code",
   "execution_count": 12,
   "id": "9eb8aff3",
   "metadata": {},
   "outputs": [],
   "source": [
    "import torch\n",
    "import torch.nn as nn\n",
    "import matplotlib.pyplot as plt\n",
    "from torch.utils.data import TensorDataset, DataLoader, Subset"
   ]
  },
  {
   "cell_type": "code",
   "execution_count": 13,
   "id": "92206edf",
   "metadata": {},
   "outputs": [],
   "source": [
    "sigMatrixList = [torch.tensor(sigMatrixList[i],dtype=torch.float32) for i in range(len(sigMatrixList))]"
   ]
  },
  {
   "cell_type": "code",
   "execution_count": 14,
   "id": "664b146e",
   "metadata": {},
   "outputs": [],
   "source": [
    "data_dict = {'invriants': invarices_bar, 'bases': bases_data_list, 'target_stress': sigMatrixList}\n",
    "class MyDataset(torch.utils.data.Dataset):\n",
    "    def __init__(self, data):\n",
    "        # convert invariants to tensor\n",
    "        invariants = torch.tensor(data['invriants'], dtype=torch.float32)\n",
    "        invariants.requires_grad = True\n",
    "        self.invariants = invariants\n",
    "        self.bases = data['bases']\n",
    "        self.base1_list = [b.base1 for b in self.bases]\n",
    "        self.base2_list = [b.base2 for b in self.bases]\n",
    "        self.base3_list = [b.base3 for b in self.bases]\n",
    "        self.base4_list = [b.base4 for b in self.bases]\n",
    "        self.base5_list = [b.base5 for b in self.bases]\n",
    "        self.base1_list = torch.stack(self.base1_list)\n",
    "        self.base2_list = torch.stack(self.base2_list)\n",
    "        self.base3_list = torch.stack(self.base3_list)\n",
    "        self.base4_list = torch.stack(self.base4_list)\n",
    "        self.base5_list = torch.stack(self.base5_list)\n",
    "        # target_stress = torch.tensor(data['target_stress'], dtype=torch.float32)\n",
    "        # target_stress.requires_grad = True\n",
    "        target_stress = torch.stack(data['target_stress'])\n",
    "        self.target_stress = target_stress\n",
    "    \n",
    "    def __getitem__(self, index):\n",
    "        # Extract data for a single sample\n",
    "        invariants = self.invariants[index]\n",
    "        base1 = self.base1_list[index,:,:]\n",
    "        base2 = self.base2_list[index,:,:]\n",
    "        base3 = self.base3_list[index,:,:]\n",
    "        base4 = self.base4_list[index,:,:]\n",
    "        base5 = self.base5_list[index,:,:]\n",
    "        bases = (base1, base2, base3, base4, base5)\n",
    "        # target_stress = self.target_stress[index]\n",
    "        target_stress = self.target_stress[index,:,:]\n",
    "        return invariants, bases, target_stress\n",
    "\n",
    "    def __len__(self):\n",
    "        return len(self.invariants)\n",
    "\n",
    "dataset = MyDataset(data_dict)\n"
   ]
  },
  {
   "cell_type": "code",
   "execution_count": 16,
   "id": "b066badd",
   "metadata": {},
   "outputs": [],
   "source": [
    "# Split the dataset into training and validation sets\n",
    "dataset_size = len(dataset)\n",
    "indices = torch.randperm(dataset_size).tolist()\n",
    "# Calculate split sizes\n",
    "train_split = int(0.88 * dataset_size)\n",
    "val_split = int(0.91 * dataset_size)  # This accounts for the next 15%\n",
    "\n",
    "# Split indices\n",
    "train_indices = indices[:train_split]\n",
    "val_indices = indices[train_split:val_split]\n",
    "test_indices = indices[val_split:]\n",
    "\n",
    "# Create Subset instances for train, validation, and test sets\n",
    "train_dataset = Subset(dataset, train_indices)\n",
    "val_dataset = Subset(dataset, val_indices)\n",
    "test_dataset = Subset(dataset, test_indices)\n",
    "\n"
   ]
  },
  {
   "cell_type": "code",
   "execution_count": 17,
   "id": "d41455a0",
   "metadata": {},
   "outputs": [],
   "source": [
    "# Create DataLoaders\n",
    "batch_size = 128\n",
    "train_loader = DataLoader(train_dataset, batch_size=batch_size, shuffle=True)\n",
    "val_loader = DataLoader(val_dataset, batch_size=batch_size, shuffle=False)\n",
    "test_loader = DataLoader(test_dataset, batch_size=batch_size, shuffle=False)\n"
   ]
  },
  {
   "cell_type": "code",
   "execution_count": 18,
   "id": "684117b3",
   "metadata": {},
   "outputs": [
    {
     "name": "stdout",
     "output_type": "stream",
     "text": [
      "Epoch 1: loss: 11682.60546875\n",
      "Epoch 101: loss: 159.2806396484375\n",
      "Epoch 201: loss: 43.815433502197266\n",
      "Epoch 301: loss: 18.501544952392578\n",
      "Epoch 401: loss: 8.91199779510498\n",
      "Epoch 501: loss: 4.800579071044922\n",
      "Epoch 601: loss: 2.878443717956543\n",
      "Epoch 701: loss: 1.8931812047958374\n",
      "Epoch 801: loss: 1.3407315015792847\n",
      "Epoch 901: loss: 1.0058950185775757\n",
      "Epoch 1001: loss: 0.7896069884300232\n",
      "Epoch 1101: loss: 0.6425653100013733\n",
      "Epoch 1201: loss: 0.5383995175361633\n",
      "Epoch 1301: loss: 0.46209457516670227\n",
      "Epoch 1401: loss: 0.40463516116142273\n",
      "Epoch 1501: loss: 0.3603552579879761\n",
      "Epoch 1601: loss: 0.3255591094493866\n",
      "Epoch 1701: loss: 0.29774922132492065\n",
      "Epoch 1801: loss: 0.27519333362579346\n",
      "Epoch 1901: loss: 0.2566586136817932\n",
      "Epoch 2001: loss: 0.24124881625175476\n",
      "Epoch 2101: loss: 0.22829891741275787\n",
      "Epoch 2201: loss: 0.21730823814868927\n",
      "Epoch 2301: loss: 0.2078929841518402\n",
      "Epoch 2401: loss: 0.19975490868091583\n",
      "Epoch 2501: loss: 0.19265972077846527\n",
      "Epoch 2601: loss: 0.18641996383666992\n",
      "Epoch 2701: loss: 0.18088530004024506\n",
      "Epoch 2801: loss: 0.17593252658843994\n",
      "Epoch 2901: loss: 0.17146049439907074\n"
     ]
    }
   ],
   "source": [
    "class ICNN(nn.Module):\n",
    "    def __init__(self, num_layers, size_hidden,input_dim=1,output_dim=1):\n",
    "        super(ICNN, self).__init__()\n",
    "        self.num_layers = num_layers\n",
    "        self.size_hidden = size_hidden\n",
    "\n",
    "        # Initialize the weights for the input layer to zero\n",
    "        self.w0 = nn.Parameter(torch.abs(torch.randn(input_dim, size_hidden)))\n",
    "        self.b0 = nn.Parameter(torch.randn(size_hidden))\n",
    "        # Weights associated with the input y should be unconstrained\n",
    "        self.w_y = nn.ParameterList([\n",
    "            nn.Parameter(torch.randn(input_dim, size_hidden)) \n",
    "            for _ in range(num_layers-1)\n",
    "        ])\n",
    "        \n",
    "        # Weights associated with the previous layer's activation should be non-negative\n",
    "        self.w_z = nn.ParameterList([\n",
    "            nn.Parameter(torch.abs(torch.randn(size_hidden, size_hidden))) \n",
    "            for _ in range(num_layers - 1)\n",
    "        ])\n",
    "        \n",
    "        # Biases for each layer can be any real number\n",
    "        self.biases = nn.ParameterList([\n",
    "            nn.Parameter(torch.randn(size_hidden)) \n",
    "            for _ in range(num_layers - 1)\n",
    "        ])\n",
    "        \n",
    "        # Output layer weight (unconstrained)\n",
    "        self.wz_out = nn.Parameter(torch.abs(torch.randn(size_hidden, output_dim)))\n",
    "        self.wy_out = nn.Parameter(torch.abs(torch.randn(input_dim, output_dim)))\n",
    "        self.b_out = nn.Parameter(torch.randn(output_dim))\n",
    "\n",
    "\n",
    "        # Softplus activation function\n",
    "        self.activation = torch.nn.functional.softplus\n",
    "\n",
    "    def forward(self, y):\n",
    "        z = self.activation(torch.matmul(y, self.w0) + self.b0)\n",
    "        # Apply transformations for each layer\n",
    "        for i in range(self.num_layers - 1):\n",
    "            z = self.activation(torch.matmul(z, self.w_z[i]) + torch.matmul(y, self.w_y[i]) + self.biases[i])\n",
    "\n",
    "        # Output layer\n",
    "        output = self.activation(torch.matmul(z, self.wz_out) + torch.matmul(y, self.wy_out) + self.b_out)\n",
    "        return output\n"
   ]
  },
  {
   "cell_type": "code",
   "execution_count": 19,
   "id": "c23a4699",
   "metadata": {},
   "outputs": [],
   "source": [
    "import torch\n",
    "import torch.nn as nn\n",
    "\n",
    "class FeedforwardNN(nn.Module):\n",
    "    def __init__(self, input_size, output_size, hidden_size, num_hidden_layers):\n",
    "        super(FeedforwardNN, self).__init__()\n",
    "        self.input_size = input_size\n",
    "        self.output_size = output_size\n",
    "        self.hidden_size = hidden_size\n",
    "        self.num_hidden_layers = num_hidden_layers\n",
    "        \n",
    "        # Define the input layer\n",
    "        self.input_layer = nn.Linear(self.input_size, self.hidden_size)\n",
    "        \n",
    "        # Define the hidden layers\n",
    "        self.hidden_layers = nn.ModuleList()\n",
    "        for i in range(self.num_hidden_layers):\n",
    "            self.hidden_layers.append(nn.Linear(self.hidden_size, self.hidden_size))\n",
    "        \n",
    "        # Define the output layer\n",
    "        self.output_layer = nn.Linear(self.hidden_size, self.output_size)\n",
    "        \n",
    "        # Define the activation function\n",
    "        # self.activation = nn.Tanh()\n",
    "        self.activation = nn.functional.softplus\n",
    "        \n",
    "    def forward(self, x):\n",
    "        # Pass the input through the input layer and activation function\n",
    "        x = self.activation(self.input_layer(x))\n",
    "        \n",
    "        # Pass the input through each hidden layer and activation function\n",
    "        for i in range(self.num_hidden_layers):\n",
    "            x = self.activation(self.hidden_layers[i](x))\n",
    "        \n",
    "        # Pass the input through the output layer\n",
    "        x = self.activation(self.output_layer(x))\n",
    "        \n",
    "        return x\n"
   ]
  },
  {
   "cell_type": "code",
   "execution_count": 20,
   "id": "4d05ef59",
   "metadata": {},
   "outputs": [],
   "source": [
    "def cauchy_stress_vectorized(X,dPsidX,base1,base2,base3,base4,base5):\n",
    "    # X = I1_bar, I2_bar, J, I4_bar, I5_bar\n",
    "    dPsidI1bar = dPsidX[:,0]\n",
    "    dPsidI2bar = dPsidX[:,1]\n",
    "    dPsidJ = dPsidX[:,2]\n",
    "    dPsidI4bar = dPsidX[:,3]\n",
    "    dPsidI5bar = dPsidX[:,4]\n",
    "    I1bar = X[:,0]\n",
    "    dPsidI1bar_expanded = dPsidI1bar.unsqueeze(1).unsqueeze(2).expand(-1, 3, 3)\n",
    "    dPsidI2bar_expanded = dPsidI2bar.unsqueeze(1).unsqueeze(2).expand(-1, 3, 3)\n",
    "    dPsidJ_expanded = dPsidJ.unsqueeze(1).unsqueeze(2).expand(-1, 3, 3)\n",
    "    dPsidI4bar_expanded = dPsidI4bar.unsqueeze(1).unsqueeze(2).expand(-1, 3, 3)\n",
    "    dPsidI5bar_expanded = dPsidI5bar.unsqueeze(1).unsqueeze(2).expand(-1, 3, 3)\n",
    "    I1bar_expanded = I1bar.unsqueeze(1).unsqueeze(2).expand(-1, 3, 3)\n",
    "    sig = (dPsidI1bar_expanded + I1bar_expanded * dPsidI2bar_expanded) * base1 + \\\n",
    "            + dPsidI2bar_expanded * base2 +  \\\n",
    "            + dPsidJ_expanded * base3 + \\\n",
    "            + dPsidI4bar_expanded * base4 + \\\n",
    "            + dPsidI5bar_expanded * base5\n",
    "    return sig\n",
    "\n"
   ]
  },
  {
   "cell_type": "markdown",
   "id": "a3ad1862-564d-496a-b21e-5af8dccc7dd9",
   "metadata": {},
   "source": [
    "####  calculates and returns the aggregate loss over all validation data"
   ]
  },
  {
   "cell_type": "code",
   "execution_count": 35,
   "id": "f4a7f32f",
   "metadata": {},
   "outputs": [],
   "source": [
    "import torch\n",
    "import torch.nn as nn\n",
    "import torch.optim as optim\n",
    "\n",
    "\n",
    "def cal_loss(model,val_loader,criterion):\n",
    "    losses = []\n",
    "    for batch_idx, (invariants, bases, target_stress) in enumerate(val_loader):\n",
    "        base1,base2,base3,base4,base5 = bases\n",
    "        psi = model(invariants)\n",
    "        dPsidX = torch.autograd.grad(psi, invariants, grad_outputs=torch.ones_like(psi), create_graph=True)[0]\n",
    "        sigma = cauchy_stress_vectorized(invariants,dPsidX,base1,base2,base3,base4,base5)\n",
    "        loss = criterion(sigma, target_stress)\n",
    "        losses.append(loss.item()) #convert a tensor that contains a single value into a Python scalar\n",
    "    return np.sum(losses)\n",
    "\n",
    "\n",
    "\n",
    "\n",
    "# inputs and outputs\n",
    "input_size = 5\n",
    "output_size = 1\n"
   ]
  },
  {
   "cell_type": "markdown",
   "id": "a5851a83-2787-46ff-ae05-1962e8d55724",
   "metadata": {},
   "source": [
    "#### trains the model using training dataset on ICNN, validates its performance using validation dataset, and includes mechanisms for early stopping to prevent overfitting.\n",
    "##### Patience: Number of epochs with no improvement in validation loss after which training will be stopped early."
   ]
  },
  {
   "cell_type": "code",
   "execution_count": 36,
   "id": "f37df020",
   "metadata": {},
   "outputs": [],
   "source": [
    "def train_icnn(model, train_loader, val_loader, optimizer, criterion, num_epochs, print_every=100, save_models=False, patience=10):\n",
    "    model.train()\n",
    "    losses = []\n",
    "    val_losses = []\n",
    "    best_val_loss = float('inf')\n",
    "    epochs_no_improve = 0\n",
    "    early_stop = False\n",
    "\n",
    "    for epoch in range(num_epochs):\n",
    "        model.train()  # Ensure the model is in training mode\n",
    "        running_train_loss = 0.0\n",
    "\n",
    "        for batch_idx, (invariants, bases, target_stress) in enumerate(train_loader):\n",
    "            base1, base2, base3, base4, base5 = bases\n",
    "            optimizer.zero_grad()  #Zeroes the gradients to prevent accumulation from previous iterations.\n",
    "            psi = model(invariants)\n",
    "            dPsidX = torch.autograd.grad(psi, invariants, grad_outputs=torch.ones_like(psi), create_graph=True)[0]\n",
    "            sigma = cauchy_stress_vectorized(invariants, dPsidX, base1, base2, base3, base4, base5)\n",
    "            train_loss = criterion(sigma, target_stress)\n",
    "            train_loss.backward() #backpropagation\n",
    "            optimizer.step()\n",
    "            \n",
    "            with torch.no_grad(): #ICNN constraints\n",
    "                for w_z in model.w_z:\n",
    "                    w_z.data.clamp_(min=0)\n",
    "                model.wz_out.data.clamp_(min=0)\n",
    "            \n",
    "            running_train_loss += train_loss.item()\n",
    "\n",
    "        # Calculate validation loss\n",
    "        model.eval()  # Set the model to evaluation mode\n",
    "        running_val_loss = cal_loss(model,val_loader,criterion)\n",
    "        \n",
    "        val_losses.append(running_val_loss)\n",
    "\n",
    "        # Check if validation loss improved\n",
    "        if running_val_loss < best_val_loss:\n",
    "            best_val_loss = running_val_loss\n",
    "            epochs_no_improve = 0\n",
    "            if save_models:\n",
    "                torch.save(model.state_dict(), 'best_model_icnn.pth')\n",
    "        else:\n",
    "            epochs_no_improve += 1\n",
    "\n",
    "        if (epoch + 1) % print_every == 0 or epochs_no_improve == patience:\n",
    "            print('Epoch [{}/{}], Train Loss: {:.4f}, Validation Loss: {:.4f}'.format(epoch+1, num_epochs, running_train_loss, running_val_loss))\n",
    "\n",
    "        if epochs_no_improve == patience:\n",
    "            print('Early stopping triggered. Stopping training.')\n",
    "            early_stop = True\n",
    "            break  # Break out of the loop\n",
    "\n",
    "        losses.append(running_train_loss)\n",
    "\n",
    "    return losses, val_losses, early_stop\n"
   ]
  },
  {
   "cell_type": "markdown",
   "id": "4d0b2428-8f27-4e8c-9a7b-a2a90ef1e368",
   "metadata": {},
   "source": [
    "#### Trains the model using training dataset on FNN, validates its performance using validation dataset, and includes mechanisms for early stopping to prevent overfitting.\n"
   ]
  },
  {
   "cell_type": "code",
   "execution_count": 37,
   "id": "5d62be81",
   "metadata": {},
   "outputs": [],
   "source": [
    "def train_feed(model, train_loader, val_loader, optimizer, criterion, num_epochs, print_every=100, save_models=False, patience=10, tolerance=0.001):\n",
    "    model.train()\n",
    "    losses = []\n",
    "    val_losses = []\n",
    "    best_val_loss = float('inf')\n",
    "    epochs_no_improve = 0\n",
    "    early_stop = False\n",
    "\n",
    "    for epoch in range(num_epochs):\n",
    "        model.train()  # Ensure the model is in training mode\n",
    "        running_train_loss = 0.0\n",
    "\n",
    "        for batch_idx, (invariants, bases, target_stress) in enumerate(train_loader):\n",
    "            base1, base2, base3, base4, base5 = bases\n",
    "            optimizer.zero_grad()\n",
    "            psi = model(invariants)\n",
    "            dPsidX = torch.autograd.grad(psi, invariants, grad_outputs=torch.ones_like(psi), create_graph=True)[0]\n",
    "            sigma = cauchy_stress_vectorized(invariants, dPsidX, base1, base2, base3, base4, base5)\n",
    "            train_loss = criterion(sigma, target_stress)\n",
    "            train_loss.backward()\n",
    "            optimizer.step()\n",
    "            \n",
    "            running_train_loss += train_loss.item()\n",
    "\n",
    "        # Calculate validation loss\n",
    "        model.eval()  # Set the model to evaluation mode\n",
    "        running_val_loss = cal_loss(model, val_loader, criterion)\n",
    "        \n",
    "        val_losses.append(running_val_loss)\n",
    "\n",
    "        # Check if validation loss improved within the tolerance\n",
    "        improvement = best_val_loss - running_val_loss\n",
    "        if improvement > tolerance:\n",
    "            best_val_loss = running_val_loss\n",
    "            epochs_no_improve = 0\n",
    "            if save_models:\n",
    "                torch.save(model.state_dict(), 'best_model_feed.pth')\n",
    "        else:\n",
    "            epochs_no_improve += 1\n",
    "\n",
    "        if (epoch + 1) % print_every == 0 or epochs_no_improve == patience:\n",
    "            print('Epoch [{}/{}], Train Loss: {:.4f}, Validation Loss: {:.4f}'.format(epoch+1, num_epochs, running_train_loss, running_val_loss))\n",
    "\n",
    "        if epochs_no_improve >= patience:\n",
    "            print('Early stopping triggered. Stopping training.')\n",
    "            early_stop = True\n",
    "            break  # Break out of the loop\n",
    "\n",
    "        losses.append(running_train_loss)\n",
    "\n",
    "    return losses, val_losses, early_stop\n"
   ]
  },
  {
   "cell_type": "code",
   "execution_count": 39,
   "id": "44830d25",
   "metadata": {},
   "outputs": [
    {
     "name": "stdout",
     "output_type": "stream",
     "text": [
      "Epoch [100/1000], Train Loss: 31848.4192, Validation Loss: 3262.9004\n",
      "Epoch [200/1000], Train Loss: 27408.1904, Validation Loss: 2794.2112\n",
      "Epoch [300/1000], Train Loss: 19275.4973, Validation Loss: 2124.4915\n",
      "Epoch [400/1000], Train Loss: 5236.9430, Validation Loss: 1268.6096\n",
      "Epoch [500/1000], Train Loss: 4253.0066, Validation Loss: 1211.5500\n",
      "Epoch [600/1000], Train Loss: 4205.5677, Validation Loss: 1177.8094\n",
      "Epoch [700/1000], Train Loss: 3622.0497, Validation Loss: 1152.1564\n",
      "Epoch [800/1000], Train Loss: 3518.2280, Validation Loss: 1137.3522\n",
      "Epoch [900/1000], Train Loss: 3430.3126, Validation Loss: 1128.9476\n",
      "Epoch [1000/1000], Train Loss: 3303.3527, Validation Loss: 1122.8123\n"
     ]
    }
   ],
   "source": [
    "hidden_size = 6\n",
    "num_layers = 3\n",
    "model = FeedforwardNN(input_size, output_size, hidden_size, num_layers)\n",
    "optimizer = optim.Adam(model.parameters(), lr=0.001)\n",
    "criterion = nn.MSELoss()\n",
    "num_epochs = 1000\n",
    "losses, val_losses, early_stop = train_feed(model, \n",
    "                                            train_loader, \n",
    "                                            val_loader, \n",
    "                                            optimizer, \n",
    "                                            criterion, \n",
    "                                            num_epochs, \n",
    "                                            print_every=100, \n",
    "                                            save_models=False, \n",
    "                                            patience=100)"
   ]
  },
  {
   "cell_type": "markdown",
   "id": "2b5252c6-dd12-4419-ab18-922e66178812",
   "metadata": {},
   "source": [
    "#### The goal of this function is to guide the search for optimal hyperparameters for a neural network model by evaluating its performance with different configurations."
   ]
  },
  {
   "cell_type": "code",
   "execution_count": 40,
   "id": "65becc05",
   "metadata": {},
   "outputs": [],
   "source": [
    "import optuna #a hyperparameter optimization framework\n",
    "\n",
    "\n",
    "def objective(trial):\n",
    "    # Define the hyperparameters to be tuned\n",
    "    hidden_size = trial.suggest_categorical('hidden_size', [3, 6, 9, 12, 15, 20])\n",
    "    num_layers = trial.suggest_categorical('num_layers', [1, 2, 3, 4, 5, 6, 7, 8, 9, 10, 11,12,13])\n",
    "    lr = trial.suggest_loguniform('lr', 1e-5, 1e-1)\n",
    "    num_epochs = 10000\n",
    "\n",
    "    # Initialize your model with the suggested hyperparameters\n",
    "    model = FeedforwardNN(input_size, output_size, hidden_size, num_layers)\n",
    "    # model = ICNN(num_layers=num_layers, size_hidden=hidden_size, input_dim=input_size, output_dim=output_size)\n",
    "    \n",
    "    optimizer = optim.Adam(model.parameters(), lr=lr)\n",
    "    criterion = nn.MSELoss()\n",
    "    \n",
    "    losses = train_feed(model, \n",
    "                            train_loader, \n",
    "                            val_loader, \n",
    "                            optimizer, \n",
    "                            criterion, \n",
    "                            num_epochs, \n",
    "                            print_every=100, \n",
    "                            save_models=False, \n",
    "                            patience=100)\n",
    "\n",
    "    # Return the validation loss\n",
    "    val_loss = cal_loss(model,val_loader,criterion)\n",
    "    return val_loss"
   ]
  },
  {
   "cell_type": "code",
   "execution_count": 41,
   "id": "49a87dac",
   "metadata": {},
   "outputs": [
    {
     "name": "stderr",
     "output_type": "stream",
     "text": [
      "[I 2024-02-06 20:23:33,537] A new study created in memory with name: no-name-b3436bff-cbaa-42b0-9214-b02fd5b552d3\n",
      "/tmp/ipykernel_368121/3914772400.py:8: FutureWarning: suggest_loguniform has been deprecated in v3.0.0. This feature will be removed in v6.0.0. See https://github.com/optuna/optuna/releases/tag/v3.0.0. Use suggest_float(..., log=True) instead.\n",
      "  lr = trial.suggest_loguniform('lr', 1e-5, 1e-1)\n",
      "[I 2024-02-06 20:23:39,911] Trial 0 finished with value: 6480.986328125 and parameters: {'hidden_size': 20, 'num_layers': 7, 'lr': 0.012477898759613852}. Best is trial 0 with value: 6480.986328125.\n"
     ]
    },
    {
     "name": "stdout",
     "output_type": "stream",
     "text": [
      "Epoch [100/10000], Train Loss: 57377.5986, Validation Loss: 6480.9863\n",
      "Epoch [102/10000], Train Loss: 58651.8462, Validation Loss: 6480.9863\n",
      "Early stopping triggered. Stopping training.\n",
      "Epoch [100/10000], Train Loss: 54888.4502, Validation Loss: 6475.8574\n",
      "Epoch [200/10000], Train Loss: 50525.2551, Validation Loss: 6373.6113\n",
      "Epoch [300/10000], Train Loss: 49400.0547, Validation Loss: 6035.8306\n",
      "Epoch [400/10000], Train Loss: 42911.7271, Validation Loss: 5435.8164\n",
      "Epoch [500/10000], Train Loss: 35264.9485, Validation Loss: 4748.6450\n",
      "Epoch [600/10000], Train Loss: 34438.6541, Validation Loss: 4263.6548\n",
      "Epoch [700/10000], Train Loss: 33406.7563, Validation Loss: 4022.5237\n",
      "Epoch [800/10000], Train Loss: 36817.4446, Validation Loss: 3914.2915\n",
      "Epoch [900/10000], Train Loss: 33284.0237, Validation Loss: 3853.2522\n",
      "Epoch [1000/10000], Train Loss: 31634.2458, Validation Loss: 3789.0254\n",
      "Epoch [1100/10000], Train Loss: 31475.1240, Validation Loss: 3741.8191\n",
      "Epoch [1200/10000], Train Loss: 30998.2092, Validation Loss: 3685.2063\n",
      "Epoch [1300/10000], Train Loss: 31855.3052, Validation Loss: 3639.9954\n",
      "Epoch [1400/10000], Train Loss: 31360.7329, Validation Loss: 3572.4990\n",
      "Epoch [1500/10000], Train Loss: 31632.6174, Validation Loss: 3519.5183\n",
      "Epoch [1600/10000], Train Loss: 29213.6741, Validation Loss: 3445.8843\n",
      "Epoch [1700/10000], Train Loss: 28644.3860, Validation Loss: 3368.7656\n",
      "Epoch [1800/10000], Train Loss: 26906.0789, Validation Loss: 3284.0454\n",
      "Epoch [1900/10000], Train Loss: 27213.2849, Validation Loss: 3191.8250\n",
      "Epoch [2000/10000], Train Loss: 25565.7402, Validation Loss: 3106.9153\n",
      "Epoch [2100/10000], Train Loss: 23560.2860, Validation Loss: 2993.9070\n",
      "Epoch [2200/10000], Train Loss: 23487.5667, Validation Loss: 2877.9585\n",
      "Epoch [2300/10000], Train Loss: 21523.3513, Validation Loss: 2753.6794\n",
      "Epoch [2400/10000], Train Loss: 20258.6117, Validation Loss: 2616.1826\n",
      "Epoch [2500/10000], Train Loss: 18999.0015, Validation Loss: 2460.9617\n",
      "Epoch [2600/10000], Train Loss: 17375.8604, Validation Loss: 2320.6787\n",
      "Epoch [2700/10000], Train Loss: 15560.1746, Validation Loss: 2179.9172\n",
      "Epoch [2800/10000], Train Loss: 15100.3805, Validation Loss: 2057.9292\n",
      "Epoch [2900/10000], Train Loss: 13085.3400, Validation Loss: 1958.4309\n",
      "Epoch [3000/10000], Train Loss: 11416.3506, Validation Loss: 1869.7230\n",
      "Epoch [3100/10000], Train Loss: 10409.0514, Validation Loss: 1788.0992\n",
      "Epoch [3200/10000], Train Loss: 9177.8025, Validation Loss: 1700.7942\n",
      "Epoch [3300/10000], Train Loss: 8019.6413, Validation Loss: 1595.1708\n",
      "Epoch [3400/10000], Train Loss: 7305.4106, Validation Loss: 1521.8292\n",
      "Epoch [3500/10000], Train Loss: 6453.0931, Validation Loss: 1458.7058\n",
      "Epoch [3600/10000], Train Loss: 5841.7070, Validation Loss: 1402.9922\n",
      "Epoch [3700/10000], Train Loss: 5392.5753, Validation Loss: 1357.3661\n",
      "Epoch [3800/10000], Train Loss: 4784.0441, Validation Loss: 1311.2854\n",
      "Epoch [3900/10000], Train Loss: 4498.8028, Validation Loss: 1281.3563\n",
      "Epoch [4000/10000], Train Loss: 4466.1054, Validation Loss: 1258.3022\n",
      "Epoch [4100/10000], Train Loss: 4469.3228, Validation Loss: 1242.6007\n",
      "Epoch [4200/10000], Train Loss: 4375.0878, Validation Loss: 1227.6970\n",
      "Epoch [4300/10000], Train Loss: 4006.8925, Validation Loss: 1217.9899\n",
      "Epoch [4400/10000], Train Loss: 3914.0152, Validation Loss: 1206.9762\n",
      "Epoch [4500/10000], Train Loss: 4187.5539, Validation Loss: 1198.1045\n",
      "Epoch [4600/10000], Train Loss: 3940.5125, Validation Loss: 1191.2030\n",
      "Epoch [4700/10000], Train Loss: 3865.2291, Validation Loss: 1184.0835\n",
      "Epoch [4800/10000], Train Loss: 3711.1369, Validation Loss: 1177.2915\n",
      "Epoch [4900/10000], Train Loss: 3643.8142, Validation Loss: 1169.8412\n",
      "Epoch [5000/10000], Train Loss: 3885.3399, Validation Loss: 1170.3485\n",
      "Epoch [5100/10000], Train Loss: 3738.0531, Validation Loss: 1166.1079\n",
      "Epoch [5200/10000], Train Loss: 3673.5518, Validation Loss: 1163.0714\n",
      "Epoch [5300/10000], Train Loss: 3543.2307, Validation Loss: 1159.8457\n",
      "Epoch [5400/10000], Train Loss: 3689.7413, Validation Loss: 1156.6145\n",
      "Epoch [5500/10000], Train Loss: 3400.9688, Validation Loss: 1154.4907\n",
      "Epoch [5600/10000], Train Loss: 3478.2316, Validation Loss: 1155.1448\n",
      "Epoch [5700/10000], Train Loss: 3505.7906, Validation Loss: 1153.9557\n"
     ]
    },
    {
     "name": "stderr",
     "output_type": "stream",
     "text": [
      "[I 2024-02-06 20:28:08,742] Trial 1 finished with value: 1152.556396484375 and parameters: {'hidden_size': 12, 'num_layers': 2, 'lr': 5.085126675844714e-05}. Best is trial 1 with value: 1152.556396484375.\n"
     ]
    },
    {
     "name": "stdout",
     "output_type": "stream",
     "text": [
      "Epoch [5727/10000], Train Loss: 3628.4873, Validation Loss: 1152.5564\n",
      "Early stopping triggered. Stopping training.\n",
      "Epoch [100/10000], Train Loss: 57832.1587, Validation Loss: 6462.3203\n",
      "Epoch [200/10000], Train Loss: 57440.5493, Validation Loss: 6448.9971\n",
      "Epoch [300/10000], Train Loss: 56070.7446, Validation Loss: 6425.0293\n",
      "Epoch [400/10000], Train Loss: 54423.9062, Validation Loss: 6385.6533\n",
      "Epoch [500/10000], Train Loss: 52429.8574, Validation Loss: 6336.2798\n",
      "Epoch [600/10000], Train Loss: 51176.2139, Validation Loss: 6277.6851\n",
      "Epoch [700/10000], Train Loss: 52465.6465, Validation Loss: 6209.4453\n",
      "Epoch [800/10000], Train Loss: 53410.3379, Validation Loss: 6131.2754\n",
      "Epoch [900/10000], Train Loss: 46572.0071, Validation Loss: 6042.0093\n",
      "Epoch [1000/10000], Train Loss: 47891.9983, Validation Loss: 5940.9985\n",
      "Epoch [1100/10000], Train Loss: 48342.1104, Validation Loss: 5826.5317\n",
      "Epoch [1200/10000], Train Loss: 46414.4414, Validation Loss: 5701.7983\n",
      "Epoch [1300/10000], Train Loss: 42593.0940, Validation Loss: 5568.0059\n",
      "Epoch [1400/10000], Train Loss: 43744.9800, Validation Loss: 5424.7231\n",
      "Epoch [1500/10000], Train Loss: 41886.3245, Validation Loss: 5274.0396\n",
      "Epoch [1600/10000], Train Loss: 40786.6426, Validation Loss: 5120.6260\n",
      "Epoch [1700/10000], Train Loss: 40539.6133, Validation Loss: 4968.1064\n",
      "Epoch [1800/10000], Train Loss: 39084.5552, Validation Loss: 4818.4854\n",
      "Epoch [1900/10000], Train Loss: 40799.9839, Validation Loss: 4676.0044\n",
      "Epoch [2000/10000], Train Loss: 37381.0391, Validation Loss: 4544.2568\n",
      "Epoch [2100/10000], Train Loss: 35512.5293, Validation Loss: 4425.8535\n",
      "Epoch [2200/10000], Train Loss: 39948.9734, Validation Loss: 4332.2402\n",
      "Epoch [2300/10000], Train Loss: 35312.2031, Validation Loss: 4248.7554\n",
      "Epoch [2400/10000], Train Loss: 36431.5642, Validation Loss: 4188.3877\n",
      "Epoch [2500/10000], Train Loss: 37642.3159, Validation Loss: 4135.7002\n",
      "Epoch [2600/10000], Train Loss: 34680.0686, Validation Loss: 4099.6885\n",
      "Epoch [2700/10000], Train Loss: 33786.8787, Validation Loss: 4071.6841\n",
      "Epoch [2800/10000], Train Loss: 35333.0254, Validation Loss: 4041.0610\n",
      "Epoch [2900/10000], Train Loss: 34620.0208, Validation Loss: 4016.4299\n",
      "Epoch [3000/10000], Train Loss: 33904.8447, Validation Loss: 3989.1130\n",
      "Epoch [3100/10000], Train Loss: 35244.3345, Validation Loss: 3962.0105\n",
      "Epoch [3200/10000], Train Loss: 33873.7944, Validation Loss: 3928.3926\n",
      "Epoch [3300/10000], Train Loss: 32925.0002, Validation Loss: 3896.1833\n",
      "Epoch [3400/10000], Train Loss: 33283.1748, Validation Loss: 3866.0774\n",
      "Epoch [3500/10000], Train Loss: 34137.6646, Validation Loss: 3825.1599\n",
      "Epoch [3600/10000], Train Loss: 33303.0149, Validation Loss: 3792.9014\n",
      "Epoch [3700/10000], Train Loss: 32158.9548, Validation Loss: 3753.5454\n",
      "Epoch [3800/10000], Train Loss: 32703.3206, Validation Loss: 3721.2568\n",
      "Epoch [3900/10000], Train Loss: 32265.5674, Validation Loss: 3682.8606\n",
      "Epoch [4000/10000], Train Loss: 33887.0256, Validation Loss: 3643.7180\n",
      "Epoch [4100/10000], Train Loss: 32341.7695, Validation Loss: 3608.5659\n",
      "Epoch [4200/10000], Train Loss: 31834.0417, Validation Loss: 3581.1265\n",
      "Epoch [4300/10000], Train Loss: 31226.1548, Validation Loss: 3552.1055\n",
      "Epoch [4400/10000], Train Loss: 32586.8909, Validation Loss: 3532.0488\n",
      "Epoch [4500/10000], Train Loss: 30729.9360, Validation Loss: 3505.6167\n",
      "Epoch [4600/10000], Train Loss: 31258.2837, Validation Loss: 3482.7751\n",
      "Epoch [4700/10000], Train Loss: 32475.7959, Validation Loss: 3462.5908\n",
      "Epoch [4800/10000], Train Loss: 30222.4880, Validation Loss: 3443.6807\n",
      "Epoch [4900/10000], Train Loss: 32595.6458, Validation Loss: 3422.1853\n",
      "Epoch [5000/10000], Train Loss: 30053.7263, Validation Loss: 3403.3950\n",
      "Epoch [5100/10000], Train Loss: 31977.5977, Validation Loss: 3385.9639\n",
      "Epoch [5200/10000], Train Loss: 29932.9382, Validation Loss: 3364.5750\n",
      "Epoch [5300/10000], Train Loss: 29575.0378, Validation Loss: 3336.9875\n",
      "Epoch [5400/10000], Train Loss: 28346.5576, Validation Loss: 3307.7327\n",
      "Epoch [5500/10000], Train Loss: 32674.3809, Validation Loss: 3281.0342\n",
      "Epoch [5600/10000], Train Loss: 30336.5908, Validation Loss: 3254.2290\n",
      "Epoch [5700/10000], Train Loss: 29676.3430, Validation Loss: 3215.3694\n",
      "Epoch [5800/10000], Train Loss: 29251.7607, Validation Loss: 3184.3022\n",
      "Epoch [5900/10000], Train Loss: 31105.0999, Validation Loss: 3149.6521\n",
      "Epoch [6000/10000], Train Loss: 30269.6760, Validation Loss: 3115.5901\n",
      "Epoch [6100/10000], Train Loss: 29609.5625, Validation Loss: 3078.2368\n",
      "Epoch [6200/10000], Train Loss: 28195.7346, Validation Loss: 3036.4695\n",
      "Epoch [6300/10000], Train Loss: 27992.6106, Validation Loss: 2992.8877\n",
      "Epoch [6400/10000], Train Loss: 27106.8376, Validation Loss: 2949.2622\n",
      "Epoch [6500/10000], Train Loss: 27226.4177, Validation Loss: 2904.5811\n",
      "Epoch [6600/10000], Train Loss: 25521.1304, Validation Loss: 2836.0625\n",
      "Epoch [6700/10000], Train Loss: 24809.6099, Validation Loss: 2738.8760\n",
      "Epoch [6800/10000], Train Loss: 21343.0256, Validation Loss: 2630.4448\n",
      "Epoch [6900/10000], Train Loss: 23397.0261, Validation Loss: 2516.1768\n",
      "Epoch [7000/10000], Train Loss: 22182.4160, Validation Loss: 2412.0110\n",
      "Epoch [7100/10000], Train Loss: 21172.6621, Validation Loss: 2312.5710\n",
      "Epoch [7200/10000], Train Loss: 20773.6597, Validation Loss: 2214.8699\n",
      "Epoch [7300/10000], Train Loss: 20900.3132, Validation Loss: 2137.8354\n",
      "Epoch [7400/10000], Train Loss: 19282.2183, Validation Loss: 2054.4207\n",
      "Epoch [7500/10000], Train Loss: 18298.4615, Validation Loss: 1982.5469\n",
      "Epoch [7600/10000], Train Loss: 19268.0895, Validation Loss: 1908.1194\n",
      "Epoch [7700/10000], Train Loss: 17984.0791, Validation Loss: 1831.3356\n",
      "Epoch [7800/10000], Train Loss: 16791.9113, Validation Loss: 1761.8649\n",
      "Epoch [7900/10000], Train Loss: 16647.4305, Validation Loss: 1688.8406\n",
      "Epoch [8000/10000], Train Loss: 15624.8737, Validation Loss: 1624.5067\n",
      "Epoch [8100/10000], Train Loss: 15332.9928, Validation Loss: 1554.0747\n",
      "Epoch [8200/10000], Train Loss: 14463.4623, Validation Loss: 1478.7870\n",
      "Epoch [8300/10000], Train Loss: 13515.2422, Validation Loss: 1410.1392\n",
      "Epoch [8400/10000], Train Loss: 13697.8014, Validation Loss: 1340.4719\n",
      "Epoch [8500/10000], Train Loss: 12650.9178, Validation Loss: 1270.1304\n",
      "Epoch [8600/10000], Train Loss: 11833.7029, Validation Loss: 1199.3147\n",
      "Epoch [8700/10000], Train Loss: 10689.9563, Validation Loss: 1130.0269\n",
      "Epoch [8800/10000], Train Loss: 10286.2976, Validation Loss: 1060.1469\n",
      "Epoch [8900/10000], Train Loss: 9446.4093, Validation Loss: 992.3759\n",
      "Epoch [9000/10000], Train Loss: 9007.5662, Validation Loss: 921.9150\n",
      "Epoch [9100/10000], Train Loss: 8687.4720, Validation Loss: 854.3439\n",
      "Epoch [9200/10000], Train Loss: 7744.0963, Validation Loss: 790.7289\n",
      "Epoch [9300/10000], Train Loss: 7069.6780, Validation Loss: 726.6035\n",
      "Epoch [9400/10000], Train Loss: 6673.9187, Validation Loss: 668.6332\n",
      "Epoch [9500/10000], Train Loss: 5939.1172, Validation Loss: 612.8171\n",
      "Epoch [9600/10000], Train Loss: 5361.6219, Validation Loss: 560.6328\n",
      "Epoch [9700/10000], Train Loss: 4643.1952, Validation Loss: 512.5970\n",
      "Epoch [9800/10000], Train Loss: 4179.6897, Validation Loss: 470.4651\n",
      "Epoch [9900/10000], Train Loss: 3708.3981, Validation Loss: 432.4309\n"
     ]
    },
    {
     "name": "stderr",
     "output_type": "stream",
     "text": [
      "[I 2024-02-06 20:34:44,743] Trial 2 finished with value: 399.832763671875 and parameters: {'hidden_size': 3, 'num_layers': 2, 'lr': 4.293689451743867e-05}. Best is trial 2 with value: 399.832763671875.\n"
     ]
    },
    {
     "name": "stdout",
     "output_type": "stream",
     "text": [
      "Epoch [10000/10000], Train Loss: 3523.5440, Validation Loss: 399.8328\n",
      "Epoch [100/10000], Train Loss: 33373.3086, Validation Loss: 3945.0007\n",
      "Epoch [200/10000], Train Loss: 31792.8162, Validation Loss: 3799.9771\n",
      "Epoch [300/10000], Train Loss: 27856.2170, Validation Loss: 3281.7263\n",
      "Epoch [400/10000], Train Loss: 7450.9333, Validation Loss: 1571.0806\n",
      "Epoch [500/10000], Train Loss: 5229.4928, Validation Loss: 1333.8142\n",
      "Epoch [600/10000], Train Loss: 4653.3145, Validation Loss: 1264.7742\n",
      "Epoch [700/10000], Train Loss: 4277.2184, Validation Loss: 1195.1587\n",
      "Epoch [800/10000], Train Loss: 3974.9053, Validation Loss: 1169.8948\n",
      "Epoch [900/10000], Train Loss: 3942.9405, Validation Loss: 1155.3983\n",
      "Epoch [1000/10000], Train Loss: 3448.5485, Validation Loss: 1139.9913\n",
      "Epoch [1100/10000], Train Loss: 3500.2716, Validation Loss: 1129.7797\n",
      "Epoch [1200/10000], Train Loss: 3961.2690, Validation Loss: 1122.1912\n",
      "Epoch [1300/10000], Train Loss: 3464.4556, Validation Loss: 1118.4094\n",
      "Epoch [1400/10000], Train Loss: 3253.9016, Validation Loss: 1116.4584\n",
      "Epoch [1500/10000], Train Loss: 3174.3471, Validation Loss: 1115.8721\n",
      "Epoch [1600/10000], Train Loss: 3255.1613, Validation Loss: 1115.4635\n",
      "Epoch [1700/10000], Train Loss: 3355.1015, Validation Loss: 1115.3390\n",
      "Epoch [1800/10000], Train Loss: 3426.7548, Validation Loss: 1114.7406\n",
      "Epoch [1900/10000], Train Loss: 3316.5363, Validation Loss: 1114.5299\n",
      "Epoch [2000/10000], Train Loss: 3151.0120, Validation Loss: 1114.3185\n",
      "Epoch [2100/10000], Train Loss: 3081.3464, Validation Loss: 1113.8547\n",
      "Epoch [2200/10000], Train Loss: 2909.8885, Validation Loss: 1113.6915\n",
      "Epoch [2300/10000], Train Loss: 3134.7425, Validation Loss: 1113.5558\n",
      "Epoch [2400/10000], Train Loss: 3402.2445, Validation Loss: 1113.2900\n",
      "Epoch [2500/10000], Train Loss: 2877.3095, Validation Loss: 1112.9332\n",
      "Epoch [2600/10000], Train Loss: 3095.1641, Validation Loss: 1112.8407\n",
      "Epoch [2700/10000], Train Loss: 3130.5064, Validation Loss: 1112.7350\n",
      "Epoch [2800/10000], Train Loss: 2884.4695, Validation Loss: 1114.5154\n"
     ]
    },
    {
     "name": "stderr",
     "output_type": "stream",
     "text": [
      "[I 2024-02-06 20:36:59,772] Trial 3 finished with value: 1112.5079345703125 and parameters: {'hidden_size': 20, 'num_layers': 6, 'lr': 0.00010393529163631818}. Best is trial 2 with value: 399.832763671875.\n"
     ]
    },
    {
     "name": "stdout",
     "output_type": "stream",
     "text": [
      "Epoch [2894/10000], Train Loss: 3245.2816, Validation Loss: 1112.5079\n",
      "Early stopping triggered. Stopping training.\n",
      "Epoch [100/10000], Train Loss: 53642.1008, Validation Loss: 6480.5308\n",
      "Epoch [200/10000], Train Loss: 51830.0320, Validation Loss: 6472.6973\n",
      "Epoch [300/10000], Train Loss: 58253.0220, Validation Loss: 6360.8193\n",
      "Epoch [400/10000], Train Loss: 45620.8040, Validation Loss: 5961.3735\n",
      "Epoch [500/10000], Train Loss: 43216.4285, Validation Loss: 5302.7188\n",
      "Epoch [600/10000], Train Loss: 37169.3835, Validation Loss: 4408.5854\n",
      "Epoch [700/10000], Train Loss: 32614.2927, Validation Loss: 3958.5266\n",
      "Epoch [800/10000], Train Loss: 32159.5535, Validation Loss: 3842.8503\n",
      "Epoch [900/10000], Train Loss: 35554.8245, Validation Loss: 3756.5181\n",
      "Epoch [1000/10000], Train Loss: 33121.6033, Validation Loss: 3689.7832\n",
      "Epoch [1100/10000], Train Loss: 34603.5562, Validation Loss: 3673.0151\n",
      "Epoch [1200/10000], Train Loss: 31304.7185, Validation Loss: 3607.3926\n",
      "Epoch [1300/10000], Train Loss: 30168.4375, Validation Loss: 3538.7339\n",
      "Epoch [1400/10000], Train Loss: 30188.5337, Validation Loss: 3483.9246\n",
      "Epoch [1500/10000], Train Loss: 30565.0195, Validation Loss: 3447.6682\n",
      "Epoch [1600/10000], Train Loss: 28443.5713, Validation Loss: 3418.5525\n",
      "Epoch [1700/10000], Train Loss: 29425.8271, Validation Loss: 3367.5588\n",
      "Epoch [1800/10000], Train Loss: 28316.6216, Validation Loss: 3322.3323\n",
      "Epoch [1900/10000], Train Loss: 27549.7397, Validation Loss: 3291.1287\n",
      "Epoch [2000/10000], Train Loss: 30242.0913, Validation Loss: 3263.7173\n",
      "Epoch [2100/10000], Train Loss: 28724.8992, Validation Loss: 3226.6086\n",
      "Epoch [2200/10000], Train Loss: 26722.5242, Validation Loss: 3203.9214\n",
      "Epoch [2300/10000], Train Loss: 27623.8145, Validation Loss: 3183.5991\n",
      "Epoch [2400/10000], Train Loss: 27204.1787, Validation Loss: 3154.2898\n",
      "Epoch [2500/10000], Train Loss: 26092.8010, Validation Loss: 3130.9229\n",
      "Epoch [2600/10000], Train Loss: 26517.0166, Validation Loss: 3120.3403\n",
      "Epoch [2700/10000], Train Loss: 26199.0151, Validation Loss: 3096.3579\n",
      "Epoch [2800/10000], Train Loss: 27664.8821, Validation Loss: 3080.8987\n",
      "Epoch [2900/10000], Train Loss: 26147.0017, Validation Loss: 3062.2368\n",
      "Epoch [3000/10000], Train Loss: 25712.6262, Validation Loss: 3046.0718\n",
      "Epoch [3100/10000], Train Loss: 25143.1047, Validation Loss: 3032.3145\n",
      "Epoch [3200/10000], Train Loss: 25561.8850, Validation Loss: 3017.9543\n",
      "Epoch [3300/10000], Train Loss: 24632.8379, Validation Loss: 3000.9409\n",
      "Epoch [3400/10000], Train Loss: 24490.1104, Validation Loss: 2994.0796\n",
      "Epoch [3500/10000], Train Loss: 25233.5076, Validation Loss: 2975.1179\n",
      "Epoch [3600/10000], Train Loss: 25097.8843, Validation Loss: 2962.8352\n",
      "Epoch [3700/10000], Train Loss: 25249.6921, Validation Loss: 2952.5715\n",
      "Epoch [3800/10000], Train Loss: 23925.6768, Validation Loss: 2938.8770\n",
      "Epoch [3900/10000], Train Loss: 22471.9874, Validation Loss: 2920.3970\n",
      "Epoch [4000/10000], Train Loss: 23550.2820, Validation Loss: 2908.1155\n",
      "Epoch [4100/10000], Train Loss: 22808.6091, Validation Loss: 2893.4116\n",
      "Epoch [4200/10000], Train Loss: 22763.6899, Validation Loss: 2876.5308\n",
      "Epoch [4300/10000], Train Loss: 22934.4812, Validation Loss: 2850.1677\n",
      "Epoch [4400/10000], Train Loss: 22196.2710, Validation Loss: 2823.4263\n",
      "Epoch [4500/10000], Train Loss: 21348.8967, Validation Loss: 2804.2290\n",
      "Epoch [4600/10000], Train Loss: 20256.7970, Validation Loss: 2757.6592\n",
      "Epoch [4700/10000], Train Loss: 21229.7903, Validation Loss: 2672.7556\n",
      "Epoch [4800/10000], Train Loss: 19344.0955, Validation Loss: 2591.8752\n",
      "Epoch [4900/10000], Train Loss: 18774.5059, Validation Loss: 2515.5071\n",
      "Epoch [5000/10000], Train Loss: 19761.7384, Validation Loss: 2428.4124\n",
      "Epoch [5100/10000], Train Loss: 16909.0374, Validation Loss: 2341.3042\n",
      "Epoch [5200/10000], Train Loss: 16313.2626, Validation Loss: 2264.8140\n",
      "Epoch [5300/10000], Train Loss: 16174.4526, Validation Loss: 2179.4326\n",
      "Epoch [5400/10000], Train Loss: 14799.0028, Validation Loss: 2105.2136\n",
      "Epoch [5500/10000], Train Loss: 13875.1863, Validation Loss: 2036.9562\n",
      "Epoch [5600/10000], Train Loss: 12832.7231, Validation Loss: 1971.6899\n",
      "Epoch [5700/10000], Train Loss: 11976.4521, Validation Loss: 1908.6495\n",
      "Epoch [5800/10000], Train Loss: 11574.7606, Validation Loss: 1851.6592\n",
      "Epoch [5900/10000], Train Loss: 10542.5376, Validation Loss: 1797.1234\n",
      "Epoch [6000/10000], Train Loss: 9352.4772, Validation Loss: 1743.8041\n",
      "Epoch [6100/10000], Train Loss: 8830.2660, Validation Loss: 1691.5966\n",
      "Epoch [6200/10000], Train Loss: 8003.1068, Validation Loss: 1637.1644\n",
      "Epoch [6300/10000], Train Loss: 7359.8968, Validation Loss: 1578.5615\n",
      "Epoch [6400/10000], Train Loss: 6580.0800, Validation Loss: 1519.2926\n",
      "Epoch [6500/10000], Train Loss: 5944.9756, Validation Loss: 1463.1449\n",
      "Epoch [6600/10000], Train Loss: 5226.4799, Validation Loss: 1408.3635\n",
      "Epoch [6700/10000], Train Loss: 4971.5226, Validation Loss: 1356.8516\n",
      "Epoch [6800/10000], Train Loss: 4857.4041, Validation Loss: 1293.3031\n",
      "Epoch [6900/10000], Train Loss: 4648.0185, Validation Loss: 1264.9713\n",
      "Epoch [7000/10000], Train Loss: 4355.1729, Validation Loss: 1247.3494\n",
      "Epoch [7100/10000], Train Loss: 4605.7791, Validation Loss: 1234.5723\n",
      "Epoch [7200/10000], Train Loss: 4219.3510, Validation Loss: 1222.2515\n",
      "Epoch [7300/10000], Train Loss: 4077.6984, Validation Loss: 1208.7491\n",
      "Epoch [7400/10000], Train Loss: 4064.8379, Validation Loss: 1199.0739\n",
      "Epoch [7500/10000], Train Loss: 4349.6243, Validation Loss: 1192.5485\n",
      "Epoch [7600/10000], Train Loss: 4078.0503, Validation Loss: 1186.9197\n",
      "Epoch [7700/10000], Train Loss: 3842.2064, Validation Loss: 1182.2465\n",
      "Epoch [7800/10000], Train Loss: 3798.7651, Validation Loss: 1176.4907\n",
      "Epoch [7900/10000], Train Loss: 3919.2660, Validation Loss: 1169.2842\n",
      "Epoch [8000/10000], Train Loss: 3857.0415, Validation Loss: 1162.5836\n",
      "Epoch [8100/10000], Train Loss: 3850.9679, Validation Loss: 1158.7144\n",
      "Epoch [8200/10000], Train Loss: 3530.8464, Validation Loss: 1154.6910\n",
      "Epoch [8300/10000], Train Loss: 3740.2645, Validation Loss: 1151.0690\n",
      "Epoch [8400/10000], Train Loss: 3427.7520, Validation Loss: 1149.0573\n",
      "Epoch [8500/10000], Train Loss: 3398.6791, Validation Loss: 1145.3580\n",
      "Epoch [8600/10000], Train Loss: 3778.0131, Validation Loss: 1142.6849\n",
      "Epoch [8700/10000], Train Loss: 3445.0076, Validation Loss: 1139.8337\n",
      "Epoch [8800/10000], Train Loss: 3381.5597, Validation Loss: 1138.1537\n",
      "Epoch [8900/10000], Train Loss: 3517.6488, Validation Loss: 1135.0927\n",
      "Epoch [9000/10000], Train Loss: 3563.6891, Validation Loss: 1132.7056\n",
      "Epoch [9100/10000], Train Loss: 3410.9071, Validation Loss: 1131.9346\n",
      "Epoch [9200/10000], Train Loss: 3291.0195, Validation Loss: 1129.6295\n",
      "Epoch [9300/10000], Train Loss: 3517.0381, Validation Loss: 1128.3511\n",
      "Epoch [9400/10000], Train Loss: 3216.4638, Validation Loss: 1126.7288\n",
      "Epoch [9500/10000], Train Loss: 3231.2599, Validation Loss: 1125.2740\n",
      "Epoch [9600/10000], Train Loss: 3429.5894, Validation Loss: 1124.4550\n",
      "Epoch [9700/10000], Train Loss: 3357.6086, Validation Loss: 1123.2074\n",
      "Epoch [9800/10000], Train Loss: 3271.6305, Validation Loss: 1122.5161\n",
      "Epoch [9900/10000], Train Loss: 3429.3311, Validation Loss: 1121.3297\n"
     ]
    },
    {
     "name": "stderr",
     "output_type": "stream",
     "text": [
      "[I 2024-02-06 20:44:14,150] Trial 4 finished with value: 1120.5640869140625 and parameters: {'hidden_size': 9, 'num_layers': 5, 'lr': 3.0117730162429874e-05}. Best is trial 2 with value: 399.832763671875.\n"
     ]
    },
    {
     "name": "stdout",
     "output_type": "stream",
     "text": [
      "Epoch [10000/10000], Train Loss: 3220.0053, Validation Loss: 1120.5641\n",
      "Epoch [100/10000], Train Loss: 207.1358, Validation Loss: 20.7183\n",
      "Epoch [200/10000], Train Loss: 560.7632, Validation Loss: 46.6000\n"
     ]
    },
    {
     "name": "stderr",
     "output_type": "stream",
     "text": [
      "[I 2024-02-06 20:44:24,000] Trial 5 finished with value: 10.978190422058105 and parameters: {'hidden_size': 9, 'num_layers': 4, 'lr': 0.06887135672093797}. Best is trial 5 with value: 10.978190422058105.\n"
     ]
    },
    {
     "name": "stdout",
     "output_type": "stream",
     "text": [
      "Epoch [235/10000], Train Loss: 142.3202, Validation Loss: 10.9782\n",
      "Early stopping triggered. Stopping training.\n",
      "Epoch [100/10000], Train Loss: 34703.6960, Validation Loss: 3814.2366\n",
      "Epoch [200/10000], Train Loss: 32020.6060, Validation Loss: 3712.7288\n",
      "Epoch [300/10000], Train Loss: 28739.6345, Validation Loss: 3519.7949\n",
      "Epoch [400/10000], Train Loss: 24590.8237, Validation Loss: 3215.4868\n",
      "Epoch [500/10000], Train Loss: 11085.9369, Validation Loss: 1862.5227\n",
      "Epoch [600/10000], Train Loss: 6339.1131, Validation Loss: 1503.9692\n",
      "Epoch [700/10000], Train Loss: 5128.4775, Validation Loss: 1367.8751\n",
      "Epoch [800/10000], Train Loss: 4936.9269, Validation Loss: 1302.8259\n",
      "Epoch [900/10000], Train Loss: 4477.9535, Validation Loss: 1264.3064\n",
      "Epoch [1000/10000], Train Loss: 4206.2730, Validation Loss: 1232.6763\n",
      "Epoch [1100/10000], Train Loss: 4363.7521, Validation Loss: 1205.9988\n",
      "Epoch [1200/10000], Train Loss: 4049.6482, Validation Loss: 1176.3143\n",
      "Epoch [1300/10000], Train Loss: 3914.7744, Validation Loss: 1160.8973\n",
      "Epoch [1400/10000], Train Loss: 3493.8394, Validation Loss: 1153.0516\n",
      "Epoch [1500/10000], Train Loss: 3788.4721, Validation Loss: 1145.3523\n",
      "Epoch [1600/10000], Train Loss: 3630.6833, Validation Loss: 1137.8247\n",
      "Epoch [1700/10000], Train Loss: 3336.0049, Validation Loss: 1130.4188\n",
      "Epoch [1800/10000], Train Loss: 3542.5590, Validation Loss: 1123.9031\n",
      "Epoch [1900/10000], Train Loss: 3778.9064, Validation Loss: 1119.3370\n",
      "Epoch [2000/10000], Train Loss: 3380.8769, Validation Loss: 1118.3586\n",
      "Epoch [2100/10000], Train Loss: 3208.6220, Validation Loss: 1116.3137\n",
      "Epoch [2200/10000], Train Loss: 3209.2724, Validation Loss: 1115.5710\n",
      "Epoch [2300/10000], Train Loss: 3264.2464, Validation Loss: 1114.9137\n",
      "Epoch [2400/10000], Train Loss: 3413.9343, Validation Loss: 1114.0355\n",
      "Epoch [2500/10000], Train Loss: 3049.1479, Validation Loss: 1113.9785\n",
      "Epoch [2600/10000], Train Loss: 3357.2864, Validation Loss: 1113.3727\n",
      "Epoch [2700/10000], Train Loss: 3180.7044, Validation Loss: 1113.6044\n"
     ]
    },
    {
     "name": "stderr",
     "output_type": "stream",
     "text": [
      "[I 2024-02-06 20:46:35,569] Trial 6 finished with value: 1113.47216796875 and parameters: {'hidden_size': 6, 'num_layers': 9, 'lr': 0.0002737519163274245}. Best is trial 5 with value: 10.978190422058105.\n"
     ]
    },
    {
     "name": "stdout",
     "output_type": "stream",
     "text": [
      "Epoch [2706/10000], Train Loss: 3218.9310, Validation Loss: 1113.4722\n",
      "Early stopping triggered. Stopping training.\n",
      "Epoch [100/10000], Train Loss: 29815.8818, Validation Loss: 3737.4553\n",
      "Epoch [200/10000], Train Loss: 18103.9419, Validation Loss: 2469.0103\n",
      "Epoch [300/10000], Train Loss: 5196.2926, Validation Loss: 1334.1399\n",
      "Epoch [400/10000], Train Loss: 4336.3452, Validation Loss: 1206.1483\n",
      "Epoch [500/10000], Train Loss: 3910.1495, Validation Loss: 1181.0065\n",
      "Epoch [600/10000], Train Loss: 3752.6017, Validation Loss: 1160.1072\n",
      "Epoch [700/10000], Train Loss: 3826.2177, Validation Loss: 1144.7601\n",
      "Epoch [800/10000], Train Loss: 3448.2170, Validation Loss: 1134.2939\n",
      "Epoch [900/10000], Train Loss: 3345.4132, Validation Loss: 1128.6439\n",
      "Epoch [1000/10000], Train Loss: 3154.6788, Validation Loss: 1125.8439\n",
      "Epoch [1100/10000], Train Loss: 3283.5540, Validation Loss: 1122.5450\n",
      "Epoch [1200/10000], Train Loss: 3453.2700, Validation Loss: 1121.2666\n",
      "Epoch [1300/10000], Train Loss: 3456.7506, Validation Loss: 1120.2155\n",
      "Epoch [1400/10000], Train Loss: 3228.0478, Validation Loss: 1119.5605\n",
      "Epoch [1500/10000], Train Loss: 3196.8048, Validation Loss: 1118.6387\n",
      "Epoch [1600/10000], Train Loss: 3154.0498, Validation Loss: 1117.3492\n",
      "Epoch [1700/10000], Train Loss: 3231.3100, Validation Loss: 1116.7456\n",
      "Epoch [1800/10000], Train Loss: 3143.7674, Validation Loss: 1116.0833\n",
      "Epoch [1900/10000], Train Loss: 3101.6993, Validation Loss: 1116.5880\n",
      "Epoch [2000/10000], Train Loss: 3054.1337, Validation Loss: 1115.4382\n",
      "Epoch [2100/10000], Train Loss: 3122.9238, Validation Loss: 1115.2727\n",
      "Epoch [2200/10000], Train Loss: 3063.3494, Validation Loss: 1114.8386\n",
      "Epoch [2300/10000], Train Loss: 3315.5490, Validation Loss: 1118.0479\n",
      "Epoch [2400/10000], Train Loss: 3043.0796, Validation Loss: 1114.3673\n",
      "Epoch [2500/10000], Train Loss: 3110.2067, Validation Loss: 1115.2634\n",
      "Epoch [2600/10000], Train Loss: 3289.3476, Validation Loss: 1113.9297\n",
      "Epoch [2700/10000], Train Loss: 3231.3391, Validation Loss: 1114.4388\n",
      "Epoch [2800/10000], Train Loss: 3042.3617, Validation Loss: 1114.4911\n",
      "Epoch [2900/10000], Train Loss: 3232.7664, Validation Loss: 1113.7596\n",
      "Epoch [3000/10000], Train Loss: 3163.6623, Validation Loss: 1114.4214\n",
      "Epoch [3100/10000], Train Loss: 3030.6067, Validation Loss: 1114.8563\n",
      "Epoch [3200/10000], Train Loss: 3226.3346, Validation Loss: 1113.9952\n",
      "Epoch [3300/10000], Train Loss: 3077.4561, Validation Loss: 1113.6681\n",
      "Epoch [3400/10000], Train Loss: 3178.5048, Validation Loss: 1113.4084\n",
      "Epoch [3500/10000], Train Loss: 3030.6266, Validation Loss: 1114.2421\n",
      "Epoch [3600/10000], Train Loss: 3059.5487, Validation Loss: 1113.3104\n"
     ]
    },
    {
     "name": "stderr",
     "output_type": "stream",
     "text": [
      "[I 2024-02-06 20:49:48,268] Trial 7 finished with value: 1113.354248046875 and parameters: {'hidden_size': 9, 'num_layers': 11, 'lr': 0.00027549443608604785}. Best is trial 5 with value: 10.978190422058105.\n"
     ]
    },
    {
     "name": "stdout",
     "output_type": "stream",
     "text": [
      "Epoch [3679/10000], Train Loss: 2886.8027, Validation Loss: 1113.3542\n",
      "Early stopping triggered. Stopping training.\n",
      "Epoch [100/10000], Train Loss: 2063.3815, Validation Loss: 989.4503\n",
      "Epoch [200/10000], Train Loss: 75.0481, Validation Loss: 6.9820\n",
      "Epoch [300/10000], Train Loss: 71.4275, Validation Loss: 15.4913\n"
     ]
    },
    {
     "name": "stderr",
     "output_type": "stream",
     "text": [
      "[I 2024-02-06 20:50:04,968] Trial 8 finished with value: 4.74732780456543 and parameters: {'hidden_size': 12, 'num_layers': 4, 'lr': 0.04777003758601066}. Best is trial 8 with value: 4.74732780456543.\n"
     ]
    },
    {
     "name": "stdout",
     "output_type": "stream",
     "text": [
      "Epoch [393/10000], Train Loss: 64.7233, Validation Loss: 4.7473\n",
      "Early stopping triggered. Stopping training.\n",
      "Epoch [100/10000], Train Loss: 51999.4026, Validation Loss: 6478.2207\n",
      "Epoch [200/10000], Train Loss: 53176.3979, Validation Loss: 6439.9214\n",
      "Epoch [300/10000], Train Loss: 50345.4458, Validation Loss: 6204.6401\n",
      "Epoch [400/10000], Train Loss: 43862.1648, Validation Loss: 5744.4282\n",
      "Epoch [500/10000], Train Loss: 42105.5488, Validation Loss: 5130.1372\n",
      "Epoch [600/10000], Train Loss: 35883.1108, Validation Loss: 4554.3213\n",
      "Epoch [700/10000], Train Loss: 34407.9663, Validation Loss: 4152.5400\n",
      "Epoch [800/10000], Train Loss: 33352.7354, Validation Loss: 3936.8838\n",
      "Epoch [900/10000], Train Loss: 33252.3367, Validation Loss: 3838.5752\n",
      "Epoch [1000/10000], Train Loss: 31851.2495, Validation Loss: 3766.0266\n",
      "Epoch [1100/10000], Train Loss: 32293.3237, Validation Loss: 3713.9846\n",
      "Epoch [1200/10000], Train Loss: 32580.9014, Validation Loss: 3666.1990\n",
      "Epoch [1300/10000], Train Loss: 29706.8606, Validation Loss: 3602.3784\n",
      "Epoch [1400/10000], Train Loss: 30011.1990, Validation Loss: 3563.8794\n",
      "Epoch [1500/10000], Train Loss: 30782.6460, Validation Loss: 3501.5586\n",
      "Epoch [1600/10000], Train Loss: 29766.0039, Validation Loss: 3442.1782\n",
      "Epoch [1700/10000], Train Loss: 28054.2593, Validation Loss: 3384.3779\n",
      "Epoch [1800/10000], Train Loss: 26114.9242, Validation Loss: 3318.7959\n",
      "Epoch [1900/10000], Train Loss: 27590.7554, Validation Loss: 3225.7656\n",
      "Epoch [2000/10000], Train Loss: 25734.1587, Validation Loss: 3151.9788\n",
      "Epoch [2100/10000], Train Loss: 25063.5090, Validation Loss: 3037.0359\n",
      "Epoch [2200/10000], Train Loss: 23981.9424, Validation Loss: 2924.7947\n",
      "Epoch [2300/10000], Train Loss: 21746.4185, Validation Loss: 2782.4763\n",
      "Epoch [2400/10000], Train Loss: 20439.9839, Validation Loss: 2651.3540\n",
      "Epoch [2500/10000], Train Loss: 19933.9312, Validation Loss: 2514.6240\n",
      "Epoch [2600/10000], Train Loss: 19178.3865, Validation Loss: 2394.4729\n",
      "Epoch [2700/10000], Train Loss: 15980.1533, Validation Loss: 2250.4019\n",
      "Epoch [2800/10000], Train Loss: 13494.9336, Validation Loss: 2027.1155\n",
      "Epoch [2900/10000], Train Loss: 11932.7268, Validation Loss: 1885.1075\n",
      "Epoch [3000/10000], Train Loss: 10262.0560, Validation Loss: 1751.8802\n",
      "Epoch [3100/10000], Train Loss: 8964.2610, Validation Loss: 1619.0580\n",
      "Epoch [3200/10000], Train Loss: 7780.3816, Validation Loss: 1534.1770\n",
      "Epoch [3300/10000], Train Loss: 6538.8273, Validation Loss: 1459.7820\n",
      "Epoch [3400/10000], Train Loss: 5877.7565, Validation Loss: 1395.9808\n",
      "Epoch [3500/10000], Train Loss: 5352.9949, Validation Loss: 1341.9789\n",
      "Epoch [3600/10000], Train Loss: 4963.1174, Validation Loss: 1300.0463\n",
      "Epoch [3700/10000], Train Loss: 4579.0325, Validation Loss: 1269.2572\n",
      "Epoch [3800/10000], Train Loss: 4594.6980, Validation Loss: 1247.7042\n",
      "Epoch [3900/10000], Train Loss: 4178.7625, Validation Loss: 1231.7346\n",
      "Epoch [4000/10000], Train Loss: 3999.9275, Validation Loss: 1220.4849\n",
      "Epoch [4100/10000], Train Loss: 4381.2885, Validation Loss: 1211.0295\n",
      "Epoch [4200/10000], Train Loss: 3942.4486, Validation Loss: 1203.3508\n",
      "Epoch [4300/10000], Train Loss: 3905.8190, Validation Loss: 1196.7362\n",
      "Epoch [4400/10000], Train Loss: 3837.3642, Validation Loss: 1191.3574\n",
      "Epoch [4500/10000], Train Loss: 3963.6574, Validation Loss: 1186.6407\n",
      "Epoch [4600/10000], Train Loss: 3791.4017, Validation Loss: 1179.0654\n",
      "Epoch [4700/10000], Train Loss: 3578.6953, Validation Loss: 1173.9097\n",
      "Epoch [4800/10000], Train Loss: 3863.2335, Validation Loss: 1169.7755\n",
      "Epoch [4900/10000], Train Loss: 3834.8010, Validation Loss: 1166.1782\n",
      "Epoch [5000/10000], Train Loss: 3813.6663, Validation Loss: 1163.3754\n",
      "Epoch [5100/10000], Train Loss: 3681.5550, Validation Loss: 1160.8678\n",
      "Epoch [5200/10000], Train Loss: 3843.4552, Validation Loss: 1158.5272\n",
      "Epoch [5300/10000], Train Loss: 3661.6196, Validation Loss: 1156.4321\n",
      "Epoch [5400/10000], Train Loss: 3789.1210, Validation Loss: 1154.2994\n",
      "Epoch [5500/10000], Train Loss: 3400.2248, Validation Loss: 1152.2656\n",
      "Epoch [5600/10000], Train Loss: 3598.4874, Validation Loss: 1150.2960\n",
      "Epoch [5700/10000], Train Loss: 3716.1418, Validation Loss: 1148.3231\n",
      "Epoch [5800/10000], Train Loss: 3639.9028, Validation Loss: 1146.1681\n",
      "Epoch [5900/10000], Train Loss: 3686.8586, Validation Loss: 1144.1993\n",
      "Epoch [6000/10000], Train Loss: 3449.1585, Validation Loss: 1142.4855\n",
      "Epoch [6100/10000], Train Loss: 3342.1627, Validation Loss: 1140.7494\n",
      "Epoch [6200/10000], Train Loss: 3363.4877, Validation Loss: 1138.7784\n",
      "Epoch [6300/10000], Train Loss: 3685.3157, Validation Loss: 1136.6483\n",
      "Epoch [6400/10000], Train Loss: 3209.7230, Validation Loss: 1134.6982\n",
      "Epoch [6500/10000], Train Loss: 3377.1575, Validation Loss: 1133.0532\n",
      "Epoch [6600/10000], Train Loss: 3383.1869, Validation Loss: 1131.5704\n",
      "Epoch [6700/10000], Train Loss: 3349.2608, Validation Loss: 1130.3014\n",
      "Epoch [6800/10000], Train Loss: 3457.7056, Validation Loss: 1129.1376\n",
      "Epoch [6900/10000], Train Loss: 3411.2722, Validation Loss: 1128.0662\n",
      "Epoch [7000/10000], Train Loss: 3516.2067, Validation Loss: 1127.1952\n",
      "Epoch [7100/10000], Train Loss: 3614.6665, Validation Loss: 1126.4572\n",
      "Epoch [7200/10000], Train Loss: 3677.7530, Validation Loss: 1125.7625\n",
      "Epoch [7300/10000], Train Loss: 3313.5466, Validation Loss: 1125.1949\n",
      "Epoch [7400/10000], Train Loss: 3192.4530, Validation Loss: 1124.7369\n",
      "Epoch [7500/10000], Train Loss: 3405.1232, Validation Loss: 1124.3358\n",
      "Epoch [7600/10000], Train Loss: 3391.7143, Validation Loss: 1124.0278\n",
      "Epoch [7700/10000], Train Loss: 3363.9540, Validation Loss: 1123.7975\n",
      "Epoch [7800/10000], Train Loss: 3201.0655, Validation Loss: 1123.6188\n",
      "Epoch [7900/10000], Train Loss: 3140.9588, Validation Loss: 1123.4301\n",
      "Epoch [8000/10000], Train Loss: 3338.6670, Validation Loss: 1123.3088\n",
      "Epoch [8100/10000], Train Loss: 3742.4115, Validation Loss: 1123.2053\n",
      "Epoch [8200/10000], Train Loss: 3185.0043, Validation Loss: 1123.1650\n",
      "Epoch [8300/10000], Train Loss: 3410.0125, Validation Loss: 1123.0645\n",
      "Epoch [8400/10000], Train Loss: 3301.1391, Validation Loss: 1123.0359\n"
     ]
    },
    {
     "name": "stderr",
     "output_type": "stream",
     "text": [
      "[I 2024-02-06 20:55:34,523] Trial 9 finished with value: 1123.042724609375 and parameters: {'hidden_size': 9, 'num_layers': 2, 'lr': 5.24348074313727e-05}. Best is trial 8 with value: 4.74732780456543.\n"
     ]
    },
    {
     "name": "stdout",
     "output_type": "stream",
     "text": [
      "Epoch [8483/10000], Train Loss: 3248.0150, Validation Loss: 1123.0427\n",
      "Early stopping triggered. Stopping training.\n",
      "Epoch [100/10000], Train Loss: 3421.9214, Validation Loss: 1127.5144\n",
      "Epoch [200/10000], Train Loss: 3242.9425, Validation Loss: 1118.7765\n",
      "Epoch [300/10000], Train Loss: 3523.8776, Validation Loss: 1115.4634\n",
      "Epoch [400/10000], Train Loss: 3130.4509, Validation Loss: 1113.9728\n",
      "Epoch [500/10000], Train Loss: 2961.4970, Validation Loss: 1115.2292\n",
      "Epoch [600/10000], Train Loss: 3034.5923, Validation Loss: 1112.7589\n",
      "Epoch [700/10000], Train Loss: 3221.6873, Validation Loss: 1111.9449\n",
      "Epoch [800/10000], Train Loss: 3008.8291, Validation Loss: 1111.8710\n"
     ]
    },
    {
     "name": "stderr",
     "output_type": "stream",
     "text": [
      "[I 2024-02-06 20:56:09,895] Trial 10 finished with value: 1111.860595703125 and parameters: {'hidden_size': 12, 'num_layers': 4, 'lr': 0.004799483770767394}. Best is trial 8 with value: 4.74732780456543.\n"
     ]
    },
    {
     "name": "stdout",
     "output_type": "stream",
     "text": [
      "Epoch [837/10000], Train Loss: 3171.3300, Validation Loss: 1111.8606\n",
      "Early stopping triggered. Stopping training.\n",
      "Epoch [100/10000], Train Loss: 282.8305, Validation Loss: 59.0334\n",
      "Epoch [200/10000], Train Loss: 69.0941, Validation Loss: 8.9686\n",
      "Epoch [300/10000], Train Loss: 102.6929, Validation Loss: 11.5144\n",
      "Epoch [400/10000], Train Loss: 74.8071, Validation Loss: 10.1391\n"
     ]
    },
    {
     "name": "stderr",
     "output_type": "stream",
     "text": [
      "[I 2024-02-06 20:56:28,459] Trial 11 finished with value: 10.733622550964355 and parameters: {'hidden_size': 12, 'num_layers': 4, 'lr': 0.05683490509391952}. Best is trial 8 with value: 4.74732780456543.\n"
     ]
    },
    {
     "name": "stdout",
     "output_type": "stream",
     "text": [
      "Epoch [420/10000], Train Loss: 60.3683, Validation Loss: 10.7336\n",
      "Early stopping triggered. Stopping training.\n",
      "Epoch [100/10000], Train Loss: 3512.2702, Validation Loss: 1120.7560\n",
      "Epoch [200/10000], Train Loss: 2981.3752, Validation Loss: 1105.1575\n",
      "Epoch [300/10000], Train Loss: 636.4261, Validation Loss: 96.3008\n",
      "Epoch [400/10000], Train Loss: 429.5057, Validation Loss: 57.4124\n",
      "Epoch [500/10000], Train Loss: 294.3735, Validation Loss: 36.8800\n",
      "Epoch [600/10000], Train Loss: 253.0751, Validation Loss: 34.6491\n"
     ]
    },
    {
     "name": "stderr",
     "output_type": "stream",
     "text": [
      "[I 2024-02-06 20:56:55,300] Trial 12 finished with value: 24.80416488647461 and parameters: {'hidden_size': 12, 'num_layers': 1, 'lr': 0.09954863986877836}. Best is trial 8 with value: 4.74732780456543.\n"
     ]
    },
    {
     "name": "stdout",
     "output_type": "stream",
     "text": [
      "Epoch [700/10000], Train Loss: 218.7723, Validation Loss: 21.0713\n",
      "Epoch [703/10000], Train Loss: 292.7265, Validation Loss: 24.8042\n",
      "Early stopping triggered. Stopping training.\n"
     ]
    },
    {
     "name": "stderr",
     "output_type": "stream",
     "text": [
      "[I 2024-02-06 20:57:00,425] Trial 13 finished with value: 6480.986328125 and parameters: {'hidden_size': 15, 'num_layers': 8, 'lr': 0.01382948000566799}. Best is trial 8 with value: 4.74732780456543.\n"
     ]
    },
    {
     "name": "stdout",
     "output_type": "stream",
     "text": [
      "Epoch [100/10000], Train Loss: 55264.7275, Validation Loss: 6480.9863\n",
      "Epoch [101/10000], Train Loss: 50528.6656, Validation Loss: 6480.9863\n",
      "Early stopping triggered. Stopping training.\n",
      "Epoch [100/10000], Train Loss: 4261.0528, Validation Loss: 1233.0991\n",
      "Epoch [200/10000], Train Loss: 3570.9368, Validation Loss: 1142.9709\n",
      "Epoch [300/10000], Train Loss: 3286.1919, Validation Loss: 1127.1125\n",
      "Epoch [400/10000], Train Loss: 3164.2715, Validation Loss: 1118.4233\n",
      "Epoch [500/10000], Train Loss: 3120.0457, Validation Loss: 1116.2384\n",
      "Epoch [600/10000], Train Loss: 3061.2288, Validation Loss: 1114.5458\n",
      "Epoch [700/10000], Train Loss: 3190.5076, Validation Loss: 1115.6455\n",
      "Epoch [800/10000], Train Loss: 3232.0710, Validation Loss: 1113.3473\n",
      "Epoch [900/10000], Train Loss: 3088.4993, Validation Loss: 1112.4624\n",
      "Epoch [1000/10000], Train Loss: 2892.2038, Validation Loss: 1112.0222\n",
      "Epoch [1100/10000], Train Loss: 3386.1179, Validation Loss: 1112.1771\n",
      "Epoch [1200/10000], Train Loss: 3097.6866, Validation Loss: 1112.3530\n"
     ]
    },
    {
     "name": "stderr",
     "output_type": "stream",
     "text": [
      "[I 2024-02-06 20:57:53,472] Trial 14 finished with value: 1114.84130859375 and parameters: {'hidden_size': 12, 'num_layers': 4, 'lr': 0.0020058619427181694}. Best is trial 8 with value: 4.74732780456543.\n"
     ]
    },
    {
     "name": "stdout",
     "output_type": "stream",
     "text": [
      "Epoch [1256/10000], Train Loss: 3277.4903, Validation Loss: 1114.8413\n",
      "Early stopping triggered. Stopping training.\n",
      "Epoch [100/10000], Train Loss: 588.9923, Validation Loss: 120.7514\n",
      "Epoch [200/10000], Train Loss: 265.2914, Validation Loss: 25.0732\n",
      "Epoch [300/10000], Train Loss: 274.9591, Validation Loss: 15.3492\n"
     ]
    },
    {
     "name": "stderr",
     "output_type": "stream",
     "text": [
      "[I 2024-02-06 20:58:14,856] Trial 15 finished with value: 25.740114212036133 and parameters: {'hidden_size': 12, 'num_layers': 12, 'lr': 0.024313779726773847}. Best is trial 8 with value: 4.74732780456543.\n"
     ]
    },
    {
     "name": "stdout",
     "output_type": "stream",
     "text": [
      "Epoch [390/10000], Train Loss: 162.6063, Validation Loss: 25.7401\n",
      "Early stopping triggered. Stopping training.\n",
      "Epoch [100/10000], Train Loss: 1028.4762, Validation Loss: 97.2392\n",
      "Epoch [200/10000], Train Loss: 219.3841, Validation Loss: 21.7384\n",
      "Epoch [300/10000], Train Loss: 134.2782, Validation Loss: 11.6159\n",
      "Epoch [400/10000], Train Loss: 101.4879, Validation Loss: 15.3189\n",
      "Epoch [500/10000], Train Loss: 218.1319, Validation Loss: 10.3384\n"
     ]
    },
    {
     "name": "stderr",
     "output_type": "stream",
     "text": [
      "[I 2024-02-06 20:58:45,025] Trial 16 finished with value: 7.591882705688477 and parameters: {'hidden_size': 15, 'num_layers': 10, 'lr': 0.03575042714389931}. Best is trial 8 with value: 4.74732780456543.\n"
     ]
    },
    {
     "name": "stdout",
     "output_type": "stream",
     "text": [
      "Epoch [535/10000], Train Loss: 71.8808, Validation Loss: 7.5919\n",
      "Early stopping triggered. Stopping training.\n",
      "Epoch [100/10000], Train Loss: 3024.8600, Validation Loss: 1120.3676\n",
      "Epoch [200/10000], Train Loss: 3038.5359, Validation Loss: 1125.0919\n",
      "Epoch [300/10000], Train Loss: 2919.7749, Validation Loss: 1114.4240\n",
      "Epoch [400/10000], Train Loss: 3132.9356, Validation Loss: 1114.2675\n",
      "Epoch [500/10000], Train Loss: 2956.7874, Validation Loss: 1116.7266\n",
      "Epoch [600/10000], Train Loss: 3237.8483, Validation Loss: 1122.6558\n",
      "Epoch [700/10000], Train Loss: 3194.3984, Validation Loss: 1113.4893\n"
     ]
    },
    {
     "name": "stderr",
     "output_type": "stream",
     "text": [
      "[I 2024-02-06 20:59:23,681] Trial 17 finished with value: 1132.5611572265625 and parameters: {'hidden_size': 15, 'num_layers': 10, 'lr': 0.003243537986435212}. Best is trial 8 with value: 4.74732780456543.\n"
     ]
    },
    {
     "name": "stdout",
     "output_type": "stream",
     "text": [
      "Epoch [748/10000], Train Loss: 3143.4266, Validation Loss: 1132.5612\n",
      "Early stopping triggered. Stopping training.\n",
      "Epoch [100/10000], Train Loss: 56058.3398, Validation Loss: 6480.9639\n",
      "Epoch [200/10000], Train Loss: 51505.5857, Validation Loss: 6480.1978\n",
      "Epoch [300/10000], Train Loss: 56894.1636, Validation Loss: 6456.8652\n",
      "Epoch [400/10000], Train Loss: 55872.4841, Validation Loss: 6234.5527\n",
      "Epoch [500/10000], Train Loss: 43292.7876, Validation Loss: 5521.9316\n",
      "Epoch [600/10000], Train Loss: 37538.1304, Validation Loss: 4484.8647\n",
      "Epoch [700/10000], Train Loss: 35729.1226, Validation Loss: 4115.8530\n",
      "Epoch [800/10000], Train Loss: 34038.4290, Validation Loss: 4040.5583\n",
      "Epoch [900/10000], Train Loss: 34451.7129, Validation Loss: 3981.8130\n",
      "Epoch [1000/10000], Train Loss: 34048.2915, Validation Loss: 3932.0571\n",
      "Epoch [1100/10000], Train Loss: 35723.3008, Validation Loss: 3891.5906\n",
      "Epoch [1200/10000], Train Loss: 35046.5894, Validation Loss: 3854.0662\n",
      "Epoch [1300/10000], Train Loss: 33305.3125, Validation Loss: 3837.8137\n",
      "Epoch [1400/10000], Train Loss: 33319.1606, Validation Loss: 3820.9016\n",
      "Epoch [1500/10000], Train Loss: 31318.1707, Validation Loss: 3795.6665\n",
      "Epoch [1600/10000], Train Loss: 32582.2002, Validation Loss: 3786.8262\n",
      "Epoch [1700/10000], Train Loss: 31670.3069, Validation Loss: 3781.2085\n",
      "Epoch [1800/10000], Train Loss: 30210.5825, Validation Loss: 3763.3179\n",
      "Epoch [1900/10000], Train Loss: 31712.8308, Validation Loss: 3753.7520\n",
      "Epoch [2000/10000], Train Loss: 32646.8113, Validation Loss: 3722.4316\n",
      "Epoch [2100/10000], Train Loss: 30570.4475, Validation Loss: 3688.2766\n",
      "Epoch [2200/10000], Train Loss: 30586.2395, Validation Loss: 3673.3550\n",
      "Epoch [2300/10000], Train Loss: 29630.4949, Validation Loss: 3650.5483\n",
      "Epoch [2400/10000], Train Loss: 30303.0178, Validation Loss: 3608.2671\n",
      "Epoch [2500/10000], Train Loss: 29740.5015, Validation Loss: 3583.4731\n",
      "Epoch [2600/10000], Train Loss: 29073.2568, Validation Loss: 3538.5054\n",
      "Epoch [2700/10000], Train Loss: 31974.2727, Validation Loss: 3518.7346\n",
      "Epoch [2800/10000], Train Loss: 29922.7539, Validation Loss: 3466.6091\n",
      "Epoch [2900/10000], Train Loss: 27178.7070, Validation Loss: 3415.2434\n",
      "Epoch [3000/10000], Train Loss: 27241.4541, Validation Loss: 3361.0396\n",
      "Epoch [3100/10000], Train Loss: 27271.5557, Validation Loss: 3267.3418\n",
      "Epoch [3200/10000], Train Loss: 25165.7957, Validation Loss: 3184.1616\n",
      "Epoch [3300/10000], Train Loss: 25380.3704, Validation Loss: 3076.6658\n",
      "Epoch [3400/10000], Train Loss: 23749.5452, Validation Loss: 2963.8081\n",
      "Epoch [3500/10000], Train Loss: 21904.9170, Validation Loss: 2813.4368\n",
      "Epoch [3600/10000], Train Loss: 21252.9072, Validation Loss: 2631.9868\n",
      "Epoch [3700/10000], Train Loss: 17180.7074, Validation Loss: 2398.2124\n",
      "Epoch [3800/10000], Train Loss: 14868.0577, Validation Loss: 2095.1094\n",
      "Epoch [3900/10000], Train Loss: 11447.9829, Validation Loss: 1820.7451\n",
      "Epoch [4000/10000], Train Loss: 9030.4680, Validation Loss: 1654.7240\n",
      "Epoch [4100/10000], Train Loss: 7507.9359, Validation Loss: 1549.1041\n",
      "Epoch [4200/10000], Train Loss: 6544.4955, Validation Loss: 1474.9624\n",
      "Epoch [4300/10000], Train Loss: 5923.5826, Validation Loss: 1417.3142\n",
      "Epoch [4400/10000], Train Loss: 5748.2893, Validation Loss: 1371.0392\n",
      "Epoch [4500/10000], Train Loss: 5583.0357, Validation Loss: 1333.5061\n",
      "Epoch [4600/10000], Train Loss: 5252.1532, Validation Loss: 1301.7592\n",
      "Epoch [4700/10000], Train Loss: 4736.6120, Validation Loss: 1272.9706\n",
      "Epoch [4800/10000], Train Loss: 5035.1166, Validation Loss: 1253.8118\n",
      "Epoch [4900/10000], Train Loss: 4634.9442, Validation Loss: 1242.7043\n",
      "Epoch [5000/10000], Train Loss: 4751.9339, Validation Loss: 1234.3987\n",
      "Epoch [5100/10000], Train Loss: 4837.1306, Validation Loss: 1228.6982\n",
      "Epoch [5200/10000], Train Loss: 4319.1130, Validation Loss: 1221.7415\n",
      "Epoch [5300/10000], Train Loss: 4371.5128, Validation Loss: 1215.9419\n",
      "Epoch [5400/10000], Train Loss: 4416.2294, Validation Loss: 1209.9183\n",
      "Epoch [5500/10000], Train Loss: 4308.0949, Validation Loss: 1205.5231\n",
      "Epoch [5600/10000], Train Loss: 4251.6950, Validation Loss: 1200.4935\n",
      "Epoch [5700/10000], Train Loss: 4184.5132, Validation Loss: 1196.9891\n",
      "Epoch [5800/10000], Train Loss: 4092.4553, Validation Loss: 1193.1299\n",
      "Epoch [5900/10000], Train Loss: 4046.4575, Validation Loss: 1189.0763\n",
      "Epoch [6000/10000], Train Loss: 4086.7095, Validation Loss: 1186.2830\n",
      "Epoch [6100/10000], Train Loss: 4036.8183, Validation Loss: 1182.5175\n",
      "Epoch [6200/10000], Train Loss: 3870.7256, Validation Loss: 1179.1134\n",
      "Epoch [6300/10000], Train Loss: 4162.8120, Validation Loss: 1176.8977\n",
      "Epoch [6400/10000], Train Loss: 4020.8795, Validation Loss: 1174.5968\n",
      "Epoch [6500/10000], Train Loss: 4103.7725, Validation Loss: 1171.6271\n",
      "Epoch [6600/10000], Train Loss: 3977.0277, Validation Loss: 1170.0928\n",
      "Epoch [6700/10000], Train Loss: 3857.6243, Validation Loss: 1167.6473\n",
      "Epoch [6800/10000], Train Loss: 4070.8687, Validation Loss: 1165.5543\n",
      "Epoch [6900/10000], Train Loss: 3734.0139, Validation Loss: 1163.4480\n",
      "Epoch [7000/10000], Train Loss: 4024.4116, Validation Loss: 1161.7705\n",
      "Epoch [7100/10000], Train Loss: 3976.3926, Validation Loss: 1160.1233\n",
      "Epoch [7200/10000], Train Loss: 3862.2816, Validation Loss: 1158.4170\n",
      "Epoch [7300/10000], Train Loss: 3718.9831, Validation Loss: 1157.4702\n",
      "Epoch [7400/10000], Train Loss: 3657.8553, Validation Loss: 1155.3901\n",
      "Epoch [7500/10000], Train Loss: 3697.0155, Validation Loss: 1154.2152\n",
      "Epoch [7600/10000], Train Loss: 3553.7646, Validation Loss: 1153.0939\n",
      "Epoch [7700/10000], Train Loss: 3757.2684, Validation Loss: 1151.7280\n",
      "Epoch [7800/10000], Train Loss: 3900.2527, Validation Loss: 1150.1316\n",
      "Epoch [7900/10000], Train Loss: 3608.2457, Validation Loss: 1148.5620\n",
      "Epoch [8000/10000], Train Loss: 3470.2476, Validation Loss: 1147.4194\n",
      "Epoch [8100/10000], Train Loss: 3617.8222, Validation Loss: 1146.2454\n",
      "Epoch [8200/10000], Train Loss: 3482.1336, Validation Loss: 1145.1460\n",
      "Epoch [8300/10000], Train Loss: 3591.9145, Validation Loss: 1143.4308\n",
      "Epoch [8400/10000], Train Loss: 3716.8912, Validation Loss: 1142.5745\n",
      "Epoch [8500/10000], Train Loss: 3597.6177, Validation Loss: 1142.0863\n",
      "Epoch [8600/10000], Train Loss: 3570.2239, Validation Loss: 1140.6285\n",
      "Epoch [8700/10000], Train Loss: 3557.4181, Validation Loss: 1139.3905\n",
      "Epoch [8800/10000], Train Loss: 3428.4978, Validation Loss: 1137.9476\n",
      "Epoch [8900/10000], Train Loss: 3752.4940, Validation Loss: 1137.0153\n",
      "Epoch [9000/10000], Train Loss: 3548.2534, Validation Loss: 1136.1674\n",
      "Epoch [9100/10000], Train Loss: 3512.7591, Validation Loss: 1134.6394\n",
      "Epoch [9200/10000], Train Loss: 3382.7029, Validation Loss: 1134.2863\n",
      "Epoch [9300/10000], Train Loss: 3315.4888, Validation Loss: 1132.6597\n",
      "Epoch [9400/10000], Train Loss: 3639.2557, Validation Loss: 1131.9794\n",
      "Epoch [9500/10000], Train Loss: 3752.3460, Validation Loss: 1131.0387\n",
      "Epoch [9600/10000], Train Loss: 3373.8893, Validation Loss: 1130.2271\n",
      "Epoch [9700/10000], Train Loss: 3274.1249, Validation Loss: 1129.5103\n",
      "Epoch [9800/10000], Train Loss: 3591.0573, Validation Loss: 1129.0276\n",
      "Epoch [9900/10000], Train Loss: 3504.5170, Validation Loss: 1127.8491\n"
     ]
    },
    {
     "name": "stderr",
     "output_type": "stream",
     "text": [
      "[I 2024-02-06 21:08:18,184] Trial 18 finished with value: 1127.293212890625 and parameters: {'hidden_size': 15, 'num_layers': 10, 'lr': 1.0010426969647713e-05}. Best is trial 8 with value: 4.74732780456543.\n"
     ]
    },
    {
     "name": "stdout",
     "output_type": "stream",
     "text": [
      "Epoch [10000/10000], Train Loss: 3424.8290, Validation Loss: 1127.2932\n",
      "Epoch [100/10000], Train Loss: 447.8706, Validation Loss: 22.7094\n",
      "Epoch [200/10000], Train Loss: 158.8179, Validation Loss: 18.5958\n",
      "Epoch [300/10000], Train Loss: 1956.9057, Validation Loss: 40.3641\n"
     ]
    },
    {
     "name": "stderr",
     "output_type": "stream",
     "text": [
      "[I 2024-02-06 21:08:41,702] Trial 19 finished with value: 53.72041702270508 and parameters: {'hidden_size': 6, 'num_layers': 10, 'lr': 0.026191172995642182}. Best is trial 8 with value: 4.74732780456543.\n"
     ]
    },
    {
     "name": "stdout",
     "output_type": "stream",
     "text": [
      "Epoch [386/10000], Train Loss: 348.5873, Validation Loss: 53.7204\n",
      "Early stopping triggered. Stopping training.\n",
      "Epoch [100/10000], Train Loss: 32544.6394, Validation Loss: 4116.9141\n",
      "Epoch [200/10000], Train Loss: 26579.1267, Validation Loss: 3531.8943\n",
      "Epoch [300/10000], Train Loss: 11467.1057, Validation Loss: 1895.0955\n",
      "Epoch [400/10000], Train Loss: 5121.2031, Validation Loss: 1247.2321\n",
      "Epoch [500/10000], Train Loss: 4377.9850, Validation Loss: 1186.2618\n",
      "Epoch [600/10000], Train Loss: 3720.5254, Validation Loss: 1155.3550\n",
      "Epoch [700/10000], Train Loss: 3596.9562, Validation Loss: 1138.9622\n",
      "Epoch [800/10000], Train Loss: 3371.7487, Validation Loss: 1132.0455\n",
      "Epoch [900/10000], Train Loss: 3328.5815, Validation Loss: 1128.5500\n",
      "Epoch [1000/10000], Train Loss: 3351.2425, Validation Loss: 1126.7184\n",
      "Epoch [1100/10000], Train Loss: 3229.4846, Validation Loss: 1125.7679\n",
      "Epoch [1200/10000], Train Loss: 3369.2194, Validation Loss: 1124.3644\n",
      "Epoch [1300/10000], Train Loss: 3148.2477, Validation Loss: 1123.1295\n",
      "Epoch [1400/10000], Train Loss: 3336.1601, Validation Loss: 1122.1312\n",
      "Epoch [1500/10000], Train Loss: 3176.9786, Validation Loss: 1120.4697\n",
      "Epoch [1600/10000], Train Loss: 3318.7589, Validation Loss: 1119.4630\n",
      "Epoch [1700/10000], Train Loss: 3070.4268, Validation Loss: 1118.8573\n",
      "Epoch [1800/10000], Train Loss: 3249.1495, Validation Loss: 1119.1494\n",
      "Epoch [1900/10000], Train Loss: 3248.4895, Validation Loss: 1117.4852\n",
      "Epoch [2000/10000], Train Loss: 3140.3562, Validation Loss: 1117.3251\n",
      "Epoch [2100/10000], Train Loss: 3115.1631, Validation Loss: 1118.2260\n",
      "Epoch [2200/10000], Train Loss: 3190.9900, Validation Loss: 1117.4182\n",
      "Epoch [2300/10000], Train Loss: 3134.4443, Validation Loss: 1116.4468\n",
      "Epoch [2400/10000], Train Loss: 3069.6031, Validation Loss: 1116.4790\n",
      "Epoch [2500/10000], Train Loss: 3065.9504, Validation Loss: 1116.0837\n",
      "Epoch [2600/10000], Train Loss: 3397.9048, Validation Loss: 1115.7524\n",
      "Epoch [2700/10000], Train Loss: 3160.1468, Validation Loss: 1116.8861\n",
      "Epoch [2800/10000], Train Loss: 3071.6626, Validation Loss: 1116.2759\n",
      "Epoch [2900/10000], Train Loss: 3137.3766, Validation Loss: 1116.3760\n",
      "Epoch [3000/10000], Train Loss: 2957.5497, Validation Loss: 1115.9663\n",
      "Epoch [3100/10000], Train Loss: 3044.2366, Validation Loss: 1115.5234\n",
      "Epoch [3200/10000], Train Loss: 3004.6132, Validation Loss: 1115.1472\n",
      "Epoch [3300/10000], Train Loss: 3059.4768, Validation Loss: 1114.6978\n",
      "Epoch [3400/10000], Train Loss: 3203.4131, Validation Loss: 1114.4869\n",
      "Epoch [3500/10000], Train Loss: 3217.8682, Validation Loss: 1114.2317\n",
      "Epoch [3600/10000], Train Loss: 3085.2175, Validation Loss: 1114.2279\n",
      "Epoch [3700/10000], Train Loss: 2919.3000, Validation Loss: 1114.7159\n",
      "Epoch [3800/10000], Train Loss: 2882.5845, Validation Loss: 1113.7067\n"
     ]
    },
    {
     "name": "stderr",
     "output_type": "stream",
     "text": [
      "[I 2024-02-06 21:11:57,871] Trial 20 finished with value: 1113.598876953125 and parameters: {'hidden_size': 3, 'num_layers': 3, 'lr': 0.0008069345253350693}. Best is trial 8 with value: 4.74732780456543.\n"
     ]
    },
    {
     "name": "stdout",
     "output_type": "stream",
     "text": [
      "Epoch [3818/10000], Train Loss: 3011.1574, Validation Loss: 1113.5989\n",
      "Early stopping triggered. Stopping training.\n"
     ]
    },
    {
     "name": "stderr",
     "output_type": "stream",
     "text": [
      "[I 2024-02-06 21:12:06,077] Trial 21 finished with value: 6480.986328125 and parameters: {'hidden_size': 15, 'num_layers': 13, 'lr': 0.04371265861784989}. Best is trial 8 with value: 4.74732780456543.\n"
     ]
    },
    {
     "name": "stdout",
     "output_type": "stream",
     "text": [
      "Epoch [100/10000], Train Loss: 52110.3203, Validation Loss: 6480.9863\n",
      "Epoch [101/10000], Train Loss: 57325.4355, Validation Loss: 6480.9863\n",
      "Early stopping triggered. Stopping training.\n",
      "Epoch [100/10000], Train Loss: 3391.7290, Validation Loss: 1130.8899\n",
      "Epoch [200/10000], Train Loss: 3351.9796, Validation Loss: 1128.9603\n",
      "Epoch [300/10000], Train Loss: 109.8079, Validation Loss: 12.4393\n",
      "Epoch [400/10000], Train Loss: 74.8189, Validation Loss: 10.2899\n",
      "Epoch [500/10000], Train Loss: 54.7957, Validation Loss: 7.9047\n",
      "Epoch [600/10000], Train Loss: 136.5872, Validation Loss: 16.5288\n",
      "Epoch [700/10000], Train Loss: 35.5995, Validation Loss: 7.5694\n",
      "Epoch [800/10000], Train Loss: 32.3277, Validation Loss: 5.8444\n",
      "Epoch [900/10000], Train Loss: 35.6439, Validation Loss: 5.6419\n"
     ]
    },
    {
     "name": "stderr",
     "output_type": "stream",
     "text": [
      "[I 2024-02-06 21:13:00,288] Trial 22 finished with value: 4.943982124328613 and parameters: {'hidden_size': 12, 'num_layers': 4, 'lr': 0.00788656679038934}. Best is trial 8 with value: 4.74732780456543.\n"
     ]
    },
    {
     "name": "stdout",
     "output_type": "stream",
     "text": [
      "Epoch [915/10000], Train Loss: 34.6409, Validation Loss: 4.9440\n",
      "Early stopping triggered. Stopping training.\n"
     ]
    },
    {
     "name": "stderr",
     "output_type": "stream",
     "text": [
      "[I 2024-02-06 21:13:05,676] Trial 23 finished with value: 6480.986328125 and parameters: {'hidden_size': 12, 'num_layers': 4, 'lr': 0.009413560082028266}. Best is trial 8 with value: 4.74732780456543.\n"
     ]
    },
    {
     "name": "stdout",
     "output_type": "stream",
     "text": [
      "Epoch [100/10000], Train Loss: 54136.1670, Validation Loss: 6480.9863\n",
      "Epoch [103/10000], Train Loss: 52941.6904, Validation Loss: 6480.9863\n",
      "Early stopping triggered. Stopping training.\n",
      "Epoch [100/10000], Train Loss: 269.5119, Validation Loss: 20.8981\n",
      "Epoch [200/10000], Train Loss: 107.5323, Validation Loss: 16.9393\n",
      "Epoch [300/10000], Train Loss: 87.6428, Validation Loss: 13.6994\n",
      "Epoch [400/10000], Train Loss: 75.9626, Validation Loss: 13.3476\n",
      "Epoch [500/10000], Train Loss: 304.1411, Validation Loss: 36.1473\n",
      "Epoch [600/10000], Train Loss: 71.2025, Validation Loss: 9.8490\n",
      "Epoch [700/10000], Train Loss: 59.3316, Validation Loss: 9.7860\n",
      "Epoch [800/10000], Train Loss: 133.6567, Validation Loss: 23.8779\n",
      "Epoch [900/10000], Train Loss: 73.9944, Validation Loss: 9.4691\n",
      "Epoch [1000/10000], Train Loss: 49.2971, Validation Loss: 12.1549\n"
     ]
    },
    {
     "name": "stderr",
     "output_type": "stream",
     "text": [
      "[I 2024-02-06 21:14:23,746] Trial 24 finished with value: 13.688482284545898 and parameters: {'hidden_size': 15, 'num_layers': 12, 'lr': 0.007574203071718323}. Best is trial 8 with value: 4.74732780456543.\n"
     ]
    },
    {
     "name": "stdout",
     "output_type": "stream",
     "text": [
      "Epoch [1038/10000], Train Loss: 131.9918, Validation Loss: 13.6885\n",
      "Early stopping triggered. Stopping training.\n"
     ]
    },
    {
     "name": "stderr",
     "output_type": "stream",
     "text": [
      "[I 2024-02-06 21:14:31,153] Trial 25 finished with value: 6480.986328125 and parameters: {'hidden_size': 12, 'num_layers': 13, 'lr': 0.031855332196921785}. Best is trial 8 with value: 4.74732780456543.\n"
     ]
    },
    {
     "name": "stdout",
     "output_type": "stream",
     "text": [
      "Epoch [100/10000], Train Loss: 57769.8115, Validation Loss: 6480.9863\n",
      "Epoch [101/10000], Train Loss: 56378.5867, Validation Loss: 6480.9863\n",
      "Early stopping triggered. Stopping training.\n",
      "Epoch [100/10000], Train Loss: 4290.3792, Validation Loss: 1233.2806\n",
      "Epoch [200/10000], Train Loss: 3567.9940, Validation Loss: 1154.1078\n",
      "Epoch [300/10000], Train Loss: 3451.4094, Validation Loss: 1134.3794\n",
      "Epoch [400/10000], Train Loss: 3218.5629, Validation Loss: 1124.0482\n",
      "Epoch [500/10000], Train Loss: 3170.2542, Validation Loss: 1121.6980\n"
     ]
    },
    {
     "name": "stderr",
     "output_type": "stream",
     "text": [
      "[I 2024-02-06 21:14:59,269] Trial 26 finished with value: 1122.2423095703125 and parameters: {'hidden_size': 20, 'num_layers': 3, 'lr': 0.001096551917048533}. Best is trial 8 with value: 4.74732780456543.\n"
     ]
    },
    {
     "name": "stdout",
     "output_type": "stream",
     "text": [
      "Epoch [553/10000], Train Loss: 3304.1869, Validation Loss: 1122.2423\n",
      "Early stopping triggered. Stopping training.\n",
      "Epoch [100/10000], Train Loss: 3573.4456, Validation Loss: 1125.5183\n",
      "Epoch [200/10000], Train Loss: 3492.8138, Validation Loss: 1118.5338\n",
      "Epoch [300/10000], Train Loss: 3251.5076, Validation Loss: 1116.7360\n"
     ]
    },
    {
     "name": "stderr",
     "output_type": "stream",
     "text": [
      "[I 2024-02-06 21:15:20,209] Trial 27 finished with value: 1117.2850341796875 and parameters: {'hidden_size': 3, 'num_layers': 9, 'lr': 0.01828225922599783}. Best is trial 8 with value: 4.74732780456543.\n"
     ]
    },
    {
     "name": "stdout",
     "output_type": "stream",
     "text": [
      "Epoch [303/10000], Train Loss: 3141.7583, Validation Loss: 1117.2850\n",
      "Early stopping triggered. Stopping training.\n",
      "Epoch [100/10000], Train Loss: 16798.9393, Validation Loss: 2505.3467\n"
     ]
    },
    {
     "name": "stderr",
     "output_type": "stream",
     "text": [
      "[I 2024-02-06 21:15:29,424] Trial 28 finished with value: 2494.07373046875 and parameters: {'hidden_size': 6, 'num_layers': 1, 'lr': 0.005709475252770952}. Best is trial 8 with value: 4.74732780456543.\n"
     ]
    },
    {
     "name": "stdout",
     "output_type": "stream",
     "text": [
      "Epoch [174/10000], Train Loss: 17212.6349, Validation Loss: 2494.0737\n",
      "Early stopping triggered. Stopping training.\n",
      "Epoch [100/10000], Train Loss: 53522.5889, Validation Loss: 6480.9863\n"
     ]
    },
    {
     "name": "stderr",
     "output_type": "stream",
     "text": [
      "[I 2024-02-06 21:15:37,508] Trial 29 finished with value: 6480.986328125 and parameters: {'hidden_size': 20, 'num_layers': 6, 'lr': 0.014134356314848611}. Best is trial 8 with value: 4.74732780456543.\n"
     ]
    },
    {
     "name": "stdout",
     "output_type": "stream",
     "text": [
      "Epoch [109/10000], Train Loss: 52807.4819, Validation Loss: 6480.9863\n",
      "Early stopping triggered. Stopping training.\n",
      "Epoch [100/10000], Train Loss: 3499.0373, Validation Loss: 1134.8857\n",
      "Epoch [200/10000], Train Loss: 259.3993, Validation Loss: 29.8629\n",
      "Epoch [300/10000], Train Loss: 180.5432, Validation Loss: 24.6400\n",
      "Epoch [400/10000], Train Loss: 95.7746, Validation Loss: 11.1108\n",
      "Epoch [500/10000], Train Loss: 85.8888, Validation Loss: 17.6878\n",
      "Epoch [600/10000], Train Loss: 68.5700, Validation Loss: 7.9049\n",
      "Epoch [700/10000], Train Loss: 57.3755, Validation Loss: 6.9853\n",
      "Epoch [800/10000], Train Loss: 40.4800, Validation Loss: 7.3756\n",
      "Epoch [900/10000], Train Loss: 39.7872, Validation Loss: 9.0614\n",
      "Epoch [1000/10000], Train Loss: 41.2793, Validation Loss: 7.3904\n",
      "Epoch [1100/10000], Train Loss: 45.7034, Validation Loss: 5.9005\n",
      "Epoch [1200/10000], Train Loss: 30.2351, Validation Loss: 5.7979\n",
      "Epoch [1300/10000], Train Loss: 50.0830, Validation Loss: 6.1257\n",
      "Epoch [1400/10000], Train Loss: 38.5583, Validation Loss: 6.3026\n"
     ]
    },
    {
     "name": "stderr",
     "output_type": "stream",
     "text": [
      "[I 2024-02-06 21:17:17,081] Trial 30 finished with value: 10.081040382385254 and parameters: {'hidden_size': 15, 'num_layers': 7, 'lr': 0.002685839323617302}. Best is trial 8 with value: 4.74732780456543.\n"
     ]
    },
    {
     "name": "stdout",
     "output_type": "stream",
     "text": [
      "Epoch [1444/10000], Train Loss: 44.2550, Validation Loss: 10.0810\n",
      "Early stopping triggered. Stopping training.\n",
      "Epoch [100/10000], Train Loss: 3346.2767, Validation Loss: 1132.3445\n",
      "Epoch [200/10000], Train Loss: 3423.5162, Validation Loss: 1117.6438\n",
      "Epoch [300/10000], Train Loss: 247.0652, Validation Loss: 19.1364\n",
      "Epoch [400/10000], Train Loss: 178.0998, Validation Loss: 18.1826\n",
      "Epoch [500/10000], Train Loss: 181.4305, Validation Loss: 15.6654\n",
      "Epoch [600/10000], Train Loss: 72.9151, Validation Loss: 9.0195\n",
      "Epoch [700/10000], Train Loss: 66.3611, Validation Loss: 9.7367\n",
      "Epoch [800/10000], Train Loss: 57.2904, Validation Loss: 7.7028\n",
      "Epoch [900/10000], Train Loss: 74.3388, Validation Loss: 18.5643\n",
      "Epoch [1000/10000], Train Loss: 52.2697, Validation Loss: 6.9666\n",
      "Epoch [1100/10000], Train Loss: 53.7108, Validation Loss: 6.7992\n",
      "Epoch [1200/10000], Train Loss: 43.3515, Validation Loss: 5.8531\n",
      "Epoch [1300/10000], Train Loss: 36.2380, Validation Loss: 6.1016\n",
      "Epoch [1400/10000], Train Loss: 41.0583, Validation Loss: 5.5758\n",
      "Epoch [1500/10000], Train Loss: 48.5641, Validation Loss: 6.8007\n",
      "Epoch [1600/10000], Train Loss: 41.4042, Validation Loss: 7.1377\n",
      "Epoch [1700/10000], Train Loss: 42.7979, Validation Loss: 5.8706\n",
      "Epoch [1800/10000], Train Loss: 34.8524, Validation Loss: 5.3239\n",
      "Epoch [1900/10000], Train Loss: 82.2657, Validation Loss: 21.7339\n"
     ]
    },
    {
     "name": "stderr",
     "output_type": "stream",
     "text": [
      "[I 2024-02-06 21:19:33,186] Trial 31 finished with value: 6.042514324188232 and parameters: {'hidden_size': 15, 'num_layers': 7, 'lr': 0.0015117624275587569}. Best is trial 8 with value: 4.74732780456543.\n"
     ]
    },
    {
     "name": "stdout",
     "output_type": "stream",
     "text": [
      "Epoch [1992/10000], Train Loss: 41.2304, Validation Loss: 6.0425\n",
      "Early stopping triggered. Stopping training.\n",
      "Epoch [100/10000], Train Loss: 4215.0384, Validation Loss: 1203.6169\n",
      "Epoch [200/10000], Train Loss: 3475.6952, Validation Loss: 1127.6565\n",
      "Epoch [300/10000], Train Loss: 3307.5874, Validation Loss: 1118.9553\n",
      "Epoch [400/10000], Train Loss: 3260.0850, Validation Loss: 1118.1324\n",
      "Epoch [500/10000], Train Loss: 3187.6330, Validation Loss: 1115.2921\n",
      "Epoch [600/10000], Train Loss: 2936.8332, Validation Loss: 1115.1576\n",
      "Epoch [700/10000], Train Loss: 2952.7772, Validation Loss: 1113.5610\n",
      "Epoch [800/10000], Train Loss: 3024.4549, Validation Loss: 1111.9091\n",
      "Epoch [900/10000], Train Loss: 2953.7237, Validation Loss: 1112.0872\n",
      "Epoch [1000/10000], Train Loss: 3243.7406, Validation Loss: 1112.8077\n",
      "Epoch [1100/10000], Train Loss: 2894.2823, Validation Loss: 1112.1882\n"
     ]
    },
    {
     "name": "stderr",
     "output_type": "stream",
     "text": [
      "[I 2024-02-06 21:20:51,328] Trial 32 finished with value: 1111.173095703125 and parameters: {'hidden_size': 15, 'num_layers': 7, 'lr': 0.0014238908657858843}. Best is trial 8 with value: 4.74732780456543.\n"
     ]
    },
    {
     "name": "stdout",
     "output_type": "stream",
     "text": [
      "Epoch [1168/10000], Train Loss: 3037.4785, Validation Loss: 1111.1731\n",
      "Early stopping triggered. Stopping training.\n",
      "Epoch [100/10000], Train Loss: 13749.3660, Validation Loss: 1933.4008\n",
      "Epoch [200/10000], Train Loss: 4017.4434, Validation Loss: 1172.1281\n",
      "Epoch [300/10000], Train Loss: 3534.2701, Validation Loss: 1139.0183\n",
      "Epoch [400/10000], Train Loss: 3265.1780, Validation Loss: 1124.2092\n",
      "Epoch [500/10000], Train Loss: 3432.5585, Validation Loss: 1119.4949\n",
      "Epoch [600/10000], Train Loss: 3300.1707, Validation Loss: 1117.2290\n",
      "Epoch [700/10000], Train Loss: 3333.9026, Validation Loss: 1114.2515\n",
      "Epoch [800/10000], Train Loss: 152.9344, Validation Loss: 20.7600\n",
      "Epoch [900/10000], Train Loss: 89.8072, Validation Loss: 14.2232\n",
      "Epoch [1000/10000], Train Loss: 71.8406, Validation Loss: 10.7620\n",
      "Epoch [1100/10000], Train Loss: 58.9598, Validation Loss: 11.1368\n",
      "Epoch [1200/10000], Train Loss: 54.9696, Validation Loss: 8.6380\n",
      "Epoch [1300/10000], Train Loss: 53.3433, Validation Loss: 7.7623\n",
      "Epoch [1400/10000], Train Loss: 43.3580, Validation Loss: 7.6440\n",
      "Epoch [1500/10000], Train Loss: 40.0911, Validation Loss: 8.7630\n",
      "Epoch [1600/10000], Train Loss: 36.7799, Validation Loss: 6.2357\n",
      "Epoch [1700/10000], Train Loss: 34.1376, Validation Loss: 5.6852\n",
      "Epoch [1800/10000], Train Loss: 33.4516, Validation Loss: 5.5314\n",
      "Epoch [1900/10000], Train Loss: 33.0867, Validation Loss: 5.6517\n",
      "Epoch [2000/10000], Train Loss: 48.0547, Validation Loss: 5.1867\n",
      "Epoch [2100/10000], Train Loss: 47.3674, Validation Loss: 5.6803\n",
      "Epoch [2200/10000], Train Loss: 30.3540, Validation Loss: 5.0276\n"
     ]
    },
    {
     "name": "stderr",
     "output_type": "stream",
     "text": [
      "[I 2024-02-06 21:23:30,085] Trial 33 finished with value: 6.142747402191162 and parameters: {'hidden_size': 15, 'num_layers': 7, 'lr': 0.000570993984390335}. Best is trial 8 with value: 4.74732780456543.\n"
     ]
    },
    {
     "name": "stdout",
     "output_type": "stream",
     "text": [
      "Epoch [2282/10000], Train Loss: 30.9091, Validation Loss: 6.1427\n",
      "Early stopping triggered. Stopping training.\n",
      "Epoch [100/10000], Train Loss: 4447.6089, Validation Loss: 1217.7812\n",
      "Epoch [200/10000], Train Loss: 3878.1381, Validation Loss: 1146.9158\n",
      "Epoch [300/10000], Train Loss: 3495.9460, Validation Loss: 1121.1073\n",
      "Epoch [400/10000], Train Loss: 3168.1043, Validation Loss: 1114.4957\n",
      "Epoch [500/10000], Train Loss: 1830.0197, Validation Loss: 560.8034\n",
      "Epoch [600/10000], Train Loss: 150.9038, Validation Loss: 20.9888\n",
      "Epoch [700/10000], Train Loss: 91.9774, Validation Loss: 14.2739\n",
      "Epoch [800/10000], Train Loss: 63.9772, Validation Loss: 10.9292\n",
      "Epoch [900/10000], Train Loss: 58.5837, Validation Loss: 10.6653\n",
      "Epoch [1000/10000], Train Loss: 63.5709, Validation Loss: 9.0211\n",
      "Epoch [1100/10000], Train Loss: 42.7663, Validation Loss: 8.7103\n",
      "Epoch [1200/10000], Train Loss: 46.0472, Validation Loss: 6.9181\n",
      "Epoch [1300/10000], Train Loss: 40.5511, Validation Loss: 7.1302\n",
      "Epoch [1400/10000], Train Loss: 35.1545, Validation Loss: 7.4323\n",
      "Epoch [1500/10000], Train Loss: 57.6852, Validation Loss: 6.9984\n",
      "Epoch [1600/10000], Train Loss: 29.9458, Validation Loss: 6.8972\n",
      "Epoch [1700/10000], Train Loss: 34.4830, Validation Loss: 7.7995\n",
      "Epoch [1800/10000], Train Loss: 29.1594, Validation Loss: 5.5584\n",
      "Epoch [1900/10000], Train Loss: 25.5451, Validation Loss: 5.0375\n",
      "Epoch [2000/10000], Train Loss: 26.1869, Validation Loss: 5.1620\n",
      "Epoch [2100/10000], Train Loss: 23.2291, Validation Loss: 4.6420\n",
      "Epoch [2200/10000], Train Loss: 29.1028, Validation Loss: 5.2495\n",
      "Epoch [2300/10000], Train Loss: 22.3159, Validation Loss: 4.6333\n",
      "Epoch [2400/10000], Train Loss: 20.8090, Validation Loss: 4.5210\n",
      "Epoch [2500/10000], Train Loss: 33.7505, Validation Loss: 4.7197\n",
      "Epoch [2600/10000], Train Loss: 23.1665, Validation Loss: 5.0224\n"
     ]
    },
    {
     "name": "stderr",
     "output_type": "stream",
     "text": [
      "[I 2024-02-06 21:26:29,692] Trial 34 finished with value: 4.33860969543457 and parameters: {'hidden_size': 12, 'num_layers': 7, 'lr': 0.0009962436468671522}. Best is trial 34 with value: 4.33860969543457.\n"
     ]
    },
    {
     "name": "stdout",
     "output_type": "stream",
     "text": [
      "Epoch [2682/10000], Train Loss: 23.5647, Validation Loss: 4.3386\n",
      "Early stopping triggered. Stopping training.\n",
      "Epoch [100/10000], Train Loss: 14374.5433, Validation Loss: 2121.3704\n",
      "Epoch [200/10000], Train Loss: 3645.1330, Validation Loss: 1144.4706\n",
      "Epoch [300/10000], Train Loss: 3398.6207, Validation Loss: 1126.2482\n",
      "Epoch [400/10000], Train Loss: 3334.2718, Validation Loss: 1119.4323\n",
      "Epoch [500/10000], Train Loss: 3182.1584, Validation Loss: 1117.0673\n",
      "Epoch [600/10000], Train Loss: 3046.2704, Validation Loss: 1114.6340\n",
      "Epoch [700/10000], Train Loss: 2614.8947, Validation Loss: 937.5213\n",
      "Epoch [800/10000], Train Loss: 531.7431, Validation Loss: 138.3666\n",
      "Epoch [900/10000], Train Loss: 157.4977, Validation Loss: 23.0725\n",
      "Epoch [1000/10000], Train Loss: 101.7806, Validation Loss: 14.4298\n",
      "Epoch [1100/10000], Train Loss: 83.6557, Validation Loss: 11.4837\n",
      "Epoch [1200/10000], Train Loss: 63.3581, Validation Loss: 9.6705\n",
      "Epoch [1300/10000], Train Loss: 53.8251, Validation Loss: 9.0061\n",
      "Epoch [1400/10000], Train Loss: 53.7469, Validation Loss: 7.5268\n",
      "Epoch [1500/10000], Train Loss: 43.2533, Validation Loss: 7.5183\n",
      "Epoch [1600/10000], Train Loss: 42.1185, Validation Loss: 6.7753\n",
      "Epoch [1700/10000], Train Loss: 45.9603, Validation Loss: 8.4894\n",
      "Epoch [1800/10000], Train Loss: 37.4842, Validation Loss: 7.2577\n",
      "Epoch [1900/10000], Train Loss: 39.4635, Validation Loss: 6.2903\n",
      "Epoch [2000/10000], Train Loss: 32.9752, Validation Loss: 5.8522\n",
      "Epoch [2100/10000], Train Loss: 29.4343, Validation Loss: 5.3443\n",
      "Epoch [2200/10000], Train Loss: 30.0176, Validation Loss: 5.0789\n",
      "Epoch [2300/10000], Train Loss: 32.8491, Validation Loss: 6.4026\n",
      "Epoch [2400/10000], Train Loss: 30.8952, Validation Loss: 5.6747\n",
      "Epoch [2500/10000], Train Loss: 32.5207, Validation Loss: 4.7458\n",
      "Epoch [2600/10000], Train Loss: 27.5958, Validation Loss: 4.9452\n",
      "Epoch [2700/10000], Train Loss: 24.1629, Validation Loss: 4.8695\n",
      "Epoch [2800/10000], Train Loss: 36.8789, Validation Loss: 4.6453\n",
      "Epoch [2900/10000], Train Loss: 42.5383, Validation Loss: 4.4990\n",
      "Epoch [3000/10000], Train Loss: 31.2369, Validation Loss: 4.4862\n",
      "Epoch [3100/10000], Train Loss: 25.2317, Validation Loss: 4.5857\n",
      "Epoch [3200/10000], Train Loss: 43.7560, Validation Loss: 4.3614\n",
      "Epoch [3300/10000], Train Loss: 25.1469, Validation Loss: 4.4561\n",
      "Epoch [3400/10000], Train Loss: 25.7583, Validation Loss: 5.7768\n",
      "Epoch [3500/10000], Train Loss: 20.4311, Validation Loss: 4.1844\n",
      "Epoch [3600/10000], Train Loss: 20.3305, Validation Loss: 4.2162\n",
      "Epoch [3700/10000], Train Loss: 28.1210, Validation Loss: 4.3773\n",
      "Epoch [3800/10000], Train Loss: 22.4952, Validation Loss: 4.4015\n",
      "Epoch [3900/10000], Train Loss: 22.4097, Validation Loss: 4.6005\n"
     ]
    },
    {
     "name": "stderr",
     "output_type": "stream",
     "text": [
      "[I 2024-02-06 21:30:53,130] Trial 35 finished with value: 4.019588947296143 and parameters: {'hidden_size': 12, 'num_layers': 7, 'lr': 0.0004716051456845365}. Best is trial 35 with value: 4.019588947296143.\n"
     ]
    },
    {
     "name": "stdout",
     "output_type": "stream",
     "text": [
      "Epoch [3947/10000], Train Loss: 25.2263, Validation Loss: 4.0196\n",
      "Early stopping triggered. Stopping training.\n",
      "Epoch [100/10000], Train Loss: 28715.9294, Validation Loss: 3640.4414\n",
      "Epoch [200/10000], Train Loss: 6291.4978, Validation Loss: 1385.2197\n",
      "Epoch [300/10000], Train Loss: 4418.1739, Validation Loss: 1199.9457\n",
      "Epoch [400/10000], Train Loss: 3501.8610, Validation Loss: 1149.4099\n",
      "Epoch [500/10000], Train Loss: 3111.2358, Validation Loss: 1128.0015\n",
      "Epoch [600/10000], Train Loss: 3263.6463, Validation Loss: 1121.2615\n",
      "Epoch [700/10000], Train Loss: 3143.2176, Validation Loss: 1119.8406\n",
      "Epoch [800/10000], Train Loss: 3111.9170, Validation Loss: 1119.1404\n",
      "Epoch [900/10000], Train Loss: 3204.5663, Validation Loss: 1118.4827\n",
      "Epoch [1000/10000], Train Loss: 3281.8422, Validation Loss: 1117.7883\n",
      "Epoch [1100/10000], Train Loss: 3226.4090, Validation Loss: 1116.0189\n",
      "Epoch [1200/10000], Train Loss: 3019.9539, Validation Loss: 1114.9893\n",
      "Epoch [1300/10000], Train Loss: 3065.5618, Validation Loss: 1114.4618\n",
      "Epoch [1400/10000], Train Loss: 2891.5268, Validation Loss: 1114.0353\n",
      "Epoch [1500/10000], Train Loss: 3146.4738, Validation Loss: 1113.7609\n",
      "Epoch [1600/10000], Train Loss: 3060.4143, Validation Loss: 1113.5933\n",
      "Epoch [1700/10000], Train Loss: 2918.0643, Validation Loss: 1113.0886\n",
      "Epoch [1800/10000], Train Loss: 2834.4368, Validation Loss: 1113.2324\n",
      "Epoch [1900/10000], Train Loss: 3170.5675, Validation Loss: 1112.9241\n",
      "Epoch [2000/10000], Train Loss: 2938.0878, Validation Loss: 1112.5485\n",
      "Epoch [2100/10000], Train Loss: 2835.8612, Validation Loss: 1112.5956\n"
     ]
    },
    {
     "name": "stderr",
     "output_type": "stream",
     "text": [
      "[I 2024-02-06 21:32:57,639] Trial 36 finished with value: 1113.0849609375 and parameters: {'hidden_size': 12, 'num_layers': 5, 'lr': 0.00036754199431526775}. Best is trial 35 with value: 4.019588947296143.\n"
     ]
    },
    {
     "name": "stdout",
     "output_type": "stream",
     "text": [
      "Epoch [2177/10000], Train Loss: 2931.9531, Validation Loss: 1113.0850\n",
      "Early stopping triggered. Stopping training.\n",
      "Epoch [100/10000], Train Loss: 37356.1499, Validation Loss: 4694.2017\n",
      "Epoch [200/10000], Train Loss: 31303.7183, Validation Loss: 3931.9250\n",
      "Epoch [300/10000], Train Loss: 24920.4731, Validation Loss: 3413.8623\n",
      "Epoch [400/10000], Train Loss: 22988.3589, Validation Loss: 2925.4138\n",
      "Epoch [500/10000], Train Loss: 21652.9019, Validation Loss: 2615.8066\n",
      "Epoch [600/10000], Train Loss: 20444.0032, Validation Loss: 2435.0918\n",
      "Epoch [700/10000], Train Loss: 20797.4333, Validation Loss: 2317.4817\n",
      "Epoch [800/10000], Train Loss: 18824.5073, Validation Loss: 2271.6187\n",
      "Epoch [900/10000], Train Loss: 19301.0149, Validation Loss: 2209.3716\n",
      "Epoch [1000/10000], Train Loss: 16595.1860, Validation Loss: 2126.0422\n",
      "Epoch [1100/10000], Train Loss: 15426.9473, Validation Loss: 2035.5155\n",
      "Epoch [1200/10000], Train Loss: 13626.2369, Validation Loss: 1941.2832\n",
      "Epoch [1300/10000], Train Loss: 10710.3080, Validation Loss: 1812.8654\n",
      "Epoch [1400/10000], Train Loss: 7818.8469, Validation Loss: 1614.1909\n",
      "Epoch [1500/10000], Train Loss: 5913.9061, Validation Loss: 1460.7450\n",
      "Epoch [1600/10000], Train Loss: 5053.5035, Validation Loss: 1346.9858\n",
      "Epoch [1700/10000], Train Loss: 4731.6665, Validation Loss: 1269.4376\n",
      "Epoch [1800/10000], Train Loss: 4287.8109, Validation Loss: 1222.7711\n",
      "Epoch [1900/10000], Train Loss: 4143.8911, Validation Loss: 1188.9832\n",
      "Epoch [2000/10000], Train Loss: 3905.7505, Validation Loss: 1165.4100\n",
      "Epoch [2100/10000], Train Loss: 3615.3240, Validation Loss: 1151.7502\n",
      "Epoch [2200/10000], Train Loss: 3336.2887, Validation Loss: 1141.0579\n",
      "Epoch [2300/10000], Train Loss: 3240.1952, Validation Loss: 1132.6372\n",
      "Epoch [2400/10000], Train Loss: 3551.9878, Validation Loss: 1127.0485\n",
      "Epoch [2500/10000], Train Loss: 3726.8299, Validation Loss: 1122.9365\n",
      "Epoch [2600/10000], Train Loss: 3337.3669, Validation Loss: 1119.3890\n",
      "Epoch [2700/10000], Train Loss: 3368.7957, Validation Loss: 1116.9246\n",
      "Epoch [2800/10000], Train Loss: 3653.6777, Validation Loss: 1115.3834\n",
      "Epoch [2900/10000], Train Loss: 3145.9844, Validation Loss: 1114.5328\n",
      "Epoch [3000/10000], Train Loss: 3205.1526, Validation Loss: 1114.1648\n",
      "Epoch [3100/10000], Train Loss: 3363.0503, Validation Loss: 1113.9298\n",
      "Epoch [3200/10000], Train Loss: 3194.6591, Validation Loss: 1113.8817\n",
      "Epoch [3300/10000], Train Loss: 3256.0284, Validation Loss: 1114.1083\n"
     ]
    },
    {
     "name": "stderr",
     "output_type": "stream",
     "text": [
      "[I 2024-02-06 21:36:40,756] Trial 37 finished with value: 1114.116455078125 and parameters: {'hidden_size': 12, 'num_layers': 7, 'lr': 0.00013874479707629508}. Best is trial 35 with value: 4.019588947296143.\n"
     ]
    },
    {
     "name": "stdout",
     "output_type": "stream",
     "text": [
      "Epoch [3316/10000], Train Loss: 3087.6242, Validation Loss: 1114.1165\n",
      "Early stopping triggered. Stopping training.\n",
      "Epoch [100/10000], Train Loss: 30016.4802, Validation Loss: 3930.2861\n",
      "Epoch [200/10000], Train Loss: 27938.6978, Validation Loss: 3472.5720\n",
      "Epoch [300/10000], Train Loss: 15267.6750, Validation Loss: 2150.5020\n",
      "Epoch [400/10000], Train Loss: 7870.7886, Validation Loss: 1665.4803\n",
      "Epoch [500/10000], Train Loss: 5141.9713, Validation Loss: 1314.7815\n",
      "Epoch [600/10000], Train Loss: 4282.0845, Validation Loss: 1187.5374\n",
      "Epoch [700/10000], Train Loss: 3657.6991, Validation Loss: 1154.3453\n",
      "Epoch [800/10000], Train Loss: 3754.5729, Validation Loss: 1134.3654\n",
      "Epoch [900/10000], Train Loss: 3321.6201, Validation Loss: 1127.7794\n",
      "Epoch [1000/10000], Train Loss: 3057.5981, Validation Loss: 1125.5784\n",
      "Epoch [1100/10000], Train Loss: 3322.0972, Validation Loss: 1123.8726\n",
      "Epoch [1200/10000], Train Loss: 3172.4535, Validation Loss: 1122.2649\n",
      "Epoch [1300/10000], Train Loss: 3236.6237, Validation Loss: 1121.1935\n",
      "Epoch [1400/10000], Train Loss: 3366.9383, Validation Loss: 1120.5702\n",
      "Epoch [1500/10000], Train Loss: 3029.0136, Validation Loss: 1120.1520\n",
      "Epoch [1600/10000], Train Loss: 3035.7226, Validation Loss: 1118.9193\n",
      "Epoch [1700/10000], Train Loss: 3321.3273, Validation Loss: 1118.2786\n",
      "Epoch [1800/10000], Train Loss: 3315.0363, Validation Loss: 1117.7778\n",
      "Epoch [1900/10000], Train Loss: 2838.8680, Validation Loss: 1117.3185\n",
      "Epoch [2000/10000], Train Loss: 3157.3163, Validation Loss: 1116.7052\n",
      "Epoch [2100/10000], Train Loss: 3265.2626, Validation Loss: 1116.5002\n",
      "Epoch [2200/10000], Train Loss: 2946.9792, Validation Loss: 1115.7419\n",
      "Epoch [2300/10000], Train Loss: 3019.3242, Validation Loss: 1115.3030\n",
      "Epoch [2400/10000], Train Loss: 3129.0671, Validation Loss: 1115.2694\n",
      "Epoch [2500/10000], Train Loss: 3234.8206, Validation Loss: 1115.4205\n",
      "Epoch [2600/10000], Train Loss: 3018.2650, Validation Loss: 1115.3491\n",
      "Epoch [2700/10000], Train Loss: 3022.9922, Validation Loss: 1114.5013\n",
      "Epoch [2800/10000], Train Loss: 3097.1746, Validation Loss: 1114.3102\n"
     ]
    },
    {
     "name": "stderr",
     "output_type": "stream",
     "text": [
      "[I 2024-02-06 21:40:03,320] Trial 38 finished with value: 1114.695556640625 and parameters: {'hidden_size': 12, 'num_layers': 11, 'lr': 0.00017349236873129333}. Best is trial 35 with value: 4.019588947296143.\n"
     ]
    },
    {
     "name": "stdout",
     "output_type": "stream",
     "text": [
      "Epoch [2831/10000], Train Loss: 3281.0252, Validation Loss: 1114.6956\n",
      "Early stopping triggered. Stopping training.\n",
      "Epoch [100/10000], Train Loss: 22764.4619, Validation Loss: 2717.9302\n",
      "Epoch [200/10000], Train Loss: 5190.1730, Validation Loss: 1335.2294\n",
      "Epoch [300/10000], Train Loss: 4078.1960, Validation Loss: 1238.8895\n",
      "Epoch [400/10000], Train Loss: 3720.4991, Validation Loss: 1165.6735\n",
      "Epoch [500/10000], Train Loss: 3297.6710, Validation Loss: 1144.4746\n",
      "Epoch [600/10000], Train Loss: 3360.5053, Validation Loss: 1140.2601\n",
      "Epoch [700/10000], Train Loss: 3170.0461, Validation Loss: 1136.7166\n",
      "Epoch [800/10000], Train Loss: 3236.2227, Validation Loss: 1133.1338\n",
      "Epoch [900/10000], Train Loss: 3317.3067, Validation Loss: 1131.2856\n",
      "Epoch [1000/10000], Train Loss: 3065.1181, Validation Loss: 1131.6605\n",
      "Epoch [1100/10000], Train Loss: 3142.1633, Validation Loss: 1127.6465\n",
      "Epoch [1200/10000], Train Loss: 3065.6223, Validation Loss: 1127.5024\n",
      "Epoch [1300/10000], Train Loss: 3169.3227, Validation Loss: 1124.7448\n",
      "Epoch [1400/10000], Train Loss: 3324.2009, Validation Loss: 1122.4832\n",
      "Epoch [1500/10000], Train Loss: 3075.6550, Validation Loss: 1120.9342\n",
      "Epoch [1600/10000], Train Loss: 2984.4197, Validation Loss: 1118.5035\n",
      "Epoch [1700/10000], Train Loss: 2995.2331, Validation Loss: 1116.5854\n",
      "Epoch [1800/10000], Train Loss: 2972.2102, Validation Loss: 1116.0669\n",
      "Epoch [1900/10000], Train Loss: 3030.5075, Validation Loss: 1114.5521\n",
      "Epoch [2000/10000], Train Loss: 3115.6554, Validation Loss: 1114.2123\n",
      "Epoch [2100/10000], Train Loss: 3446.0465, Validation Loss: 1113.2349\n",
      "Epoch [2200/10000], Train Loss: 2921.4823, Validation Loss: 1113.0570\n"
     ]
    },
    {
     "name": "stderr",
     "output_type": "stream",
     "text": [
      "[I 2024-02-06 21:42:07,217] Trial 39 finished with value: 1112.549560546875 and parameters: {'hidden_size': 12, 'num_layers': 4, 'lr': 0.0006880630991137468}. Best is trial 35 with value: 4.019588947296143.\n"
     ]
    },
    {
     "name": "stdout",
     "output_type": "stream",
     "text": [
      "Epoch [2244/10000], Train Loss: 3105.4447, Validation Loss: 1112.5496\n",
      "Early stopping triggered. Stopping training.\n",
      "Epoch [100/10000], Train Loss: 48884.4990, Validation Loss: 6123.9692\n",
      "Epoch [200/10000], Train Loss: 31939.7073, Validation Loss: 4265.7212\n",
      "Epoch [300/10000], Train Loss: 32059.1658, Validation Loss: 3998.1536\n",
      "Epoch [400/10000], Train Loss: 29591.0537, Validation Loss: 3782.0728\n",
      "Epoch [500/10000], Train Loss: 28332.1552, Validation Loss: 3483.7913\n",
      "Epoch [600/10000], Train Loss: 25261.0659, Validation Loss: 3349.9504\n",
      "Epoch [700/10000], Train Loss: 25035.6353, Validation Loss: 3222.4075\n",
      "Epoch [800/10000], Train Loss: 24182.0522, Validation Loss: 3182.8357\n",
      "Epoch [900/10000], Train Loss: 24457.8489, Validation Loss: 3122.6975\n",
      "Epoch [1000/10000], Train Loss: 22811.6270, Validation Loss: 3078.9504\n",
      "Epoch [1100/10000], Train Loss: 22125.5500, Validation Loss: 2997.3247\n",
      "Epoch [1200/10000], Train Loss: 21841.7419, Validation Loss: 2967.6133\n",
      "Epoch [1300/10000], Train Loss: 21770.8635, Validation Loss: 2931.7749\n",
      "Epoch [1400/10000], Train Loss: 20286.3945, Validation Loss: 2889.6216\n",
      "Epoch [1500/10000], Train Loss: 20413.6921, Validation Loss: 2853.6562\n",
      "Epoch [1600/10000], Train Loss: 20171.9731, Validation Loss: 2823.0496\n",
      "Epoch [1700/10000], Train Loss: 20388.9132, Validation Loss: 2786.0566\n",
      "Epoch [1800/10000], Train Loss: 18558.4336, Validation Loss: 2760.5986\n",
      "Epoch [1900/10000], Train Loss: 18890.7549, Validation Loss: 2736.8445\n",
      "Epoch [2000/10000], Train Loss: 17514.0559, Validation Loss: 2710.1238\n",
      "Epoch [2100/10000], Train Loss: 18071.4297, Validation Loss: 2686.9482\n",
      "Epoch [2200/10000], Train Loss: 17384.4343, Validation Loss: 2654.8596\n",
      "Epoch [2300/10000], Train Loss: 16757.3979, Validation Loss: 2629.3225\n",
      "Epoch [2400/10000], Train Loss: 14734.0333, Validation Loss: 2599.3503\n",
      "Epoch [2500/10000], Train Loss: 12172.5029, Validation Loss: 1985.8734\n",
      "Epoch [2600/10000], Train Loss: 10149.7113, Validation Loss: 1811.9481\n",
      "Epoch [2700/10000], Train Loss: 8621.8718, Validation Loss: 1736.6975\n",
      "Epoch [2800/10000], Train Loss: 7587.2333, Validation Loss: 1738.3582\n",
      "Epoch [2900/10000], Train Loss: 6544.8920, Validation Loss: 1588.8405\n",
      "Epoch [3000/10000], Train Loss: 5630.0657, Validation Loss: 1465.0726\n",
      "Epoch [3100/10000], Train Loss: 5242.6007, Validation Loss: 1412.6611\n",
      "Epoch [3200/10000], Train Loss: 5182.6307, Validation Loss: 1357.6676\n",
      "Epoch [3300/10000], Train Loss: 4497.6568, Validation Loss: 1263.4146\n",
      "Epoch [3400/10000], Train Loss: 4233.5242, Validation Loss: 1232.0032\n",
      "Epoch [3500/10000], Train Loss: 4177.8006, Validation Loss: 1192.1027\n",
      "Epoch [3600/10000], Train Loss: 3878.4676, Validation Loss: 1179.6517\n",
      "Epoch [3700/10000], Train Loss: 3921.7170, Validation Loss: 1163.8422\n",
      "Epoch [3800/10000], Train Loss: 3785.1160, Validation Loss: 1159.1782\n",
      "Epoch [3900/10000], Train Loss: 3961.1043, Validation Loss: 1150.9133\n",
      "Epoch [4000/10000], Train Loss: 3787.3269, Validation Loss: 1147.6570\n",
      "Epoch [4100/10000], Train Loss: 3419.7474, Validation Loss: 1140.9247\n",
      "Epoch [4200/10000], Train Loss: 3533.0952, Validation Loss: 1136.7657\n",
      "Epoch [4300/10000], Train Loss: 3792.3728, Validation Loss: 1133.5293\n",
      "Epoch [4400/10000], Train Loss: 3529.1608, Validation Loss: 1132.4381\n",
      "Epoch [4500/10000], Train Loss: 3524.6436, Validation Loss: 1128.8668\n",
      "Epoch [4600/10000], Train Loss: 3679.2036, Validation Loss: 1127.4155\n",
      "Epoch [4700/10000], Train Loss: 3591.8903, Validation Loss: 1125.5758\n",
      "Epoch [4800/10000], Train Loss: 3387.4644, Validation Loss: 1123.8563\n",
      "Epoch [4900/10000], Train Loss: 3401.7986, Validation Loss: 1122.5914\n",
      "Epoch [5000/10000], Train Loss: 3438.3670, Validation Loss: 1120.4166\n",
      "Epoch [5100/10000], Train Loss: 3237.6404, Validation Loss: 1118.5488\n",
      "Epoch [5200/10000], Train Loss: 3406.9630, Validation Loss: 1118.5458\n",
      "Epoch [5300/10000], Train Loss: 3232.8798, Validation Loss: 1117.4801\n",
      "Epoch [5400/10000], Train Loss: 3515.8050, Validation Loss: 1117.1615\n",
      "Epoch [5500/10000], Train Loss: 3354.9735, Validation Loss: 1116.4005\n",
      "Epoch [5600/10000], Train Loss: 3205.7423, Validation Loss: 1115.4907\n",
      "Epoch [5700/10000], Train Loss: 3311.8493, Validation Loss: 1114.9968\n",
      "Epoch [5800/10000], Train Loss: 3290.2928, Validation Loss: 1114.3457\n",
      "Epoch [5900/10000], Train Loss: 3211.3726, Validation Loss: 1114.9154\n"
     ]
    },
    {
     "name": "stderr",
     "output_type": "stream",
     "text": [
      "[I 2024-02-06 21:47:49,850] Trial 40 finished with value: 1114.7103271484375 and parameters: {'hidden_size': 12, 'num_layers': 8, 'lr': 7.546708946815565e-05}. Best is trial 35 with value: 4.019588947296143.\n"
     ]
    },
    {
     "name": "stdout",
     "output_type": "stream",
     "text": [
      "Epoch [5969/10000], Train Loss: 3332.5759, Validation Loss: 1114.7103\n",
      "Early stopping triggered. Stopping training.\n",
      "Epoch [100/10000], Train Loss: 29760.5220, Validation Loss: 3680.0715\n",
      "Epoch [200/10000], Train Loss: 5611.5656, Validation Loss: 1356.7023\n",
      "Epoch [300/10000], Train Loss: 4297.4149, Validation Loss: 1160.5862\n",
      "Epoch [400/10000], Train Loss: 3355.0121, Validation Loss: 1126.6113\n",
      "Epoch [500/10000], Train Loss: 3602.3927, Validation Loss: 1118.7412\n",
      "Epoch [600/10000], Train Loss: 2986.7062, Validation Loss: 1117.9287\n",
      "Epoch [700/10000], Train Loss: 3150.3418, Validation Loss: 1116.6436\n",
      "Epoch [800/10000], Train Loss: 3210.6904, Validation Loss: 1115.7860\n",
      "Epoch [900/10000], Train Loss: 3008.3450, Validation Loss: 1116.1150\n",
      "Epoch [1000/10000], Train Loss: 3145.6418, Validation Loss: 1114.6199\n",
      "Epoch [1100/10000], Train Loss: 3156.2203, Validation Loss: 1114.8630\n",
      "Epoch [1200/10000], Train Loss: 3198.0617, Validation Loss: 1114.1348\n",
      "Epoch [1300/10000], Train Loss: 3112.3340, Validation Loss: 1114.1605\n",
      "Epoch [1400/10000], Train Loss: 3003.7393, Validation Loss: 1113.2936\n",
      "Epoch [1500/10000], Train Loss: 3140.9021, Validation Loss: 1113.5190\n",
      "Epoch [1600/10000], Train Loss: 3180.8193, Validation Loss: 1112.8685\n",
      "Epoch [1700/10000], Train Loss: 3133.7603, Validation Loss: 1112.6763\n",
      "Epoch [1800/10000], Train Loss: 3042.5180, Validation Loss: 1113.0726\n",
      "Epoch [1900/10000], Train Loss: 2909.4862, Validation Loss: 1113.5985\n",
      "Epoch [2000/10000], Train Loss: 2902.3708, Validation Loss: 1112.8781\n",
      "Epoch [2100/10000], Train Loss: 3052.4149, Validation Loss: 1112.4301\n",
      "Epoch [2200/10000], Train Loss: 2923.5527, Validation Loss: 1112.3324\n"
     ]
    },
    {
     "name": "stderr",
     "output_type": "stream",
     "text": [
      "[I 2024-02-06 21:50:10,067] Trial 41 finished with value: 1112.32861328125 and parameters: {'hidden_size': 12, 'num_layers': 7, 'lr': 0.0004782154771167697}. Best is trial 35 with value: 4.019588947296143.\n"
     ]
    },
    {
     "name": "stdout",
     "output_type": "stream",
     "text": [
      "Epoch [2276/10000], Train Loss: 2978.5912, Validation Loss: 1112.3286\n",
      "Early stopping triggered. Stopping training.\n",
      "Epoch [100/10000], Train Loss: 3983.8159, Validation Loss: 1155.2400\n",
      "Epoch [200/10000], Train Loss: 3579.8051, Validation Loss: 1123.3492\n",
      "Epoch [300/10000], Train Loss: 3358.9280, Validation Loss: 1118.8333\n",
      "Epoch [400/10000], Train Loss: 3367.9114, Validation Loss: 1117.2024\n",
      "Epoch [500/10000], Train Loss: 3108.8319, Validation Loss: 1117.8384\n",
      "Epoch [600/10000], Train Loss: 3130.8788, Validation Loss: 1114.7455\n",
      "Epoch [700/10000], Train Loss: 3251.8710, Validation Loss: 1117.4532\n",
      "Epoch [800/10000], Train Loss: 2926.2360, Validation Loss: 1113.6389\n",
      "Epoch [900/10000], Train Loss: 2883.7892, Validation Loss: 1115.1473\n",
      "Epoch [1000/10000], Train Loss: 3161.1977, Validation Loss: 1113.1921\n",
      "Epoch [1100/10000], Train Loss: 3079.2726, Validation Loss: 1125.0507\n",
      "Epoch [1200/10000], Train Loss: 3036.5141, Validation Loss: 1112.2434\n",
      "Epoch [1300/10000], Train Loss: 3178.6407, Validation Loss: 1112.1870\n",
      "Epoch [1400/10000], Train Loss: 3206.8717, Validation Loss: 1111.7633\n",
      "Epoch [1500/10000], Train Loss: 2905.8498, Validation Loss: 1113.7722\n"
     ]
    },
    {
     "name": "stderr",
     "output_type": "stream",
     "text": [
      "[I 2024-02-06 21:51:43,955] Trial 42 finished with value: 1111.7684326171875 and parameters: {'hidden_size': 12, 'num_layers': 7, 'lr': 0.0016476501986361553}. Best is trial 35 with value: 4.019588947296143.\n"
     ]
    },
    {
     "name": "stdout",
     "output_type": "stream",
     "text": [
      "Epoch [1595/10000], Train Loss: 2927.6320, Validation Loss: 1111.7684\n",
      "Early stopping triggered. Stopping training.\n",
      "Epoch [100/10000], Train Loss: 3174.2912, Validation Loss: 991.9440\n",
      "Epoch [200/10000], Train Loss: 195.3332, Validation Loss: 18.9799\n",
      "Epoch [300/10000], Train Loss: 119.7169, Validation Loss: 12.1037\n",
      "Epoch [400/10000], Train Loss: 107.6867, Validation Loss: 11.1420\n",
      "Epoch [500/10000], Train Loss: 87.8903, Validation Loss: 9.1644\n",
      "Epoch [600/10000], Train Loss: 107.3853, Validation Loss: 16.0034\n"
     ]
    },
    {
     "name": "stderr",
     "output_type": "stream",
     "text": [
      "[I 2024-02-06 21:52:24,262] Trial 43 finished with value: 14.601988792419434 and parameters: {'hidden_size': 9, 'num_layers': 7, 'lr': 0.004327403395992709}. Best is trial 35 with value: 4.019588947296143.\n"
     ]
    },
    {
     "name": "stdout",
     "output_type": "stream",
     "text": [
      "Epoch [681/10000], Train Loss: 111.2124, Validation Loss: 14.6020\n",
      "Early stopping triggered. Stopping training.\n",
      "Epoch [100/10000], Train Loss: 53173.7290, Validation Loss: 6441.4849\n",
      "Epoch [200/10000], Train Loss: 60251.7920, Validation Loss: 6344.1113\n",
      "Epoch [300/10000], Train Loss: 43091.2673, Validation Loss: 5576.0669\n",
      "Epoch [400/10000], Train Loss: 33295.3464, Validation Loss: 3865.5615\n",
      "Epoch [500/10000], Train Loss: 31838.6499, Validation Loss: 3619.1968\n",
      "Epoch [600/10000], Train Loss: 30942.4341, Validation Loss: 3490.5464\n",
      "Epoch [700/10000], Train Loss: 30595.0051, Validation Loss: 3375.4590\n",
      "Epoch [800/10000], Train Loss: 27183.2683, Validation Loss: 3290.0820\n",
      "Epoch [900/10000], Train Loss: 25078.6062, Validation Loss: 3194.2822\n",
      "Epoch [1000/10000], Train Loss: 24683.1921, Validation Loss: 2987.2356\n",
      "Epoch [1100/10000], Train Loss: 22064.0881, Validation Loss: 2755.8103\n",
      "Epoch [1200/10000], Train Loss: 20241.0327, Validation Loss: 2497.0601\n",
      "Epoch [1300/10000], Train Loss: 17881.6663, Validation Loss: 2246.6443\n",
      "Epoch [1400/10000], Train Loss: 9032.9674, Validation Loss: 1608.6941\n",
      "Epoch [1500/10000], Train Loss: 5824.0958, Validation Loss: 1308.3879\n",
      "Epoch [1600/10000], Train Loss: 5579.0507, Validation Loss: 1249.7914\n",
      "Epoch [1700/10000], Train Loss: 4903.8773, Validation Loss: 1228.6499\n",
      "Epoch [1800/10000], Train Loss: 4987.3163, Validation Loss: 1212.6824\n",
      "Epoch [1900/10000], Train Loss: 4379.1567, Validation Loss: 1197.4141\n",
      "Epoch [2000/10000], Train Loss: 4490.8258, Validation Loss: 1183.8744\n",
      "Epoch [2100/10000], Train Loss: 4267.2465, Validation Loss: 1171.9324\n",
      "Epoch [2200/10000], Train Loss: 4059.9570, Validation Loss: 1161.5695\n",
      "Epoch [2300/10000], Train Loss: 4000.2348, Validation Loss: 1151.8278\n",
      "Epoch [2400/10000], Train Loss: 3684.1865, Validation Loss: 1143.7189\n",
      "Epoch [2500/10000], Train Loss: 3494.6401, Validation Loss: 1137.5530\n",
      "Epoch [2600/10000], Train Loss: 3678.2595, Validation Loss: 1132.2549\n",
      "Epoch [2700/10000], Train Loss: 3636.0435, Validation Loss: 1129.5865\n",
      "Epoch [2800/10000], Train Loss: 3411.2041, Validation Loss: 1128.3612\n",
      "Epoch [2900/10000], Train Loss: 3684.2205, Validation Loss: 1127.7134\n",
      "Epoch [3000/10000], Train Loss: 3513.8053, Validation Loss: 1127.3048\n",
      "Epoch [3100/10000], Train Loss: 3576.2570, Validation Loss: 1127.3181\n"
     ]
    },
    {
     "name": "stderr",
     "output_type": "stream",
     "text": [
      "[I 2024-02-06 21:54:59,971] Trial 44 finished with value: 1127.06103515625 and parameters: {'hidden_size': 3, 'num_layers': 2, 'lr': 0.000327158770453906}. Best is trial 35 with value: 4.019588947296143.\n"
     ]
    },
    {
     "name": "stdout",
     "output_type": "stream",
     "text": [
      "Epoch [3139/10000], Train Loss: 3459.5045, Validation Loss: 1127.0610\n",
      "Early stopping triggered. Stopping training.\n",
      "Epoch [100/10000], Train Loss: 6067.2574, Validation Loss: 1469.7953\n",
      "Epoch [200/10000], Train Loss: 3860.9676, Validation Loss: 1156.1996\n",
      "Epoch [300/10000], Train Loss: 3471.5586, Validation Loss: 1143.0359\n",
      "Epoch [400/10000], Train Loss: 3351.7181, Validation Loss: 1142.8778\n",
      "Epoch [500/10000], Train Loss: 3633.2326, Validation Loss: 1144.0350\n",
      "Epoch [600/10000], Train Loss: 3491.9166, Validation Loss: 1131.5366\n",
      "Epoch [700/10000], Train Loss: 3129.4924, Validation Loss: 1133.5250\n",
      "Epoch [800/10000], Train Loss: 3573.6759, Validation Loss: 1131.7069\n",
      "Epoch [900/10000], Train Loss: 3285.3226, Validation Loss: 1126.7029\n",
      "Epoch [1000/10000], Train Loss: 3195.3565, Validation Loss: 1122.2129\n",
      "Epoch [1100/10000], Train Loss: 2971.3162, Validation Loss: 1118.4608\n",
      "Epoch [1200/10000], Train Loss: 2945.8965, Validation Loss: 1116.5234\n",
      "Epoch [1300/10000], Train Loss: 3090.0356, Validation Loss: 1114.7158\n",
      "Epoch [1400/10000], Train Loss: 2908.5953, Validation Loss: 1112.3655\n",
      "Epoch [1500/10000], Train Loss: 3338.0679, Validation Loss: 1112.5884\n",
      "Epoch [1600/10000], Train Loss: 3013.6928, Validation Loss: 1113.1522\n",
      "Epoch [1700/10000], Train Loss: 3115.8499, Validation Loss: 1111.5374\n",
      "Epoch [1800/10000], Train Loss: 273.0533, Validation Loss: 84.6698\n",
      "Epoch [1900/10000], Train Loss: 113.6579, Validation Loss: 21.6323\n",
      "Epoch [2000/10000], Train Loss: 68.2790, Validation Loss: 12.4004\n",
      "Epoch [2100/10000], Train Loss: 54.1024, Validation Loss: 11.7937\n",
      "Epoch [2200/10000], Train Loss: 44.2219, Validation Loss: 9.3715\n",
      "Epoch [2300/10000], Train Loss: 42.2022, Validation Loss: 6.9940\n",
      "Epoch [2400/10000], Train Loss: 39.7596, Validation Loss: 5.9169\n",
      "Epoch [2500/10000], Train Loss: 34.7964, Validation Loss: 5.4256\n",
      "Epoch [2600/10000], Train Loss: 29.6924, Validation Loss: 5.2155\n",
      "Epoch [2700/10000], Train Loss: 33.8289, Validation Loss: 5.8240\n",
      "Epoch [2800/10000], Train Loss: 39.2009, Validation Loss: 6.8588\n",
      "Epoch [2900/10000], Train Loss: 26.0307, Validation Loss: 4.6299\n",
      "Epoch [3000/10000], Train Loss: 26.9060, Validation Loss: 4.6660\n"
     ]
    },
    {
     "name": "stderr",
     "output_type": "stream",
     "text": [
      "[I 2024-02-06 21:57:34,043] Trial 45 finished with value: 4.314210414886475 and parameters: {'hidden_size': 12, 'num_layers': 4, 'lr': 0.0010953156146596848}. Best is trial 35 with value: 4.019588947296143.\n"
     ]
    },
    {
     "name": "stdout",
     "output_type": "stream",
     "text": [
      "Epoch [3100/10000], Train Loss: 25.2762, Validation Loss: 4.4521\n",
      "Epoch [3101/10000], Train Loss: 26.8276, Validation Loss: 4.3142\n",
      "Early stopping triggered. Stopping training.\n",
      "Epoch [100/10000], Train Loss: 40324.5769, Validation Loss: 4709.2739\n",
      "Epoch [200/10000], Train Loss: 31500.2498, Validation Loss: 3305.8511\n",
      "Epoch [300/10000], Train Loss: 29068.4536, Validation Loss: 3144.8374\n",
      "Epoch [400/10000], Train Loss: 24862.4272, Validation Loss: 3008.8589\n",
      "Epoch [500/10000], Train Loss: 23202.0889, Validation Loss: 2820.1926\n",
      "Epoch [600/10000], Train Loss: 17786.2002, Validation Loss: 2412.0327\n",
      "Epoch [700/10000], Train Loss: 11167.9075, Validation Loss: 1876.3677\n",
      "Epoch [800/10000], Train Loss: 8174.3317, Validation Loss: 1615.9998\n",
      "Epoch [900/10000], Train Loss: 5876.7401, Validation Loss: 1412.0085\n",
      "Epoch [1000/10000], Train Loss: 4758.6590, Validation Loss: 1269.6586\n",
      "Epoch [1100/10000], Train Loss: 4195.8772, Validation Loss: 1208.6605\n",
      "Epoch [1200/10000], Train Loss: 3687.4948, Validation Loss: 1176.2129\n",
      "Epoch [1300/10000], Train Loss: 3618.9320, Validation Loss: 1149.8682\n",
      "Epoch [1400/10000], Train Loss: 3506.6379, Validation Loss: 1140.9010\n",
      "Epoch [1500/10000], Train Loss: 3331.2903, Validation Loss: 1135.2273\n",
      "Epoch [1600/10000], Train Loss: 3324.8985, Validation Loss: 1129.5933\n",
      "Epoch [1700/10000], Train Loss: 3350.9430, Validation Loss: 1125.8135\n",
      "Epoch [1800/10000], Train Loss: 3188.1344, Validation Loss: 1123.2042\n",
      "Epoch [1900/10000], Train Loss: 3051.3304, Validation Loss: 1121.5255\n",
      "Epoch [2000/10000], Train Loss: 3346.0230, Validation Loss: 1120.8956\n",
      "Epoch [2100/10000], Train Loss: 3129.6361, Validation Loss: 1119.2758\n",
      "Epoch [2200/10000], Train Loss: 3353.1118, Validation Loss: 1118.2740\n",
      "Epoch [2300/10000], Train Loss: 3257.2338, Validation Loss: 1117.8409\n",
      "Epoch [2400/10000], Train Loss: 3357.0040, Validation Loss: 1116.5676\n",
      "Epoch [2500/10000], Train Loss: 3013.8071, Validation Loss: 1115.3845\n",
      "Epoch [2600/10000], Train Loss: 2985.1768, Validation Loss: 1115.4781\n",
      "Epoch [2700/10000], Train Loss: 3393.8347, Validation Loss: 1114.2346\n",
      "Epoch [2800/10000], Train Loss: 3185.9948, Validation Loss: 1114.5424\n",
      "Epoch [2900/10000], Train Loss: 3082.3858, Validation Loss: 1114.3386\n",
      "Epoch [3000/10000], Train Loss: 3247.8787, Validation Loss: 1113.6978\n",
      "Epoch [3100/10000], Train Loss: 2862.1488, Validation Loss: 1113.7893\n",
      "Epoch [3200/10000], Train Loss: 3191.7294, Validation Loss: 1113.5354\n",
      "Epoch [3300/10000], Train Loss: 3077.4753, Validation Loss: 1113.1699\n"
     ]
    },
    {
     "name": "stderr",
     "output_type": "stream",
     "text": [
      "[I 2024-02-06 22:00:20,702] Trial 46 finished with value: 1113.687744140625 and parameters: {'hidden_size': 12, 'num_layers': 4, 'lr': 0.00018495112259996467}. Best is trial 35 with value: 4.019588947296143.\n"
     ]
    },
    {
     "name": "stdout",
     "output_type": "stream",
     "text": [
      "Epoch [3320/10000], Train Loss: 3032.6953, Validation Loss: 1113.6877\n",
      "Early stopping triggered. Stopping training.\n",
      "Epoch [100/10000], Train Loss: 3099.0552, Validation Loss: 1133.6797\n",
      "Epoch [200/10000], Train Loss: 3376.0658, Validation Loss: 1119.2637\n",
      "Epoch [300/10000], Train Loss: 3248.6047, Validation Loss: 1116.8906\n",
      "Epoch [400/10000], Train Loss: 2960.7211, Validation Loss: 1114.6545\n",
      "Epoch [500/10000], Train Loss: 3299.7420, Validation Loss: 1113.8600\n",
      "Epoch [600/10000], Train Loss: 3218.8117, Validation Loss: 1113.1409\n",
      "Epoch [700/10000], Train Loss: 3163.2388, Validation Loss: 1112.6069\n",
      "Epoch [800/10000], Train Loss: 3247.9087, Validation Loss: 1112.8092\n",
      "Epoch [900/10000], Train Loss: 2990.1666, Validation Loss: 1116.0068\n",
      "Epoch [1000/10000], Train Loss: 2936.0691, Validation Loss: 1113.8901\n",
      "Epoch [1100/10000], Train Loss: 2866.8478, Validation Loss: 1112.8475\n",
      "Epoch [1200/10000], Train Loss: 3028.9971, Validation Loss: 1112.1261\n"
     ]
    },
    {
     "name": "stderr",
     "output_type": "stream",
     "text": [
      "[I 2024-02-06 22:01:26,893] Trial 47 finished with value: 1113.1778564453125 and parameters: {'hidden_size': 12, 'num_layers': 4, 'lr': 0.002483552445677624}. Best is trial 35 with value: 4.019588947296143.\n"
     ]
    },
    {
     "name": "stdout",
     "output_type": "stream",
     "text": [
      "Epoch [1259/10000], Train Loss: 2930.2295, Validation Loss: 1113.1779\n",
      "Early stopping triggered. Stopping training.\n",
      "Epoch [100/10000], Train Loss: 287.1247, Validation Loss: 71.1413\n",
      "Epoch [200/10000], Train Loss: 102.0732, Validation Loss: 9.6826\n",
      "Epoch [300/10000], Train Loss: 354.8587, Validation Loss: 31.4740\n",
      "Epoch [400/10000], Train Loss: 180.5184, Validation Loss: 11.3663\n"
     ]
    },
    {
     "name": "stderr",
     "output_type": "stream",
     "text": [
      "[I 2024-02-06 22:01:50,895] Trial 48 finished with value: 21.94814682006836 and parameters: {'hidden_size': 12, 'num_layers': 4, 'lr': 0.0735261646475996}. Best is trial 35 with value: 4.019588947296143.\n"
     ]
    },
    {
     "name": "stdout",
     "output_type": "stream",
     "text": [
      "Epoch [451/10000], Train Loss: 162.9295, Validation Loss: 21.9481\n",
      "Early stopping triggered. Stopping training.\n",
      "Epoch [100/10000], Train Loss: 4376.6244, Validation Loss: 1212.3599\n",
      "Epoch [200/10000], Train Loss: 3539.6390, Validation Loss: 1142.0405\n",
      "Epoch [300/10000], Train Loss: 3216.7962, Validation Loss: 1121.2211\n",
      "Epoch [400/10000], Train Loss: 2932.9187, Validation Loss: 1117.8632\n",
      "Epoch [500/10000], Train Loss: 3189.2102, Validation Loss: 1119.8109\n",
      "Epoch [600/10000], Train Loss: 3214.3554, Validation Loss: 1115.5236\n",
      "Epoch [700/10000], Train Loss: 3270.7943, Validation Loss: 1115.1768\n",
      "Epoch [800/10000], Train Loss: 3294.5334, Validation Loss: 1114.0176\n",
      "Epoch [900/10000], Train Loss: 3131.3172, Validation Loss: 1116.5906\n",
      "Epoch [1000/10000], Train Loss: 3170.9045, Validation Loss: 1113.4268\n",
      "Epoch [1100/10000], Train Loss: 3076.1509, Validation Loss: 1114.0636\n",
      "Epoch [1200/10000], Train Loss: 3163.9427, Validation Loss: 1113.2010\n",
      "Epoch [1300/10000], Train Loss: 3115.7366, Validation Loss: 1112.6101\n",
      "Epoch [1400/10000], Train Loss: 3291.5513, Validation Loss: 1113.4108\n",
      "Epoch [1500/10000], Train Loss: 3034.4258, Validation Loss: 1112.2400\n",
      "Epoch [1600/10000], Train Loss: 2947.1911, Validation Loss: 1113.1309\n"
     ]
    },
    {
     "name": "stderr",
     "output_type": "stream",
     "text": [
      "[I 2024-02-06 22:03:20,665] Trial 49 finished with value: 1112.0841064453125 and parameters: {'hidden_size': 12, 'num_layers': 6, 'lr': 0.0009585176640821041}. Best is trial 35 with value: 4.019588947296143.\n"
     ]
    },
    {
     "name": "stdout",
     "output_type": "stream",
     "text": [
      "Epoch [1690/10000], Train Loss: 3038.5405, Validation Loss: 1112.0841\n",
      "Early stopping triggered. Stopping training.\n",
      "Epoch [100/10000], Train Loss: 3360.4070, Validation Loss: 1129.1005\n",
      "Epoch [200/10000], Train Loss: 2458.9117, Validation Loss: 787.8860\n",
      "Epoch [300/10000], Train Loss: 267.9877, Validation Loss: 13.6532\n",
      "Epoch [400/10000], Train Loss: 199.3151, Validation Loss: 8.3973\n",
      "Epoch [500/10000], Train Loss: 82.8694, Validation Loss: 6.8596\n",
      "Epoch [600/10000], Train Loss: 85.2427, Validation Loss: 7.5407\n",
      "Epoch [700/10000], Train Loss: 43.1254, Validation Loss: 7.4633\n"
     ]
    },
    {
     "name": "stderr",
     "output_type": "stream",
     "text": [
      "[I 2024-02-06 22:03:53,553] Trial 50 finished with value: 6.138720512390137 and parameters: {'hidden_size': 12, 'num_layers': 4, 'lr': 0.0038713883868963755}. Best is trial 35 with value: 4.019588947296143.\n"
     ]
    },
    {
     "name": "stdout",
     "output_type": "stream",
     "text": [
      "Epoch [773/10000], Train Loss: 44.2479, Validation Loss: 6.1387\n",
      "Early stopping triggered. Stopping training.\n",
      "Epoch [100/10000], Train Loss: 3396.0778, Validation Loss: 1126.6857\n",
      "Epoch [200/10000], Train Loss: 265.7486, Validation Loss: 14.6206\n",
      "Epoch [300/10000], Train Loss: 95.0373, Validation Loss: 9.9962\n",
      "Epoch [400/10000], Train Loss: 80.7337, Validation Loss: 7.1427\n",
      "Epoch [500/10000], Train Loss: 65.3357, Validation Loss: 6.7646\n",
      "Epoch [600/10000], Train Loss: 41.2915, Validation Loss: 5.5242\n",
      "Epoch [700/10000], Train Loss: 39.9539, Validation Loss: 6.8640\n",
      "Epoch [800/10000], Train Loss: 154.0799, Validation Loss: 25.1834\n",
      "Epoch [900/10000], Train Loss: 34.7366, Validation Loss: 5.9814\n",
      "Epoch [1000/10000], Train Loss: 29.6557, Validation Loss: 4.2022\n",
      "Epoch [1100/10000], Train Loss: 28.4517, Validation Loss: 5.0817\n",
      "Epoch [1200/10000], Train Loss: 50.0390, Validation Loss: 7.2408\n"
     ]
    },
    {
     "name": "stderr",
     "output_type": "stream",
     "text": [
      "[I 2024-02-06 22:05:10,273] Trial 51 finished with value: 4.573484420776367 and parameters: {'hidden_size': 20, 'num_layers': 7, 'lr': 0.0018607740274832515}. Best is trial 35 with value: 4.019588947296143.\n"
     ]
    },
    {
     "name": "stdout",
     "output_type": "stream",
     "text": [
      "Epoch [1232/10000], Train Loss: 24.5472, Validation Loss: 4.5735\n",
      "Early stopping triggered. Stopping training.\n",
      "Epoch [100/10000], Train Loss: 3041.1792, Validation Loss: 1116.5699\n",
      "Epoch [200/10000], Train Loss: 162.7445, Validation Loss: 13.3609\n",
      "Epoch [300/10000], Train Loss: 84.6653, Validation Loss: 6.0316\n",
      "Epoch [400/10000], Train Loss: 88.5759, Validation Loss: 8.5067\n",
      "Epoch [500/10000], Train Loss: 67.8917, Validation Loss: 6.3378\n",
      "Epoch [600/10000], Train Loss: 29.9809, Validation Loss: 5.0545\n"
     ]
    },
    {
     "name": "stderr",
     "output_type": "stream",
     "text": [
      "[I 2024-02-06 22:05:49,006] Trial 52 finished with value: 5.742926597595215 and parameters: {'hidden_size': 20, 'num_layers': 5, 'lr': 0.007269694396467531}. Best is trial 35 with value: 4.019588947296143.\n"
     ]
    },
    {
     "name": "stdout",
     "output_type": "stream",
     "text": [
      "Epoch [644/10000], Train Loss: 74.7733, Validation Loss: 5.7429\n",
      "Early stopping triggered. Stopping training.\n",
      "Epoch [100/10000], Train Loss: 34047.0291, Validation Loss: 4043.5457\n",
      "Epoch [200/10000], Train Loss: 14450.6770, Validation Loss: 2202.4519\n",
      "Epoch [300/10000], Train Loss: 5067.5537, Validation Loss: 1321.0873\n",
      "Epoch [400/10000], Train Loss: 3994.4610, Validation Loss: 1173.8247\n",
      "Epoch [500/10000], Train Loss: 3464.4630, Validation Loss: 1142.0468\n",
      "Epoch [600/10000], Train Loss: 3312.8818, Validation Loss: 1126.8422\n",
      "Epoch [700/10000], Train Loss: 3129.9600, Validation Loss: 1120.8995\n",
      "Epoch [800/10000], Train Loss: 3355.1702, Validation Loss: 1118.3143\n",
      "Epoch [900/10000], Train Loss: 3470.3447, Validation Loss: 1116.4952\n",
      "Epoch [1000/10000], Train Loss: 3303.9058, Validation Loss: 1115.3124\n",
      "Epoch [1100/10000], Train Loss: 3016.2793, Validation Loss: 1116.1630\n",
      "Epoch [1200/10000], Train Loss: 3107.1912, Validation Loss: 1115.5104\n",
      "Epoch [1300/10000], Train Loss: 3089.2885, Validation Loss: 1113.3569\n",
      "Epoch [1400/10000], Train Loss: 2962.6859, Validation Loss: 1112.8838\n",
      "Epoch [1500/10000], Train Loss: 2902.6800, Validation Loss: 1112.8770\n",
      "Epoch [1600/10000], Train Loss: 3011.8266, Validation Loss: 1114.8585\n",
      "Epoch [1700/10000], Train Loss: 3008.3691, Validation Loss: 1114.0831\n"
     ]
    },
    {
     "name": "stderr",
     "output_type": "stream",
     "text": [
      "[I 2024-02-06 22:07:26,651] Trial 53 finished with value: 1112.974609375 and parameters: {'hidden_size': 20, 'num_layers': 9, 'lr': 0.0004078651694904777}. Best is trial 35 with value: 4.019588947296143.\n"
     ]
    },
    {
     "name": "stdout",
     "output_type": "stream",
     "text": [
      "Epoch [1705/10000], Train Loss: 3052.0570, Validation Loss: 1112.9746\n",
      "Early stopping triggered. Stopping training.\n",
      "Epoch [100/10000], Train Loss: 3739.1842, Validation Loss: 1163.7385\n",
      "Epoch [200/10000], Train Loss: 3427.1613, Validation Loss: 1137.8324\n",
      "Epoch [300/10000], Train Loss: 3267.2522, Validation Loss: 1117.8274\n",
      "Epoch [400/10000], Train Loss: 3133.4698, Validation Loss: 1115.8159\n",
      "Epoch [500/10000], Train Loss: 2992.0616, Validation Loss: 1120.3323\n",
      "Epoch [600/10000], Train Loss: 2797.3703, Validation Loss: 1114.6000\n",
      "Epoch [700/10000], Train Loss: 3025.3982, Validation Loss: 1116.7839\n",
      "Epoch [800/10000], Train Loss: 3248.3245, Validation Loss: 1118.1462\n",
      "Epoch [900/10000], Train Loss: 2908.2693, Validation Loss: 1113.8770\n",
      "Epoch [1000/10000], Train Loss: 3060.6594, Validation Loss: 1113.4191\n",
      "Epoch [1100/10000], Train Loss: 3106.2278, Validation Loss: 1112.9949\n",
      "Epoch [1200/10000], Train Loss: 3213.8980, Validation Loss: 1120.6537\n"
     ]
    },
    {
     "name": "stderr",
     "output_type": "stream",
     "text": [
      "[I 2024-02-06 22:08:41,692] Trial 54 finished with value: 1113.77099609375 and parameters: {'hidden_size': 20, 'num_layers': 11, 'lr': 0.0009865222801443633}. Best is trial 35 with value: 4.019588947296143.\n"
     ]
    },
    {
     "name": "stdout",
     "output_type": "stream",
     "text": [
      "Epoch [1246/10000], Train Loss: 3013.5791, Validation Loss: 1113.7710\n",
      "Early stopping triggered. Stopping training.\n",
      "Epoch [100/10000], Train Loss: 30176.9402, Validation Loss: 3636.5671\n",
      "Epoch [200/10000], Train Loss: 5903.5377, Validation Loss: 1444.7343\n",
      "Epoch [300/10000], Train Loss: 3963.3170, Validation Loss: 1184.2563\n",
      "Epoch [400/10000], Train Loss: 3803.5959, Validation Loss: 1158.6167\n",
      "Epoch [500/10000], Train Loss: 3521.9753, Validation Loss: 1143.1904\n",
      "Epoch [600/10000], Train Loss: 3600.4204, Validation Loss: 1132.7200\n",
      "Epoch [700/10000], Train Loss: 3310.2275, Validation Loss: 1123.9218\n",
      "Epoch [800/10000], Train Loss: 3153.2618, Validation Loss: 1118.5791\n",
      "Epoch [900/10000], Train Loss: 3270.7260, Validation Loss: 1116.6329\n",
      "Epoch [1000/10000], Train Loss: 3204.9101, Validation Loss: 1115.2240\n",
      "Epoch [1100/10000], Train Loss: 3237.0332, Validation Loss: 1115.8363\n"
     ]
    },
    {
     "name": "stderr",
     "output_type": "stream",
     "text": [
      "[I 2024-02-06 22:09:44,130] Trial 55 finished with value: 1115.7615966796875 and parameters: {'hidden_size': 6, 'num_layers': 4, 'lr': 0.0006559420538182872}. Best is trial 35 with value: 4.019588947296143.\n"
     ]
    },
    {
     "name": "stdout",
     "output_type": "stream",
     "text": [
      "Epoch [1104/10000], Train Loss: 3166.2704, Validation Loss: 1115.7616\n",
      "Early stopping triggered. Stopping training.\n",
      "Epoch [100/10000], Train Loss: 27097.0706, Validation Loss: 3257.1396\n",
      "Epoch [200/10000], Train Loss: 17951.2969, Validation Loss: 2460.4373\n",
      "Epoch [300/10000], Train Loss: 10929.8633, Validation Loss: 2022.5681\n",
      "Epoch [400/10000], Train Loss: 4132.3251, Validation Loss: 1215.6421\n",
      "Epoch [500/10000], Train Loss: 3583.2778, Validation Loss: 1171.2478\n",
      "Epoch [600/10000], Train Loss: 3551.6222, Validation Loss: 1156.3181\n",
      "Epoch [700/10000], Train Loss: 3409.1414, Validation Loss: 1149.5757\n",
      "Epoch [800/10000], Train Loss: 3396.7048, Validation Loss: 1146.5328\n",
      "Epoch [900/10000], Train Loss: 3415.4105, Validation Loss: 1143.9656\n",
      "Epoch [1000/10000], Train Loss: 3357.0708, Validation Loss: 1142.1088\n",
      "Epoch [1100/10000], Train Loss: 3335.6724, Validation Loss: 1136.4932\n",
      "Epoch [1200/10000], Train Loss: 3211.1281, Validation Loss: 1134.1025\n",
      "Epoch [1300/10000], Train Loss: 3239.4966, Validation Loss: 1126.2279\n",
      "Epoch [1400/10000], Train Loss: 3407.5141, Validation Loss: 1126.0966\n",
      "Epoch [1500/10000], Train Loss: 3596.6174, Validation Loss: 1127.2361\n",
      "Epoch [1600/10000], Train Loss: 3068.6477, Validation Loss: 1124.7776\n",
      "Epoch [1700/10000], Train Loss: 3422.6893, Validation Loss: 1125.4807\n",
      "Epoch [1800/10000], Train Loss: 3178.1648, Validation Loss: 1120.8712\n",
      "Epoch [1900/10000], Train Loss: 2979.0253, Validation Loss: 1117.9420\n",
      "Epoch [2000/10000], Train Loss: 2891.2691, Validation Loss: 1117.1965\n",
      "Epoch [2100/10000], Train Loss: 3043.2744, Validation Loss: 1116.6735\n",
      "Epoch [2200/10000], Train Loss: 2985.4808, Validation Loss: 1116.4785\n",
      "Epoch [2300/10000], Train Loss: 2931.9278, Validation Loss: 1116.6069\n"
     ]
    },
    {
     "name": "stderr",
     "output_type": "stream",
     "text": [
      "[I 2024-02-06 22:11:38,788] Trial 56 finished with value: 1116.722900390625 and parameters: {'hidden_size': 9, 'num_layers': 1, 'lr': 0.001853693785734331}. Best is trial 35 with value: 4.019588947296143.\n"
     ]
    },
    {
     "name": "stdout",
     "output_type": "stream",
     "text": [
      "Epoch [2334/10000], Train Loss: 3220.8383, Validation Loss: 1116.7229\n",
      "Early stopping triggered. Stopping training.\n",
      "Epoch [100/10000], Train Loss: 36792.2134, Validation Loss: 4555.3916\n",
      "Epoch [200/10000], Train Loss: 35145.2515, Validation Loss: 4433.8198\n",
      "Epoch [300/10000], Train Loss: 36330.3835, Validation Loss: 4406.0210\n",
      "Epoch [400/10000], Train Loss: 35074.3210, Validation Loss: 4263.6880\n",
      "Epoch [500/10000], Train Loss: 31175.4385, Validation Loss: 3958.1616\n",
      "Epoch [600/10000], Train Loss: 29025.6597, Validation Loss: 3545.4629\n",
      "Epoch [700/10000], Train Loss: 26243.5244, Validation Loss: 2838.9641\n",
      "Epoch [800/10000], Train Loss: 19609.5789, Validation Loss: 2530.3354\n",
      "Epoch [900/10000], Train Loss: 5582.3261, Validation Loss: 1409.0747\n",
      "Epoch [1000/10000], Train Loss: 4442.7539, Validation Loss: 1262.4305\n",
      "Epoch [1100/10000], Train Loss: 4057.8674, Validation Loss: 1181.7241\n",
      "Epoch [1200/10000], Train Loss: 3723.5692, Validation Loss: 1150.3699\n",
      "Epoch [1300/10000], Train Loss: 3548.9897, Validation Loss: 1137.3376\n",
      "Epoch [1400/10000], Train Loss: 3315.7538, Validation Loss: 1124.4154\n",
      "Epoch [1500/10000], Train Loss: 3193.4904, Validation Loss: 1119.1454\n",
      "Epoch [1600/10000], Train Loss: 3370.2039, Validation Loss: 1116.5680\n",
      "Epoch [1700/10000], Train Loss: 3310.4718, Validation Loss: 1115.8312\n",
      "Epoch [1800/10000], Train Loss: 3306.2700, Validation Loss: 1115.2440\n",
      "Epoch [1900/10000], Train Loss: 3383.5814, Validation Loss: 1114.7091\n",
      "Epoch [2000/10000], Train Loss: 3651.3845, Validation Loss: 1114.8696\n",
      "Epoch [2100/10000], Train Loss: 3296.2353, Validation Loss: 1115.0891\n"
     ]
    },
    {
     "name": "stderr",
     "output_type": "stream",
     "text": [
      "[I 2024-02-06 22:13:50,634] Trial 57 finished with value: 1114.88037109375 and parameters: {'hidden_size': 12, 'num_layers': 12, 'lr': 0.00022386895909914928}. Best is trial 35 with value: 4.019588947296143.\n"
     ]
    },
    {
     "name": "stdout",
     "output_type": "stream",
     "text": [
      "Epoch [2120/10000], Train Loss: 3217.2504, Validation Loss: 1114.8804\n",
      "Early stopping triggered. Stopping training.\n",
      "Epoch [100/10000], Train Loss: 3481.8884, Validation Loss: 1132.6344\n",
      "Epoch [200/10000], Train Loss: 3053.2133, Validation Loss: 1118.9351\n",
      "Epoch [300/10000], Train Loss: 3021.1472, Validation Loss: 1120.1438\n",
      "Epoch [400/10000], Train Loss: 3402.8668, Validation Loss: 1115.4512\n",
      "Epoch [500/10000], Train Loss: 3083.8398, Validation Loss: 1115.4370\n",
      "Epoch [600/10000], Train Loss: 3325.1694, Validation Loss: 1114.6409\n",
      "Epoch [700/10000], Train Loss: 3530.5702, Validation Loss: 1117.9901\n",
      "Epoch [800/10000], Train Loss: 3295.3948, Validation Loss: 1115.9839\n",
      "Epoch [900/10000], Train Loss: 2900.5457, Validation Loss: 1112.7406\n",
      "Epoch [1000/10000], Train Loss: 63.4093, Validation Loss: 9.8118\n",
      "Epoch [1100/10000], Train Loss: 57.7198, Validation Loss: 7.5135\n",
      "Epoch [1200/10000], Train Loss: 37.8354, Validation Loss: 5.8218\n",
      "Epoch [1300/10000], Train Loss: 32.6996, Validation Loss: 5.4984\n",
      "Epoch [1400/10000], Train Loss: 37.8235, Validation Loss: 5.0783\n"
     ]
    },
    {
     "name": "stderr",
     "output_type": "stream",
     "text": [
      "[I 2024-02-06 22:15:16,010] Trial 58 finished with value: 6.315213680267334 and parameters: {'hidden_size': 20, 'num_layers': 8, 'lr': 0.0011673492000607245}. Best is trial 35 with value: 4.019588947296143.\n"
     ]
    },
    {
     "name": "stdout",
     "output_type": "stream",
     "text": [
      "Epoch [1468/10000], Train Loss: 35.8711, Validation Loss: 6.3152\n",
      "Early stopping triggered. Stopping training.\n",
      "Epoch [100/10000], Train Loss: 3039.7659, Validation Loss: 1121.3417\n",
      "Epoch [200/10000], Train Loss: 113.9839, Validation Loss: 13.1871\n",
      "Epoch [300/10000], Train Loss: 87.8260, Validation Loss: 9.7388\n",
      "Epoch [400/10000], Train Loss: 35.9622, Validation Loss: 5.0087\n",
      "Epoch [500/10000], Train Loss: 39.4553, Validation Loss: 4.9203\n",
      "Epoch [600/10000], Train Loss: 41.3200, Validation Loss: 7.0981\n",
      "Epoch [700/10000], Train Loss: 21.5646, Validation Loss: 3.6663\n",
      "Epoch [800/10000], Train Loss: 29.4395, Validation Loss: 6.1754\n"
     ]
    },
    {
     "name": "stderr",
     "output_type": "stream",
     "text": [
      "[I 2024-02-06 22:15:51,832] Trial 59 finished with value: 4.688975811004639 and parameters: {'hidden_size': 12, 'num_layers': 2, 'lr': 0.01813642574794882}. Best is trial 35 with value: 4.019588947296143.\n"
     ]
    },
    {
     "name": "stdout",
     "output_type": "stream",
     "text": [
      "Epoch [866/10000], Train Loss: 26.1338, Validation Loss: 4.6890\n",
      "Early stopping triggered. Stopping training.\n"
     ]
    },
    {
     "name": "stderr",
     "output_type": "stream",
     "text": [
      "[I 2024-02-06 22:15:57,723] Trial 60 finished with value: 6480.986328125 and parameters: {'hidden_size': 12, 'num_layers': 7, 'lr': 0.04391832937337113}. Best is trial 35 with value: 4.019588947296143.\n"
     ]
    },
    {
     "name": "stdout",
     "output_type": "stream",
     "text": [
      "Epoch [100/10000], Train Loss: 59274.2104, Validation Loss: 6480.9863\n",
      "Epoch [101/10000], Train Loss: 54789.5278, Validation Loss: 6480.9863\n",
      "Early stopping triggered. Stopping training.\n",
      "Epoch [100/10000], Train Loss: 3867.5984, Validation Loss: 1146.1802\n",
      "Epoch [200/10000], Train Loss: 3001.8725, Validation Loss: 1120.7682\n",
      "Epoch [300/10000], Train Loss: 110.0410, Validation Loss: 23.3758\n",
      "Epoch [400/10000], Train Loss: 46.4888, Validation Loss: 11.1837\n",
      "Epoch [500/10000], Train Loss: 62.7113, Validation Loss: 15.3133\n",
      "Epoch [600/10000], Train Loss: 36.4640, Validation Loss: 6.7372\n",
      "Epoch [700/10000], Train Loss: 57.6402, Validation Loss: 9.3852\n",
      "Epoch [800/10000], Train Loss: 30.7013, Validation Loss: 5.1868\n",
      "Epoch [900/10000], Train Loss: 117.0348, Validation Loss: 12.7214\n"
     ]
    },
    {
     "name": "stderr",
     "output_type": "stream",
     "text": [
      "[I 2024-02-06 22:16:36,724] Trial 61 finished with value: 6.831793785095215 and parameters: {'hidden_size': 12, 'num_layers': 2, 'lr': 0.020427361223574934}. Best is trial 35 with value: 4.019588947296143.\n"
     ]
    },
    {
     "name": "stdout",
     "output_type": "stream",
     "text": [
      "Epoch [937/10000], Train Loss: 64.9395, Validation Loss: 6.8318\n",
      "Early stopping triggered. Stopping training.\n",
      "Epoch [100/10000], Train Loss: 343.7062, Validation Loss: 34.0269\n",
      "Epoch [200/10000], Train Loss: 126.6710, Validation Loss: 10.1518\n",
      "Epoch [300/10000], Train Loss: 53.0082, Validation Loss: 7.5085\n",
      "Epoch [400/10000], Train Loss: 44.4593, Validation Loss: 7.4855\n",
      "Epoch [500/10000], Train Loss: 37.1744, Validation Loss: 5.8248\n",
      "Epoch [600/10000], Train Loss: 101.4029, Validation Loss: 5.6160\n"
     ]
    },
    {
     "name": "stderr",
     "output_type": "stream",
     "text": [
      "[I 2024-02-06 22:17:02,382] Trial 62 finished with value: 6.400336742401123 and parameters: {'hidden_size': 12, 'num_layers': 2, 'lr': 0.014810547395653509}. Best is trial 35 with value: 4.019588947296143.\n"
     ]
    },
    {
     "name": "stdout",
     "output_type": "stream",
     "text": [
      "Epoch [622/10000], Train Loss: 44.7304, Validation Loss: 6.4003\n",
      "Early stopping triggered. Stopping training.\n",
      "Epoch [100/10000], Train Loss: 3115.2644, Validation Loss: 1122.6030\n",
      "Epoch [200/10000], Train Loss: 3114.4435, Validation Loss: 1117.3212\n",
      "Epoch [300/10000], Train Loss: 3329.9222, Validation Loss: 1136.6938\n"
     ]
    },
    {
     "name": "stderr",
     "output_type": "stream",
     "text": [
      "[I 2024-02-06 22:17:25,279] Trial 63 finished with value: 1170.876708984375 and parameters: {'hidden_size': 12, 'num_layers': 13, 'lr': 0.0077290132844387485}. Best is trial 35 with value: 4.019588947296143.\n"
     ]
    },
    {
     "name": "stdout",
     "output_type": "stream",
     "text": [
      "Epoch [320/10000], Train Loss: 3205.4225, Validation Loss: 1170.8767\n",
      "Early stopping triggered. Stopping training.\n",
      "Epoch [100/10000], Train Loss: 3112.4951, Validation Loss: 313.3988\n",
      "Epoch [200/10000], Train Loss: 1918.8990, Validation Loss: 292.6874\n",
      "Epoch [300/10000], Train Loss: 1307.2375, Validation Loss: 165.6033\n",
      "Epoch [400/10000], Train Loss: 751.4810, Validation Loss: 101.5950\n",
      "Epoch [500/10000], Train Loss: 689.5683, Validation Loss: 125.4167\n",
      "Epoch [600/10000], Train Loss: 5503.2207, Validation Loss: 1181.5970\n"
     ]
    },
    {
     "name": "stderr",
     "output_type": "stream",
     "text": [
      "[I 2024-02-06 22:18:02,747] Trial 64 finished with value: 1201.2606201171875 and parameters: {'hidden_size': 3, 'num_layers': 2, 'lr': 0.09214466005135111}. Best is trial 35 with value: 4.019588947296143.\n"
     ]
    },
    {
     "name": "stdout",
     "output_type": "stream",
     "text": [
      "Epoch [634/10000], Train Loss: 6189.8001, Validation Loss: 1201.2606\n",
      "Early stopping triggered. Stopping training.\n",
      "Epoch [100/10000], Train Loss: 3272.4958, Validation Loss: 1115.4193\n",
      "Epoch [200/10000], Train Loss: 3098.4640, Validation Loss: 1113.9711\n",
      "Epoch [300/10000], Train Loss: 3129.6923, Validation Loss: 1112.5488\n",
      "Epoch [400/10000], Train Loss: 3117.0119, Validation Loss: 1120.0317\n",
      "Epoch [500/10000], Train Loss: 3122.5810, Validation Loss: 1113.8197\n",
      "Epoch [600/10000], Train Loss: 2966.4537, Validation Loss: 1111.3826\n",
      "Epoch [700/10000], Train Loss: 2900.9781, Validation Loss: 1112.7087\n",
      "Epoch [800/10000], Train Loss: 2910.3062, Validation Loss: 1114.9005\n"
     ]
    },
    {
     "name": "stderr",
     "output_type": "stream",
     "text": [
      "[I 2024-02-06 22:18:48,068] Trial 65 finished with value: 1111.1961669921875 and parameters: {'hidden_size': 12, 'num_layers': 3, 'lr': 0.011847506281470119}. Best is trial 35 with value: 4.019588947296143.\n"
     ]
    },
    {
     "name": "stdout",
     "output_type": "stream",
     "text": [
      "Epoch [835/10000], Train Loss: 3160.0287, Validation Loss: 1111.1962\n",
      "Early stopping triggered. Stopping training.\n",
      "Epoch [100/10000], Train Loss: 293.2056, Validation Loss: 40.3803\n",
      "Epoch [200/10000], Train Loss: 225.0263, Validation Loss: 17.8200\n",
      "Epoch [300/10000], Train Loss: 134.1446, Validation Loss: 9.4746\n",
      "Epoch [400/10000], Train Loss: 77.5178, Validation Loss: 5.5280\n"
     ]
    },
    {
     "name": "stderr",
     "output_type": "stream",
     "text": [
      "[I 2024-02-06 22:19:11,510] Trial 66 finished with value: 31.06302261352539 and parameters: {'hidden_size': 6, 'num_layers': 4, 'lr': 0.04976257383589991}. Best is trial 35 with value: 4.019588947296143.\n"
     ]
    },
    {
     "name": "stdout",
     "output_type": "stream",
     "text": [
      "Epoch [466/10000], Train Loss: 176.3885, Validation Loss: 31.0630\n",
      "Early stopping triggered. Stopping training.\n",
      "Epoch [100/10000], Train Loss: 119.2653, Validation Loss: 10.0911\n",
      "Epoch [200/10000], Train Loss: 162.0275, Validation Loss: 18.4685\n",
      "Epoch [300/10000], Train Loss: 133.3821, Validation Loss: 12.2654\n"
     ]
    },
    {
     "name": "stderr",
     "output_type": "stream",
     "text": [
      "[I 2024-02-06 22:19:33,379] Trial 67 finished with value: 8.523794174194336 and parameters: {'hidden_size': 20, 'num_layers': 7, 'lr': 0.027715599698416075}. Best is trial 35 with value: 4.019588947296143.\n"
     ]
    },
    {
     "name": "stdout",
     "output_type": "stream",
     "text": [
      "Epoch [327/10000], Train Loss: 103.1259, Validation Loss: 8.5238\n",
      "Early stopping triggered. Stopping training.\n",
      "Epoch [100/10000], Train Loss: 3955.8797, Validation Loss: 1170.1791\n",
      "Epoch [200/10000], Train Loss: 3191.1891, Validation Loss: 1133.4618\n",
      "Epoch [300/10000], Train Loss: 3116.3357, Validation Loss: 1127.8628\n",
      "Epoch [400/10000], Train Loss: 3169.8265, Validation Loss: 1121.9919\n",
      "Epoch [500/10000], Train Loss: 2928.5335, Validation Loss: 1114.5236\n",
      "Epoch [600/10000], Train Loss: 2974.0870, Validation Loss: 1113.9794\n",
      "Epoch [700/10000], Train Loss: 212.8895, Validation Loss: 48.9299\n",
      "Epoch [800/10000], Train Loss: 82.3409, Validation Loss: 14.2381\n",
      "Epoch [900/10000], Train Loss: 53.0919, Validation Loss: 11.1814\n",
      "Epoch [1000/10000], Train Loss: 47.6489, Validation Loss: 8.8116\n",
      "Epoch [1100/10000], Train Loss: 51.2975, Validation Loss: 7.5632\n",
      "Epoch [1200/10000], Train Loss: 39.0223, Validation Loss: 6.8967\n",
      "Epoch [1300/10000], Train Loss: 48.9233, Validation Loss: 7.9074\n",
      "Epoch [1400/10000], Train Loss: 36.9865, Validation Loss: 7.5832\n"
     ]
    },
    {
     "name": "stderr",
     "output_type": "stream",
     "text": [
      "[I 2024-02-06 22:21:02,930] Trial 68 finished with value: 7.256241321563721 and parameters: {'hidden_size': 12, 'num_layers': 4, 'lr': 0.002619076749756043}. Best is trial 35 with value: 4.019588947296143.\n"
     ]
    },
    {
     "name": "stdout",
     "output_type": "stream",
     "text": [
      "Epoch [1420/10000], Train Loss: 36.0381, Validation Loss: 7.2562\n",
      "Early stopping triggered. Stopping training.\n",
      "Epoch [100/10000], Train Loss: 56805.1914, Validation Loss: 6480.6772\n",
      "Epoch [200/10000], Train Loss: 53153.9790, Validation Loss: 6470.9873\n",
      "Epoch [300/10000], Train Loss: 54824.1494, Validation Loss: 6306.3286\n",
      "Epoch [400/10000], Train Loss: 43877.5571, Validation Loss: 5636.3940\n",
      "Epoch [500/10000], Train Loss: 37400.4451, Validation Loss: 4584.1294\n",
      "Epoch [600/10000], Train Loss: 36007.5344, Validation Loss: 4153.3804\n",
      "Epoch [700/10000], Train Loss: 35168.4189, Validation Loss: 4115.4111\n",
      "Epoch [800/10000], Train Loss: 33719.3281, Validation Loss: 4107.1904\n",
      "Epoch [900/10000], Train Loss: 33227.7683, Validation Loss: 4101.4380\n"
     ]
    },
    {
     "name": "stderr",
     "output_type": "stream",
     "text": [
      "[I 2024-02-06 22:22:05,167] Trial 69 finished with value: 4106.27685546875 and parameters: {'hidden_size': 9, 'num_layers': 6, 'lr': 2.850900992849448e-05}. Best is trial 35 with value: 4.019588947296143.\n"
     ]
    },
    {
     "name": "stdout",
     "output_type": "stream",
     "text": [
      "Epoch [909/10000], Train Loss: 33423.7969, Validation Loss: 4106.2769\n",
      "Early stopping triggered. Stopping training.\n",
      "Epoch [100/10000], Train Loss: 500.8338, Validation Loss: 30.5711\n",
      "Epoch [200/10000], Train Loss: 173.1462, Validation Loss: 10.7862\n",
      "Epoch [300/10000], Train Loss: 110.2983, Validation Loss: 8.1151\n",
      "Epoch [400/10000], Train Loss: 110.7984, Validation Loss: 8.6605\n",
      "Epoch [500/10000], Train Loss: 68.6816, Validation Loss: 8.5575\n",
      "Epoch [600/10000], Train Loss: 65.3988, Validation Loss: 16.4400\n"
     ]
    },
    {
     "name": "stderr",
     "output_type": "stream",
     "text": [
      "[I 2024-02-06 22:22:51,433] Trial 70 finished with value: 6.948271751403809 and parameters: {'hidden_size': 12, 'num_layers': 10, 'lr': 0.005524869196186538}. Best is trial 35 with value: 4.019588947296143.\n"
     ]
    },
    {
     "name": "stdout",
     "output_type": "stream",
     "text": [
      "Epoch [615/10000], Train Loss: 75.9522, Validation Loss: 6.9483\n",
      "Early stopping triggered. Stopping training.\n",
      "Epoch [100/10000], Train Loss: 112.7179, Validation Loss: 12.0999\n",
      "Epoch [200/10000], Train Loss: 152.6674, Validation Loss: 22.6216\n",
      "Epoch [300/10000], Train Loss: 40.3470, Validation Loss: 4.6424\n"
     ]
    },
    {
     "name": "stderr",
     "output_type": "stream",
     "text": [
      "[I 2024-02-06 22:23:11,906] Trial 71 finished with value: 13.45213508605957 and parameters: {'hidden_size': 20, 'num_layers': 5, 'lr': 0.009870096549508382}. Best is trial 35 with value: 4.019588947296143.\n"
     ]
    },
    {
     "name": "stdout",
     "output_type": "stream",
     "text": [
      "Epoch [345/10000], Train Loss: 153.5695, Validation Loss: 13.4521\n",
      "Early stopping triggered. Stopping training.\n",
      "Epoch [100/10000], Train Loss: 162.7463, Validation Loss: 8.6753\n",
      "Epoch [200/10000], Train Loss: 63.6512, Validation Loss: 7.2690\n",
      "Epoch [300/10000], Train Loss: 148.4621, Validation Loss: 13.2268\n",
      "Epoch [400/10000], Train Loss: 88.3008, Validation Loss: 9.2703\n",
      "Epoch [500/10000], Train Loss: 46.3708, Validation Loss: 5.3599\n"
     ]
    },
    {
     "name": "stderr",
     "output_type": "stream",
     "text": [
      "[I 2024-02-06 22:23:43,625] Trial 72 finished with value: 6.504473686218262 and parameters: {'hidden_size': 20, 'num_layers': 5, 'lr': 0.0067869869295894706}. Best is trial 35 with value: 4.019588947296143.\n"
     ]
    },
    {
     "name": "stdout",
     "output_type": "stream",
     "text": [
      "Epoch [543/10000], Train Loss: 85.0784, Validation Loss: 6.5045\n",
      "Early stopping triggered. Stopping training.\n",
      "Epoch [100/10000], Train Loss: 141.0229, Validation Loss: 16.4874\n",
      "Epoch [200/10000], Train Loss: 632.6993, Validation Loss: 43.5398\n",
      "Epoch [300/10000], Train Loss: 117.9214, Validation Loss: 8.4956\n",
      "Epoch [400/10000], Train Loss: 75.4121, Validation Loss: 6.3908\n",
      "Epoch [500/10000], Train Loss: 35.4523, Validation Loss: 5.2546\n"
     ]
    },
    {
     "name": "stderr",
     "output_type": "stream",
     "text": [
      "[I 2024-02-06 22:24:12,684] Trial 73 finished with value: 13.097896575927734 and parameters: {'hidden_size': 20, 'num_layers': 5, 'lr': 0.019012596848076116}. Best is trial 35 with value: 4.019588947296143.\n"
     ]
    },
    {
     "name": "stdout",
     "output_type": "stream",
     "text": [
      "Epoch [510/10000], Train Loss: 92.2503, Validation Loss: 13.0979\n",
      "Early stopping triggered. Stopping training.\n",
      "Epoch [100/10000], Train Loss: 3218.3198, Validation Loss: 1119.2520\n",
      "Epoch [200/10000], Train Loss: 379.9149, Validation Loss: 28.0308\n",
      "Epoch [300/10000], Train Loss: 73.9692, Validation Loss: 7.5907\n",
      "Epoch [400/10000], Train Loss: 46.8858, Validation Loss: 7.1574\n",
      "Epoch [500/10000], Train Loss: 73.9495, Validation Loss: 7.4866\n",
      "Epoch [600/10000], Train Loss: 51.4130, Validation Loss: 6.0458\n",
      "Epoch [700/10000], Train Loss: 57.0852, Validation Loss: 10.2487\n",
      "Epoch [800/10000], Train Loss: 55.1309, Validation Loss: 15.2592\n"
     ]
    },
    {
     "name": "stderr",
     "output_type": "stream",
     "text": [
      "[I 2024-02-06 22:24:59,358] Trial 74 finished with value: 6.340928554534912 and parameters: {'hidden_size': 20, 'num_layers': 5, 'lr': 0.0035817179208444184}. Best is trial 35 with value: 4.019588947296143.\n"
     ]
    },
    {
     "name": "stdout",
     "output_type": "stream",
     "text": [
      "Epoch [872/10000], Train Loss: 54.7981, Validation Loss: 6.3409\n",
      "Early stopping triggered. Stopping training.\n",
      "Epoch [100/10000], Train Loss: 3575.5638, Validation Loss: 1163.9646\n",
      "Epoch [200/10000], Train Loss: 3221.5690, Validation Loss: 1121.3666\n",
      "Epoch [300/10000], Train Loss: 3176.8817, Validation Loss: 1119.9250\n",
      "Epoch [400/10000], Train Loss: 3073.3614, Validation Loss: 1115.0857\n",
      "Epoch [500/10000], Train Loss: 3019.8715, Validation Loss: 1114.3511\n",
      "Epoch [600/10000], Train Loss: 2935.9357, Validation Loss: 1113.7607\n",
      "Epoch [700/10000], Train Loss: 3071.1932, Validation Loss: 1116.3027\n",
      "Epoch [800/10000], Train Loss: 3265.5052, Validation Loss: 1114.8611\n",
      "Epoch [900/10000], Train Loss: 3126.3274, Validation Loss: 1112.4221\n",
      "Epoch [1000/10000], Train Loss: 2905.7785, Validation Loss: 1117.8833\n"
     ]
    },
    {
     "name": "stderr",
     "output_type": "stream",
     "text": [
      "[I 2024-02-06 22:25:59,303] Trial 75 finished with value: 1112.329833984375 and parameters: {'hidden_size': 12, 'num_layers': 7, 'lr': 0.002209554725063971}. Best is trial 35 with value: 4.019588947296143.\n"
     ]
    },
    {
     "name": "stdout",
     "output_type": "stream",
     "text": [
      "Epoch [1029/10000], Train Loss: 3124.5479, Validation Loss: 1112.3298\n",
      "Early stopping triggered. Stopping training.\n",
      "Epoch [100/10000], Train Loss: 4289.4167, Validation Loss: 1177.3269\n",
      "Epoch [200/10000], Train Loss: 3653.3761, Validation Loss: 1122.7245\n",
      "Epoch [300/10000], Train Loss: 3296.0218, Validation Loss: 1117.5497\n",
      "Epoch [400/10000], Train Loss: 3184.7280, Validation Loss: 1115.0743\n",
      "Epoch [500/10000], Train Loss: 3337.1275, Validation Loss: 1114.4401\n",
      "Epoch [600/10000], Train Loss: 2943.3610, Validation Loss: 1112.5573\n",
      "Epoch [700/10000], Train Loss: 2940.9096, Validation Loss: 1112.8828\n",
      "Epoch [800/10000], Train Loss: 3233.1663, Validation Loss: 1117.9131\n"
     ]
    },
    {
     "name": "stderr",
     "output_type": "stream",
     "text": [
      "[I 2024-02-06 22:27:03,283] Trial 76 finished with value: 1115.1787109375 and parameters: {'hidden_size': 20, 'num_layers': 9, 'lr': 0.0007816661243151427}. Best is trial 35 with value: 4.019588947296143.\n"
     ]
    },
    {
     "name": "stdout",
     "output_type": "stream",
     "text": [
      "Epoch [891/10000], Train Loss: 3013.0390, Validation Loss: 1115.1787\n",
      "Early stopping triggered. Stopping training.\n",
      "Epoch [100/10000], Train Loss: 9524.8206, Validation Loss: 1725.3149\n",
      "Epoch [200/10000], Train Loss: 4171.8269, Validation Loss: 1218.4586\n",
      "Epoch [300/10000], Train Loss: 3736.5457, Validation Loss: 1170.8446\n",
      "Epoch [400/10000], Train Loss: 3472.0913, Validation Loss: 1141.0927\n",
      "Epoch [500/10000], Train Loss: 3578.7925, Validation Loss: 1128.7476\n",
      "Epoch [600/10000], Train Loss: 3202.6029, Validation Loss: 1123.4003\n",
      "Epoch [700/10000], Train Loss: 3258.0714, Validation Loss: 1120.9276\n",
      "Epoch [800/10000], Train Loss: 3168.9315, Validation Loss: 1118.4176\n",
      "Epoch [900/10000], Train Loss: 3400.6873, Validation Loss: 1117.3118\n",
      "Epoch [1000/10000], Train Loss: 3154.6612, Validation Loss: 1117.9746\n"
     ]
    },
    {
     "name": "stderr",
     "output_type": "stream",
     "text": [
      "[I 2024-02-06 22:27:50,042] Trial 77 finished with value: 1117.6439208984375 and parameters: {'hidden_size': 12, 'num_layers': 2, 'lr': 0.0014276661207678145}. Best is trial 35 with value: 4.019588947296143.\n"
     ]
    },
    {
     "name": "stdout",
     "output_type": "stream",
     "text": [
      "Epoch [1017/10000], Train Loss: 2913.3156, Validation Loss: 1117.6439\n",
      "Early stopping triggered. Stopping training.\n",
      "Epoch [100/10000], Train Loss: 55651.9292, Validation Loss: 6480.9863\n"
     ]
    },
    {
     "name": "stderr",
     "output_type": "stream",
     "text": [
      "[I 2024-02-06 22:27:55,033] Trial 78 finished with value: 6480.986328125 and parameters: {'hidden_size': 3, 'num_layers': 4, 'lr': 0.03583574411233752}. Best is trial 35 with value: 4.019588947296143.\n"
     ]
    },
    {
     "name": "stdout",
     "output_type": "stream",
     "text": [
      "Epoch [105/10000], Train Loss: 53770.7222, Validation Loss: 6480.9863\n",
      "Early stopping triggered. Stopping training.\n",
      "Epoch [100/10000], Train Loss: 2999.7259, Validation Loss: 1121.3967\n",
      "Epoch [200/10000], Train Loss: 3006.2843, Validation Loss: 1116.6884\n",
      "Epoch [300/10000], Train Loss: 112.8812, Validation Loss: 21.9138\n",
      "Epoch [400/10000], Train Loss: 50.9184, Validation Loss: 6.4276\n",
      "Epoch [500/10000], Train Loss: 38.4997, Validation Loss: 6.0398\n",
      "Epoch [600/10000], Train Loss: 49.3086, Validation Loss: 8.5349\n",
      "Epoch [700/10000], Train Loss: 32.9194, Validation Loss: 4.9341\n",
      "Epoch [800/10000], Train Loss: 49.0598, Validation Loss: 9.8097\n",
      "Epoch [900/10000], Train Loss: 36.4880, Validation Loss: 5.2137\n",
      "Epoch [1000/10000], Train Loss: 28.6722, Validation Loss: 6.3132\n",
      "Epoch [1100/10000], Train Loss: 38.1751, Validation Loss: 13.6961\n",
      "Epoch [1200/10000], Train Loss: 27.8719, Validation Loss: 10.4920\n"
     ]
    },
    {
     "name": "stderr",
     "output_type": "stream",
     "text": [
      "[I 2024-02-06 22:28:59,750] Trial 79 finished with value: 23.40427017211914 and parameters: {'hidden_size': 12, 'num_layers': 7, 'lr': 0.00947004576191129}. Best is trial 35 with value: 4.019588947296143.\n"
     ]
    },
    {
     "name": "stdout",
     "output_type": "stream",
     "text": [
      "Epoch [1210/10000], Train Loss: 254.9979, Validation Loss: 23.4043\n",
      "Early stopping triggered. Stopping training.\n",
      "Epoch [100/10000], Train Loss: 3173.4067, Validation Loss: 1126.7919\n",
      "Epoch [200/10000], Train Loss: 3060.7679, Validation Loss: 1115.4177\n",
      "Epoch [300/10000], Train Loss: 3158.6327, Validation Loss: 1114.3754\n",
      "Epoch [400/10000], Train Loss: 2992.5867, Validation Loss: 1117.3113\n"
     ]
    },
    {
     "name": "stderr",
     "output_type": "stream",
     "text": [
      "[I 2024-02-06 22:29:20,664] Trial 80 finished with value: 1141.0089111328125 and parameters: {'hidden_size': 12, 'num_layers': 1, 'lr': 0.06286582713877652}. Best is trial 35 with value: 4.019588947296143.\n"
     ]
    },
    {
     "name": "stdout",
     "output_type": "stream",
     "text": [
      "Epoch [493/10000], Train Loss: 3330.4792, Validation Loss: 1141.0089\n",
      "Early stopping triggered. Stopping training.\n",
      "Epoch [100/10000], Train Loss: 4141.9925, Validation Loss: 1178.0101\n",
      "Epoch [200/10000], Train Loss: 2372.7309, Validation Loss: 627.1558\n",
      "Epoch [300/10000], Train Loss: 195.2652, Validation Loss: 15.6577\n",
      "Epoch [400/10000], Train Loss: 137.7924, Validation Loss: 11.3727\n",
      "Epoch [500/10000], Train Loss: 152.5622, Validation Loss: 20.9786\n",
      "Epoch [600/10000], Train Loss: 52.0757, Validation Loss: 6.1363\n",
      "Epoch [700/10000], Train Loss: 41.9033, Validation Loss: 5.4435\n",
      "Epoch [800/10000], Train Loss: 36.7722, Validation Loss: 7.6658\n",
      "Epoch [900/10000], Train Loss: 41.2367, Validation Loss: 4.9566\n",
      "Epoch [1000/10000], Train Loss: 32.2236, Validation Loss: 5.3048\n",
      "Epoch [1100/10000], Train Loss: 29.1633, Validation Loss: 6.9488\n",
      "Epoch [1200/10000], Train Loss: 41.2358, Validation Loss: 4.6289\n"
     ]
    },
    {
     "name": "stderr",
     "output_type": "stream",
     "text": [
      "[I 2024-02-06 22:30:28,325] Trial 81 finished with value: 5.091649532318115 and parameters: {'hidden_size': 15, 'num_layers': 7, 'lr': 0.0013631545851455497}. Best is trial 35 with value: 4.019588947296143.\n"
     ]
    },
    {
     "name": "stdout",
     "output_type": "stream",
     "text": [
      "Epoch [1246/10000], Train Loss: 27.7345, Validation Loss: 5.0916\n",
      "Early stopping triggered. Stopping training.\n",
      "Epoch [100/10000], Train Loss: 4728.1149, Validation Loss: 1250.5154\n",
      "Epoch [200/10000], Train Loss: 3613.4867, Validation Loss: 1136.2581\n",
      "Epoch [300/10000], Train Loss: 3403.5605, Validation Loss: 1122.5797\n",
      "Epoch [400/10000], Train Loss: 3077.5323, Validation Loss: 1118.3423\n",
      "Epoch [500/10000], Train Loss: 3122.9136, Validation Loss: 1119.8936\n",
      "Epoch [600/10000], Train Loss: 2965.6534, Validation Loss: 1117.4913\n",
      "Epoch [700/10000], Train Loss: 3075.4959, Validation Loss: 1116.7087\n",
      "Epoch [800/10000], Train Loss: 2964.5743, Validation Loss: 1115.5624\n",
      "Epoch [900/10000], Train Loss: 3181.2286, Validation Loss: 1115.1132\n",
      "Epoch [1000/10000], Train Loss: 3311.4762, Validation Loss: 1115.3171\n",
      "Epoch [1100/10000], Train Loss: 3229.6781, Validation Loss: 1115.4666\n",
      "Epoch [1200/10000], Train Loss: 3391.2985, Validation Loss: 1114.5715\n",
      "Epoch [1300/10000], Train Loss: 3062.9277, Validation Loss: 1113.7300\n",
      "Epoch [1400/10000], Train Loss: 2968.5688, Validation Loss: 1115.1653\n",
      "Epoch [1500/10000], Train Loss: 3108.9727, Validation Loss: 1114.2334\n",
      "Epoch [1600/10000], Train Loss: 2906.8301, Validation Loss: 1113.3431\n",
      "Epoch [1700/10000], Train Loss: 2906.7549, Validation Loss: 1112.8573\n",
      "Epoch [1800/10000], Train Loss: 3398.1250, Validation Loss: 1112.9055\n",
      "Epoch [1900/10000], Train Loss: 2874.6907, Validation Loss: 1112.5067\n",
      "Epoch [2000/10000], Train Loss: 3142.0554, Validation Loss: 1113.6335\n",
      "Epoch [2100/10000], Train Loss: 2920.1278, Validation Loss: 1112.4082\n",
      "Epoch [2200/10000], Train Loss: 2942.1117, Validation Loss: 1112.1381\n",
      "Epoch [2300/10000], Train Loss: 3062.7721, Validation Loss: 1111.9690\n",
      "Epoch [2400/10000], Train Loss: 3044.1635, Validation Loss: 1111.7959\n",
      "Epoch [2500/10000], Train Loss: 3004.1544, Validation Loss: 1111.8508\n",
      "Epoch [2600/10000], Train Loss: 3019.8470, Validation Loss: 1111.6603\n",
      "Epoch [2700/10000], Train Loss: 2947.5391, Validation Loss: 1111.7177\n"
     ]
    },
    {
     "name": "stderr",
     "output_type": "stream",
     "text": [
      "[I 2024-02-06 22:33:00,493] Trial 82 finished with value: 1111.8841552734375 and parameters: {'hidden_size': 15, 'num_layers': 7, 'lr': 0.0005065606107879713}. Best is trial 35 with value: 4.019588947296143.\n"
     ]
    },
    {
     "name": "stdout",
     "output_type": "stream",
     "text": [
      "Epoch [2749/10000], Train Loss: 2966.2950, Validation Loss: 1111.8842\n",
      "Early stopping triggered. Stopping training.\n",
      "Epoch [100/10000], Train Loss: 556.7716, Validation Loss: 65.9848\n",
      "Epoch [200/10000], Train Loss: 317.6194, Validation Loss: 31.5449\n",
      "Epoch [300/10000], Train Loss: 213.3618, Validation Loss: 29.8864\n",
      "Epoch [400/10000], Train Loss: 153.8221, Validation Loss: 18.3454\n",
      "Epoch [500/10000], Train Loss: 121.0339, Validation Loss: 14.2344\n",
      "Epoch [600/10000], Train Loss: 85.8652, Validation Loss: 14.3626\n",
      "Epoch [700/10000], Train Loss: 78.4365, Validation Loss: 12.8495\n",
      "Epoch [800/10000], Train Loss: 84.4197, Validation Loss: 17.2416\n",
      "Epoch [900/10000], Train Loss: 114.3629, Validation Loss: 10.4615\n",
      "Epoch [1000/10000], Train Loss: 55.9935, Validation Loss: 8.9237\n",
      "Epoch [1100/10000], Train Loss: 61.5032, Validation Loss: 9.0673\n",
      "Epoch [1200/10000], Train Loss: 72.8723, Validation Loss: 8.9850\n",
      "Epoch [1300/10000], Train Loss: 34.3041, Validation Loss: 6.0780\n",
      "Epoch [1400/10000], Train Loss: 33.7397, Validation Loss: 6.4360\n",
      "Epoch [1500/10000], Train Loss: 30.6981, Validation Loss: 5.8537\n",
      "Epoch [1600/10000], Train Loss: 26.4094, Validation Loss: 6.2957\n"
     ]
    },
    {
     "name": "stderr",
     "output_type": "stream",
     "text": [
      "[I 2024-02-06 22:34:32,213] Trial 83 finished with value: 6.111918926239014 and parameters: {'hidden_size': 15, 'num_layers': 7, 'lr': 0.0031993954970676655}. Best is trial 35 with value: 4.019588947296143.\n"
     ]
    },
    {
     "name": "stdout",
     "output_type": "stream",
     "text": [
      "Epoch [1698/10000], Train Loss: 49.0912, Validation Loss: 6.1119\n",
      "Early stopping triggered. Stopping training.\n",
      "Epoch [100/10000], Train Loss: 22836.9087, Validation Loss: 2700.1658\n",
      "Epoch [200/10000], Train Loss: 4304.0598, Validation Loss: 1197.4268\n",
      "Epoch [300/10000], Train Loss: 3807.4314, Validation Loss: 1149.5084\n",
      "Epoch [400/10000], Train Loss: 3378.9794, Validation Loss: 1127.1017\n",
      "Epoch [500/10000], Train Loss: 3244.3966, Validation Loss: 1126.8157\n",
      "Epoch [600/10000], Train Loss: 3080.2647, Validation Loss: 1120.7145\n",
      "Epoch [700/10000], Train Loss: 3249.4534, Validation Loss: 1120.2838\n",
      "Epoch [800/10000], Train Loss: 3265.1887, Validation Loss: 1118.1353\n",
      "Epoch [900/10000], Train Loss: 3183.3054, Validation Loss: 1117.3287\n",
      "Epoch [1000/10000], Train Loss: 2877.0069, Validation Loss: 1117.4250\n",
      "Epoch [1100/10000], Train Loss: 3119.1613, Validation Loss: 1115.5687\n",
      "Epoch [1200/10000], Train Loss: 3379.7401, Validation Loss: 1115.7716\n",
      "Epoch [1300/10000], Train Loss: 2997.6592, Validation Loss: 1115.2936\n",
      "Epoch [1400/10000], Train Loss: 3192.6308, Validation Loss: 1115.8638\n",
      "Epoch [1500/10000], Train Loss: 3073.1359, Validation Loss: 1116.0156\n",
      "Epoch [1600/10000], Train Loss: 2859.0534, Validation Loss: 1115.1310\n",
      "Epoch [1700/10000], Train Loss: 3419.5970, Validation Loss: 1114.9150\n",
      "Epoch [1800/10000], Train Loss: 3019.5636, Validation Loss: 1116.3431\n",
      "Epoch [1900/10000], Train Loss: 3173.8996, Validation Loss: 1116.0474\n",
      "Epoch [2000/10000], Train Loss: 2948.7741, Validation Loss: 1114.4417\n",
      "Epoch [2100/10000], Train Loss: 3219.3631, Validation Loss: 1113.4473\n",
      "Epoch [2200/10000], Train Loss: 3343.2661, Validation Loss: 1113.2313\n",
      "Epoch [2300/10000], Train Loss: 2959.9051, Validation Loss: 1113.2690\n",
      "Epoch [2400/10000], Train Loss: 2911.4801, Validation Loss: 1113.0208\n",
      "Epoch [2500/10000], Train Loss: 3147.7043, Validation Loss: 1112.5343\n",
      "Epoch [2600/10000], Train Loss: 3072.0090, Validation Loss: 1113.8652\n",
      "Epoch [2700/10000], Train Loss: 3264.1887, Validation Loss: 1112.0341\n",
      "Epoch [2800/10000], Train Loss: 3023.1041, Validation Loss: 1112.1372\n"
     ]
    },
    {
     "name": "stderr",
     "output_type": "stream",
     "text": [
      "[I 2024-02-06 22:37:13,647] Trial 84 finished with value: 1112.3648681640625 and parameters: {'hidden_size': 6, 'num_layers': 11, 'lr': 0.0012223859993038798}. Best is trial 35 with value: 4.019588947296143.\n"
     ]
    },
    {
     "name": "stdout",
     "output_type": "stream",
     "text": [
      "Epoch [2892/10000], Train Loss: 2968.1028, Validation Loss: 1112.3649\n",
      "Early stopping triggered. Stopping training.\n",
      "Epoch [100/10000], Train Loss: 32178.8447, Validation Loss: 3726.3101\n",
      "Epoch [200/10000], Train Loss: 5311.2656, Validation Loss: 1364.6536\n",
      "Epoch [300/10000], Train Loss: 3824.7386, Validation Loss: 1179.9962\n",
      "Epoch [400/10000], Train Loss: 3635.6712, Validation Loss: 1142.8925\n",
      "Epoch [500/10000], Train Loss: 3629.4993, Validation Loss: 1125.4307\n",
      "Epoch [600/10000], Train Loss: 3347.8268, Validation Loss: 1121.3718\n",
      "Epoch [700/10000], Train Loss: 3133.5546, Validation Loss: 1118.0961\n",
      "Epoch [800/10000], Train Loss: 3008.9641, Validation Loss: 1116.6393\n",
      "Epoch [900/10000], Train Loss: 2938.2200, Validation Loss: 1116.6705\n",
      "Epoch [1000/10000], Train Loss: 3106.0981, Validation Loss: 1115.2538\n",
      "Epoch [1100/10000], Train Loss: 3184.7862, Validation Loss: 1114.6743\n",
      "Epoch [1200/10000], Train Loss: 3220.0840, Validation Loss: 1114.0511\n",
      "Epoch [1300/10000], Train Loss: 3142.2889, Validation Loss: 1113.8352\n",
      "Epoch [1400/10000], Train Loss: 3544.3168, Validation Loss: 1115.6479\n",
      "Epoch [1500/10000], Train Loss: 2843.9222, Validation Loss: 1112.8204\n",
      "Epoch [1600/10000], Train Loss: 3215.4877, Validation Loss: 1113.0411\n",
      "Epoch [1700/10000], Train Loss: 3119.4392, Validation Loss: 1112.4677\n",
      "Epoch [1800/10000], Train Loss: 3000.8203, Validation Loss: 1112.4720\n",
      "Epoch [1900/10000], Train Loss: 3114.1773, Validation Loss: 1112.2661\n",
      "Epoch [2000/10000], Train Loss: 2831.2475, Validation Loss: 1112.1060\n",
      "Epoch [2100/10000], Train Loss: 3075.0468, Validation Loss: 1111.9017\n",
      "Epoch [2200/10000], Train Loss: 3114.4500, Validation Loss: 1112.7246\n",
      "Epoch [2300/10000], Train Loss: 3115.1075, Validation Loss: 1111.6555\n",
      "Epoch [2400/10000], Train Loss: 2876.2120, Validation Loss: 1112.4292\n",
      "Epoch [2500/10000], Train Loss: 2917.5905, Validation Loss: 1111.6564\n",
      "Epoch [2600/10000], Train Loss: 3133.4039, Validation Loss: 1111.6256\n",
      "Epoch [2700/10000], Train Loss: 3264.0116, Validation Loss: 1111.7137\n"
     ]
    },
    {
     "name": "stderr",
     "output_type": "stream",
     "text": [
      "[I 2024-02-06 22:39:22,153] Trial 85 finished with value: 1111.6092529296875 and parameters: {'hidden_size': 15, 'num_layers': 7, 'lr': 0.00029900768702255897}. Best is trial 35 with value: 4.019588947296143.\n"
     ]
    },
    {
     "name": "stdout",
     "output_type": "stream",
     "text": [
      "Epoch [2713/10000], Train Loss: 2847.7087, Validation Loss: 1111.6093\n",
      "Early stopping triggered. Stopping training.\n",
      "Epoch [100/10000], Train Loss: 23180.7314, Validation Loss: 2727.7539\n",
      "Epoch [200/10000], Train Loss: 4678.1459, Validation Loss: 1287.5283\n",
      "Epoch [300/10000], Train Loss: 3998.9082, Validation Loss: 1188.6853\n",
      "Epoch [400/10000], Train Loss: 3649.9421, Validation Loss: 1158.9453\n",
      "Epoch [500/10000], Train Loss: 3327.5224, Validation Loss: 1148.8055\n",
      "Epoch [600/10000], Train Loss: 3154.1582, Validation Loss: 1147.8110\n",
      "Epoch [700/10000], Train Loss: 3307.0038, Validation Loss: 1138.0858\n",
      "Epoch [800/10000], Train Loss: 3281.2207, Validation Loss: 1133.7494\n",
      "Epoch [900/10000], Train Loss: 3119.4763, Validation Loss: 1129.1592\n",
      "Epoch [1000/10000], Train Loss: 3215.8745, Validation Loss: 1124.5342\n",
      "Epoch [1100/10000], Train Loss: 3001.8201, Validation Loss: 1122.4611\n",
      "Epoch [1200/10000], Train Loss: 3188.1338, Validation Loss: 1120.7002\n",
      "Epoch [1300/10000], Train Loss: 3244.5511, Validation Loss: 1116.9346\n",
      "Epoch [1400/10000], Train Loss: 3074.6877, Validation Loss: 1116.5015\n"
     ]
    },
    {
     "name": "stderr",
     "output_type": "stream",
     "text": [
      "[I 2024-02-06 22:40:22,517] Trial 86 finished with value: 1115.4063720703125 and parameters: {'hidden_size': 12, 'num_layers': 3, 'lr': 0.000882322132692202}. Best is trial 35 with value: 4.019588947296143.\n"
     ]
    },
    {
     "name": "stdout",
     "output_type": "stream",
     "text": [
      "Epoch [1489/10000], Train Loss: 2939.5609, Validation Loss: 1115.4064\n",
      "Early stopping triggered. Stopping training.\n",
      "Epoch [100/10000], Train Loss: 593.2783, Validation Loss: 39.7599\n",
      "Epoch [200/10000], Train Loss: 470.8443, Validation Loss: 73.6167\n",
      "Epoch [300/10000], Train Loss: 221.6093, Validation Loss: 26.8632\n",
      "Epoch [400/10000], Train Loss: 107.9650, Validation Loss: 12.1208\n",
      "Epoch [500/10000], Train Loss: 62.7657, Validation Loss: 7.2025\n",
      "Epoch [600/10000], Train Loss: 53.9709, Validation Loss: 6.9197\n",
      "Epoch [700/10000], Train Loss: 286.1604, Validation Loss: 22.3697\n",
      "Epoch [800/10000], Train Loss: 33.1086, Validation Loss: 6.0880\n"
     ]
    },
    {
     "name": "stderr",
     "output_type": "stream",
     "text": [
      "[I 2024-02-06 22:41:13,694] Trial 87 finished with value: 22.540969848632812 and parameters: {'hidden_size': 20, 'num_layers': 12, 'lr': 0.0054195990080442655}. Best is trial 35 with value: 4.019588947296143.\n"
     ]
    },
    {
     "name": "stdout",
     "output_type": "stream",
     "text": [
      "Epoch [892/10000], Train Loss: 72.3208, Validation Loss: 22.5410\n",
      "Early stopping triggered. Stopping training.\n",
      "Epoch [100/10000], Train Loss: 3918.5713, Validation Loss: 1177.4304\n",
      "Epoch [200/10000], Train Loss: 3635.9185, Validation Loss: 1122.4103\n",
      "Epoch [300/10000], Train Loss: 3185.1480, Validation Loss: 1119.1432\n",
      "Epoch [400/10000], Train Loss: 3299.4243, Validation Loss: 1115.1075\n",
      "Epoch [500/10000], Train Loss: 2916.0244, Validation Loss: 1115.5283\n",
      "Epoch [600/10000], Train Loss: 3005.4068, Validation Loss: 1113.2869\n",
      "Epoch [700/10000], Train Loss: 3113.5306, Validation Loss: 1113.1852\n",
      "Epoch [800/10000], Train Loss: 2893.0134, Validation Loss: 1111.6176\n",
      "Epoch [900/10000], Train Loss: 3087.2911, Validation Loss: 1113.3302\n",
      "Epoch [1000/10000], Train Loss: 3003.5780, Validation Loss: 1111.6727\n"
     ]
    },
    {
     "name": "stderr",
     "output_type": "stream",
     "text": [
      "[I 2024-02-06 22:41:59,195] Trial 88 finished with value: 1112.7496337890625 and parameters: {'hidden_size': 12, 'num_layers': 4, 'lr': 0.0019071941339082535}. Best is trial 35 with value: 4.019588947296143.\n"
     ]
    },
    {
     "name": "stdout",
     "output_type": "stream",
     "text": [
      "Epoch [1073/10000], Train Loss: 2930.4716, Validation Loss: 1112.7496\n",
      "Early stopping triggered. Stopping training.\n",
      "Epoch [100/10000], Train Loss: 31346.3113, Validation Loss: 3771.8760\n",
      "Epoch [200/10000], Train Loss: 15248.5708, Validation Loss: 2112.4204\n",
      "Epoch [300/10000], Train Loss: 4943.6859, Validation Loss: 1280.3784\n",
      "Epoch [400/10000], Train Loss: 4186.7004, Validation Loss: 1190.6447\n",
      "Epoch [500/10000], Train Loss: 3866.9491, Validation Loss: 1162.3628\n",
      "Epoch [600/10000], Train Loss: 3588.6244, Validation Loss: 1136.1163\n",
      "Epoch [700/10000], Train Loss: 3443.3808, Validation Loss: 1126.4424\n",
      "Epoch [800/10000], Train Loss: 3256.3651, Validation Loss: 1122.7664\n",
      "Epoch [900/10000], Train Loss: 3166.8285, Validation Loss: 1122.2682\n",
      "Epoch [1000/10000], Train Loss: 3036.3547, Validation Loss: 1122.5071\n",
      "Epoch [1100/10000], Train Loss: 3192.4299, Validation Loss: 1118.4753\n",
      "Epoch [1200/10000], Train Loss: 3255.5363, Validation Loss: 1117.3767\n",
      "Epoch [1300/10000], Train Loss: 3398.5160, Validation Loss: 1116.1510\n",
      "Epoch [1400/10000], Train Loss: 2948.0138, Validation Loss: 1115.6683\n",
      "Epoch [1500/10000], Train Loss: 3242.1424, Validation Loss: 1116.0682\n"
     ]
    },
    {
     "name": "stderr",
     "output_type": "stream",
     "text": [
      "[I 2024-02-06 22:43:13,432] Trial 89 finished with value: 1115.2442626953125 and parameters: {'hidden_size': 9, 'num_layers': 7, 'lr': 0.0004082579108209103}. Best is trial 35 with value: 4.019588947296143.\n"
     ]
    },
    {
     "name": "stdout",
     "output_type": "stream",
     "text": [
      "Epoch [1600/10000], Train Loss: 3061.9771, Validation Loss: 1115.1406\n",
      "Epoch [1601/10000], Train Loss: 3094.5062, Validation Loss: 1115.2443\n",
      "Early stopping triggered. Stopping training.\n",
      "Epoch [100/10000], Train Loss: 5424.1864, Validation Loss: 1317.7588\n",
      "Epoch [200/10000], Train Loss: 189.4071, Validation Loss: 12.1038\n",
      "Epoch [300/10000], Train Loss: 115.3573, Validation Loss: 10.8972\n",
      "Epoch [400/10000], Train Loss: 106.1417, Validation Loss: 8.0900\n",
      "Epoch [500/10000], Train Loss: 525.8449, Validation Loss: 26.0378\n"
     ]
    },
    {
     "name": "stderr",
     "output_type": "stream",
     "text": [
      "[I 2024-02-06 22:43:48,775] Trial 90 finished with value: 5.441503524780273 and parameters: {'hidden_size': 12, 'num_layers': 13, 'lr': 0.015850954521956385}. Best is trial 35 with value: 4.019588947296143.\n"
     ]
    },
    {
     "name": "stdout",
     "output_type": "stream",
     "text": [
      "Epoch [583/10000], Train Loss: 63.6876, Validation Loss: 5.4415\n",
      "Early stopping triggered. Stopping training.\n",
      "Epoch [100/10000], Train Loss: 295.4231, Validation Loss: 18.4554\n",
      "Epoch [200/10000], Train Loss: 123.7291, Validation Loss: 10.1836\n",
      "Epoch [300/10000], Train Loss: 387.3552, Validation Loss: 34.9073\n"
     ]
    },
    {
     "name": "stderr",
     "output_type": "stream",
     "text": [
      "[I 2024-02-06 22:44:10,309] Trial 91 finished with value: 7.92603063583374 and parameters: {'hidden_size': 12, 'num_layers': 13, 'lr': 0.022784157447737808}. Best is trial 35 with value: 4.019588947296143.\n"
     ]
    },
    {
     "name": "stdout",
     "output_type": "stream",
     "text": [
      "Epoch [373/10000], Train Loss: 73.1754, Validation Loss: 7.9260\n",
      "Early stopping triggered. Stopping training.\n",
      "Epoch [100/10000], Train Loss: 802.6339, Validation Loss: 64.7469\n",
      "Epoch [200/10000], Train Loss: 603.5414, Validation Loss: 45.1545\n",
      "Epoch [300/10000], Train Loss: 442.5320, Validation Loss: 50.5670\n",
      "Epoch [400/10000], Train Loss: 360.3998, Validation Loss: 45.4727\n",
      "Epoch [500/10000], Train Loss: 375.9332, Validation Loss: 34.8638\n",
      "Epoch [600/10000], Train Loss: 208.6642, Validation Loss: 27.7649\n",
      "Epoch [700/10000], Train Loss: 484.5133, Validation Loss: 45.9090\n"
     ]
    },
    {
     "name": "stderr",
     "output_type": "stream",
     "text": [
      "[I 2024-02-06 22:44:50,888] Trial 92 finished with value: 27.6241397857666 and parameters: {'hidden_size': 12, 'num_layers': 13, 'lr': 0.03234431278525375}. Best is trial 35 with value: 4.019588947296143.\n"
     ]
    },
    {
     "name": "stdout",
     "output_type": "stream",
     "text": [
      "Epoch [722/10000], Train Loss: 240.9652, Validation Loss: 27.6241\n",
      "Early stopping triggered. Stopping training.\n",
      "Epoch [100/10000], Train Loss: 323.6606, Validation Loss: 33.4780\n",
      "Epoch [200/10000], Train Loss: 1256.4548, Validation Loss: 84.1476\n",
      "Epoch [300/10000], Train Loss: 104.7566, Validation Loss: 22.7171\n",
      "Epoch [400/10000], Train Loss: 119.1030, Validation Loss: 10.7442\n"
     ]
    },
    {
     "name": "stderr",
     "output_type": "stream",
     "text": [
      "[I 2024-02-06 22:45:14,265] Trial 93 finished with value: 9.75893783569336 and parameters: {'hidden_size': 12, 'num_layers': 13, 'lr': 0.015762527115444677}. Best is trial 35 with value: 4.019588947296143.\n"
     ]
    },
    {
     "name": "stdout",
     "output_type": "stream",
     "text": [
      "Epoch [411/10000], Train Loss: 78.5933, Validation Loss: 9.7589\n",
      "Early stopping triggered. Stopping training.\n",
      "Epoch [100/10000], Train Loss: 562.5342, Validation Loss: 102.5115\n",
      "Epoch [200/10000], Train Loss: 151.4205, Validation Loss: 9.6125\n",
      "Epoch [300/10000], Train Loss: 300.2424, Validation Loss: 44.4599\n",
      "Epoch [400/10000], Train Loss: 1216.5383, Validation Loss: 267.7974\n"
     ]
    },
    {
     "name": "stderr",
     "output_type": "stream",
     "text": [
      "[I 2024-02-06 22:45:35,748] Trial 94 finished with value: 9.105023384094238 and parameters: {'hidden_size': 12, 'num_layers': 8, 'lr': 0.016771026250084673}. Best is trial 35 with value: 4.019588947296143.\n"
     ]
    },
    {
     "name": "stdout",
     "output_type": "stream",
     "text": [
      "Epoch [441/10000], Train Loss: 110.3953, Validation Loss: 9.1050\n",
      "Early stopping triggered. Stopping training.\n",
      "Epoch [100/10000], Train Loss: 26289.8384, Validation Loss: 3239.9822\n",
      "Epoch [200/10000], Train Loss: 4543.2432, Validation Loss: 1259.2733\n",
      "Epoch [300/10000], Train Loss: 3995.8968, Validation Loss: 1190.1787\n",
      "Epoch [400/10000], Train Loss: 3808.9016, Validation Loss: 1159.6001\n",
      "Epoch [500/10000], Train Loss: 3457.2721, Validation Loss: 1159.3943\n",
      "Epoch [600/10000], Train Loss: 3486.7140, Validation Loss: 1144.1136\n",
      "Epoch [700/10000], Train Loss: 3279.7991, Validation Loss: 1152.7124\n",
      "Epoch [800/10000], Train Loss: 3310.0094, Validation Loss: 1143.6183\n",
      "Epoch [900/10000], Train Loss: 3195.7404, Validation Loss: 1140.2056\n",
      "Epoch [1000/10000], Train Loss: 3469.2927, Validation Loss: 1138.7095\n",
      "Epoch [1100/10000], Train Loss: 3325.4556, Validation Loss: 1131.5962\n",
      "Epoch [1200/10000], Train Loss: 3195.1934, Validation Loss: 1132.1263\n",
      "Epoch [1300/10000], Train Loss: 3142.1375, Validation Loss: 1128.8414\n",
      "Epoch [1400/10000], Train Loss: 3106.0775, Validation Loss: 1124.8506\n",
      "Epoch [1500/10000], Train Loss: 3111.3841, Validation Loss: 1123.0826\n",
      "Epoch [1600/10000], Train Loss: 3142.9162, Validation Loss: 1120.7086\n",
      "Epoch [1700/10000], Train Loss: 3188.9643, Validation Loss: 1119.0757\n",
      "Epoch [1800/10000], Train Loss: 3064.9230, Validation Loss: 1117.9429\n",
      "Epoch [1900/10000], Train Loss: 2887.2054, Validation Loss: 1115.7827\n",
      "Epoch [2000/10000], Train Loss: 2993.8318, Validation Loss: 1114.7191\n",
      "Epoch [2100/10000], Train Loss: 3043.8576, Validation Loss: 1114.3270\n",
      "Epoch [2200/10000], Train Loss: 3027.4650, Validation Loss: 1115.5946\n",
      "Epoch [2300/10000], Train Loss: 3062.3497, Validation Loss: 1114.6298\n"
     ]
    },
    {
     "name": "stderr",
     "output_type": "stream",
     "text": [
      "[I 2024-02-06 22:47:16,291] Trial 95 finished with value: 1114.3582763671875 and parameters: {'hidden_size': 12, 'num_layers': 4, 'lr': 0.0006321918581411162}. Best is trial 35 with value: 4.019588947296143.\n"
     ]
    },
    {
     "name": "stdout",
     "output_type": "stream",
     "text": [
      "Epoch [2384/10000], Train Loss: 2956.2032, Validation Loss: 1114.3583\n",
      "Early stopping triggered. Stopping training.\n",
      "Epoch [100/10000], Train Loss: 3248.3852, Validation Loss: 1118.9093\n",
      "Epoch [200/10000], Train Loss: 3499.0981, Validation Loss: 1121.1696\n",
      "Epoch [300/10000], Train Loss: 3089.0862, Validation Loss: 1122.6366\n"
     ]
    },
    {
     "name": "stderr",
     "output_type": "stream",
     "text": [
      "[I 2024-02-06 22:47:28,492] Trial 96 finished with value: 1119.7606201171875 and parameters: {'hidden_size': 15, 'num_layers': 2, 'lr': 0.012802201207952486}. Best is trial 35 with value: 4.019588947296143.\n"
     ]
    },
    {
     "name": "stdout",
     "output_type": "stream",
     "text": [
      "Epoch [310/10000], Train Loss: 3149.4020, Validation Loss: 1119.7606\n",
      "Early stopping triggered. Stopping training.\n",
      "Epoch [100/10000], Train Loss: 3184.8049, Validation Loss: 1117.9558\n",
      "Epoch [200/10000], Train Loss: 3105.3453, Validation Loss: 1115.7167\n",
      "Epoch [300/10000], Train Loss: 3130.2288, Validation Loss: 1115.1392\n",
      "Epoch [400/10000], Train Loss: 2880.2860, Validation Loss: 1113.7198\n",
      "Epoch [500/10000], Train Loss: 3116.9816, Validation Loss: 1112.2314\n",
      "Epoch [600/10000], Train Loss: 3084.0233, Validation Loss: 1114.2258\n",
      "Epoch [700/10000], Train Loss: 3005.6125, Validation Loss: 1111.5892\n"
     ]
    },
    {
     "name": "stderr",
     "output_type": "stream",
     "text": [
      "[I 2024-02-06 22:48:05,539] Trial 97 finished with value: 1112.1204833984375 and parameters: {'hidden_size': 12, 'num_layers': 7, 'lr': 0.0074414935674440115}. Best is trial 35 with value: 4.019588947296143.\n"
     ]
    },
    {
     "name": "stdout",
     "output_type": "stream",
     "text": [
      "Epoch [790/10000], Train Loss: 3189.4625, Validation Loss: 1112.1205\n",
      "Early stopping triggered. Stopping training.\n",
      "Epoch [100/10000], Train Loss: 3569.0999, Validation Loss: 1141.8080\n",
      "Epoch [200/10000], Train Loss: 3090.1686, Validation Loss: 1117.7405\n",
      "Epoch [300/10000], Train Loss: 3158.1195, Validation Loss: 1118.5873\n",
      "Epoch [400/10000], Train Loss: 2885.7153, Validation Loss: 1119.0396\n",
      "Epoch [500/10000], Train Loss: 3058.5498, Validation Loss: 1114.3943\n",
      "Epoch [600/10000], Train Loss: 3214.1195, Validation Loss: 1113.8610\n",
      "Epoch [700/10000], Train Loss: 3178.3782, Validation Loss: 1112.5961\n",
      "Epoch [800/10000], Train Loss: 3034.6711, Validation Loss: 1112.1284\n",
      "Epoch [900/10000], Train Loss: 3071.8838, Validation Loss: 1114.1538\n",
      "Epoch [1000/10000], Train Loss: 3142.6537, Validation Loss: 1112.8606\n",
      "Epoch [1100/10000], Train Loss: 3256.5509, Validation Loss: 1112.7598\n",
      "Epoch [1200/10000], Train Loss: 2966.1087, Validation Loss: 1112.6705\n",
      "Epoch [1300/10000], Train Loss: 3378.1719, Validation Loss: 1112.2340\n",
      "Epoch [1400/10000], Train Loss: 2924.5136, Validation Loss: 1112.4240\n",
      "Epoch [1500/10000], Train Loss: 3012.3453, Validation Loss: 1115.0078\n"
     ]
    },
    {
     "name": "stderr",
     "output_type": "stream",
     "text": [
      "[I 2024-02-06 22:49:14,367] Trial 98 finished with value: 1111.257080078125 and parameters: {'hidden_size': 20, 'num_layers': 5, 'lr': 0.0013297166116638308}. Best is trial 35 with value: 4.019588947296143.\n"
     ]
    },
    {
     "name": "stdout",
     "output_type": "stream",
     "text": [
      "Epoch [1541/10000], Train Loss: 3076.2909, Validation Loss: 1111.2571\n",
      "Early stopping triggered. Stopping training.\n",
      "Epoch [100/10000], Train Loss: 55239.6626, Validation Loss: 6480.9863\n"
     ]
    },
    {
     "name": "stderr",
     "output_type": "stream",
     "text": [
      "[I 2024-02-06 22:49:20,107] Trial 99 finished with value: 6480.986328125 and parameters: {'hidden_size': 3, 'num_layers': 13, 'lr': 0.01045982870744778}. Best is trial 35 with value: 4.019588947296143.\n"
     ]
    },
    {
     "name": "stdout",
     "output_type": "stream",
     "text": [
      "Epoch [107/10000], Train Loss: 55701.9922, Validation Loss: 6480.9863\n",
      "Early stopping triggered. Stopping training.\n",
      "Epoch [100/10000], Train Loss: 3449.4323, Validation Loss: 1125.7462\n",
      "Epoch [200/10000], Train Loss: 3010.9852, Validation Loss: 1117.4476\n",
      "Epoch [300/10000], Train Loss: 3093.1869, Validation Loss: 1116.1423\n",
      "Epoch [400/10000], Train Loss: 3124.8508, Validation Loss: 1116.3146\n",
      "Epoch [500/10000], Train Loss: 2963.1718, Validation Loss: 1114.2560\n"
     ]
    },
    {
     "name": "stderr",
     "output_type": "stream",
     "text": [
      "[I 2024-02-06 22:49:49,263] Trial 100 finished with value: 1114.72119140625 and parameters: {'hidden_size': 12, 'num_layers': 10, 'lr': 0.004292402190607267}. Best is trial 35 with value: 4.019588947296143.\n"
     ]
    },
    {
     "name": "stdout",
     "output_type": "stream",
     "text": [
      "Epoch [564/10000], Train Loss: 3118.2280, Validation Loss: 1114.7212\n",
      "Early stopping triggered. Stopping training.\n",
      "Epoch [100/10000], Train Loss: 3901.9158, Validation Loss: 1158.7324\n",
      "Epoch [200/10000], Train Loss: 3183.5321, Validation Loss: 1124.7179\n",
      "Epoch [300/10000], Train Loss: 3164.9535, Validation Loss: 1119.3805\n",
      "Epoch [400/10000], Train Loss: 2960.7336, Validation Loss: 1116.6439\n",
      "Epoch [500/10000], Train Loss: 3424.2906, Validation Loss: 1113.9211\n",
      "Epoch [600/10000], Train Loss: 3110.3210, Validation Loss: 1118.4205\n",
      "Epoch [700/10000], Train Loss: 3040.5766, Validation Loss: 1114.8885\n",
      "Epoch [800/10000], Train Loss: 3214.4575, Validation Loss: 1112.1678\n",
      "Epoch [900/10000], Train Loss: 3000.9413, Validation Loss: 1111.6912\n",
      "Epoch [1000/10000], Train Loss: 2919.9612, Validation Loss: 1111.6304\n"
     ]
    },
    {
     "name": "stderr",
     "output_type": "stream",
     "text": [
      "[I 2024-02-06 22:50:41,267] Trial 101 finished with value: 1113.1668701171875 and parameters: {'hidden_size': 15, 'num_layers': 7, 'lr': 0.0014950344385589354}. Best is trial 35 with value: 4.019588947296143.\n"
     ]
    },
    {
     "name": "stdout",
     "output_type": "stream",
     "text": [
      "Epoch [1099/10000], Train Loss: 3187.2788, Validation Loss: 1113.1669\n",
      "Early stopping triggered. Stopping training.\n",
      "Epoch [100/10000], Train Loss: 3352.6743, Validation Loss: 1123.2561\n",
      "Epoch [200/10000], Train Loss: 3436.9588, Validation Loss: 1116.4814\n",
      "Epoch [300/10000], Train Loss: 3194.1465, Validation Loss: 1113.7493\n",
      "Epoch [400/10000], Train Loss: 3249.7721, Validation Loss: 1120.6017\n",
      "Epoch [500/10000], Train Loss: 3107.3384, Validation Loss: 1112.9552\n"
     ]
    },
    {
     "name": "stderr",
     "output_type": "stream",
     "text": [
      "[I 2024-02-06 22:51:07,465] Trial 102 finished with value: 1113.94873046875 and parameters: {'hidden_size': 15, 'num_layers': 7, 'lr': 0.0028597740483400883}. Best is trial 35 with value: 4.019588947296143.\n"
     ]
    },
    {
     "name": "stdout",
     "output_type": "stream",
     "text": [
      "Epoch [556/10000], Train Loss: 3094.4284, Validation Loss: 1113.9487\n",
      "Early stopping triggered. Stopping training.\n",
      "Epoch [100/10000], Train Loss: 4869.7459, Validation Loss: 1282.3730\n",
      "Epoch [200/10000], Train Loss: 3751.5631, Validation Loss: 1148.5538\n",
      "Epoch [300/10000], Train Loss: 3617.6014, Validation Loss: 1125.9786\n",
      "Epoch [400/10000], Train Loss: 3278.4330, Validation Loss: 1118.6306\n",
      "Epoch [500/10000], Train Loss: 3053.2162, Validation Loss: 1115.1890\n",
      "Epoch [600/10000], Train Loss: 2941.6183, Validation Loss: 1118.8265\n",
      "Epoch [700/10000], Train Loss: 3170.6853, Validation Loss: 1114.2195\n",
      "Epoch [800/10000], Train Loss: 3036.8168, Validation Loss: 1120.5210\n",
      "Epoch [900/10000], Train Loss: 3213.9826, Validation Loss: 1113.2865\n",
      "Epoch [1000/10000], Train Loss: 3445.9755, Validation Loss: 1113.2200\n",
      "Epoch [1100/10000], Train Loss: 3061.6282, Validation Loss: 1119.6608\n"
     ]
    },
    {
     "name": "stderr",
     "output_type": "stream",
     "text": [
      "[I 2024-02-06 22:52:03,724] Trial 103 finished with value: 1113.6329345703125 and parameters: {'hidden_size': 15, 'num_layers': 7, 'lr': 0.0010330355278049233}. Best is trial 35 with value: 4.019588947296143.\n"
     ]
    },
    {
     "name": "stdout",
     "output_type": "stream",
     "text": [
      "Epoch [1189/10000], Train Loss: 2963.4809, Validation Loss: 1113.6329\n",
      "Early stopping triggered. Stopping training.\n",
      "Epoch [100/10000], Train Loss: 3569.8198, Validation Loss: 1170.9165\n",
      "Epoch [200/10000], Train Loss: 3132.8611, Validation Loss: 1121.0458\n",
      "Epoch [300/10000], Train Loss: 3133.1889, Validation Loss: 1116.8732\n",
      "Epoch [400/10000], Train Loss: 3270.7444, Validation Loss: 1114.0607\n",
      "Epoch [500/10000], Train Loss: 3121.6007, Validation Loss: 1113.0370\n",
      "Epoch [600/10000], Train Loss: 3027.1570, Validation Loss: 1112.6354\n",
      "Epoch [700/10000], Train Loss: 3038.3271, Validation Loss: 1113.8011\n",
      "Epoch [800/10000], Train Loss: 3170.0178, Validation Loss: 1112.7687\n"
     ]
    },
    {
     "name": "stderr",
     "output_type": "stream",
     "text": [
      "[I 2024-02-06 22:52:37,908] Trial 104 finished with value: 1112.244384765625 and parameters: {'hidden_size': 15, 'num_layers': 4, 'lr': 0.00161240749855539}. Best is trial 35 with value: 4.019588947296143.\n"
     ]
    },
    {
     "name": "stdout",
     "output_type": "stream",
     "text": [
      "Epoch [811/10000], Train Loss: 2980.7493, Validation Loss: 1112.2444\n",
      "Early stopping triggered. Stopping training.\n",
      "Epoch [100/10000], Train Loss: 29245.7278, Validation Loss: 3509.1736\n",
      "Epoch [200/10000], Train Loss: 4439.7581, Validation Loss: 1208.9917\n",
      "Epoch [300/10000], Train Loss: 3812.4673, Validation Loss: 1162.3081\n",
      "Epoch [400/10000], Train Loss: 3362.9104, Validation Loss: 1132.3324\n",
      "Epoch [500/10000], Train Loss: 1313.4461, Validation Loss: 336.3763\n",
      "Epoch [600/10000], Train Loss: 241.3661, Validation Loss: 24.7184\n",
      "Epoch [700/10000], Train Loss: 146.4011, Validation Loss: 13.2558\n",
      "Epoch [800/10000], Train Loss: 107.7454, Validation Loss: 11.3340\n",
      "Epoch [900/10000], Train Loss: 94.7505, Validation Loss: 11.9223\n",
      "Epoch [1000/10000], Train Loss: 90.9108, Validation Loss: 9.2577\n",
      "Epoch [1100/10000], Train Loss: 87.9694, Validation Loss: 11.9712\n",
      "Epoch [1200/10000], Train Loss: 53.2953, Validation Loss: 9.0491\n",
      "Epoch [1300/10000], Train Loss: 53.3608, Validation Loss: 8.6189\n",
      "Epoch [1400/10000], Train Loss: 55.8015, Validation Loss: 10.5307\n",
      "Epoch [1500/10000], Train Loss: 41.0820, Validation Loss: 7.1494\n",
      "Epoch [1600/10000], Train Loss: 51.3026, Validation Loss: 6.8892\n",
      "Epoch [1700/10000], Train Loss: 41.7044, Validation Loss: 6.3803\n",
      "Epoch [1800/10000], Train Loss: 62.2638, Validation Loss: 7.8397\n",
      "Epoch [1900/10000], Train Loss: 41.7811, Validation Loss: 7.5904\n"
     ]
    },
    {
     "name": "stderr",
     "output_type": "stream",
     "text": [
      "[I 2024-02-06 22:54:08,420] Trial 105 finished with value: 7.110663414001465 and parameters: {'hidden_size': 12, 'num_layers': 7, 'lr': 0.0008027711888347434}. Best is trial 35 with value: 4.019588947296143.\n"
     ]
    },
    {
     "name": "stdout",
     "output_type": "stream",
     "text": [
      "Epoch [1940/10000], Train Loss: 53.7399, Validation Loss: 7.1107\n",
      "Early stopping triggered. Stopping training.\n",
      "Epoch [100/10000], Train Loss: 27290.6890, Validation Loss: 3206.9038\n",
      "Epoch [200/10000], Train Loss: 4213.7586, Validation Loss: 1186.4801\n",
      "Epoch [300/10000], Train Loss: 3540.3767, Validation Loss: 1133.8058\n",
      "Epoch [400/10000], Train Loss: 3234.2902, Validation Loss: 1121.5580\n",
      "Epoch [500/10000], Train Loss: 3048.8655, Validation Loss: 1120.4658\n",
      "Epoch [600/10000], Train Loss: 3139.4738, Validation Loss: 1124.3088\n",
      "Epoch [700/10000], Train Loss: 3163.2610, Validation Loss: 1117.8193\n",
      "Epoch [800/10000], Train Loss: 3111.9263, Validation Loss: 1117.7487\n",
      "Epoch [900/10000], Train Loss: 2978.1129, Validation Loss: 1117.8862\n",
      "Epoch [1000/10000], Train Loss: 3014.0854, Validation Loss: 1116.4889\n",
      "Epoch [1100/10000], Train Loss: 2986.3429, Validation Loss: 1117.5413\n",
      "Epoch [1200/10000], Train Loss: 2931.8015, Validation Loss: 1117.9691\n",
      "Epoch [1300/10000], Train Loss: 3157.3337, Validation Loss: 1115.8811\n",
      "Epoch [1400/10000], Train Loss: 3022.7117, Validation Loss: 1115.9055\n"
     ]
    },
    {
     "name": "stderr",
     "output_type": "stream",
     "text": [
      "[I 2024-02-06 22:55:14,030] Trial 106 finished with value: 1115.9854736328125 and parameters: {'hidden_size': 6, 'num_layers': 6, 'lr': 0.0020801727677161063}. Best is trial 35 with value: 4.019588947296143.\n"
     ]
    },
    {
     "name": "stdout",
     "output_type": "stream",
     "text": [
      "Epoch [1478/10000], Train Loss: 2979.2829, Validation Loss: 1115.9855\n",
      "Early stopping triggered. Stopping training.\n",
      "Epoch [100/10000], Train Loss: 7766.1677, Validation Loss: 1505.3776\n",
      "Epoch [200/10000], Train Loss: 3688.7171, Validation Loss: 1174.1768\n",
      "Epoch [300/10000], Train Loss: 3226.9464, Validation Loss: 1132.6962\n",
      "Epoch [400/10000], Train Loss: 3312.0414, Validation Loss: 1118.0709\n",
      "Epoch [500/10000], Train Loss: 3193.9052, Validation Loss: 1115.4581\n",
      "Epoch [600/10000], Train Loss: 3019.0589, Validation Loss: 1114.7411\n",
      "Epoch [700/10000], Train Loss: 3016.2731, Validation Loss: 1113.6504\n",
      "Epoch [800/10000], Train Loss: 2989.8418, Validation Loss: 1113.7537\n",
      "Epoch [900/10000], Train Loss: 3002.5762, Validation Loss: 1112.5415\n",
      "Epoch [1000/10000], Train Loss: 3191.5565, Validation Loss: 1111.9297\n",
      "Epoch [1100/10000], Train Loss: 3207.2745, Validation Loss: 1112.7269\n",
      "Epoch [1200/10000], Train Loss: 1773.9450, Validation Loss: 605.6180\n",
      "Epoch [1300/10000], Train Loss: 154.0099, Validation Loss: 49.3093\n",
      "Epoch [1400/10000], Train Loss: 62.4344, Validation Loss: 13.2915\n",
      "Epoch [1500/10000], Train Loss: 48.6072, Validation Loss: 9.3336\n",
      "Epoch [1600/10000], Train Loss: 45.9365, Validation Loss: 7.4323\n",
      "Epoch [1700/10000], Train Loss: 35.7064, Validation Loss: 7.1690\n",
      "Epoch [1800/10000], Train Loss: 38.3449, Validation Loss: 6.9116\n",
      "Epoch [1900/10000], Train Loss: 28.8979, Validation Loss: 5.6971\n",
      "Epoch [2000/10000], Train Loss: 42.5714, Validation Loss: 6.0667\n",
      "Epoch [2100/10000], Train Loss: 24.5050, Validation Loss: 5.3570\n",
      "Epoch [2200/10000], Train Loss: 29.1081, Validation Loss: 5.4098\n",
      "Epoch [2300/10000], Train Loss: 26.0903, Validation Loss: 5.2360\n",
      "Epoch [2400/10000], Train Loss: 22.8207, Validation Loss: 4.9468\n"
     ]
    },
    {
     "name": "stderr",
     "output_type": "stream",
     "text": [
      "[I 2024-02-06 22:56:59,827] Trial 107 finished with value: 4.96238374710083 and parameters: {'hidden_size': 20, 'num_layers': 4, 'lr': 0.000502719443149218}. Best is trial 35 with value: 4.019588947296143.\n"
     ]
    },
    {
     "name": "stdout",
     "output_type": "stream",
     "text": [
      "Epoch [2456/10000], Train Loss: 24.6775, Validation Loss: 4.9624\n",
      "Early stopping triggered. Stopping training.\n",
      "Epoch [100/10000], Train Loss: 10764.8997, Validation Loss: 1730.4474\n",
      "Epoch [200/10000], Train Loss: 3964.5613, Validation Loss: 1177.1704\n",
      "Epoch [300/10000], Train Loss: 3458.8854, Validation Loss: 1150.2267\n",
      "Epoch [400/10000], Train Loss: 3773.6304, Validation Loss: 1140.4735\n",
      "Epoch [500/10000], Train Loss: 3306.8118, Validation Loss: 1126.7957\n",
      "Epoch [600/10000], Train Loss: 3380.9776, Validation Loss: 1122.7965\n",
      "Epoch [700/10000], Train Loss: 3233.7769, Validation Loss: 1123.6329\n"
     ]
    },
    {
     "name": "stderr",
     "output_type": "stream",
     "text": [
      "[I 2024-02-06 22:57:32,804] Trial 108 finished with value: 1122.758544921875 and parameters: {'hidden_size': 20, 'num_layers': 4, 'lr': 0.0005002532982483084}. Best is trial 35 with value: 4.019588947296143.\n"
     ]
    },
    {
     "name": "stdout",
     "output_type": "stream",
     "text": [
      "Epoch [759/10000], Train Loss: 3427.7716, Validation Loss: 1122.7585\n",
      "Early stopping triggered. Stopping training.\n",
      "Epoch [100/10000], Train Loss: 4610.1720, Validation Loss: 1255.6378\n",
      "Epoch [200/10000], Train Loss: 3586.5925, Validation Loss: 1131.1520\n",
      "Epoch [300/10000], Train Loss: 3183.8761, Validation Loss: 1114.9109\n",
      "Epoch [400/10000], Train Loss: 3215.4937, Validation Loss: 1114.0674\n",
      "Epoch [500/10000], Train Loss: 2967.8315, Validation Loss: 1112.9589\n",
      "Epoch [600/10000], Train Loss: 3221.2198, Validation Loss: 1112.2607\n",
      "Epoch [700/10000], Train Loss: 3019.9520, Validation Loss: 1112.0737\n",
      "Epoch [800/10000], Train Loss: 2947.4435, Validation Loss: 1112.2634\n",
      "Epoch [900/10000], Train Loss: 3079.5494, Validation Loss: 1111.5930\n"
     ]
    },
    {
     "name": "stderr",
     "output_type": "stream",
     "text": [
      "[I 2024-02-06 22:58:16,355] Trial 109 finished with value: 1111.67919921875 and parameters: {'hidden_size': 20, 'num_layers': 4, 'lr': 0.0006176221434505617}. Best is trial 35 with value: 4.019588947296143.\n"
     ]
    },
    {
     "name": "stdout",
     "output_type": "stream",
     "text": [
      "Epoch [1000/10000], Train Loss: 3054.2319, Validation Loss: 1111.6173\n",
      "Epoch [1003/10000], Train Loss: 2996.6050, Validation Loss: 1111.6792\n",
      "Early stopping triggered. Stopping training.\n",
      "Epoch [100/10000], Train Loss: 31513.0327, Validation Loss: 3676.0032\n",
      "Epoch [200/10000], Train Loss: 10808.8320, Validation Loss: 1841.6172\n",
      "Epoch [300/10000], Train Loss: 4623.3625, Validation Loss: 1236.6125\n",
      "Epoch [400/10000], Train Loss: 3832.7682, Validation Loss: 1167.1333\n",
      "Epoch [500/10000], Train Loss: 3477.1317, Validation Loss: 1140.4585\n",
      "Epoch [600/10000], Train Loss: 3793.3252, Validation Loss: 1125.6222\n",
      "Epoch [700/10000], Train Loss: 3364.5638, Validation Loss: 1118.3651\n",
      "Epoch [800/10000], Train Loss: 3357.4950, Validation Loss: 1115.6255\n",
      "Epoch [900/10000], Train Loss: 3382.3171, Validation Loss: 1115.1309\n",
      "Epoch [1000/10000], Train Loss: 3342.7006, Validation Loss: 1114.7395\n",
      "Epoch [1100/10000], Train Loss: 3013.9036, Validation Loss: 1113.7455\n",
      "Epoch [1200/10000], Train Loss: 3138.3359, Validation Loss: 1113.4070\n",
      "Epoch [1300/10000], Train Loss: 2938.4328, Validation Loss: 1113.0920\n",
      "Epoch [1400/10000], Train Loss: 3128.7552, Validation Loss: 1112.8126\n",
      "Epoch [1500/10000], Train Loss: 3139.0409, Validation Loss: 1112.6982\n",
      "Epoch [1600/10000], Train Loss: 2969.6087, Validation Loss: 1112.8993\n",
      "Epoch [1700/10000], Train Loss: 3139.0709, Validation Loss: 1112.5657\n"
     ]
    },
    {
     "name": "stderr",
     "output_type": "stream",
     "text": [
      "[I 2024-02-06 22:59:31,628] Trial 110 finished with value: 1112.2314453125 and parameters: {'hidden_size': 20, 'num_layers': 4, 'lr': 0.00026599073306258006}. Best is trial 35 with value: 4.019588947296143.\n"
     ]
    },
    {
     "name": "stdout",
     "output_type": "stream",
     "text": [
      "Epoch [1760/10000], Train Loss: 3059.8303, Validation Loss: 1112.2314\n",
      "Early stopping triggered. Stopping training.\n",
      "Epoch [100/10000], Train Loss: 5216.4825, Validation Loss: 1324.0525\n",
      "Epoch [200/10000], Train Loss: 3756.2909, Validation Loss: 1178.9891\n",
      "Epoch [300/10000], Train Loss: 3468.6115, Validation Loss: 1122.5155\n",
      "Epoch [400/10000], Train Loss: 3319.2631, Validation Loss: 1117.5063\n",
      "Epoch [500/10000], Train Loss: 3540.5735, Validation Loss: 1115.2902\n",
      "Epoch [600/10000], Train Loss: 3249.1025, Validation Loss: 1116.6176\n",
      "Epoch [700/10000], Train Loss: 2999.1578, Validation Loss: 1113.8638\n",
      "Epoch [800/10000], Train Loss: 3115.7370, Validation Loss: 1113.3689\n",
      "Epoch [900/10000], Train Loss: 3057.6000, Validation Loss: 1112.6573\n",
      "Epoch [1000/10000], Train Loss: 2885.1731, Validation Loss: 1113.4717\n",
      "Epoch [1100/10000], Train Loss: 3008.4871, Validation Loss: 1112.4501\n",
      "Epoch [1200/10000], Train Loss: 3260.9783, Validation Loss: 1112.3436\n"
     ]
    },
    {
     "name": "stderr",
     "output_type": "stream",
     "text": [
      "[I 2024-02-06 23:00:25,680] Trial 111 finished with value: 1113.3670654296875 and parameters: {'hidden_size': 20, 'num_layers': 4, 'lr': 0.0011797092657134115}. Best is trial 35 with value: 4.019588947296143.\n"
     ]
    },
    {
     "name": "stdout",
     "output_type": "stream",
     "text": [
      "Epoch [1263/10000], Train Loss: 3091.4907, Validation Loss: 1113.3671\n",
      "Early stopping triggered. Stopping training.\n",
      "Epoch [100/10000], Train Loss: 33120.1790, Validation Loss: 3746.6934\n",
      "Epoch [200/10000], Train Loss: 24898.6257, Validation Loss: 3271.9585\n",
      "Epoch [300/10000], Train Loss: 16565.5742, Validation Loss: 2379.2168\n",
      "Epoch [400/10000], Train Loss: 7892.1055, Validation Loss: 1584.5153\n",
      "Epoch [500/10000], Train Loss: 5253.3264, Validation Loss: 1318.2656\n",
      "Epoch [600/10000], Train Loss: 4147.8541, Validation Loss: 1230.0986\n",
      "Epoch [700/10000], Train Loss: 3840.4742, Validation Loss: 1182.3225\n",
      "Epoch [800/10000], Train Loss: 3732.2084, Validation Loss: 1170.1146\n",
      "Epoch [900/10000], Train Loss: 3533.1617, Validation Loss: 1163.8096\n",
      "Epoch [1000/10000], Train Loss: 3669.1112, Validation Loss: 1159.2240\n",
      "Epoch [1100/10000], Train Loss: 3372.6820, Validation Loss: 1156.2594\n",
      "Epoch [1200/10000], Train Loss: 3458.5508, Validation Loss: 1151.2319\n"
     ]
    },
    {
     "name": "stderr",
     "output_type": "stream",
     "text": [
      "[I 2024-02-06 23:01:13,951] Trial 112 finished with value: 1149.390625 and parameters: {'hidden_size': 12, 'num_layers': 1, 'lr': 0.0007042247080755829}. Best is trial 35 with value: 4.019588947296143.\n"
     ]
    },
    {
     "name": "stdout",
     "output_type": "stream",
     "text": [
      "Epoch [1295/10000], Train Loss: 3260.1233, Validation Loss: 1149.3906\n",
      "Early stopping triggered. Stopping training.\n"
     ]
    },
    {
     "name": "stderr",
     "output_type": "stream",
     "text": [
      "[I 2024-02-06 23:01:21,953] Trial 113 finished with value: 6480.986328125 and parameters: {'hidden_size': 20, 'num_layers': 9, 'lr': 0.08221436131790402}. Best is trial 35 with value: 4.019588947296143.\n"
     ]
    },
    {
     "name": "stdout",
     "output_type": "stream",
     "text": [
      "Epoch [100/10000], Train Loss: 56954.9209, Validation Loss: 6480.9863\n",
      "Epoch [101/10000], Train Loss: 56843.1670, Validation Loss: 6480.9863\n",
      "Early stopping triggered. Stopping training.\n",
      "Epoch [100/10000], Train Loss: 27199.1396, Validation Loss: 3312.8464\n",
      "Epoch [200/10000], Train Loss: 8429.0182, Validation Loss: 1623.5486\n",
      "Epoch [300/10000], Train Loss: 4242.1472, Validation Loss: 1202.2365\n",
      "Epoch [400/10000], Train Loss: 3735.0649, Validation Loss: 1160.3057\n",
      "Epoch [500/10000], Train Loss: 3627.2544, Validation Loss: 1145.3120\n",
      "Epoch [600/10000], Train Loss: 3858.4101, Validation Loss: 1137.6774\n",
      "Epoch [700/10000], Train Loss: 3615.5262, Validation Loss: 1132.3347\n",
      "Epoch [800/10000], Train Loss: 3596.0916, Validation Loss: 1131.9979\n",
      "Epoch [900/10000], Train Loss: 3496.7508, Validation Loss: 1127.8929\n",
      "Epoch [1000/10000], Train Loss: 3501.7137, Validation Loss: 1128.8876\n",
      "Epoch [1100/10000], Train Loss: 3046.6682, Validation Loss: 1126.7010\n",
      "Epoch [1200/10000], Train Loss: 2918.4003, Validation Loss: 1123.5500\n",
      "Epoch [1300/10000], Train Loss: 3268.4005, Validation Loss: 1125.1378\n",
      "Epoch [1400/10000], Train Loss: 2915.4673, Validation Loss: 1118.2603\n",
      "Epoch [1500/10000], Train Loss: 3025.6394, Validation Loss: 1117.7028\n",
      "Epoch [1600/10000], Train Loss: 3129.0147, Validation Loss: 1117.1608\n",
      "Epoch [1700/10000], Train Loss: 3085.5369, Validation Loss: 1115.4106\n",
      "Epoch [1800/10000], Train Loss: 2858.6975, Validation Loss: 1115.4261\n",
      "Epoch [1900/10000], Train Loss: 2938.3886, Validation Loss: 1114.5334\n",
      "Epoch [2000/10000], Train Loss: 2997.1033, Validation Loss: 1114.2849\n",
      "Epoch [2100/10000], Train Loss: 3198.6713, Validation Loss: 1114.6937\n",
      "Epoch [2200/10000], Train Loss: 3075.0094, Validation Loss: 1121.7186\n",
      "Epoch [2300/10000], Train Loss: 2994.5995, Validation Loss: 1115.1925\n",
      "Epoch [2400/10000], Train Loss: 2887.7079, Validation Loss: 1113.4207\n",
      "Epoch [2500/10000], Train Loss: 3051.1017, Validation Loss: 1113.2750\n",
      "Epoch [2600/10000], Train Loss: 2990.0087, Validation Loss: 1113.3003\n",
      "Epoch [2700/10000], Train Loss: 3002.1708, Validation Loss: 1113.5278\n",
      "Epoch [2800/10000], Train Loss: 3294.2556, Validation Loss: 1113.2664\n",
      "Epoch [2900/10000], Train Loss: 2876.1254, Validation Loss: 1112.8093\n",
      "Epoch [3000/10000], Train Loss: 3071.1397, Validation Loss: 1112.6801\n"
     ]
    },
    {
     "name": "stderr",
     "output_type": "stream",
     "text": [
      "[I 2024-02-06 23:03:43,494] Trial 114 finished with value: 1112.7625732421875 and parameters: {'hidden_size': 12, 'num_layers': 7, 'lr': 0.0004284971299870297}. Best is trial 35 with value: 4.019588947296143.\n"
     ]
    },
    {
     "name": "stdout",
     "output_type": "stream",
     "text": [
      "Epoch [3032/10000], Train Loss: 2934.6778, Validation Loss: 1112.7626\n",
      "Early stopping triggered. Stopping training.\n",
      "Epoch [100/10000], Train Loss: 158.1458, Validation Loss: 18.7618\n",
      "Epoch [200/10000], Train Loss: 61.5154, Validation Loss: 6.7342\n",
      "Epoch [300/10000], Train Loss: 51.1700, Validation Loss: 10.9177\n"
     ]
    },
    {
     "name": "stderr",
     "output_type": "stream",
     "text": [
      "[I 2024-02-06 23:03:59,081] Trial 115 finished with value: 6.281283378601074 and parameters: {'hidden_size': 9, 'num_layers': 2, 'lr': 0.027909994844442627}. Best is trial 35 with value: 4.019588947296143.\n"
     ]
    },
    {
     "name": "stdout",
     "output_type": "stream",
     "text": [
      "Epoch [400/10000], Train Loss: 44.9159, Validation Loss: 6.0658\n",
      "Epoch [401/10000], Train Loss: 60.9292, Validation Loss: 6.2813\n",
      "Early stopping triggered. Stopping training.\n",
      "Epoch [100/10000], Train Loss: 342.1187, Validation Loss: 29.2408\n",
      "Epoch [200/10000], Train Loss: 216.4037, Validation Loss: 14.4976\n",
      "Epoch [300/10000], Train Loss: 79.6394, Validation Loss: 11.9726\n",
      "Epoch [400/10000], Train Loss: 59.1511, Validation Loss: 8.0931\n",
      "Epoch [500/10000], Train Loss: 96.4313, Validation Loss: 7.6723\n",
      "Epoch [600/10000], Train Loss: 58.5587, Validation Loss: 6.7492\n",
      "Epoch [700/10000], Train Loss: 40.4871, Validation Loss: 5.5157\n",
      "Epoch [800/10000], Train Loss: 43.0967, Validation Loss: 8.8421\n"
     ]
    },
    {
     "name": "stderr",
     "output_type": "stream",
     "text": [
      "[I 2024-02-06 23:04:49,461] Trial 116 finished with value: 15.61429500579834 and parameters: {'hidden_size': 15, 'num_layers': 12, 'lr': 0.006488786820261942}. Best is trial 35 with value: 4.019588947296143.\n"
     ]
    },
    {
     "name": "stdout",
     "output_type": "stream",
     "text": [
      "Epoch [899/10000], Train Loss: 65.8327, Validation Loss: 15.6143\n",
      "Early stopping triggered. Stopping training.\n",
      "Epoch [100/10000], Train Loss: 26921.4158, Validation Loss: 3381.1602\n",
      "Epoch [200/10000], Train Loss: 3675.2434, Validation Loss: 1152.9281\n",
      "Epoch [300/10000], Train Loss: 3412.7445, Validation Loss: 1125.8148\n",
      "Epoch [400/10000], Train Loss: 3203.3457, Validation Loss: 1121.2809\n",
      "Epoch [500/10000], Train Loss: 3311.4916, Validation Loss: 1122.3030\n",
      "Epoch [600/10000], Train Loss: 3236.0934, Validation Loss: 1119.0323\n",
      "Epoch [700/10000], Train Loss: 3257.6329, Validation Loss: 1117.9135\n",
      "Epoch [800/10000], Train Loss: 3444.0712, Validation Loss: 1116.3035\n",
      "Epoch [900/10000], Train Loss: 3081.8199, Validation Loss: 1116.5564\n",
      "Epoch [1000/10000], Train Loss: 3211.7554, Validation Loss: 1115.8729\n",
      "Epoch [1100/10000], Train Loss: 3356.2714, Validation Loss: 1114.9908\n",
      "Epoch [1200/10000], Train Loss: 3028.0866, Validation Loss: 1116.0807\n",
      "Epoch [1300/10000], Train Loss: 3011.5437, Validation Loss: 1114.3329\n",
      "Epoch [1400/10000], Train Loss: 3266.7828, Validation Loss: 1113.6375\n",
      "Epoch [1500/10000], Train Loss: 3049.9566, Validation Loss: 1113.4926\n"
     ]
    },
    {
     "name": "stderr",
     "output_type": "stream",
     "text": [
      "[I 2024-02-06 23:06:13,338] Trial 117 finished with value: 1114.00634765625 and parameters: {'hidden_size': 12, 'num_layers': 11, 'lr': 0.0009393829025616947}. Best is trial 35 with value: 4.019588947296143.\n"
     ]
    },
    {
     "name": "stdout",
     "output_type": "stream",
     "text": [
      "Epoch [1588/10000], Train Loss: 2900.9844, Validation Loss: 1114.0063\n",
      "Early stopping triggered. Stopping training.\n",
      "Epoch [100/10000], Train Loss: 181.4517, Validation Loss: 20.3656\n",
      "Epoch [200/10000], Train Loss: 129.4905, Validation Loss: 19.7114\n",
      "Epoch [300/10000], Train Loss: 43.8594, Validation Loss: 13.1486\n"
     ]
    },
    {
     "name": "stderr",
     "output_type": "stream",
     "text": [
      "[I 2024-02-06 23:06:29,767] Trial 118 finished with value: 16.87277603149414 and parameters: {'hidden_size': 20, 'num_layers': 5, 'lr': 0.04021045650256018}. Best is trial 35 with value: 4.019588947296143.\n"
     ]
    },
    {
     "name": "stdout",
     "output_type": "stream",
     "text": [
      "Epoch [361/10000], Train Loss: 117.2254, Validation Loss: 16.8728\n",
      "Early stopping triggered. Stopping training.\n"
     ]
    },
    {
     "name": "stderr",
     "output_type": "stream",
     "text": [
      "[I 2024-02-06 23:06:34,667] Trial 119 finished with value: 6480.986328125 and parameters: {'hidden_size': 12, 'num_layers': 7, 'lr': 0.00867205129977893}. Best is trial 35 with value: 4.019588947296143.\n"
     ]
    },
    {
     "name": "stdout",
     "output_type": "stream",
     "text": [
      "Epoch [100/10000], Train Loss: 58666.9097, Validation Loss: 6480.9863\n",
      "Epoch [103/10000], Train Loss: 55451.4717, Validation Loss: 6480.9863\n",
      "Early stopping triggered. Stopping training.\n"
     ]
    },
    {
     "name": "stderr",
     "output_type": "stream",
     "text": [
      "[I 2024-02-06 23:06:39,710] Trial 120 finished with value: 6480.986328125 and parameters: {'hidden_size': 12, 'num_layers': 8, 'lr': 0.022185113102031126}. Best is trial 35 with value: 4.019588947296143.\n"
     ]
    },
    {
     "name": "stdout",
     "output_type": "stream",
     "text": [
      "Epoch [100/10000], Train Loss: 54744.0938, Validation Loss: 6480.9863\n",
      "Epoch [101/10000], Train Loss: 53682.7256, Validation Loss: 6480.9863\n",
      "Early stopping triggered. Stopping training.\n",
      "Epoch [100/10000], Train Loss: 3625.4988, Validation Loss: 1127.4564\n",
      "Epoch [200/10000], Train Loss: 3076.7408, Validation Loss: 1115.3827\n",
      "Epoch [300/10000], Train Loss: 3211.2243, Validation Loss: 1114.1620\n",
      "Epoch [400/10000], Train Loss: 2949.8820, Validation Loss: 1113.0148\n",
      "Epoch [500/10000], Train Loss: 2932.0471, Validation Loss: 1112.8608\n",
      "Epoch [600/10000], Train Loss: 3034.4071, Validation Loss: 1113.9609\n",
      "Epoch [700/10000], Train Loss: 3078.4117, Validation Loss: 1115.1101\n"
     ]
    },
    {
     "name": "stderr",
     "output_type": "stream",
     "text": [
      "[I 2024-02-06 23:07:17,438] Trial 121 finished with value: 1111.1722412109375 and parameters: {'hidden_size': 15, 'num_layers': 7, 'lr': 0.003265536295932725}. Best is trial 35 with value: 4.019588947296143.\n"
     ]
    },
    {
     "name": "stdout",
     "output_type": "stream",
     "text": [
      "Epoch [800/10000], Train Loss: 2903.1730, Validation Loss: 1111.4113\n",
      "Epoch [803/10000], Train Loss: 3037.7523, Validation Loss: 1111.1722\n",
      "Early stopping triggered. Stopping training.\n",
      "Epoch [100/10000], Train Loss: 2148.2861, Validation Loss: 576.0435\n",
      "Epoch [200/10000], Train Loss: 200.0526, Validation Loss: 17.1027\n",
      "Epoch [300/10000], Train Loss: 134.1762, Validation Loss: 11.5305\n",
      "Epoch [400/10000], Train Loss: 302.5592, Validation Loss: 43.2757\n",
      "Epoch [500/10000], Train Loss: 111.2493, Validation Loss: 14.6000\n",
      "Epoch [600/10000], Train Loss: 76.8845, Validation Loss: 9.2256\n",
      "Epoch [700/10000], Train Loss: 38.9745, Validation Loss: 9.1483\n",
      "Epoch [800/10000], Train Loss: 40.5065, Validation Loss: 7.4321\n",
      "Epoch [900/10000], Train Loss: 36.8675, Validation Loss: 6.9809\n",
      "Epoch [1000/10000], Train Loss: 39.1271, Validation Loss: 5.4858\n",
      "Epoch [1100/10000], Train Loss: 43.9415, Validation Loss: 6.0401\n",
      "Epoch [1200/10000], Train Loss: 38.5577, Validation Loss: 5.8347\n",
      "Epoch [1300/10000], Train Loss: 29.7525, Validation Loss: 5.1153\n",
      "Epoch [1400/10000], Train Loss: 34.8455, Validation Loss: 5.1803\n",
      "Epoch [1500/10000], Train Loss: 30.1241, Validation Loss: 5.9106\n"
     ]
    },
    {
     "name": "stderr",
     "output_type": "stream",
     "text": [
      "[I 2024-02-06 23:08:32,796] Trial 122 finished with value: 6.947328090667725 and parameters: {'hidden_size': 15, 'num_layers': 7, 'lr': 0.001728540583998625}. Best is trial 35 with value: 4.019588947296143.\n"
     ]
    },
    {
     "name": "stdout",
     "output_type": "stream",
     "text": [
      "Epoch [1600/10000], Train Loss: 40.3659, Validation Loss: 5.4697\n",
      "Epoch [1603/10000], Train Loss: 37.4571, Validation Loss: 6.9473\n",
      "Early stopping triggered. Stopping training.\n",
      "Epoch [100/10000], Train Loss: 3049.0514, Validation Loss: 1124.1196\n",
      "Epoch [200/10000], Train Loss: 3356.9174, Validation Loss: 1121.2623\n",
      "Epoch [300/10000], Train Loss: 3158.0035, Validation Loss: 1114.4331\n",
      "Epoch [400/10000], Train Loss: 64.1861, Validation Loss: 12.0717\n",
      "Epoch [500/10000], Train Loss: 41.6445, Validation Loss: 7.5147\n",
      "Epoch [600/10000], Train Loss: 45.1414, Validation Loss: 7.9014\n",
      "Epoch [700/10000], Train Loss: 99.1212, Validation Loss: 11.6553\n"
     ]
    },
    {
     "name": "stderr",
     "output_type": "stream",
     "text": [
      "[I 2024-02-06 23:09:07,912] Trial 123 finished with value: 7.444354057312012 and parameters: {'hidden_size': 15, 'num_layers': 7, 'lr': 0.0029729209303139873}. Best is trial 35 with value: 4.019588947296143.\n"
     ]
    },
    {
     "name": "stdout",
     "output_type": "stream",
     "text": [
      "Epoch [733/10000], Train Loss: 33.1566, Validation Loss: 7.4444\n",
      "Early stopping triggered. Stopping training.\n",
      "Epoch [100/10000], Train Loss: 3602.1595, Validation Loss: 1147.8499\n",
      "Epoch [200/10000], Train Loss: 3376.1661, Validation Loss: 1117.1924\n",
      "Epoch [300/10000], Train Loss: 3277.5969, Validation Loss: 1115.1750\n"
     ]
    },
    {
     "name": "stderr",
     "output_type": "stream",
     "text": [
      "[I 2024-02-06 23:09:22,542] Trial 124 finished with value: 1116.4539794921875 and parameters: {'hidden_size': 15, 'num_layers': 3, 'lr': 0.002308810020922202}. Best is trial 35 with value: 4.019588947296143.\n"
     ]
    },
    {
     "name": "stdout",
     "output_type": "stream",
     "text": [
      "Epoch [357/10000], Train Loss: 3151.4041, Validation Loss: 1116.4540\n",
      "Early stopping triggered. Stopping training.\n",
      "Epoch [100/10000], Train Loss: 381.0442, Validation Loss: 44.6800\n",
      "Epoch [200/10000], Train Loss: 123.5762, Validation Loss: 21.8037\n",
      "Epoch [300/10000], Train Loss: 107.2088, Validation Loss: 10.5275\n",
      "Epoch [400/10000], Train Loss: 47.1238, Validation Loss: 8.4221\n",
      "Epoch [500/10000], Train Loss: 37.3334, Validation Loss: 7.1332\n",
      "Epoch [600/10000], Train Loss: 36.1986, Validation Loss: 5.9785\n",
      "Epoch [700/10000], Train Loss: 39.7646, Validation Loss: 6.5313\n"
     ]
    },
    {
     "name": "stderr",
     "output_type": "stream",
     "text": [
      "[I 2024-02-06 23:09:53,025] Trial 125 finished with value: 6.579092025756836 and parameters: {'hidden_size': 15, 'num_layers': 4, 'lr': 0.0042371447632743005}. Best is trial 35 with value: 4.019588947296143.\n"
     ]
    },
    {
     "name": "stdout",
     "output_type": "stream",
     "text": [
      "Epoch [721/10000], Train Loss: 36.2041, Validation Loss: 6.5791\n",
      "Early stopping triggered. Stopping training.\n",
      "Epoch [100/10000], Train Loss: 3906.3822, Validation Loss: 1188.5876\n",
      "Epoch [200/10000], Train Loss: 3440.9545, Validation Loss: 1134.1711\n",
      "Epoch [300/10000], Train Loss: 3172.2388, Validation Loss: 1121.5382\n",
      "Epoch [400/10000], Train Loss: 3117.1746, Validation Loss: 1117.3538\n",
      "Epoch [500/10000], Train Loss: 3428.4557, Validation Loss: 1113.2399\n",
      "Epoch [600/10000], Train Loss: 3031.7299, Validation Loss: 1113.1317\n"
     ]
    },
    {
     "name": "stderr",
     "output_type": "stream",
     "text": [
      "[I 2024-02-06 23:10:21,923] Trial 126 finished with value: 1113.747802734375 and parameters: {'hidden_size': 3, 'num_layers': 7, 'lr': 0.004964912818466035}. Best is trial 35 with value: 4.019588947296143.\n"
     ]
    },
    {
     "name": "stdout",
     "output_type": "stream",
     "text": [
      "Epoch [632/10000], Train Loss: 3056.3945, Validation Loss: 1113.7478\n",
      "Early stopping triggered. Stopping training.\n",
      "Epoch [100/10000], Train Loss: 15676.8118, Validation Loss: 2197.7407\n",
      "Epoch [200/10000], Train Loss: 1137.7489, Validation Loss: 269.2043\n",
      "Epoch [300/10000], Train Loss: 273.7246, Validation Loss: 29.7216\n",
      "Epoch [400/10000], Train Loss: 169.8864, Validation Loss: 18.3208\n",
      "Epoch [500/10000], Train Loss: 133.1895, Validation Loss: 18.3518\n",
      "Epoch [600/10000], Train Loss: 98.6555, Validation Loss: 13.5797\n",
      "Epoch [700/10000], Train Loss: 88.0915, Validation Loss: 12.0734\n",
      "Epoch [800/10000], Train Loss: 101.4509, Validation Loss: 12.4077\n",
      "Epoch [900/10000], Train Loss: 63.4075, Validation Loss: 11.9693\n",
      "Epoch [1000/10000], Train Loss: 64.8535, Validation Loss: 9.7808\n",
      "Epoch [1100/10000], Train Loss: 57.7707, Validation Loss: 13.5031\n",
      "Epoch [1200/10000], Train Loss: 104.8587, Validation Loss: 27.7247\n",
      "Epoch [1300/10000], Train Loss: 65.9033, Validation Loss: 11.1477\n",
      "Epoch [1400/10000], Train Loss: 48.7805, Validation Loss: 9.8643\n",
      "Epoch [1500/10000], Train Loss: 118.6190, Validation Loss: 8.7592\n",
      "Epoch [1600/10000], Train Loss: 42.7721, Validation Loss: 8.6482\n",
      "Epoch [1700/10000], Train Loss: 56.6349, Validation Loss: 7.9607\n",
      "Epoch [1800/10000], Train Loss: 39.7757, Validation Loss: 7.7959\n"
     ]
    },
    {
     "name": "stderr",
     "output_type": "stream",
     "text": [
      "[I 2024-02-06 23:12:05,599] Trial 127 finished with value: 6.759762763977051 and parameters: {'hidden_size': 12, 'num_layers': 13, 'lr': 0.001074320477616752}. Best is trial 35 with value: 4.019588947296143.\n"
     ]
    },
    {
     "name": "stdout",
     "output_type": "stream",
     "text": [
      "Epoch [1848/10000], Train Loss: 45.3215, Validation Loss: 6.7598\n",
      "Early stopping triggered. Stopping training.\n",
      "Epoch [100/10000], Train Loss: 243.0746, Validation Loss: 23.4625\n",
      "Epoch [200/10000], Train Loss: 182.0858, Validation Loss: 11.6127\n",
      "Epoch [300/10000], Train Loss: 37.6150, Validation Loss: 6.2913\n",
      "Epoch [400/10000], Train Loss: 39.4488, Validation Loss: 4.9762\n"
     ]
    },
    {
     "name": "stderr",
     "output_type": "stream",
     "text": [
      "[I 2024-02-06 23:12:27,429] Trial 128 finished with value: 7.549583911895752 and parameters: {'hidden_size': 20, 'num_layers': 7, 'lr': 0.011637180001960004}. Best is trial 35 with value: 4.019588947296143.\n"
     ]
    },
    {
     "name": "stdout",
     "output_type": "stream",
     "text": [
      "Epoch [444/10000], Train Loss: 115.2351, Validation Loss: 7.5496\n",
      "Early stopping triggered. Stopping training.\n",
      "Epoch [100/10000], Train Loss: 26030.5137, Validation Loss: 3334.1152\n",
      "Epoch [200/10000], Train Loss: 3598.8064, Validation Loss: 1033.3446\n",
      "Epoch [300/10000], Train Loss: 2905.5711, Validation Loss: 881.8121\n",
      "Epoch [400/10000], Train Loss: 2203.5619, Validation Loss: 629.8441\n",
      "Epoch [500/10000], Train Loss: 663.2397, Validation Loss: 121.9653\n",
      "Epoch [600/10000], Train Loss: 289.2626, Validation Loss: 18.6641\n",
      "Epoch [700/10000], Train Loss: 180.8843, Validation Loss: 10.6162\n",
      "Epoch [800/10000], Train Loss: 98.7879, Validation Loss: 8.9706\n",
      "Epoch [900/10000], Train Loss: 61.9077, Validation Loss: 7.8276\n",
      "Epoch [1000/10000], Train Loss: 41.3935, Validation Loss: 6.2308\n",
      "Epoch [1100/10000], Train Loss: 32.4854, Validation Loss: 5.4284\n",
      "Epoch [1200/10000], Train Loss: 30.8701, Validation Loss: 5.0679\n",
      "Epoch [1300/10000], Train Loss: 26.1790, Validation Loss: 4.9223\n",
      "Epoch [1400/10000], Train Loss: 23.6119, Validation Loss: 4.3957\n",
      "Epoch [1500/10000], Train Loss: 21.8230, Validation Loss: 4.5129\n",
      "Epoch [1600/10000], Train Loss: 19.0848, Validation Loss: 4.1433\n",
      "Epoch [1700/10000], Train Loss: 22.7140, Validation Loss: 4.1223\n",
      "Epoch [1800/10000], Train Loss: 19.1500, Validation Loss: 4.4578\n"
     ]
    },
    {
     "name": "stderr",
     "output_type": "stream",
     "text": [
      "[I 2024-02-06 23:13:48,065] Trial 129 finished with value: 3.9202723503112793 and parameters: {'hidden_size': 12, 'num_layers': 4, 'lr': 0.0005644761856255745}. Best is trial 129 with value: 3.9202723503112793.\n"
     ]
    },
    {
     "name": "stdout",
     "output_type": "stream",
     "text": [
      "Epoch [1900/10000], Train Loss: 17.7631, Validation Loss: 4.0486\n",
      "Epoch [1901/10000], Train Loss: 18.9457, Validation Loss: 3.9203\n",
      "Early stopping triggered. Stopping training.\n",
      "Epoch [100/10000], Train Loss: 28024.3257, Validation Loss: 3339.5469\n",
      "Epoch [200/10000], Train Loss: 18381.8896, Validation Loss: 2357.8423\n",
      "Epoch [300/10000], Train Loss: 6706.5239, Validation Loss: 1535.7832\n",
      "Epoch [400/10000], Train Loss: 4527.1404, Validation Loss: 1254.1271\n",
      "Epoch [500/10000], Train Loss: 3953.4485, Validation Loss: 1184.9449\n",
      "Epoch [600/10000], Train Loss: 3927.7408, Validation Loss: 1151.2454\n",
      "Epoch [700/10000], Train Loss: 3396.9433, Validation Loss: 1130.1620\n",
      "Epoch [800/10000], Train Loss: 3348.1819, Validation Loss: 1122.9940\n",
      "Epoch [900/10000], Train Loss: 3327.9512, Validation Loss: 1117.5541\n",
      "Epoch [1000/10000], Train Loss: 3257.8988, Validation Loss: 1116.9689\n",
      "Epoch [1100/10000], Train Loss: 2995.7124, Validation Loss: 1116.6619\n"
     ]
    },
    {
     "name": "stderr",
     "output_type": "stream",
     "text": [
      "[I 2024-02-06 23:14:36,703] Trial 130 finished with value: 1116.146484375 and parameters: {'hidden_size': 12, 'num_layers': 4, 'lr': 0.0005044643183744399}. Best is trial 129 with value: 3.9202723503112793.\n"
     ]
    },
    {
     "name": "stdout",
     "output_type": "stream",
     "text": [
      "Epoch [1158/10000], Train Loss: 3267.6739, Validation Loss: 1116.1465\n",
      "Early stopping triggered. Stopping training.\n",
      "Epoch [100/10000], Train Loss: 23031.2505, Validation Loss: 2912.2017\n",
      "Epoch [200/10000], Train Loss: 4170.5898, Validation Loss: 1201.4194\n",
      "Epoch [300/10000], Train Loss: 3564.0733, Validation Loss: 1148.4713\n",
      "Epoch [400/10000], Train Loss: 3276.7613, Validation Loss: 1134.3423\n",
      "Epoch [500/10000], Train Loss: 3212.0260, Validation Loss: 1123.1049\n",
      "Epoch [600/10000], Train Loss: 2945.8391, Validation Loss: 1118.7996\n",
      "Epoch [700/10000], Train Loss: 2965.2547, Validation Loss: 1115.7673\n",
      "Epoch [800/10000], Train Loss: 2989.2817, Validation Loss: 1114.8046\n",
      "Epoch [900/10000], Train Loss: 3253.3242, Validation Loss: 1114.2279\n",
      "Epoch [1000/10000], Train Loss: 2926.1293, Validation Loss: 1113.6748\n",
      "Epoch [1100/10000], Train Loss: 2954.7391, Validation Loss: 1113.1425\n",
      "Epoch [1200/10000], Train Loss: 2983.7911, Validation Loss: 1113.0101\n",
      "Epoch [1300/10000], Train Loss: 3113.7733, Validation Loss: 1112.6277\n",
      "Epoch [1400/10000], Train Loss: 2934.9767, Validation Loss: 1112.6029\n",
      "Epoch [1500/10000], Train Loss: 3254.6252, Validation Loss: 1112.3252\n",
      "Epoch [1600/10000], Train Loss: 2925.4951, Validation Loss: 1112.4708\n",
      "Epoch [1700/10000], Train Loss: 3071.8264, Validation Loss: 1112.2932\n",
      "Epoch [1800/10000], Train Loss: 3110.9379, Validation Loss: 1112.1603\n",
      "Epoch [1900/10000], Train Loss: 3147.2242, Validation Loss: 1112.2316\n"
     ]
    },
    {
     "name": "stderr",
     "output_type": "stream",
     "text": [
      "[I 2024-02-06 23:15:59,478] Trial 131 finished with value: 1111.7744140625 and parameters: {'hidden_size': 12, 'num_layers': 4, 'lr': 0.0007283098002861752}. Best is trial 129 with value: 3.9202723503112793.\n"
     ]
    },
    {
     "name": "stdout",
     "output_type": "stream",
     "text": [
      "Epoch [1978/10000], Train Loss: 3150.1720, Validation Loss: 1111.7744\n",
      "Early stopping triggered. Stopping training.\n",
      "Epoch [100/10000], Train Loss: 3576.1186, Validation Loss: 1020.5434\n",
      "Epoch [200/10000], Train Loss: 3000.7666, Validation Loss: 871.6389\n",
      "Epoch [300/10000], Train Loss: 1969.2242, Validation Loss: 485.1638\n",
      "Epoch [400/10000], Train Loss: 337.7323, Validation Loss: 28.0352\n",
      "Epoch [500/10000], Train Loss: 160.7224, Validation Loss: 8.9816\n",
      "Epoch [600/10000], Train Loss: 81.6894, Validation Loss: 8.0031\n",
      "Epoch [700/10000], Train Loss: 59.7182, Validation Loss: 6.4778\n",
      "Epoch [800/10000], Train Loss: 46.7838, Validation Loss: 6.0683\n",
      "Epoch [900/10000], Train Loss: 39.3681, Validation Loss: 5.7836\n",
      "Epoch [1000/10000], Train Loss: 35.9029, Validation Loss: 5.7444\n",
      "Epoch [1100/10000], Train Loss: 37.8274, Validation Loss: 6.1968\n",
      "Epoch [1200/10000], Train Loss: 25.4478, Validation Loss: 4.8732\n",
      "Epoch [1300/10000], Train Loss: 24.6610, Validation Loss: 5.1063\n",
      "Epoch [1400/10000], Train Loss: 24.0719, Validation Loss: 4.9051\n",
      "Epoch [1500/10000], Train Loss: 21.3832, Validation Loss: 5.0885\n"
     ]
    },
    {
     "name": "stderr",
     "output_type": "stream",
     "text": [
      "[I 2024-02-06 23:17:03,355] Trial 132 finished with value: 5.449215412139893 and parameters: {'hidden_size': 12, 'num_layers': 4, 'lr': 0.0009100517652663091}. Best is trial 129 with value: 3.9202723503112793.\n"
     ]
    },
    {
     "name": "stdout",
     "output_type": "stream",
     "text": [
      "Epoch [1510/10000], Train Loss: 25.3995, Validation Loss: 5.4492\n",
      "Early stopping triggered. Stopping training.\n",
      "Epoch [100/10000], Train Loss: 29299.5999, Validation Loss: 3731.3813\n",
      "Epoch [200/10000], Train Loss: 19079.8369, Validation Loss: 2513.8425\n",
      "Epoch [300/10000], Train Loss: 6314.6823, Validation Loss: 1473.0413\n",
      "Epoch [400/10000], Train Loss: 3899.9756, Validation Loss: 1198.0350\n",
      "Epoch [500/10000], Train Loss: 3856.6019, Validation Loss: 1164.1278\n",
      "Epoch [600/10000], Train Loss: 3593.2787, Validation Loss: 1142.8693\n",
      "Epoch [700/10000], Train Loss: 3626.5270, Validation Loss: 1128.6505\n",
      "Epoch [800/10000], Train Loss: 3451.7895, Validation Loss: 1120.2198\n",
      "Epoch [900/10000], Train Loss: 3315.1750, Validation Loss: 1115.9199\n",
      "Epoch [1000/10000], Train Loss: 3232.9219, Validation Loss: 1114.5540\n",
      "Epoch [1100/10000], Train Loss: 3191.2913, Validation Loss: 1114.5272\n"
     ]
    },
    {
     "name": "stderr",
     "output_type": "stream",
     "text": [
      "[I 2024-02-06 23:17:53,054] Trial 133 finished with value: 1115.257080078125 and parameters: {'hidden_size': 12, 'num_layers': 4, 'lr': 0.0003769893986733284}. Best is trial 129 with value: 3.9202723503112793.\n"
     ]
    },
    {
     "name": "stdout",
     "output_type": "stream",
     "text": [
      "Epoch [1181/10000], Train Loss: 3027.7057, Validation Loss: 1115.2571\n",
      "Early stopping triggered. Stopping training.\n",
      "Epoch [100/10000], Train Loss: 10543.2800, Validation Loss: 1717.2013\n",
      "Epoch [200/10000], Train Loss: 4226.4306, Validation Loss: 1204.8580\n",
      "Epoch [300/10000], Train Loss: 3555.7055, Validation Loss: 1178.3563\n",
      "Epoch [400/10000], Train Loss: 3315.4994, Validation Loss: 1149.6475\n",
      "Epoch [500/10000], Train Loss: 3509.9622, Validation Loss: 1151.3586\n",
      "Epoch [600/10000], Train Loss: 3458.8843, Validation Loss: 1163.5110\n",
      "Epoch [700/10000], Train Loss: 3583.3097, Validation Loss: 1160.0969\n",
      "Epoch [800/10000], Train Loss: 3647.7665, Validation Loss: 1159.3706\n",
      "Epoch [900/10000], Train Loss: 3264.8736, Validation Loss: 1149.5823\n",
      "Epoch [1000/10000], Train Loss: 3782.3990, Validation Loss: 1148.9342\n",
      "Epoch [1100/10000], Train Loss: 3404.8460, Validation Loss: 1137.5585\n",
      "Epoch [1200/10000], Train Loss: 3210.9776, Validation Loss: 1150.2433\n",
      "Epoch [1300/10000], Train Loss: 3367.0885, Validation Loss: 1132.2046\n",
      "Epoch [1400/10000], Train Loss: 3223.7720, Validation Loss: 1135.3672\n",
      "Epoch [1500/10000], Train Loss: 3206.2615, Validation Loss: 1141.7780\n",
      "Epoch [1600/10000], Train Loss: 3391.8414, Validation Loss: 1130.0051\n",
      "Epoch [1700/10000], Train Loss: 3375.5335, Validation Loss: 1136.2125\n",
      "Epoch [1800/10000], Train Loss: 3155.0036, Validation Loss: 1133.8772\n",
      "Epoch [1900/10000], Train Loss: 3131.4053, Validation Loss: 1130.7810\n",
      "Epoch [2000/10000], Train Loss: 3068.1222, Validation Loss: 1128.4565\n",
      "Epoch [2100/10000], Train Loss: 3374.2263, Validation Loss: 1126.8682\n",
      "Epoch [2200/10000], Train Loss: 2962.1439, Validation Loss: 1123.3268\n",
      "Epoch [2300/10000], Train Loss: 3010.4068, Validation Loss: 1126.3850\n",
      "Epoch [2400/10000], Train Loss: 3003.2758, Validation Loss: 1123.7054\n",
      "Epoch [2500/10000], Train Loss: 3149.5606, Validation Loss: 1121.9529\n",
      "Epoch [2600/10000], Train Loss: 3105.1692, Validation Loss: 1121.9292\n",
      "Epoch [2700/10000], Train Loss: 3140.7393, Validation Loss: 1120.4713\n",
      "Epoch [2800/10000], Train Loss: 3075.9940, Validation Loss: 1119.9355\n"
     ]
    },
    {
     "name": "stderr",
     "output_type": "stream",
     "text": [
      "[I 2024-02-06 23:19:55,661] Trial 134 finished with value: 1119.5167236328125 and parameters: {'hidden_size': 12, 'num_layers': 4, 'lr': 0.000823628485450746}. Best is trial 129 with value: 3.9202723503112793.\n"
     ]
    },
    {
     "name": "stdout",
     "output_type": "stream",
     "text": [
      "Epoch [2893/10000], Train Loss: 3236.2292, Validation Loss: 1119.5167\n",
      "Early stopping triggered. Stopping training.\n",
      "Epoch [100/10000], Train Loss: 31177.1187, Validation Loss: 3727.2437\n",
      "Epoch [200/10000], Train Loss: 28391.8987, Validation Loss: 3210.7378\n",
      "Epoch [300/10000], Train Loss: 20378.7407, Validation Loss: 2499.9275\n",
      "Epoch [400/10000], Train Loss: 15720.5070, Validation Loss: 2006.5421\n",
      "Epoch [500/10000], Train Loss: 7181.1346, Validation Loss: 1476.3870\n",
      "Epoch [600/10000], Train Loss: 5464.0892, Validation Loss: 1345.1353\n",
      "Epoch [700/10000], Train Loss: 4752.2908, Validation Loss: 1279.8521\n",
      "Epoch [800/10000], Train Loss: 4317.9432, Validation Loss: 1213.6088\n",
      "Epoch [900/10000], Train Loss: 3995.1230, Validation Loss: 1199.5538\n",
      "Epoch [1000/10000], Train Loss: 4002.7041, Validation Loss: 1175.3643\n",
      "Epoch [1100/10000], Train Loss: 3627.5518, Validation Loss: 1156.3330\n",
      "Epoch [1200/10000], Train Loss: 3748.0762, Validation Loss: 1146.2649\n",
      "Epoch [1300/10000], Train Loss: 3359.0217, Validation Loss: 1136.6797\n",
      "Epoch [1400/10000], Train Loss: 3660.7018, Validation Loss: 1133.3434\n",
      "Epoch [1500/10000], Train Loss: 3488.0327, Validation Loss: 1128.8151\n",
      "Epoch [1600/10000], Train Loss: 3250.4668, Validation Loss: 1125.2195\n",
      "Epoch [1700/10000], Train Loss: 3323.9878, Validation Loss: 1123.2174\n",
      "Epoch [1800/10000], Train Loss: 3657.2325, Validation Loss: 1122.4083\n",
      "Epoch [1900/10000], Train Loss: 3173.8031, Validation Loss: 1121.1841\n",
      "Epoch [2000/10000], Train Loss: 3019.1072, Validation Loss: 1121.1780\n",
      "Epoch [2100/10000], Train Loss: 2948.8064, Validation Loss: 1119.7922\n",
      "Epoch [2200/10000], Train Loss: 2898.0415, Validation Loss: 1119.3727\n",
      "Epoch [2300/10000], Train Loss: 3390.4649, Validation Loss: 1118.9731\n",
      "Epoch [2400/10000], Train Loss: 3103.2990, Validation Loss: 1118.6161\n",
      "Epoch [2500/10000], Train Loss: 3155.6457, Validation Loss: 1117.9895\n",
      "Epoch [2600/10000], Train Loss: 3055.3828, Validation Loss: 1117.1373\n",
      "Epoch [2700/10000], Train Loss: 2901.0632, Validation Loss: 1116.7662\n",
      "Epoch [2800/10000], Train Loss: 2870.5311, Validation Loss: 1116.4410\n",
      "Epoch [2900/10000], Train Loss: 3133.9010, Validation Loss: 1116.1548\n",
      "Epoch [3000/10000], Train Loss: 3064.4092, Validation Loss: 1115.0323\n",
      "Epoch [3100/10000], Train Loss: 2960.6866, Validation Loss: 1114.7975\n",
      "Epoch [3200/10000], Train Loss: 3355.6653, Validation Loss: 1114.0115\n",
      "Epoch [3300/10000], Train Loss: 3192.9855, Validation Loss: 1113.7269\n",
      "Epoch [3400/10000], Train Loss: 3170.8118, Validation Loss: 1113.5874\n",
      "Epoch [3500/10000], Train Loss: 3085.4738, Validation Loss: 1113.1493\n",
      "Epoch [3600/10000], Train Loss: 2969.3663, Validation Loss: 1112.9524\n",
      "Epoch [3700/10000], Train Loss: 3117.5732, Validation Loss: 1112.7391\n"
     ]
    },
    {
     "name": "stderr",
     "output_type": "stream",
     "text": [
      "[I 2024-02-06 23:22:34,835] Trial 135 finished with value: 1112.5177001953125 and parameters: {'hidden_size': 12, 'num_layers': 4, 'lr': 0.0002444917257178476}. Best is trial 129 with value: 3.9202723503112793.\n"
     ]
    },
    {
     "name": "stdout",
     "output_type": "stream",
     "text": [
      "Epoch [3787/10000], Train Loss: 2944.0173, Validation Loss: 1112.5177\n",
      "Early stopping triggered. Stopping training.\n",
      "Epoch [100/10000], Train Loss: 22361.6823, Validation Loss: 3115.6785\n",
      "Epoch [200/10000], Train Loss: 3863.4827, Validation Loss: 1178.6259\n",
      "Epoch [300/10000], Train Loss: 3549.3268, Validation Loss: 1145.1880\n",
      "Epoch [400/10000], Train Loss: 3453.0735, Validation Loss: 1121.0005\n",
      "Epoch [500/10000], Train Loss: 3360.7182, Validation Loss: 1114.8436\n",
      "Epoch [600/10000], Train Loss: 3321.7564, Validation Loss: 1113.9270\n",
      "Epoch [700/10000], Train Loss: 3274.3792, Validation Loss: 1114.0518\n"
     ]
    },
    {
     "name": "stderr",
     "output_type": "stream",
     "text": [
      "[I 2024-02-06 23:23:07,071] Trial 136 finished with value: 1114.3519287109375 and parameters: {'hidden_size': 12, 'num_layers': 4, 'lr': 0.000560089455080033}. Best is trial 129 with value: 3.9202723503112793.\n"
     ]
    },
    {
     "name": "stdout",
     "output_type": "stream",
     "text": [
      "Epoch [769/10000], Train Loss: 3005.4229, Validation Loss: 1114.3519\n",
      "Early stopping triggered. Stopping training.\n",
      "Epoch [100/10000], Train Loss: 32927.6450, Validation Loss: 4010.8140\n",
      "Epoch [200/10000], Train Loss: 28723.9430, Validation Loss: 3753.8855\n",
      "Epoch [300/10000], Train Loss: 26441.5474, Validation Loss: 3377.4194\n",
      "Epoch [400/10000], Train Loss: 16682.0204, Validation Loss: 2589.9482\n",
      "Epoch [500/10000], Train Loss: 7986.4598, Validation Loss: 1536.3463\n",
      "Epoch [600/10000], Train Loss: 5044.5522, Validation Loss: 1326.4364\n",
      "Epoch [700/10000], Train Loss: 4515.8915, Validation Loss: 1263.6249\n",
      "Epoch [800/10000], Train Loss: 4247.8426, Validation Loss: 1217.0076\n",
      "Epoch [900/10000], Train Loss: 3931.3572, Validation Loss: 1184.0248\n",
      "Epoch [1000/10000], Train Loss: 3946.6774, Validation Loss: 1166.0981\n",
      "Epoch [1100/10000], Train Loss: 3536.3174, Validation Loss: 1154.2036\n",
      "Epoch [1200/10000], Train Loss: 3350.8506, Validation Loss: 1145.3026\n",
      "Epoch [1300/10000], Train Loss: 3359.6318, Validation Loss: 1139.4364\n",
      "Epoch [1400/10000], Train Loss: 3321.5707, Validation Loss: 1137.2648\n",
      "Epoch [1500/10000], Train Loss: 3217.0537, Validation Loss: 1133.2065\n",
      "Epoch [1600/10000], Train Loss: 3401.7667, Validation Loss: 1131.4187\n",
      "Epoch [1700/10000], Train Loss: 3544.6438, Validation Loss: 1133.0450\n"
     ]
    },
    {
     "name": "stderr",
     "output_type": "stream",
     "text": [
      "[I 2024-02-06 23:24:14,448] Trial 137 finished with value: 1130.6361083984375 and parameters: {'hidden_size': 12, 'num_layers': 2, 'lr': 0.00032913182969747845}. Best is trial 129 with value: 3.9202723503112793.\n"
     ]
    },
    {
     "name": "stdout",
     "output_type": "stream",
     "text": [
      "Epoch [1723/10000], Train Loss: 3377.7361, Validation Loss: 1130.6361\n",
      "Early stopping triggered. Stopping training.\n",
      "Epoch [100/10000], Train Loss: 4889.7398, Validation Loss: 1231.0654\n",
      "Epoch [200/10000], Train Loss: 3448.1216, Validation Loss: 1133.8290\n",
      "Epoch [300/10000], Train Loss: 3126.3308, Validation Loss: 1120.8774\n",
      "Epoch [400/10000], Train Loss: 3201.1464, Validation Loss: 1117.6886\n",
      "Epoch [500/10000], Train Loss: 2875.5986, Validation Loss: 1115.7457\n",
      "Epoch [600/10000], Train Loss: 3205.2415, Validation Loss: 1114.7877\n",
      "Epoch [700/10000], Train Loss: 3092.7427, Validation Loss: 1116.5704\n",
      "Epoch [800/10000], Train Loss: 3030.4582, Validation Loss: 1114.3501\n",
      "Epoch [900/10000], Train Loss: 3210.9999, Validation Loss: 1113.7671\n",
      "Epoch [1000/10000], Train Loss: 2959.4535, Validation Loss: 1113.8455\n",
      "Epoch [1100/10000], Train Loss: 3217.2022, Validation Loss: 1113.9196\n",
      "Epoch [1200/10000], Train Loss: 3112.3125, Validation Loss: 1113.0645\n",
      "Epoch [1300/10000], Train Loss: 3109.7177, Validation Loss: 1113.5023\n",
      "Epoch [1400/10000], Train Loss: 3187.1177, Validation Loss: 1112.8357\n",
      "Epoch [1500/10000], Train Loss: 2863.8841, Validation Loss: 1112.4359\n",
      "Epoch [1600/10000], Train Loss: 3047.1802, Validation Loss: 1112.9780\n",
      "Epoch [1700/10000], Train Loss: 3037.7277, Validation Loss: 1112.9650\n",
      "Epoch [1800/10000], Train Loss: 3065.6558, Validation Loss: 1113.0692\n",
      "Epoch [1900/10000], Train Loss: 2980.4673, Validation Loss: 1113.4469\n"
     ]
    },
    {
     "name": "stderr",
     "output_type": "stream",
     "text": [
      "[I 2024-02-06 23:25:38,407] Trial 138 finished with value: 1112.3138427734375 and parameters: {'hidden_size': 12, 'num_layers': 5, 'lr': 0.0009163960865900556}. Best is trial 129 with value: 3.9202723503112793.\n"
     ]
    },
    {
     "name": "stdout",
     "output_type": "stream",
     "text": [
      "Epoch [1915/10000], Train Loss: 3182.5051, Validation Loss: 1112.3138\n",
      "Early stopping triggered. Stopping training.\n",
      "Epoch [100/10000], Train Loss: 14350.6113, Validation Loss: 2185.4138\n",
      "Epoch [200/10000], Train Loss: 4794.9714, Validation Loss: 1256.2739\n",
      "Epoch [300/10000], Train Loss: 3712.0523, Validation Loss: 1161.3699\n",
      "Epoch [400/10000], Train Loss: 3649.7475, Validation Loss: 1134.5060\n",
      "Epoch [500/10000], Train Loss: 3383.5220, Validation Loss: 1128.0840\n",
      "Epoch [600/10000], Train Loss: 3312.0868, Validation Loss: 1125.1682\n",
      "Epoch [700/10000], Train Loss: 3429.0603, Validation Loss: 1123.4006\n",
      "Epoch [800/10000], Train Loss: 3248.4272, Validation Loss: 1122.8317\n",
      "Epoch [900/10000], Train Loss: 3301.6344, Validation Loss: 1121.2042\n",
      "Epoch [1000/10000], Train Loss: 3618.5441, Validation Loss: 1121.7065\n",
      "Epoch [1100/10000], Train Loss: 3601.4916, Validation Loss: 1120.2126\n",
      "Epoch [1200/10000], Train Loss: 3149.0724, Validation Loss: 1119.9949\n",
      "Epoch [1300/10000], Train Loss: 3299.4976, Validation Loss: 1119.1617\n",
      "Epoch [1400/10000], Train Loss: 2958.4953, Validation Loss: 1118.0653\n",
      "Epoch [1500/10000], Train Loss: 2940.5370, Validation Loss: 1117.5052\n",
      "Epoch [1600/10000], Train Loss: 3200.1118, Validation Loss: 1116.6969\n",
      "Epoch [1700/10000], Train Loss: 2928.9580, Validation Loss: 1116.2664\n",
      "Epoch [1800/10000], Train Loss: 3140.5505, Validation Loss: 1114.9430\n",
      "Epoch [1900/10000], Train Loss: 3182.9158, Validation Loss: 1114.0502\n",
      "Epoch [2000/10000], Train Loss: 3052.4093, Validation Loss: 1113.0220\n",
      "Epoch [2100/10000], Train Loss: 2918.4179, Validation Loss: 1112.4716\n",
      "Epoch [2200/10000], Train Loss: 3047.4612, Validation Loss: 1112.2872\n"
     ]
    },
    {
     "name": "stderr",
     "output_type": "stream",
     "text": [
      "[I 2024-02-06 23:27:28,703] Trial 139 finished with value: 1112.8092041015625 and parameters: {'hidden_size': 6, 'num_layers': 4, 'lr': 0.0012482742976756267}. Best is trial 129 with value: 3.9202723503112793.\n"
     ]
    },
    {
     "name": "stdout",
     "output_type": "stream",
     "text": [
      "Epoch [2273/10000], Train Loss: 2908.7589, Validation Loss: 1112.8092\n",
      "Early stopping triggered. Stopping training.\n",
      "Epoch [100/10000], Train Loss: 770.7874, Validation Loss: 42.9022\n",
      "Epoch [200/10000], Train Loss: 117.3237, Validation Loss: 8.4424\n",
      "Epoch [300/10000], Train Loss: 76.2836, Validation Loss: 5.7418\n"
     ]
    },
    {
     "name": "stderr",
     "output_type": "stream",
     "text": [
      "[I 2024-02-06 23:27:47,324] Trial 140 finished with value: 12.436912536621094 and parameters: {'hidden_size': 12, 'num_layers': 4, 'lr': 0.050613750897521015}. Best is trial 129 with value: 3.9202723503112793.\n"
     ]
    },
    {
     "name": "stdout",
     "output_type": "stream",
     "text": [
      "Epoch [363/10000], Train Loss: 103.3960, Validation Loss: 12.4369\n",
      "Early stopping triggered. Stopping training.\n",
      "Epoch [100/10000], Train Loss: 2768.6412, Validation Loss: 779.3107\n",
      "Epoch [200/10000], Train Loss: 352.8716, Validation Loss: 15.3802\n",
      "Epoch [300/10000], Train Loss: 157.0391, Validation Loss: 12.4566\n",
      "Epoch [400/10000], Train Loss: 127.3608, Validation Loss: 29.7862\n",
      "Epoch [500/10000], Train Loss: 56.6847, Validation Loss: 7.5502\n",
      "Epoch [600/10000], Train Loss: 72.7134, Validation Loss: 7.7699\n",
      "Epoch [700/10000], Train Loss: 81.0607, Validation Loss: 11.5569\n"
     ]
    },
    {
     "name": "stderr",
     "output_type": "stream",
     "text": [
      "[I 2024-02-06 23:28:33,453] Trial 141 finished with value: 6.473690032958984 and parameters: {'hidden_size': 15, 'num_layers': 7, 'lr': 0.0021103779374976694}. Best is trial 129 with value: 3.9202723503112793.\n"
     ]
    },
    {
     "name": "stdout",
     "output_type": "stream",
     "text": [
      "Epoch [785/10000], Train Loss: 30.0882, Validation Loss: 6.4737\n",
      "Early stopping triggered. Stopping training.\n",
      "Epoch [100/10000], Train Loss: 1168.3373, Validation Loss: 102.2566\n",
      "Epoch [200/10000], Train Loss: 341.8493, Validation Loss: 29.3702\n",
      "Epoch [300/10000], Train Loss: 200.8313, Validation Loss: 20.9723\n",
      "Epoch [400/10000], Train Loss: 162.7931, Validation Loss: 23.7175\n",
      "Epoch [500/10000], Train Loss: 94.6208, Validation Loss: 15.9790\n",
      "Epoch [600/10000], Train Loss: 95.4397, Validation Loss: 9.1794\n",
      "Epoch [700/10000], Train Loss: 56.6049, Validation Loss: 7.9498\n",
      "Epoch [800/10000], Train Loss: 43.9007, Validation Loss: 6.4468\n"
     ]
    },
    {
     "name": "stderr",
     "output_type": "stream",
     "text": [
      "[I 2024-02-06 23:29:23,014] Trial 142 finished with value: 12.291213035583496 and parameters: {'hidden_size': 20, 'num_layers': 6, 'lr': 0.0014710544492500136}. Best is trial 129 with value: 3.9202723503112793.\n"
     ]
    },
    {
     "name": "stdout",
     "output_type": "stream",
     "text": [
      "Epoch [878/10000], Train Loss: 77.7927, Validation Loss: 12.2912\n",
      "Early stopping triggered. Stopping training.\n",
      "Epoch [100/10000], Train Loss: 4723.2230, Validation Loss: 1234.5042\n",
      "Epoch [200/10000], Train Loss: 3572.6947, Validation Loss: 1124.5745\n",
      "Epoch [300/10000], Train Loss: 3211.4218, Validation Loss: 1121.1558\n",
      "Epoch [400/10000], Train Loss: 3316.0534, Validation Loss: 1116.7806\n",
      "Epoch [500/10000], Train Loss: 3234.8745, Validation Loss: 1114.6957\n",
      "Epoch [600/10000], Train Loss: 3094.4560, Validation Loss: 1114.6165\n",
      "Epoch [700/10000], Train Loss: 3600.1128, Validation Loss: 1115.2494\n"
     ]
    },
    {
     "name": "stderr",
     "output_type": "stream",
     "text": [
      "[I 2024-02-06 23:30:10,531] Trial 143 finished with value: 1115.048828125 and parameters: {'hidden_size': 12, 'num_layers': 10, 'lr': 0.001739313696377705}. Best is trial 129 with value: 3.9202723503112793.\n"
     ]
    },
    {
     "name": "stdout",
     "output_type": "stream",
     "text": [
      "Epoch [723/10000], Train Loss: 3167.0436, Validation Loss: 1115.0488\n",
      "Early stopping triggered. Stopping training.\n",
      "Epoch [100/10000], Train Loss: 16464.7495, Validation Loss: 2222.8674\n",
      "Epoch [200/10000], Train Loss: 3778.8623, Validation Loss: 1160.7458\n",
      "Epoch [300/10000], Train Loss: 3507.4440, Validation Loss: 1124.7549\n",
      "Epoch [400/10000], Train Loss: 3179.0650, Validation Loss: 1118.5787\n",
      "Epoch [500/10000], Train Loss: 3037.4840, Validation Loss: 1116.1176\n",
      "Epoch [600/10000], Train Loss: 3235.9916, Validation Loss: 1115.1670\n"
     ]
    },
    {
     "name": "stderr",
     "output_type": "stream",
     "text": [
      "[I 2024-02-06 23:30:56,447] Trial 144 finished with value: 1117.8492431640625 and parameters: {'hidden_size': 9, 'num_layers': 13, 'lr': 0.001105066369657714}. Best is trial 129 with value: 3.9202723503112793.\n"
     ]
    },
    {
     "name": "stdout",
     "output_type": "stream",
     "text": [
      "Epoch [696/10000], Train Loss: 3079.1823, Validation Loss: 1117.8492\n",
      "Early stopping triggered. Stopping training.\n",
      "Epoch [100/10000], Train Loss: 33917.5120, Validation Loss: 3748.4866\n",
      "Epoch [200/10000], Train Loss: 9795.2419, Validation Loss: 1838.5695\n",
      "Epoch [300/10000], Train Loss: 4879.4959, Validation Loss: 1296.7035\n",
      "Epoch [400/10000], Train Loss: 3888.4400, Validation Loss: 1180.5753\n",
      "Epoch [500/10000], Train Loss: 3700.0208, Validation Loss: 1145.4716\n",
      "Epoch [600/10000], Train Loss: 3502.9820, Validation Loss: 1132.7657\n",
      "Epoch [700/10000], Train Loss: 3757.8900, Validation Loss: 1126.2239\n",
      "Epoch [800/10000], Train Loss: 3257.3518, Validation Loss: 1126.2074\n",
      "Epoch [900/10000], Train Loss: 3352.6617, Validation Loss: 1119.9004\n",
      "Epoch [1000/10000], Train Loss: 3195.2126, Validation Loss: 1118.6788\n",
      "Epoch [1100/10000], Train Loss: 3106.4036, Validation Loss: 1116.0476\n",
      "Epoch [1200/10000], Train Loss: 3297.3896, Validation Loss: 1114.7156\n",
      "Epoch [1300/10000], Train Loss: 3085.0830, Validation Loss: 1113.3057\n",
      "Epoch [1400/10000], Train Loss: 3023.2771, Validation Loss: 1113.1296\n",
      "Epoch [1500/10000], Train Loss: 3021.0477, Validation Loss: 1112.8989\n",
      "Epoch [1600/10000], Train Loss: 2876.4994, Validation Loss: 1112.4459\n",
      "Epoch [1700/10000], Train Loss: 3222.3382, Validation Loss: 1112.2936\n",
      "Epoch [1800/10000], Train Loss: 3077.2271, Validation Loss: 1112.4624\n",
      "Epoch [1900/10000], Train Loss: 2980.1614, Validation Loss: 1112.1731\n",
      "Epoch [2000/10000], Train Loss: 3175.5034, Validation Loss: 1112.3232\n",
      "Epoch [2100/10000], Train Loss: 2951.6075, Validation Loss: 1111.9768\n",
      "Epoch [2200/10000], Train Loss: 3067.8760, Validation Loss: 1111.8069\n",
      "Epoch [2300/10000], Train Loss: 3113.2322, Validation Loss: 1111.2327\n",
      "Epoch [2400/10000], Train Loss: 3247.3893, Validation Loss: 1110.7233\n",
      "Epoch [2500/10000], Train Loss: 3192.8357, Validation Loss: 1111.5266\n",
      "Epoch [2600/10000], Train Loss: 2947.7567, Validation Loss: 1110.9432\n",
      "Epoch [2700/10000], Train Loss: 3137.4012, Validation Loss: 1110.8684\n",
      "Epoch [2800/10000], Train Loss: 3223.3985, Validation Loss: 1110.7906\n"
     ]
    },
    {
     "name": "stderr",
     "output_type": "stream",
     "text": [
      "[I 2024-02-06 23:34:12,510] Trial 145 finished with value: 1110.820068359375 and parameters: {'hidden_size': 12, 'num_layers': 7, 'lr': 0.0005885401717298607}. Best is trial 129 with value: 3.9202723503112793.\n"
     ]
    },
    {
     "name": "stdout",
     "output_type": "stream",
     "text": [
      "Epoch [2866/10000], Train Loss: 3308.3017, Validation Loss: 1110.8201\n",
      "Early stopping triggered. Stopping training.\n",
      "Epoch [100/10000], Train Loss: 4264.1053, Validation Loss: 1199.6448\n",
      "Epoch [200/10000], Train Loss: 3629.5918, Validation Loss: 1143.3491\n",
      "Epoch [300/10000], Train Loss: 3499.0443, Validation Loss: 1125.9175\n",
      "Epoch [400/10000], Train Loss: 3124.2970, Validation Loss: 1118.5903\n",
      "Epoch [500/10000], Train Loss: 3064.5946, Validation Loss: 1117.7417\n",
      "Epoch [600/10000], Train Loss: 3060.3762, Validation Loss: 1115.2996\n",
      "Epoch [700/10000], Train Loss: 3233.9810, Validation Loss: 1114.0656\n",
      "Epoch [800/10000], Train Loss: 3003.1035, Validation Loss: 1114.2946\n",
      "Epoch [900/10000], Train Loss: 3024.6462, Validation Loss: 1112.7396\n",
      "Epoch [1000/10000], Train Loss: 3086.0738, Validation Loss: 1115.6472\n",
      "Epoch [1100/10000], Train Loss: 3243.7687, Validation Loss: 1114.2791\n",
      "Epoch [1200/10000], Train Loss: 2935.8952, Validation Loss: 1112.0179\n"
     ]
    },
    {
     "name": "stderr",
     "output_type": "stream",
     "text": [
      "[I 2024-02-06 23:35:26,108] Trial 146 finished with value: 1112.487548828125 and parameters: {'hidden_size': 15, 'num_layers': 4, 'lr': 0.0013566915262695856}. Best is trial 129 with value: 3.9202723503112793.\n"
     ]
    },
    {
     "name": "stdout",
     "output_type": "stream",
     "text": [
      "Epoch [1214/10000], Train Loss: 2955.4754, Validation Loss: 1112.4875\n",
      "Early stopping triggered. Stopping training.\n",
      "Epoch [100/10000], Train Loss: 4839.8370, Validation Loss: 1302.0059\n",
      "Epoch [200/10000], Train Loss: 3538.7874, Validation Loss: 1168.5886\n",
      "Epoch [300/10000], Train Loss: 3621.0535, Validation Loss: 1146.4274\n",
      "Epoch [400/10000], Train Loss: 3476.8280, Validation Loss: 1156.9252\n"
     ]
    },
    {
     "name": "stderr",
     "output_type": "stream",
     "text": [
      "[I 2024-02-06 23:35:53,727] Trial 147 finished with value: 1152.642822265625 and parameters: {'hidden_size': 20, 'num_layers': 1, 'lr': 0.0025346504820556556}. Best is trial 129 with value: 3.9202723503112793.\n"
     ]
    },
    {
     "name": "stdout",
     "output_type": "stream",
     "text": [
      "Epoch [494/10000], Train Loss: 3260.6984, Validation Loss: 1152.6428\n",
      "Early stopping triggered. Stopping training.\n",
      "Epoch [100/10000], Train Loss: 254.9971, Validation Loss: 13.2075\n",
      "Epoch [200/10000], Train Loss: 95.6742, Validation Loss: 10.7096\n",
      "Epoch [300/10000], Train Loss: 102.4699, Validation Loss: 6.5343\n",
      "Epoch [400/10000], Train Loss: 130.0150, Validation Loss: 10.9551\n",
      "Epoch [500/10000], Train Loss: 90.2478, Validation Loss: 17.7207\n",
      "Epoch [600/10000], Train Loss: 92.1696, Validation Loss: 7.7901\n"
     ]
    },
    {
     "name": "stderr",
     "output_type": "stream",
     "text": [
      "[I 2024-02-06 23:36:37,397] Trial 148 finished with value: 9.631031036376953 and parameters: {'hidden_size': 12, 'num_layers': 7, 'lr': 0.013641090313469901}. Best is trial 129 with value: 3.9202723503112793.\n"
     ]
    },
    {
     "name": "stdout",
     "output_type": "stream",
     "text": [
      "Epoch [646/10000], Train Loss: 105.3718, Validation Loss: 9.6310\n",
      "Early stopping triggered. Stopping training.\n",
      "Epoch [100/10000], Train Loss: 31834.0547, Validation Loss: 4279.5005\n",
      "Epoch [200/10000], Train Loss: 6608.9657, Validation Loss: 1465.3062\n",
      "Epoch [300/10000], Train Loss: 5541.2629, Validation Loss: 1321.5035\n",
      "Epoch [400/10000], Train Loss: 4585.0245, Validation Loss: 1259.2386\n",
      "Epoch [500/10000], Train Loss: 3913.2607, Validation Loss: 1182.7651\n",
      "Epoch [600/10000], Train Loss: 3753.3122, Validation Loss: 1167.5613\n",
      "Epoch [700/10000], Train Loss: 3554.8082, Validation Loss: 1146.8685\n",
      "Epoch [800/10000], Train Loss: 3360.8258, Validation Loss: 1130.9512\n",
      "Epoch [900/10000], Train Loss: 3384.6885, Validation Loss: 1122.7156\n",
      "Epoch [1000/10000], Train Loss: 3105.2189, Validation Loss: 1117.6907\n",
      "Epoch [1100/10000], Train Loss: 3211.4093, Validation Loss: 1116.2407\n",
      "Epoch [1200/10000], Train Loss: 2934.8106, Validation Loss: 1118.5277\n",
      "Epoch [1300/10000], Train Loss: 3078.8530, Validation Loss: 1115.0748\n",
      "Epoch [1400/10000], Train Loss: 3119.4577, Validation Loss: 1115.2750\n",
      "Epoch [1500/10000], Train Loss: 2977.7863, Validation Loss: 1113.8816\n",
      "Epoch [1600/10000], Train Loss: 3212.4189, Validation Loss: 1113.5625\n"
     ]
    },
    {
     "name": "stderr",
     "output_type": "stream",
     "text": [
      "[I 2024-02-06 23:38:38,586] Trial 149 finished with value: 1113.5372314453125 and parameters: {'hidden_size': 12, 'num_layers': 11, 'lr': 0.0007295391343568034}. Best is trial 129 with value: 3.9202723503112793.\n"
     ]
    },
    {
     "name": "stdout",
     "output_type": "stream",
     "text": [
      "Epoch [1638/10000], Train Loss: 2946.2747, Validation Loss: 1113.5372\n",
      "Early stopping triggered. Stopping training.\n",
      "Epoch [100/10000], Train Loss: 3380.4932, Validation Loss: 1131.2300\n",
      "Epoch [200/10000], Train Loss: 3334.4481, Validation Loss: 1118.1857\n",
      "Epoch [300/10000], Train Loss: 3267.4697, Validation Loss: 1115.5106\n",
      "Epoch [400/10000], Train Loss: 2978.2341, Validation Loss: 1114.5149\n",
      "Epoch [500/10000], Train Loss: 3164.6950, Validation Loss: 1113.9747\n",
      "Epoch [600/10000], Train Loss: 3091.2949, Validation Loss: 1115.4025\n",
      "Epoch [700/10000], Train Loss: 2944.2001, Validation Loss: 1111.7306\n",
      "Epoch [800/10000], Train Loss: 3007.0512, Validation Loss: 1112.2616\n"
     ]
    },
    {
     "name": "stderr",
     "output_type": "stream",
     "text": [
      "[I 2024-02-06 23:39:30,811] Trial 150 finished with value: 1112.185546875 and parameters: {'hidden_size': 12, 'num_layers': 2, 'lr': 0.0063942153608714}. Best is trial 129 with value: 3.9202723503112793.\n"
     ]
    },
    {
     "name": "stdout",
     "output_type": "stream",
     "text": [
      "Epoch [862/10000], Train Loss: 3132.6833, Validation Loss: 1112.1855\n",
      "Early stopping triggered. Stopping training.\n",
      "Epoch [100/10000], Train Loss: 3466.7404, Validation Loss: 1138.8479\n",
      "Epoch [200/10000], Train Loss: 3269.7253, Validation Loss: 1115.8622\n",
      "Epoch [300/10000], Train Loss: 261.9489, Validation Loss: 55.2259\n",
      "Epoch [400/10000], Train Loss: 87.7841, Validation Loss: 13.5800\n",
      "Epoch [500/10000], Train Loss: 88.4750, Validation Loss: 13.1186\n",
      "Epoch [600/10000], Train Loss: 54.7082, Validation Loss: 8.9833\n",
      "Epoch [700/10000], Train Loss: 56.0669, Validation Loss: 9.2159\n"
     ]
    },
    {
     "name": "stderr",
     "output_type": "stream",
     "text": [
      "[I 2024-02-06 23:40:16,298] Trial 151 finished with value: 8.88945484161377 and parameters: {'hidden_size': 12, 'num_layers': 4, 'lr': 0.003946146165607475}. Best is trial 129 with value: 3.9202723503112793.\n"
     ]
    },
    {
     "name": "stdout",
     "output_type": "stream",
     "text": [
      "Epoch [754/10000], Train Loss: 45.5281, Validation Loss: 8.8895\n",
      "Early stopping triggered. Stopping training.\n",
      "Epoch [100/10000], Train Loss: 2547.4747, Validation Loss: 839.9805\n",
      "Epoch [200/10000], Train Loss: 238.7254, Validation Loss: 31.1552\n",
      "Epoch [300/10000], Train Loss: 126.3135, Validation Loss: 14.2368\n",
      "Epoch [400/10000], Train Loss: 111.2055, Validation Loss: 11.6780\n",
      "Epoch [500/10000], Train Loss: 72.6221, Validation Loss: 9.4705\n",
      "Epoch [600/10000], Train Loss: 85.1853, Validation Loss: 8.7826\n",
      "Epoch [700/10000], Train Loss: 66.2612, Validation Loss: 7.5572\n",
      "Epoch [800/10000], Train Loss: 122.5254, Validation Loss: 14.9101\n",
      "Epoch [900/10000], Train Loss: 53.8772, Validation Loss: 6.5065\n",
      "Epoch [1000/10000], Train Loss: 49.9303, Validation Loss: 8.0925\n",
      "Epoch [1100/10000], Train Loss: 48.2614, Validation Loss: 6.1280\n",
      "Epoch [1200/10000], Train Loss: 35.8509, Validation Loss: 5.5098\n",
      "Epoch [1300/10000], Train Loss: 28.0442, Validation Loss: 5.6958\n",
      "Epoch [1400/10000], Train Loss: 28.4195, Validation Loss: 5.3782\n"
     ]
    },
    {
     "name": "stderr",
     "output_type": "stream",
     "text": [
      "[I 2024-02-06 23:41:32,419] Trial 152 finished with value: 8.232460021972656 and parameters: {'hidden_size': 12, 'num_layers': 4, 'lr': 0.003495753742331486}. Best is trial 129 with value: 3.9202723503112793.\n"
     ]
    },
    {
     "name": "stdout",
     "output_type": "stream",
     "text": [
      "Epoch [1478/10000], Train Loss: 43.6898, Validation Loss: 8.2325\n",
      "Early stopping triggered. Stopping training.\n",
      "Epoch [100/10000], Train Loss: 2154.5754, Validation Loss: 626.3390\n",
      "Epoch [200/10000], Train Loss: 215.3535, Validation Loss: 24.3685\n",
      "Epoch [300/10000], Train Loss: 125.6252, Validation Loss: 13.4724\n",
      "Epoch [400/10000], Train Loss: 131.3495, Validation Loss: 13.8527\n",
      "Epoch [500/10000], Train Loss: 89.9528, Validation Loss: 11.0416\n",
      "Epoch [600/10000], Train Loss: 35.8757, Validation Loss: 7.5815\n",
      "Epoch [700/10000], Train Loss: 38.7236, Validation Loss: 6.4091\n",
      "Epoch [800/10000], Train Loss: 45.3622, Validation Loss: 6.5268\n",
      "Epoch [900/10000], Train Loss: 27.8202, Validation Loss: 6.6757\n",
      "Epoch [1000/10000], Train Loss: 27.4139, Validation Loss: 4.7853\n",
      "Epoch [1100/10000], Train Loss: 33.8867, Validation Loss: 6.2552\n"
     ]
    },
    {
     "name": "stderr",
     "output_type": "stream",
     "text": [
      "[I 2024-02-06 23:42:32,340] Trial 153 finished with value: 5.6513471603393555 and parameters: {'hidden_size': 12, 'num_layers': 4, 'lr': 0.005163329855840587}. Best is trial 129 with value: 3.9202723503112793.\n"
     ]
    },
    {
     "name": "stdout",
     "output_type": "stream",
     "text": [
      "Epoch [1121/10000], Train Loss: 28.9831, Validation Loss: 5.6513\n",
      "Early stopping triggered. Stopping training.\n",
      "Epoch [100/10000], Train Loss: 3108.7074, Validation Loss: 1118.6554\n",
      "Epoch [200/10000], Train Loss: 3313.3690, Validation Loss: 1122.0735\n",
      "Epoch [300/10000], Train Loss: 3170.8360, Validation Loss: 1120.5948\n"
     ]
    },
    {
     "name": "stderr",
     "output_type": "stream",
     "text": [
      "[I 2024-02-06 23:43:00,479] Trial 154 finished with value: 1113.5120849609375 and parameters: {'hidden_size': 12, 'num_layers': 9, 'lr': 0.007932186585454835}. Best is trial 129 with value: 3.9202723503112793.\n"
     ]
    },
    {
     "name": "stdout",
     "output_type": "stream",
     "text": [
      "Epoch [397/10000], Train Loss: 3337.5025, Validation Loss: 1113.5121\n",
      "Early stopping triggered. Stopping training.\n",
      "Epoch [100/10000], Train Loss: 3473.6727, Validation Loss: 896.6930\n",
      "Epoch [200/10000], Train Loss: 338.8771, Validation Loss: 15.6304\n",
      "Epoch [300/10000], Train Loss: 140.0021, Validation Loss: 13.1898\n",
      "Epoch [400/10000], Train Loss: 100.9272, Validation Loss: 10.5682\n",
      "Epoch [500/10000], Train Loss: 304.7354, Validation Loss: 45.7396\n",
      "Epoch [600/10000], Train Loss: 136.4864, Validation Loss: 19.0295\n",
      "Epoch [700/10000], Train Loss: 49.7491, Validation Loss: 8.4635\n",
      "Epoch [800/10000], Train Loss: 93.9989, Validation Loss: 6.9746\n",
      "Epoch [900/10000], Train Loss: 89.4850, Validation Loss: 10.9763\n",
      "Epoch [1000/10000], Train Loss: 29.5256, Validation Loss: 6.2147\n"
     ]
    },
    {
     "name": "stderr",
     "output_type": "stream",
     "text": [
      "[I 2024-02-06 23:44:32,857] Trial 155 finished with value: 6.409857749938965 and parameters: {'hidden_size': 15, 'num_layers': 12, 'lr': 0.005068456645981198}. Best is trial 129 with value: 3.9202723503112793.\n"
     ]
    },
    {
     "name": "stdout",
     "output_type": "stream",
     "text": [
      "Epoch [1016/10000], Train Loss: 36.6736, Validation Loss: 6.4099\n",
      "Early stopping triggered. Stopping training.\n",
      "Epoch [100/10000], Train Loss: 3157.2721, Validation Loss: 1116.1155\n",
      "Epoch [200/10000], Train Loss: 58.8886, Validation Loss: 5.4318\n",
      "Epoch [300/10000], Train Loss: 37.5981, Validation Loss: 11.6105\n",
      "Epoch [400/10000], Train Loss: 30.6488, Validation Loss: 4.4720\n",
      "Epoch [500/10000], Train Loss: 26.3490, Validation Loss: 3.8681\n",
      "Epoch [600/10000], Train Loss: 22.9366, Validation Loss: 3.4874\n",
      "Epoch [700/10000], Train Loss: 68.1803, Validation Loss: 9.0192\n"
     ]
    },
    {
     "name": "stderr",
     "output_type": "stream",
     "text": [
      "[I 2024-02-06 23:45:19,384] Trial 156 finished with value: 3.6250715255737305 and parameters: {'hidden_size': 20, 'num_layers': 4, 'lr': 0.006084259871599064}. Best is trial 156 with value: 3.6250715255737305.\n"
     ]
    },
    {
     "name": "stdout",
     "output_type": "stream",
     "text": [
      "Epoch [725/10000], Train Loss: 28.7128, Validation Loss: 3.6251\n",
      "Early stopping triggered. Stopping training.\n",
      "Epoch [100/10000], Train Loss: 70.3105, Validation Loss: 13.4546\n",
      "Epoch [200/10000], Train Loss: 42.9682, Validation Loss: 8.5970\n",
      "Epoch [300/10000], Train Loss: 92.7447, Validation Loss: 6.2421\n",
      "Epoch [400/10000], Train Loss: 38.4449, Validation Loss: 4.0685\n"
     ]
    },
    {
     "name": "stderr",
     "output_type": "stream",
     "text": [
      "[I 2024-02-06 23:45:48,192] Trial 157 finished with value: 4.40778923034668 and parameters: {'hidden_size': 20, 'num_layers': 4, 'lr': 0.010093505659715363}. Best is trial 156 with value: 3.6250715255737305.\n"
     ]
    },
    {
     "name": "stdout",
     "output_type": "stream",
     "text": [
      "Epoch [426/10000], Train Loss: 42.7725, Validation Loss: 4.4078\n",
      "Early stopping triggered. Stopping training.\n",
      "Epoch [100/10000], Train Loss: 285.4861, Validation Loss: 13.8392\n",
      "Epoch [200/10000], Train Loss: 105.1363, Validation Loss: 6.3547\n",
      "Epoch [300/10000], Train Loss: 181.7281, Validation Loss: 25.6479\n",
      "Epoch [400/10000], Train Loss: 49.6444, Validation Loss: 6.2995\n"
     ]
    },
    {
     "name": "stderr",
     "output_type": "stream",
     "text": [
      "[I 2024-02-06 23:46:19,026] Trial 158 finished with value: 5.797161102294922 and parameters: {'hidden_size': 20, 'num_layers': 4, 'lr': 0.009780684831385483}. Best is trial 156 with value: 3.6250715255737305.\n"
     ]
    },
    {
     "name": "stdout",
     "output_type": "stream",
     "text": [
      "Epoch [463/10000], Train Loss: 36.0620, Validation Loss: 5.7972\n",
      "Early stopping triggered. Stopping training.\n",
      "Epoch [100/10000], Train Loss: 3259.6038, Validation Loss: 1123.3325\n",
      "Epoch [200/10000], Train Loss: 3449.2855, Validation Loss: 1122.2687\n"
     ]
    },
    {
     "name": "stderr",
     "output_type": "stream",
     "text": [
      "[I 2024-02-06 23:46:38,809] Trial 159 finished with value: 1112.888916015625 and parameters: {'hidden_size': 20, 'num_layers': 4, 'lr': 0.011505173265506197}. Best is trial 156 with value: 3.6250715255737305.\n"
     ]
    },
    {
     "name": "stdout",
     "output_type": "stream",
     "text": [
      "Epoch [290/10000], Train Loss: 3104.3687, Validation Loss: 1112.8889\n",
      "Early stopping triggered. Stopping training.\n",
      "Epoch [100/10000], Train Loss: 175.9612, Validation Loss: 28.3672\n",
      "Epoch [200/10000], Train Loss: 196.4898, Validation Loss: 17.3583\n",
      "Epoch [300/10000], Train Loss: 143.1062, Validation Loss: 13.1575\n",
      "Epoch [400/10000], Train Loss: 40.1758, Validation Loss: 6.0260\n",
      "Epoch [500/10000], Train Loss: 47.5435, Validation Loss: 5.6908\n",
      "Epoch [600/10000], Train Loss: 27.1272, Validation Loss: 5.1469\n"
     ]
    },
    {
     "name": "stderr",
     "output_type": "stream",
     "text": [
      "[I 2024-02-06 23:47:20,998] Trial 160 finished with value: 5.49631929397583 and parameters: {'hidden_size': 20, 'num_layers': 4, 'lr': 0.01855026143891416}. Best is trial 156 with value: 3.6250715255737305.\n"
     ]
    },
    {
     "name": "stdout",
     "output_type": "stream",
     "text": [
      "Epoch [606/10000], Train Loss: 47.2713, Validation Loss: 5.4963\n",
      "Early stopping triggered. Stopping training.\n"
     ]
    },
    {
     "name": "stderr",
     "output_type": "stream",
     "text": [
      "[I 2024-02-06 23:47:27,972] Trial 161 finished with value: 6480.986328125 and parameters: {'hidden_size': 20, 'num_layers': 4, 'lr': 0.01823663039431992}. Best is trial 156 with value: 3.6250715255737305.\n"
     ]
    },
    {
     "name": "stdout",
     "output_type": "stream",
     "text": [
      "Epoch [100/10000], Train Loss: 53501.3379, Validation Loss: 6480.9863\n",
      "Epoch [101/10000], Train Loss: 53056.7397, Validation Loss: 6480.9863\n",
      "Early stopping triggered. Stopping training.\n",
      "Epoch [100/10000], Train Loss: 3237.5998, Validation Loss: 1116.8102\n",
      "Epoch [200/10000], Train Loss: 3225.1504, Validation Loss: 1112.4387\n",
      "Epoch [300/10000], Train Loss: 3116.1278, Validation Loss: 1112.6824\n",
      "Epoch [400/10000], Train Loss: 2905.2606, Validation Loss: 1115.8666\n",
      "Epoch [500/10000], Train Loss: 3098.4101, Validation Loss: 1112.1698\n",
      "Epoch [600/10000], Train Loss: 3397.4354, Validation Loss: 1112.7747\n",
      "Epoch [700/10000], Train Loss: 124.6689, Validation Loss: 33.8375\n",
      "Epoch [800/10000], Train Loss: 29.4398, Validation Loss: 6.1107\n",
      "Epoch [900/10000], Train Loss: 30.7000, Validation Loss: 4.9722\n",
      "Epoch [1000/10000], Train Loss: 28.2645, Validation Loss: 4.7362\n",
      "Epoch [1100/10000], Train Loss: 42.3668, Validation Loss: 3.6617\n",
      "Epoch [1200/10000], Train Loss: 31.5396, Validation Loss: 5.7073\n",
      "Epoch [1300/10000], Train Loss: 14.8244, Validation Loss: 2.6442\n",
      "Epoch [1400/10000], Train Loss: 23.5061, Validation Loss: 3.1806\n",
      "Epoch [1500/10000], Train Loss: 20.5306, Validation Loss: 3.0282\n",
      "Epoch [1600/10000], Train Loss: 36.4650, Validation Loss: 3.6799\n",
      "Epoch [1700/10000], Train Loss: 23.9089, Validation Loss: 2.3170\n",
      "Epoch [1800/10000], Train Loss: 40.3602, Validation Loss: 3.6717\n",
      "Epoch [1900/10000], Train Loss: 20.3343, Validation Loss: 2.6993\n"
     ]
    },
    {
     "name": "stderr",
     "output_type": "stream",
     "text": [
      "[I 2024-02-06 23:49:27,332] Trial 162 finished with value: 2.9685463905334473 and parameters: {'hidden_size': 20, 'num_layers': 4, 'lr': 0.016297186309040205}. Best is trial 162 with value: 2.9685463905334473.\n"
     ]
    },
    {
     "name": "stdout",
     "output_type": "stream",
     "text": [
      "Epoch [1926/10000], Train Loss: 20.4673, Validation Loss: 2.9685\n",
      "Early stopping triggered. Stopping training.\n",
      "Epoch [100/10000], Train Loss: 1145.3197, Validation Loss: 122.1022\n",
      "Epoch [200/10000], Train Loss: 55.8168, Validation Loss: 9.8856\n",
      "Epoch [300/10000], Train Loss: 56.1784, Validation Loss: 4.5029\n",
      "Epoch [400/10000], Train Loss: 175.3121, Validation Loss: 8.4491\n"
     ]
    },
    {
     "name": "stderr",
     "output_type": "stream",
     "text": [
      "[I 2024-02-06 23:49:57,482] Trial 163 finished with value: 6.273135662078857 and parameters: {'hidden_size': 20, 'num_layers': 4, 'lr': 0.024833457840017295}. Best is trial 162 with value: 2.9685463905334473.\n"
     ]
    },
    {
     "name": "stdout",
     "output_type": "stream",
     "text": [
      "Epoch [469/10000], Train Loss: 43.0387, Validation Loss: 6.2731\n",
      "Early stopping triggered. Stopping training.\n",
      "Epoch [100/10000], Train Loss: 80.6603, Validation Loss: 7.4989\n",
      "Epoch [200/10000], Train Loss: 72.6381, Validation Loss: 8.1575\n",
      "Epoch [300/10000], Train Loss: 63.4535, Validation Loss: 9.5320\n",
      "Epoch [400/10000], Train Loss: 98.8886, Validation Loss: 15.3727\n",
      "Epoch [500/10000], Train Loss: 364.3337, Validation Loss: 26.2873\n",
      "Epoch [600/10000], Train Loss: 29.1181, Validation Loss: 4.9391\n",
      "Epoch [700/10000], Train Loss: 25.5904, Validation Loss: 5.4961\n",
      "Epoch [800/10000], Train Loss: 32.3740, Validation Loss: 4.0398\n"
     ]
    },
    {
     "name": "stderr",
     "output_type": "stream",
     "text": [
      "[I 2024-02-06 23:50:52,708] Trial 164 finished with value: 4.34507942199707 and parameters: {'hidden_size': 20, 'num_layers': 4, 'lr': 0.017032956753552833}. Best is trial 162 with value: 2.9685463905334473.\n"
     ]
    },
    {
     "name": "stdout",
     "output_type": "stream",
     "text": [
      "Epoch [837/10000], Train Loss: 53.3961, Validation Loss: 4.3451\n",
      "Early stopping triggered. Stopping training.\n",
      "Epoch [100/10000], Train Loss: 116.3377, Validation Loss: 10.1957\n",
      "Epoch [200/10000], Train Loss: 36.6308, Validation Loss: 5.1011\n",
      "Epoch [300/10000], Train Loss: 31.2120, Validation Loss: 3.9730\n",
      "Epoch [400/10000], Train Loss: 307.9593, Validation Loss: 60.1272\n",
      "Epoch [500/10000], Train Loss: 183.7337, Validation Loss: 11.6685\n"
     ]
    },
    {
     "name": "stderr",
     "output_type": "stream",
     "text": [
      "[I 2024-02-06 23:51:32,101] Trial 165 finished with value: 3.5469067096710205 and parameters: {'hidden_size': 20, 'num_layers': 4, 'lr': 0.01544062329610053}. Best is trial 162 with value: 2.9685463905334473.\n"
     ]
    },
    {
     "name": "stdout",
     "output_type": "stream",
     "text": [
      "Epoch [588/10000], Train Loss: 35.6950, Validation Loss: 3.5469\n",
      "Early stopping triggered. Stopping training.\n",
      "Epoch [100/10000], Train Loss: 489.2272, Validation Loss: 21.3104\n",
      "Epoch [200/10000], Train Loss: 266.8316, Validation Loss: 14.6282\n",
      "Epoch [300/10000], Train Loss: 45.3269, Validation Loss: 8.1447\n"
     ]
    },
    {
     "name": "stderr",
     "output_type": "stream",
     "text": [
      "[I 2024-02-06 23:51:54,105] Trial 166 finished with value: 16.803524017333984 and parameters: {'hidden_size': 20, 'num_layers': 4, 'lr': 0.014994395505497308}. Best is trial 162 with value: 2.9685463905334473.\n"
     ]
    },
    {
     "name": "stdout",
     "output_type": "stream",
     "text": [
      "Epoch [351/10000], Train Loss: 132.2423, Validation Loss: 16.8035\n",
      "Early stopping triggered. Stopping training.\n",
      "Epoch [100/10000], Train Loss: 3089.9967, Validation Loss: 1116.6876\n",
      "Epoch [200/10000], Train Loss: 3079.9469, Validation Loss: 1115.5802\n",
      "Epoch [300/10000], Train Loss: 3225.3781, Validation Loss: 1125.0618\n",
      "Epoch [400/10000], Train Loss: 3097.0064, Validation Loss: 1112.6617\n",
      "Epoch [500/10000], Train Loss: 3039.4698, Validation Loss: 1114.1262\n",
      "Epoch [600/10000], Train Loss: 51.7778, Validation Loss: 17.4225\n",
      "Epoch [700/10000], Train Loss: 90.9629, Validation Loss: 41.0930\n"
     ]
    },
    {
     "name": "stderr",
     "output_type": "stream",
     "text": [
      "[I 2024-02-06 23:52:45,559] Trial 167 finished with value: 5.915918350219727 and parameters: {'hidden_size': 20, 'num_layers': 4, 'lr': 0.013562415503807927}. Best is trial 162 with value: 2.9685463905334473.\n"
     ]
    },
    {
     "name": "stdout",
     "output_type": "stream",
     "text": [
      "Epoch [738/10000], Train Loss: 34.4651, Validation Loss: 5.9159\n",
      "Early stopping triggered. Stopping training.\n"
     ]
    },
    {
     "name": "stderr",
     "output_type": "stream",
     "text": [
      "[I 2024-02-06 23:52:52,730] Trial 168 finished with value: 6480.986328125 and parameters: {'hidden_size': 20, 'num_layers': 4, 'lr': 0.028958326616874953}. Best is trial 162 with value: 2.9685463905334473.\n"
     ]
    },
    {
     "name": "stdout",
     "output_type": "stream",
     "text": [
      "Epoch [100/10000], Train Loss: 52093.6775, Validation Loss: 6480.9863\n",
      "Epoch [101/10000], Train Loss: 52617.2583, Validation Loss: 6480.9863\n",
      "Early stopping triggered. Stopping training.\n",
      "Epoch [100/10000], Train Loss: 195.8077, Validation Loss: 13.9846\n",
      "Epoch [200/10000], Train Loss: 85.2178, Validation Loss: 8.4556\n",
      "Epoch [300/10000], Train Loss: 552.0929, Validation Loss: 60.0564\n",
      "Epoch [400/10000], Train Loss: 71.2122, Validation Loss: 7.0756\n",
      "Epoch [500/10000], Train Loss: 54.2123, Validation Loss: 12.7009\n"
     ]
    },
    {
     "name": "stderr",
     "output_type": "stream",
     "text": [
      "[I 2024-02-06 23:53:32,126] Trial 169 finished with value: 15.9016752243042 and parameters: {'hidden_size': 20, 'num_layers': 4, 'lr': 0.020060817817713607}. Best is trial 162 with value: 2.9685463905334473.\n"
     ]
    },
    {
     "name": "stdout",
     "output_type": "stream",
     "text": [
      "Epoch [600/10000], Train Loss: 174.4427, Validation Loss: 24.7070\n",
      "Epoch [603/10000], Train Loss: 226.4220, Validation Loss: 15.9017\n",
      "Early stopping triggered. Stopping training.\n",
      "Epoch [100/10000], Train Loss: 147.1171, Validation Loss: 18.3422\n",
      "Epoch [200/10000], Train Loss: 72.0850, Validation Loss: 7.7726\n",
      "Epoch [300/10000], Train Loss: 314.1245, Validation Loss: 24.1268\n",
      "Epoch [400/10000], Train Loss: 972.6517, Validation Loss: 155.4687\n"
     ]
    },
    {
     "name": "stderr",
     "output_type": "stream",
     "text": [
      "[I 2024-02-06 23:54:01,740] Trial 170 finished with value: 16.143205642700195 and parameters: {'hidden_size': 20, 'num_layers': 4, 'lr': 0.015053350275990201}. Best is trial 162 with value: 2.9685463905334473.\n"
     ]
    },
    {
     "name": "stdout",
     "output_type": "stream",
     "text": [
      "Epoch [449/10000], Train Loss: 167.0596, Validation Loss: 16.1432\n",
      "Early stopping triggered. Stopping training.\n",
      "Epoch [100/10000], Train Loss: 234.1580, Validation Loss: 20.8321\n",
      "Epoch [200/10000], Train Loss: 105.7388, Validation Loss: 10.4327\n",
      "Epoch [300/10000], Train Loss: 730.5746, Validation Loss: 35.2245\n"
     ]
    },
    {
     "name": "stderr",
     "output_type": "stream",
     "text": [
      "[I 2024-02-06 23:54:26,620] Trial 171 finished with value: 11.349617958068848 and parameters: {'hidden_size': 20, 'num_layers': 4, 'lr': 0.019856334364752593}. Best is trial 162 with value: 2.9685463905334473.\n"
     ]
    },
    {
     "name": "stdout",
     "output_type": "stream",
     "text": [
      "Epoch [373/10000], Train Loss: 186.4414, Validation Loss: 11.3496\n",
      "Early stopping triggered. Stopping training.\n",
      "Epoch [100/10000], Train Loss: 209.9902, Validation Loss: 20.7659\n",
      "Epoch [200/10000], Train Loss: 210.4583, Validation Loss: 20.1385\n",
      "Epoch [300/10000], Train Loss: 171.2348, Validation Loss: 18.8748\n",
      "Epoch [400/10000], Train Loss: 42.4678, Validation Loss: 7.7886\n",
      "Epoch [500/10000], Train Loss: 220.2679, Validation Loss: 17.3747\n"
     ]
    },
    {
     "name": "stderr",
     "output_type": "stream",
     "text": [
      "[I 2024-02-06 23:55:00,029] Trial 172 finished with value: 5.27679443359375 and parameters: {'hidden_size': 20, 'num_layers': 4, 'lr': 0.017733239647148746}. Best is trial 162 with value: 2.9685463905334473.\n"
     ]
    },
    {
     "name": "stdout",
     "output_type": "stream",
     "text": [
      "Epoch [526/10000], Train Loss: 34.0305, Validation Loss: 5.2768\n",
      "Early stopping triggered. Stopping training.\n",
      "Epoch [100/10000], Train Loss: 85.6749, Validation Loss: 10.0344\n",
      "Epoch [200/10000], Train Loss: 33.7604, Validation Loss: 5.3263\n",
      "Epoch [300/10000], Train Loss: 33.8619, Validation Loss: 5.1301\n",
      "Epoch [400/10000], Train Loss: 51.2202, Validation Loss: 7.0043\n"
     ]
    },
    {
     "name": "stderr",
     "output_type": "stream",
     "text": [
      "[I 2024-02-06 23:55:31,616] Trial 173 finished with value: 4.3411993980407715 and parameters: {'hidden_size': 20, 'num_layers': 4, 'lr': 0.010361456307857316}. Best is trial 162 with value: 2.9685463905334473.\n"
     ]
    },
    {
     "name": "stdout",
     "output_type": "stream",
     "text": [
      "Epoch [475/10000], Train Loss: 26.9876, Validation Loss: 4.3412\n",
      "Early stopping triggered. Stopping training.\n",
      "Epoch [100/10000], Train Loss: 3280.3129, Validation Loss: 1116.8958\n",
      "Epoch [200/10000], Train Loss: 3035.6302, Validation Loss: 1114.3821\n",
      "Epoch [300/10000], Train Loss: 3074.6189, Validation Loss: 1112.5345\n",
      "Epoch [400/10000], Train Loss: 3065.7782, Validation Loss: 1117.5851\n"
     ]
    },
    {
     "name": "stderr",
     "output_type": "stream",
     "text": [
      "[I 2024-02-06 23:55:53,736] Trial 174 finished with value: 1115.1376953125 and parameters: {'hidden_size': 20, 'num_layers': 4, 'lr': 0.01026235172669944}. Best is trial 162 with value: 2.9685463905334473.\n"
     ]
    },
    {
     "name": "stdout",
     "output_type": "stream",
     "text": [
      "Epoch [417/10000], Train Loss: 3077.5475, Validation Loss: 1115.1377\n",
      "Early stopping triggered. Stopping training.\n",
      "Epoch [100/10000], Train Loss: 127.7511, Validation Loss: 9.7336\n",
      "Epoch [200/10000], Train Loss: 231.1896, Validation Loss: 20.0820\n",
      "Epoch [300/10000], Train Loss: 184.1336, Validation Loss: 10.6577\n",
      "Epoch [400/10000], Train Loss: 121.0147, Validation Loss: 5.8351\n",
      "Epoch [500/10000], Train Loss: 64.9915, Validation Loss: 10.3127\n"
     ]
    },
    {
     "name": "stderr",
     "output_type": "stream",
     "text": [
      "[I 2024-02-06 23:56:21,755] Trial 175 finished with value: 5.527297496795654 and parameters: {'hidden_size': 20, 'num_layers': 4, 'lr': 0.012378249807041369}. Best is trial 162 with value: 2.9685463905334473.\n"
     ]
    },
    {
     "name": "stdout",
     "output_type": "stream",
     "text": [
      "Epoch [563/10000], Train Loss: 36.5910, Validation Loss: 5.5273\n",
      "Early stopping triggered. Stopping training.\n",
      "Epoch [100/10000], Train Loss: 3271.4167, Validation Loss: 1122.0717\n",
      "Epoch [200/10000], Train Loss: 2972.9801, Validation Loss: 1113.3239\n",
      "Epoch [300/10000], Train Loss: 3078.2863, Validation Loss: 1111.9105\n",
      "Epoch [400/10000], Train Loss: 3034.3536, Validation Loss: 1112.6796\n",
      "Epoch [500/10000], Train Loss: 74.2969, Validation Loss: 11.4253\n",
      "Epoch [600/10000], Train Loss: 29.7778, Validation Loss: 5.6792\n",
      "Epoch [700/10000], Train Loss: 41.0345, Validation Loss: 5.7955\n"
     ]
    },
    {
     "name": "stderr",
     "output_type": "stream",
     "text": [
      "[I 2024-02-06 23:57:06,741] Trial 176 finished with value: 6.253285884857178 and parameters: {'hidden_size': 20, 'num_layers': 3, 'lr': 0.008694712994376333}. Best is trial 162 with value: 2.9685463905334473.\n"
     ]
    },
    {
     "name": "stdout",
     "output_type": "stream",
     "text": [
      "Epoch [735/10000], Train Loss: 46.4110, Validation Loss: 6.2533\n",
      "Early stopping triggered. Stopping training.\n"
     ]
    },
    {
     "name": "stderr",
     "output_type": "stream",
     "text": [
      "[I 2024-02-06 23:57:13,782] Trial 177 finished with value: 6480.986328125 and parameters: {'hidden_size': 20, 'num_layers': 4, 'lr': 0.015994267937697138}. Best is trial 162 with value: 2.9685463905334473.\n"
     ]
    },
    {
     "name": "stdout",
     "output_type": "stream",
     "text": [
      "Epoch [100/10000], Train Loss: 55291.6572, Validation Loss: 6480.9863\n",
      "Epoch [102/10000], Train Loss: 56586.3462, Validation Loss: 6480.9863\n",
      "Early stopping triggered. Stopping training.\n"
     ]
    },
    {
     "name": "stderr",
     "output_type": "stream",
     "text": [
      "[I 2024-02-06 23:57:20,781] Trial 178 finished with value: 6480.986328125 and parameters: {'hidden_size': 20, 'num_layers': 8, 'lr': 0.03509229402633399}. Best is trial 162 with value: 2.9685463905334473.\n"
     ]
    },
    {
     "name": "stdout",
     "output_type": "stream",
     "text": [
      "Epoch [100/10000], Train Loss: 56414.5830, Validation Loss: 6480.9863\n",
      "Epoch [101/10000], Train Loss: 54073.8267, Validation Loss: 6480.9863\n",
      "Early stopping triggered. Stopping training.\n",
      "Epoch [100/10000], Train Loss: 39232.8237, Validation Loss: 4466.2173\n",
      "Epoch [200/10000], Train Loss: 4753.4699, Validation Loss: 1268.6327\n",
      "Epoch [300/10000], Train Loss: 4257.6176, Validation Loss: 1197.3070\n",
      "Epoch [400/10000], Train Loss: 3718.4405, Validation Loss: 1167.6533\n",
      "Epoch [500/10000], Train Loss: 3901.0508, Validation Loss: 1156.0895\n",
      "Epoch [600/10000], Train Loss: 3618.5787, Validation Loss: 1167.4426\n",
      "Epoch [700/10000], Train Loss: 3255.4333, Validation Loss: 1122.9806\n",
      "Epoch [800/10000], Train Loss: 3326.0897, Validation Loss: 1115.7507\n",
      "Epoch [900/10000], Train Loss: 3218.2981, Validation Loss: 1121.0605\n"
     ]
    },
    {
     "name": "stderr",
     "output_type": "stream",
     "text": [
      "[I 2024-02-06 23:58:38,425] Trial 179 finished with value: 1115.5826416015625 and parameters: {'hidden_size': 20, 'num_layers': 13, 'lr': 0.02409118344677975}. Best is trial 162 with value: 2.9685463905334473.\n"
     ]
    },
    {
     "name": "stdout",
     "output_type": "stream",
     "text": [
      "Epoch [933/10000], Train Loss: 3279.0059, Validation Loss: 1115.5826\n",
      "Early stopping triggered. Stopping training.\n",
      "Epoch [100/10000], Train Loss: 150.1931, Validation Loss: 15.6793\n",
      "Epoch [200/10000], Train Loss: 92.5928, Validation Loss: 11.3223\n",
      "Epoch [300/10000], Train Loss: 353.5004, Validation Loss: 26.5092\n",
      "Epoch [400/10000], Train Loss: 33.0546, Validation Loss: 4.5117\n"
     ]
    },
    {
     "name": "stderr",
     "output_type": "stream",
     "text": [
      "[I 2024-02-06 23:59:00,263] Trial 180 finished with value: 5.128512859344482 and parameters: {'hidden_size': 20, 'num_layers': 4, 'lr': 0.011258227390149207}. Best is trial 162 with value: 2.9685463905334473.\n"
     ]
    },
    {
     "name": "stdout",
     "output_type": "stream",
     "text": [
      "Epoch [486/10000], Train Loss: 30.7120, Validation Loss: 5.1285\n",
      "Early stopping triggered. Stopping training.\n",
      "Epoch [100/10000], Train Loss: 198.5493, Validation Loss: 14.4293\n",
      "Epoch [200/10000], Train Loss: 138.8426, Validation Loss: 24.5917\n",
      "Epoch [300/10000], Train Loss: 68.6624, Validation Loss: 13.0889\n",
      "Epoch [400/10000], Train Loss: 125.8793, Validation Loss: 14.1059\n"
     ]
    },
    {
     "name": "stderr",
     "output_type": "stream",
     "text": [
      "[I 2024-02-06 23:59:21,186] Trial 181 finished with value: 6.2924418449401855 and parameters: {'hidden_size': 20, 'num_layers': 4, 'lr': 0.010479701323316482}. Best is trial 162 with value: 2.9685463905334473.\n"
     ]
    },
    {
     "name": "stdout",
     "output_type": "stream",
     "text": [
      "Epoch [472/10000], Train Loss: 39.5701, Validation Loss: 6.2924\n",
      "Early stopping triggered. Stopping training.\n",
      "Epoch [100/10000], Train Loss: 3185.5284, Validation Loss: 1116.4209\n",
      "Epoch [200/10000], Train Loss: 2978.6485, Validation Loss: 1112.2278\n",
      "Epoch [300/10000], Train Loss: 2794.5357, Validation Loss: 1111.8339\n"
     ]
    },
    {
     "name": "stderr",
     "output_type": "stream",
     "text": [
      "[I 2024-02-06 23:59:36,156] Trial 182 finished with value: 1121.061279296875 and parameters: {'hidden_size': 20, 'num_layers': 4, 'lr': 0.01298399985468557}. Best is trial 162 with value: 2.9685463905334473.\n"
     ]
    },
    {
     "name": "stdout",
     "output_type": "stream",
     "text": [
      "Epoch [318/10000], Train Loss: 2891.6455, Validation Loss: 1121.0613\n",
      "Early stopping triggered. Stopping training.\n",
      "Epoch [100/10000], Train Loss: 272.1866, Validation Loss: 24.7378\n",
      "Epoch [200/10000], Train Loss: 93.3957, Validation Loss: 9.3885\n",
      "Epoch [300/10000], Train Loss: 390.0192, Validation Loss: 16.4937\n",
      "Epoch [400/10000], Train Loss: 39.7645, Validation Loss: 6.1241\n"
     ]
    },
    {
     "name": "stderr",
     "output_type": "stream",
     "text": [
      "[I 2024-02-06 23:59:56,009] Trial 183 finished with value: 6.724852561950684 and parameters: {'hidden_size': 20, 'num_layers': 4, 'lr': 0.016096801580663612}. Best is trial 162 with value: 2.9685463905334473.\n"
     ]
    },
    {
     "name": "stdout",
     "output_type": "stream",
     "text": [
      "Epoch [433/10000], Train Loss: 45.2349, Validation Loss: 6.7249\n",
      "Early stopping triggered. Stopping training.\n",
      "Epoch [100/10000], Train Loss: 119.2749, Validation Loss: 10.8072\n",
      "Epoch [200/10000], Train Loss: 60.1264, Validation Loss: 6.4483\n",
      "Epoch [300/10000], Train Loss: 56.6742, Validation Loss: 7.1825\n",
      "Epoch [400/10000], Train Loss: 243.0384, Validation Loss: 49.6861\n"
     ]
    },
    {
     "name": "stderr",
     "output_type": "stream",
     "text": [
      "[I 2024-02-07 00:00:18,272] Trial 184 finished with value: 4.880095481872559 and parameters: {'hidden_size': 20, 'num_layers': 4, 'lr': 0.008466340340316295}. Best is trial 162 with value: 2.9685463905334473.\n"
     ]
    },
    {
     "name": "stdout",
     "output_type": "stream",
     "text": [
      "Epoch [481/10000], Train Loss: 44.5524, Validation Loss: 4.8801\n",
      "Early stopping triggered. Stopping training.\n",
      "Epoch [100/10000], Train Loss: 3377.7271, Validation Loss: 1117.4990\n",
      "Epoch [200/10000], Train Loss: 3209.2712, Validation Loss: 1134.6842\n",
      "Epoch [300/10000], Train Loss: 2855.7353, Validation Loss: 1112.8969\n",
      "Epoch [400/10000], Train Loss: 3061.2144, Validation Loss: 1112.4036\n"
     ]
    },
    {
     "name": "stderr",
     "output_type": "stream",
     "text": [
      "[I 2024-02-07 00:00:41,202] Trial 185 finished with value: 1114.477783203125 and parameters: {'hidden_size': 20, 'num_layers': 4, 'lr': 0.008405356829836872}. Best is trial 162 with value: 2.9685463905334473.\n"
     ]
    },
    {
     "name": "stdout",
     "output_type": "stream",
     "text": [
      "Epoch [500/10000], Train Loss: 3278.0017, Validation Loss: 1116.7207\n",
      "Epoch [504/10000], Train Loss: 2992.7343, Validation Loss: 1114.4778\n",
      "Early stopping triggered. Stopping training.\n",
      "Epoch [100/10000], Train Loss: 307.3333, Validation Loss: 18.9535\n",
      "Epoch [200/10000], Train Loss: 51.6073, Validation Loss: 8.1242\n",
      "Epoch [300/10000], Train Loss: 33.4828, Validation Loss: 7.9892\n",
      "Epoch [400/10000], Train Loss: 120.4065, Validation Loss: 13.2483\n"
     ]
    },
    {
     "name": "stderr",
     "output_type": "stream",
     "text": [
      "[I 2024-02-07 00:01:03,294] Trial 186 finished with value: 10.73289966583252 and parameters: {'hidden_size': 20, 'num_layers': 4, 'lr': 0.006725147909827001}. Best is trial 162 with value: 2.9685463905334473.\n"
     ]
    },
    {
     "name": "stdout",
     "output_type": "stream",
     "text": [
      "Epoch [482/10000], Train Loss: 59.7866, Validation Loss: 10.7329\n",
      "Early stopping triggered. Stopping training.\n",
      "Epoch [100/10000], Train Loss: 97.0550, Validation Loss: 9.2246\n",
      "Epoch [200/10000], Train Loss: 199.6563, Validation Loss: 46.1540\n",
      "Epoch [300/10000], Train Loss: 63.0734, Validation Loss: 5.2070\n"
     ]
    },
    {
     "name": "stderr",
     "output_type": "stream",
     "text": [
      "[I 2024-02-07 00:01:18,651] Trial 187 finished with value: 8.24891185760498 and parameters: {'hidden_size': 20, 'num_layers': 4, 'lr': 0.00970594348467198}. Best is trial 162 with value: 2.9685463905334473.\n"
     ]
    },
    {
     "name": "stdout",
     "output_type": "stream",
     "text": [
      "Epoch [346/10000], Train Loss: 44.4710, Validation Loss: 8.2489\n",
      "Early stopping triggered. Stopping training.\n",
      "Epoch [100/10000], Train Loss: 20767.0437, Validation Loss: 2577.3469\n",
      "Epoch [200/10000], Train Loss: 3688.0184, Validation Loss: 1195.4308\n",
      "Epoch [300/10000], Train Loss: 3564.1340, Validation Loss: 1152.8854\n",
      "Epoch [400/10000], Train Loss: 3484.3402, Validation Loss: 1133.9429\n",
      "Epoch [500/10000], Train Loss: 3280.4406, Validation Loss: 1125.9929\n",
      "Epoch [600/10000], Train Loss: 3340.8422, Validation Loss: 1121.9932\n",
      "Epoch [700/10000], Train Loss: 3296.9178, Validation Loss: 1121.9222\n"
     ]
    },
    {
     "name": "stderr",
     "output_type": "stream",
     "text": [
      "[I 2024-02-07 00:01:51,830] Trial 188 finished with value: 1122.177978515625 and parameters: {'hidden_size': 20, 'num_layers': 4, 'lr': 0.00043818856368729714}. Best is trial 162 with value: 2.9685463905334473.\n"
     ]
    },
    {
     "name": "stdout",
     "output_type": "stream",
     "text": [
      "Epoch [732/10000], Train Loss: 3220.6071, Validation Loss: 1122.1780\n",
      "Early stopping triggered. Stopping training.\n",
      "Epoch [100/10000], Train Loss: 3042.0516, Validation Loss: 1114.7194\n",
      "Epoch [200/10000], Train Loss: 3003.3237, Validation Loss: 1117.8190\n",
      "Epoch [300/10000], Train Loss: 3176.0620, Validation Loss: 1112.0322\n",
      "Epoch [400/10000], Train Loss: 3172.0786, Validation Loss: 1114.4774\n",
      "Epoch [500/10000], Train Loss: 3611.5542, Validation Loss: 1133.6350\n"
     ]
    },
    {
     "name": "stderr",
     "output_type": "stream",
     "text": [
      "[I 2024-02-07 00:02:24,514] Trial 189 finished with value: 1114.08544921875 and parameters: {'hidden_size': 20, 'num_layers': 4, 'lr': 0.005996777480250972}. Best is trial 162 with value: 2.9685463905334473.\n"
     ]
    },
    {
     "name": "stdout",
     "output_type": "stream",
     "text": [
      "Epoch [578/10000], Train Loss: 2837.7927, Validation Loss: 1114.0854\n",
      "Early stopping triggered. Stopping training.\n",
      "Epoch [100/10000], Train Loss: 3256.2606, Validation Loss: 1116.4269\n",
      "Epoch [200/10000], Train Loss: 3473.8192, Validation Loss: 1114.4639\n",
      "Epoch [300/10000], Train Loss: 3065.5502, Validation Loss: 1112.5836\n",
      "Epoch [400/10000], Train Loss: 3157.2975, Validation Loss: 1111.8566\n"
     ]
    },
    {
     "name": "stderr",
     "output_type": "stream",
     "text": [
      "[I 2024-02-07 00:02:51,774] Trial 190 finished with value: 1114.533203125 and parameters: {'hidden_size': 20, 'num_layers': 2, 'lr': 0.01182191543232365}. Best is trial 162 with value: 2.9685463905334473.\n"
     ]
    },
    {
     "name": "stdout",
     "output_type": "stream",
     "text": [
      "Epoch [457/10000], Train Loss: 3026.3849, Validation Loss: 1114.5332\n",
      "Early stopping triggered. Stopping training.\n",
      "Epoch [100/10000], Train Loss: 267.0313, Validation Loss: 25.0816\n",
      "Epoch [200/10000], Train Loss: 184.9455, Validation Loss: 22.5798\n",
      "Epoch [300/10000], Train Loss: 85.1187, Validation Loss: 8.4543\n",
      "Epoch [400/10000], Train Loss: 25.1953, Validation Loss: 4.5749\n",
      "Epoch [500/10000], Train Loss: 495.4088, Validation Loss: 126.3013\n"
     ]
    },
    {
     "name": "stderr",
     "output_type": "stream",
     "text": [
      "[I 2024-02-07 00:03:24,787] Trial 191 finished with value: 31.4619140625 and parameters: {'hidden_size': 20, 'num_layers': 4, 'lr': 0.01768743993591193}. Best is trial 162 with value: 2.9685463905334473.\n"
     ]
    },
    {
     "name": "stdout",
     "output_type": "stream",
     "text": [
      "Epoch [505/10000], Train Loss: 168.9881, Validation Loss: 31.4619\n",
      "Early stopping triggered. Stopping training.\n",
      "Epoch [100/10000], Train Loss: 3516.1783, Validation Loss: 1124.8448\n",
      "Epoch [200/10000], Train Loss: 3203.7297, Validation Loss: 1116.1737\n",
      "Epoch [300/10000], Train Loss: 3259.8000, Validation Loss: 1117.8368\n",
      "Epoch [400/10000], Train Loss: 3270.4279, Validation Loss: 1113.4888\n",
      "Epoch [500/10000], Train Loss: 2927.0228, Validation Loss: 1112.7599\n",
      "Epoch [600/10000], Train Loss: 48.9874, Validation Loss: 6.9798\n",
      "Epoch [700/10000], Train Loss: 502.6199, Validation Loss: 93.8684\n"
     ]
    },
    {
     "name": "stderr",
     "output_type": "stream",
     "text": [
      "[I 2024-02-07 00:04:27,423] Trial 192 finished with value: 5.84827995300293 and parameters: {'hidden_size': 20, 'num_layers': 10, 'lr': 0.007982725427379978}. Best is trial 162 with value: 2.9685463905334473.\n"
     ]
    },
    {
     "name": "stdout",
     "output_type": "stream",
     "text": [
      "Epoch [762/10000], Train Loss: 36.5402, Validation Loss: 5.8483\n",
      "Early stopping triggered. Stopping training.\n",
      "Epoch [100/10000], Train Loss: 4270.7055, Validation Loss: 1155.1453\n",
      "Epoch [200/10000], Train Loss: 3525.0305, Validation Loss: 1122.6687\n",
      "Epoch [300/10000], Train Loss: 3552.5546, Validation Loss: 1115.1222\n",
      "Epoch [400/10000], Train Loss: 3160.6387, Validation Loss: 1114.6982\n"
     ]
    },
    {
     "name": "stderr",
     "output_type": "stream",
     "text": [
      "[I 2024-02-07 00:04:59,071] Trial 193 finished with value: 1117.5107421875 and parameters: {'hidden_size': 3, 'num_layers': 4, 'lr': 0.013969359541365056}. Best is trial 162 with value: 2.9685463905334473.\n"
     ]
    },
    {
     "name": "stdout",
     "output_type": "stream",
     "text": [
      "Epoch [499/10000], Train Loss: 3377.0936, Validation Loss: 1117.5107\n",
      "Early stopping triggered. Stopping training.\n",
      "Epoch [100/10000], Train Loss: 304.2036, Validation Loss: 19.5947\n",
      "Epoch [200/10000], Train Loss: 106.9870, Validation Loss: 11.6049\n",
      "Epoch [300/10000], Train Loss: 96.1678, Validation Loss: 10.5783\n",
      "Epoch [400/10000], Train Loss: 40.5217, Validation Loss: 10.2095\n",
      "Epoch [500/10000], Train Loss: 38.6143, Validation Loss: 5.9227\n",
      "Epoch [600/10000], Train Loss: 240.2545, Validation Loss: 15.3290\n",
      "Epoch [700/10000], Train Loss: 33.4660, Validation Loss: 7.3595\n"
     ]
    },
    {
     "name": "stderr",
     "output_type": "stream",
     "text": [
      "[I 2024-02-07 00:05:48,664] Trial 194 finished with value: 4.820925235748291 and parameters: {'hidden_size': 6, 'num_layers': 6, 'lr': 0.021041018858939307}. Best is trial 162 with value: 2.9685463905334473.\n"
     ]
    },
    {
     "name": "stdout",
     "output_type": "stream",
     "text": [
      "Epoch [731/10000], Train Loss: 37.1591, Validation Loss: 4.8209\n",
      "Early stopping triggered. Stopping training.\n"
     ]
    },
    {
     "name": "stderr",
     "output_type": "stream",
     "text": [
      "[I 2024-02-07 00:05:56,895] Trial 195 finished with value: 6480.986328125 and parameters: {'hidden_size': 6, 'num_layers': 6, 'lr': 0.022313266825640086}. Best is trial 162 with value: 2.9685463905334473.\n"
     ]
    },
    {
     "name": "stdout",
     "output_type": "stream",
     "text": [
      "Epoch [100/10000], Train Loss: 53506.6821, Validation Loss: 6480.9863\n",
      "Epoch [102/10000], Train Loss: 53548.7617, Validation Loss: 6480.9863\n",
      "Early stopping triggered. Stopping training.\n",
      "Epoch [100/10000], Train Loss: 3066.0920, Validation Loss: 900.5425\n",
      "Epoch [200/10000], Train Loss: 209.9187, Validation Loss: 24.6025\n",
      "Epoch [300/10000], Train Loss: 169.7399, Validation Loss: 23.1880\n",
      "Epoch [400/10000], Train Loss: 138.0561, Validation Loss: 16.7257\n",
      "Epoch [500/10000], Train Loss: 133.0730, Validation Loss: 19.5890\n",
      "Epoch [600/10000], Train Loss: 93.6964, Validation Loss: 10.9901\n",
      "Epoch [700/10000], Train Loss: 55.4910, Validation Loss: 7.9959\n",
      "Epoch [800/10000], Train Loss: 76.4012, Validation Loss: 13.8439\n",
      "Epoch [900/10000], Train Loss: 48.2772, Validation Loss: 6.2512\n",
      "Epoch [1000/10000], Train Loss: 45.0541, Validation Loss: 6.1356\n"
     ]
    },
    {
     "name": "stderr",
     "output_type": "stream",
     "text": [
      "[I 2024-02-07 00:06:54,865] Trial 196 finished with value: 7.358834266662598 and parameters: {'hidden_size': 6, 'num_layers': 6, 'lr': 0.010889143973327797}. Best is trial 162 with value: 2.9685463905334473.\n"
     ]
    },
    {
     "name": "stdout",
     "output_type": "stream",
     "text": [
      "Epoch [1052/10000], Train Loss: 78.4118, Validation Loss: 7.3588\n",
      "Early stopping triggered. Stopping training.\n",
      "Epoch [100/10000], Train Loss: 303.3022, Validation Loss: 29.0724\n",
      "Epoch [200/10000], Train Loss: 93.0757, Validation Loss: 8.9432\n",
      "Epoch [300/10000], Train Loss: 248.7362, Validation Loss: 46.9271\n",
      "Epoch [400/10000], Train Loss: 179.2134, Validation Loss: 9.0389\n",
      "Epoch [500/10000], Train Loss: 311.2032, Validation Loss: 21.4576\n"
     ]
    },
    {
     "name": "stderr",
     "output_type": "stream",
     "text": [
      "[I 2024-02-07 00:07:22,308] Trial 197 finished with value: 9.984643936157227 and parameters: {'hidden_size': 6, 'num_layers': 6, 'lr': 0.06112958694165003}. Best is trial 162 with value: 2.9685463905334473.\n"
     ]
    },
    {
     "name": "stdout",
     "output_type": "stream",
     "text": [
      "Epoch [587/10000], Train Loss: 92.1276, Validation Loss: 9.9846\n",
      "Early stopping triggered. Stopping training.\n",
      "Epoch [100/10000], Train Loss: 34509.4092, Validation Loss: 4087.5698\n",
      "Epoch [200/10000], Train Loss: 32779.1672, Validation Loss: 3805.0339\n",
      "Epoch [300/10000], Train Loss: 29459.6223, Validation Loss: 3626.9600\n",
      "Epoch [400/10000], Train Loss: 25017.7576, Validation Loss: 3276.0352\n",
      "Epoch [500/10000], Train Loss: 21153.8159, Validation Loss: 2703.7529\n",
      "Epoch [600/10000], Train Loss: 8281.6752, Validation Loss: 1676.9171\n",
      "Epoch [700/10000], Train Loss: 5526.0955, Validation Loss: 1352.3450\n",
      "Epoch [800/10000], Train Loss: 5109.5047, Validation Loss: 1270.8191\n",
      "Epoch [900/10000], Train Loss: 4509.3178, Validation Loss: 1228.4896\n",
      "Epoch [1000/10000], Train Loss: 4239.9269, Validation Loss: 1197.2814\n",
      "Epoch [1100/10000], Train Loss: 3800.6630, Validation Loss: 1173.7540\n",
      "Epoch [1200/10000], Train Loss: 3812.4053, Validation Loss: 1156.1141\n",
      "Epoch [1300/10000], Train Loss: 3443.0791, Validation Loss: 1139.7010\n",
      "Epoch [1400/10000], Train Loss: 3217.9737, Validation Loss: 1130.8523\n",
      "Epoch [1500/10000], Train Loss: 3311.6698, Validation Loss: 1126.4075\n",
      "Epoch [1600/10000], Train Loss: 3182.1118, Validation Loss: 1124.8395\n",
      "Epoch [1700/10000], Train Loss: 3523.5109, Validation Loss: 1123.7990\n",
      "Epoch [1800/10000], Train Loss: 3364.9309, Validation Loss: 1122.5752\n",
      "Epoch [1900/10000], Train Loss: 3130.8113, Validation Loss: 1121.0221\n",
      "Epoch [2000/10000], Train Loss: 3308.1084, Validation Loss: 1120.3427\n",
      "Epoch [2100/10000], Train Loss: 3030.1471, Validation Loss: 1119.1382\n",
      "Epoch [2200/10000], Train Loss: 2866.7061, Validation Loss: 1118.6538\n",
      "Epoch [2300/10000], Train Loss: 3355.2342, Validation Loss: 1118.2921\n",
      "Epoch [2400/10000], Train Loss: 2947.5843, Validation Loss: 1117.8539\n",
      "Epoch [2500/10000], Train Loss: 3101.6783, Validation Loss: 1117.2765\n",
      "Epoch [2600/10000], Train Loss: 3042.1905, Validation Loss: 1116.6448\n",
      "Epoch [2700/10000], Train Loss: 3218.8908, Validation Loss: 1116.1313\n",
      "Epoch [2800/10000], Train Loss: 3336.3540, Validation Loss: 1115.5267\n",
      "Epoch [2900/10000], Train Loss: 3117.3212, Validation Loss: 1115.1290\n",
      "Epoch [3000/10000], Train Loss: 3012.4160, Validation Loss: 1114.8669\n",
      "Epoch [3100/10000], Train Loss: 2994.4370, Validation Loss: 1114.4537\n"
     ]
    },
    {
     "name": "stderr",
     "output_type": "stream",
     "text": [
      "[I 2024-02-07 00:10:38,368] Trial 198 finished with value: 1114.3646240234375 and parameters: {'hidden_size': 6, 'num_layers': 4, 'lr': 0.00035047845962125717}. Best is trial 162 with value: 2.9685463905334473.\n"
     ]
    },
    {
     "name": "stdout",
     "output_type": "stream",
     "text": [
      "Epoch [3193/10000], Train Loss: 2889.5507, Validation Loss: 1114.3646\n",
      "Early stopping triggered. Stopping training.\n"
     ]
    },
    {
     "name": "stderr",
     "output_type": "stream",
     "text": [
      "[I 2024-02-07 00:10:45,271] Trial 199 finished with value: 6480.986328125 and parameters: {'hidden_size': 20, 'num_layers': 6, 'lr': 0.02681031544823694}. Best is trial 162 with value: 2.9685463905334473.\n"
     ]
    },
    {
     "name": "stdout",
     "output_type": "stream",
     "text": [
      "Epoch [100/10000], Train Loss: 54408.5615, Validation Loss: 6480.9863\n",
      "Epoch [101/10000], Train Loss: 56992.6499, Validation Loss: 6480.9863\n",
      "Early stopping triggered. Stopping training.\n",
      "Number of finished trials: 200\n",
      "Best trial: {'hidden_size': 20, 'num_layers': 4, 'lr': 0.016297186309040205}\n"
     ]
    }
   ],
   "source": [
    "study = optuna.create_study(direction='minimize')\n",
    "study.optimize(objective, \n",
    "               n_trials=200)  \n",
    "\n",
    "print('Number of finished trials:', len(study.trials))\n",
    "print('Best trial:', study.best_trial.params)\n"
   ]
  },
  {
   "cell_type": "code",
   "execution_count": 42,
   "id": "b41487a9",
   "metadata": {},
   "outputs": [],
   "source": [
    "# Sort the trials in ascending order for a minimization problem (use reverse=True for maximization)\n",
    "sorted_trials = sorted(study.trials, key=lambda trial: trial.value if trial.value is not None else float('inf'))\n"
   ]
  },
  {
   "cell_type": "code",
   "execution_count": 44,
   "id": "69bf0107",
   "metadata": {},
   "outputs": [
    {
     "data": {
      "text/plain": [
       "[FrozenTrial(number=162, state=TrialState.COMPLETE, values=[2.9685463905334473], datetime_start=datetime.datetime(2024, 2, 6, 23, 47, 27, 974134), datetime_complete=datetime.datetime(2024, 2, 6, 23, 49, 27, 332329), params={'hidden_size': 20, 'num_layers': 4, 'lr': 0.016297186309040205}, user_attrs={}, system_attrs={}, intermediate_values={}, distributions={'hidden_size': CategoricalDistribution(choices=(3, 6, 9, 12, 15, 20)), 'num_layers': CategoricalDistribution(choices=(1, 2, 3, 4, 5, 6, 7, 8, 9, 10, 11, 12, 13)), 'lr': FloatDistribution(high=0.1, log=True, low=1e-05, step=None)}, trial_id=162, value=None),\n",
       " FrozenTrial(number=165, state=TrialState.COMPLETE, values=[3.5469067096710205], datetime_start=datetime.datetime(2024, 2, 6, 23, 50, 52, 709785), datetime_complete=datetime.datetime(2024, 2, 6, 23, 51, 32, 101632), params={'hidden_size': 20, 'num_layers': 4, 'lr': 0.01544062329610053}, user_attrs={}, system_attrs={}, intermediate_values={}, distributions={'hidden_size': CategoricalDistribution(choices=(3, 6, 9, 12, 15, 20)), 'num_layers': CategoricalDistribution(choices=(1, 2, 3, 4, 5, 6, 7, 8, 9, 10, 11, 12, 13)), 'lr': FloatDistribution(high=0.1, log=True, low=1e-05, step=None)}, trial_id=165, value=None),\n",
       " FrozenTrial(number=156, state=TrialState.COMPLETE, values=[3.6250715255737305], datetime_start=datetime.datetime(2024, 2, 6, 23, 44, 32, 858474), datetime_complete=datetime.datetime(2024, 2, 6, 23, 45, 19, 384518), params={'hidden_size': 20, 'num_layers': 4, 'lr': 0.006084259871599064}, user_attrs={}, system_attrs={}, intermediate_values={}, distributions={'hidden_size': CategoricalDistribution(choices=(3, 6, 9, 12, 15, 20)), 'num_layers': CategoricalDistribution(choices=(1, 2, 3, 4, 5, 6, 7, 8, 9, 10, 11, 12, 13)), 'lr': FloatDistribution(high=0.1, log=True, low=1e-05, step=None)}, trial_id=156, value=None),\n",
       " FrozenTrial(number=129, state=TrialState.COMPLETE, values=[3.9202723503112793], datetime_start=datetime.datetime(2024, 2, 6, 23, 12, 27, 429936), datetime_complete=datetime.datetime(2024, 2, 6, 23, 13, 48, 65640), params={'hidden_size': 12, 'num_layers': 4, 'lr': 0.0005644761856255745}, user_attrs={}, system_attrs={}, intermediate_values={}, distributions={'hidden_size': CategoricalDistribution(choices=(3, 6, 9, 12, 15, 20)), 'num_layers': CategoricalDistribution(choices=(1, 2, 3, 4, 5, 6, 7, 8, 9, 10, 11, 12, 13)), 'lr': FloatDistribution(high=0.1, log=True, low=1e-05, step=None)}, trial_id=129, value=None),\n",
       " FrozenTrial(number=35, state=TrialState.COMPLETE, values=[4.019588947296143], datetime_start=datetime.datetime(2024, 2, 6, 21, 26, 29, 693585), datetime_complete=datetime.datetime(2024, 2, 6, 21, 30, 53, 130022), params={'hidden_size': 12, 'num_layers': 7, 'lr': 0.0004716051456845365}, user_attrs={}, system_attrs={}, intermediate_values={}, distributions={'hidden_size': CategoricalDistribution(choices=(3, 6, 9, 12, 15, 20)), 'num_layers': CategoricalDistribution(choices=(1, 2, 3, 4, 5, 6, 7, 8, 9, 10, 11, 12, 13)), 'lr': FloatDistribution(high=0.1, log=True, low=1e-05, step=None)}, trial_id=35, value=None),\n",
       " FrozenTrial(number=45, state=TrialState.COMPLETE, values=[4.314210414886475], datetime_start=datetime.datetime(2024, 2, 6, 21, 54, 59, 972844), datetime_complete=datetime.datetime(2024, 2, 6, 21, 57, 34, 43495), params={'hidden_size': 12, 'num_layers': 4, 'lr': 0.0010953156146596848}, user_attrs={}, system_attrs={}, intermediate_values={}, distributions={'hidden_size': CategoricalDistribution(choices=(3, 6, 9, 12, 15, 20)), 'num_layers': CategoricalDistribution(choices=(1, 2, 3, 4, 5, 6, 7, 8, 9, 10, 11, 12, 13)), 'lr': FloatDistribution(high=0.1, log=True, low=1e-05, step=None)}, trial_id=45, value=None),\n",
       " FrozenTrial(number=34, state=TrialState.COMPLETE, values=[4.33860969543457], datetime_start=datetime.datetime(2024, 2, 6, 21, 23, 30, 86737), datetime_complete=datetime.datetime(2024, 2, 6, 21, 26, 29, 692712), params={'hidden_size': 12, 'num_layers': 7, 'lr': 0.0009962436468671522}, user_attrs={}, system_attrs={}, intermediate_values={}, distributions={'hidden_size': CategoricalDistribution(choices=(3, 6, 9, 12, 15, 20)), 'num_layers': CategoricalDistribution(choices=(1, 2, 3, 4, 5, 6, 7, 8, 9, 10, 11, 12, 13)), 'lr': FloatDistribution(high=0.1, log=True, low=1e-05, step=None)}, trial_id=34, value=None),\n",
       " FrozenTrial(number=173, state=TrialState.COMPLETE, values=[4.3411993980407715], datetime_start=datetime.datetime(2024, 2, 6, 23, 55, 0, 29931), datetime_complete=datetime.datetime(2024, 2, 6, 23, 55, 31, 615913), params={'hidden_size': 20, 'num_layers': 4, 'lr': 0.010361456307857316}, user_attrs={}, system_attrs={}, intermediate_values={}, distributions={'hidden_size': CategoricalDistribution(choices=(3, 6, 9, 12, 15, 20)), 'num_layers': CategoricalDistribution(choices=(1, 2, 3, 4, 5, 6, 7, 8, 9, 10, 11, 12, 13)), 'lr': FloatDistribution(high=0.1, log=True, low=1e-05, step=None)}, trial_id=173, value=None),\n",
       " FrozenTrial(number=164, state=TrialState.COMPLETE, values=[4.34507942199707], datetime_start=datetime.datetime(2024, 2, 6, 23, 49, 57, 483749), datetime_complete=datetime.datetime(2024, 2, 6, 23, 50, 52, 708757), params={'hidden_size': 20, 'num_layers': 4, 'lr': 0.017032956753552833}, user_attrs={}, system_attrs={}, intermediate_values={}, distributions={'hidden_size': CategoricalDistribution(choices=(3, 6, 9, 12, 15, 20)), 'num_layers': CategoricalDistribution(choices=(1, 2, 3, 4, 5, 6, 7, 8, 9, 10, 11, 12, 13)), 'lr': FloatDistribution(high=0.1, log=True, low=1e-05, step=None)}, trial_id=164, value=None),\n",
       " FrozenTrial(number=157, state=TrialState.COMPLETE, values=[4.40778923034668], datetime_start=datetime.datetime(2024, 2, 6, 23, 45, 19, 385581), datetime_complete=datetime.datetime(2024, 2, 6, 23, 45, 48, 192562), params={'hidden_size': 20, 'num_layers': 4, 'lr': 0.010093505659715363}, user_attrs={}, system_attrs={}, intermediate_values={}, distributions={'hidden_size': CategoricalDistribution(choices=(3, 6, 9, 12, 15, 20)), 'num_layers': CategoricalDistribution(choices=(1, 2, 3, 4, 5, 6, 7, 8, 9, 10, 11, 12, 13)), 'lr': FloatDistribution(high=0.1, log=True, low=1e-05, step=None)}, trial_id=157, value=None),\n",
       " FrozenTrial(number=51, state=TrialState.COMPLETE, values=[4.573484420776367], datetime_start=datetime.datetime(2024, 2, 6, 22, 3, 53, 554266), datetime_complete=datetime.datetime(2024, 2, 6, 22, 5, 10, 273002), params={'hidden_size': 20, 'num_layers': 7, 'lr': 0.0018607740274832515}, user_attrs={}, system_attrs={}, intermediate_values={}, distributions={'hidden_size': CategoricalDistribution(choices=(3, 6, 9, 12, 15, 20)), 'num_layers': CategoricalDistribution(choices=(1, 2, 3, 4, 5, 6, 7, 8, 9, 10, 11, 12, 13)), 'lr': FloatDistribution(high=0.1, log=True, low=1e-05, step=None)}, trial_id=51, value=None),\n",
       " FrozenTrial(number=59, state=TrialState.COMPLETE, values=[4.688975811004639], datetime_start=datetime.datetime(2024, 2, 6, 22, 15, 16, 11178), datetime_complete=datetime.datetime(2024, 2, 6, 22, 15, 51, 832002), params={'hidden_size': 12, 'num_layers': 2, 'lr': 0.01813642574794882}, user_attrs={}, system_attrs={}, intermediate_values={}, distributions={'hidden_size': CategoricalDistribution(choices=(3, 6, 9, 12, 15, 20)), 'num_layers': CategoricalDistribution(choices=(1, 2, 3, 4, 5, 6, 7, 8, 9, 10, 11, 12, 13)), 'lr': FloatDistribution(high=0.1, log=True, low=1e-05, step=None)}, trial_id=59, value=None)]"
      ]
     },
     "execution_count": 44,
     "metadata": {},
     "output_type": "execute_result"
    }
   ],
   "source": [
    "sorted_trials[:12]"
   ]
  },
  {
   "cell_type": "code",
   "execution_count": 51,
   "id": "7e39cfcb",
   "metadata": {},
   "outputs": [
    {
     "name": "stdout",
     "output_type": "stream",
     "text": [
      "Epoch [100/10000], Train Loss: 20707.2693, Validation Loss: 2651.4277\n",
      "Epoch [200/10000], Train Loss: 6219.1511, Validation Loss: 1481.3778\n",
      "Epoch [300/10000], Train Loss: 4865.4283, Validation Loss: 1174.4181\n",
      "Epoch [400/10000], Train Loss: 3112.9566, Validation Loss: 613.5053\n",
      "Epoch [500/10000], Train Loss: 2181.7175, Validation Loss: 372.9685\n",
      "Epoch [600/10000], Train Loss: 1172.1579, Validation Loss: 125.5593\n",
      "Epoch [700/10000], Train Loss: 719.3304, Validation Loss: 70.5349\n",
      "Epoch [800/10000], Train Loss: 574.9683, Validation Loss: 56.9814\n",
      "Epoch [900/10000], Train Loss: 494.8612, Validation Loss: 49.3738\n",
      "Epoch [1000/10000], Train Loss: 489.6767, Validation Loss: 40.9799\n",
      "Epoch [1100/10000], Train Loss: 406.9363, Validation Loss: 37.1549\n",
      "Epoch [1200/10000], Train Loss: 363.9306, Validation Loss: 53.4900\n",
      "Epoch [1300/10000], Train Loss: 342.4411, Validation Loss: 32.1851\n",
      "Epoch [1400/10000], Train Loss: 363.6722, Validation Loss: 29.3366\n",
      "Epoch [1500/10000], Train Loss: 273.5507, Validation Loss: 28.1243\n",
      "Epoch [1600/10000], Train Loss: 279.0049, Validation Loss: 26.3796\n",
      "Epoch [1700/10000], Train Loss: 234.0677, Validation Loss: 24.5339\n",
      "Epoch [1800/10000], Train Loss: 236.4159, Validation Loss: 22.2789\n",
      "Epoch [1900/10000], Train Loss: 200.6488, Validation Loss: 18.2904\n",
      "Epoch [2000/10000], Train Loss: 205.7739, Validation Loss: 17.5182\n",
      "Epoch [2100/10000], Train Loss: 190.0492, Validation Loss: 16.0222\n",
      "Epoch [2200/10000], Train Loss: 172.4303, Validation Loss: 17.6260\n",
      "Epoch [2300/10000], Train Loss: 169.2755, Validation Loss: 15.9330\n",
      "Epoch [2400/10000], Train Loss: 168.1353, Validation Loss: 14.0618\n",
      "Epoch [2500/10000], Train Loss: 145.7002, Validation Loss: 13.5991\n",
      "Epoch [2600/10000], Train Loss: 162.6485, Validation Loss: 12.9683\n",
      "Epoch [2700/10000], Train Loss: 139.3861, Validation Loss: 14.8043\n",
      "Epoch [2800/10000], Train Loss: 172.1661, Validation Loss: 16.5175\n",
      "Epoch [2900/10000], Train Loss: 133.7005, Validation Loss: 17.2012\n",
      "Epoch [3000/10000], Train Loss: 126.7968, Validation Loss: 12.3637\n",
      "Epoch [3100/10000], Train Loss: 252.9033, Validation Loss: 16.3145\n",
      "Epoch [3200/10000], Train Loss: 138.1505, Validation Loss: 11.6368\n",
      "Epoch [3300/10000], Train Loss: 123.5341, Validation Loss: 14.1804\n",
      "Epoch [3400/10000], Train Loss: 117.6227, Validation Loss: 11.4858\n",
      "Epoch [3500/10000], Train Loss: 114.7317, Validation Loss: 10.2526\n",
      "Epoch [3600/10000], Train Loss: 118.8206, Validation Loss: 13.4260\n",
      "Epoch [3700/10000], Train Loss: 111.3340, Validation Loss: 11.9772\n",
      "Epoch [3800/10000], Train Loss: 506.9850, Validation Loss: 38.1452\n",
      "Epoch [3900/10000], Train Loss: 156.3586, Validation Loss: 19.2037\n",
      "Epoch [4000/10000], Train Loss: 139.9724, Validation Loss: 14.8673\n",
      "Epoch [4100/10000], Train Loss: 113.8278, Validation Loss: 13.8406\n",
      "Epoch [4200/10000], Train Loss: 108.1337, Validation Loss: 12.2607\n",
      "Epoch [4300/10000], Train Loss: 98.9900, Validation Loss: 11.6049\n",
      "Epoch [4400/10000], Train Loss: 105.4990, Validation Loss: 14.1146\n",
      "Epoch [4500/10000], Train Loss: 124.0471, Validation Loss: 12.3394\n",
      "Epoch [4583/10000], Train Loss: 131.8243, Validation Loss: 14.1539\n",
      "Early stopping triggered. Stopping training.\n"
     ]
    },
    {
     "data": {
      "image/png": "[encoded data removed]",
      "text/plain": [
       "<Figure size 432x288 with 1 Axes>"
      ]
     },
     "metadata": {
      "needs_background": "light"
     },
     "output_type": "display_data"
    }
   ],
   "source": [
    "hidden_size = 6\n",
    "num_layers = 10\n",
    "lr = 0.00056\n",
    "model = FeedforwardNN(input_size, output_size, hidden_size, num_layers)\n",
    "optimizer = optim.Adam(model.parameters(), lr=0.001)\n",
    "criterion = nn.MSELoss()\n",
    "num_epochs = 10000\n",
    "losses, val_losses, early_stop = train_feed(model, \n",
    "                                            train_loader, \n",
    "                                            val_loader, \n",
    "                                            optimizer, \n",
    "                                            criterion, \n",
    "                                            num_epochs, \n",
    "                                            print_every=100, \n",
    "                                            save_models=False, \n",
    "                                            patience=1000)\n",
    "plt.plot(losses, label='Training Loss')\n",
    "plt.plot(val_losses, label='Validation Loss')\n",
    "plt.xlabel('Epoch')\n",
    "plt.ylabel('Loss')\n",
    "plt.legend();"
   ]
  },
  {
   "cell_type": "code",
   "execution_count": 53,
   "id": "19636c6c",
   "metadata": {},
   "outputs": [
    {
     "name": "stdout",
     "output_type": "stream",
     "text": [
      "Epoch [100/10000], Train Loss: 4747.9576, Validation Loss: 1258.1383\n",
      "Epoch [200/10000], Train Loss: 3653.8172, Validation Loss: 1156.6899\n",
      "Epoch [300/10000], Train Loss: 3512.8168, Validation Loss: 1130.1262\n",
      "Epoch [400/10000], Train Loss: 3312.9915, Validation Loss: 1126.0669\n",
      "Epoch [500/10000], Train Loss: 3307.2129, Validation Loss: 1125.2266\n",
      "Epoch [600/10000], Train Loss: 2909.9117, Validation Loss: 1119.8710\n",
      "Epoch [700/10000], Train Loss: 3009.4613, Validation Loss: 1116.9323\n",
      "Epoch [800/10000], Train Loss: 3193.5545, Validation Loss: 1114.6240\n",
      "Epoch [900/10000], Train Loss: 3132.3660, Validation Loss: 1114.3009\n",
      "Epoch [1000/10000], Train Loss: 3122.9868, Validation Loss: 1112.6549\n",
      "Epoch [1100/10000], Train Loss: 2972.7957, Validation Loss: 1112.6022\n",
      "Epoch [1200/10000], Train Loss: 3172.3488, Validation Loss: 1112.3407\n",
      "Epoch [1300/10000], Train Loss: 3362.8524, Validation Loss: 1112.0867\n",
      "Epoch [1400/10000], Train Loss: 2960.3994, Validation Loss: 1112.1718\n",
      "Epoch [1500/10000], Train Loss: 3158.1752, Validation Loss: 1112.9554\n",
      "Epoch [1600/10000], Train Loss: 3284.9879, Validation Loss: 1112.2480\n",
      "Epoch [1700/10000], Train Loss: 3020.2489, Validation Loss: 1111.8496\n",
      "Epoch [1800/10000], Train Loss: 3121.5977, Validation Loss: 1112.5599\n",
      "Epoch [1900/10000], Train Loss: 2900.8500, Validation Loss: 1111.7572\n",
      "Epoch [2000/10000], Train Loss: 3235.5845, Validation Loss: 1112.3234\n",
      "Epoch [2100/10000], Train Loss: 3003.6220, Validation Loss: 1112.2970\n",
      "Epoch [2200/10000], Train Loss: 3083.1150, Validation Loss: 1112.4192\n",
      "Epoch [2300/10000], Train Loss: 2945.1677, Validation Loss: 1112.3988\n",
      "Epoch [2400/10000], Train Loss: 3272.7426, Validation Loss: 1111.9556\n",
      "Epoch [2500/10000], Train Loss: 2919.7013, Validation Loss: 1111.7914\n",
      "Epoch [2600/10000], Train Loss: 3047.7607, Validation Loss: 1112.9858\n",
      "Epoch [2700/10000], Train Loss: 2993.5008, Validation Loss: 1111.5768\n",
      "Epoch [2800/10000], Train Loss: 3029.2749, Validation Loss: 1112.2150\n",
      "Epoch [2900/10000], Train Loss: 3446.0981, Validation Loss: 1111.7949\n",
      "Epoch [3000/10000], Train Loss: 3137.3634, Validation Loss: 1111.4248\n",
      "Epoch [3100/10000], Train Loss: 3151.8835, Validation Loss: 1111.5244\n",
      "Epoch [3200/10000], Train Loss: 2917.5294, Validation Loss: 1112.5511\n",
      "Epoch [3300/10000], Train Loss: 3158.6081, Validation Loss: 1112.2544\n",
      "Epoch [3400/10000], Train Loss: 2948.4064, Validation Loss: 1112.6173\n",
      "Epoch [3500/10000], Train Loss: 2999.2400, Validation Loss: 1112.0260\n",
      "Epoch [3600/10000], Train Loss: 2917.1714, Validation Loss: 1113.4858\n",
      "Epoch [3700/10000], Train Loss: 3089.1243, Validation Loss: 1111.9830\n",
      "Epoch [3800/10000], Train Loss: 3129.5739, Validation Loss: 1111.6146\n",
      "Epoch [3900/10000], Train Loss: 3098.8765, Validation Loss: 1111.8118\n",
      "Epoch [4000/10000], Train Loss: 3084.2733, Validation Loss: 1111.9164\n",
      "Epoch [4100/10000], Train Loss: 3126.3924, Validation Loss: 1112.7637\n",
      "Epoch [4200/10000], Train Loss: 3385.0859, Validation Loss: 1111.8173\n",
      "Epoch [4300/10000], Train Loss: 3096.4430, Validation Loss: 1111.4935\n",
      "Epoch [4400/10000], Train Loss: 3255.3309, Validation Loss: 1112.0027\n",
      "Epoch [4500/10000], Train Loss: 3047.8012, Validation Loss: 1111.6962\n",
      "Epoch [4600/10000], Train Loss: 3062.1832, Validation Loss: 1111.2426\n",
      "Epoch [4700/10000], Train Loss: 3127.6390, Validation Loss: 1111.6669\n",
      "Epoch [4800/10000], Train Loss: 3042.4406, Validation Loss: 1111.4955\n",
      "Epoch [4900/10000], Train Loss: 3014.9567, Validation Loss: 1109.9706\n",
      "Epoch [5000/10000], Train Loss: 60.1319, Validation Loss: 10.0645\n",
      "Epoch [5100/10000], Train Loss: 32.0686, Validation Loss: 5.2522\n",
      "Epoch [5200/10000], Train Loss: 51.5543, Validation Loss: 4.8242\n",
      "Epoch [5300/10000], Train Loss: 28.0603, Validation Loss: 5.4161\n",
      "Epoch [5400/10000], Train Loss: 25.4974, Validation Loss: 4.4882\n",
      "Epoch [5500/10000], Train Loss: 21.0405, Validation Loss: 4.8184\n",
      "Epoch [5600/10000], Train Loss: 22.2246, Validation Loss: 4.2619\n",
      "Epoch [5700/10000], Train Loss: 17.9560, Validation Loss: 4.0729\n",
      "Epoch [5800/10000], Train Loss: 22.1760, Validation Loss: 4.6107\n",
      "Epoch [5900/10000], Train Loss: 17.3903, Validation Loss: 3.8505\n",
      "Epoch [6000/10000], Train Loss: 15.4821, Validation Loss: 3.8301\n",
      "Epoch [6100/10000], Train Loss: 15.1955, Validation Loss: 4.7104\n",
      "Epoch [6200/10000], Train Loss: 14.1059, Validation Loss: 3.8234\n",
      "Epoch [6300/10000], Train Loss: 16.0825, Validation Loss: 3.5266\n",
      "Epoch [6400/10000], Train Loss: 27.2061, Validation Loss: 3.6165\n",
      "Epoch [6500/10000], Train Loss: 15.9246, Validation Loss: 4.2723\n",
      "Epoch [6600/10000], Train Loss: 14.3170, Validation Loss: 3.5873\n",
      "Epoch [6700/10000], Train Loss: 17.0381, Validation Loss: 3.7611\n",
      "Epoch [6800/10000], Train Loss: 16.8420, Validation Loss: 4.3226\n",
      "Epoch [6900/10000], Train Loss: 11.7180, Validation Loss: 3.5132\n",
      "Epoch [7000/10000], Train Loss: 12.4162, Validation Loss: 3.7139\n",
      "Epoch [7100/10000], Train Loss: 11.8005, Validation Loss: 3.6270\n",
      "Epoch [7200/10000], Train Loss: 12.2777, Validation Loss: 3.9982\n",
      "Epoch [7300/10000], Train Loss: 12.5008, Validation Loss: 3.4876\n",
      "Epoch [7400/10000], Train Loss: 11.6940, Validation Loss: 3.2835\n",
      "Epoch [7500/10000], Train Loss: 14.4359, Validation Loss: 3.7512\n",
      "Epoch [7600/10000], Train Loss: 14.4954, Validation Loss: 3.5676\n",
      "Epoch [7700/10000], Train Loss: 12.0199, Validation Loss: 3.3822\n",
      "Epoch [7800/10000], Train Loss: 14.4256, Validation Loss: 3.2695\n",
      "Epoch [7900/10000], Train Loss: 12.9841, Validation Loss: 3.5758\n",
      "Epoch [8000/10000], Train Loss: 11.5466, Validation Loss: 3.3736\n",
      "Epoch [8100/10000], Train Loss: 12.2413, Validation Loss: 3.2088\n",
      "Epoch [8200/10000], Train Loss: 11.2723, Validation Loss: 3.5005\n",
      "Epoch [8300/10000], Train Loss: 18.4440, Validation Loss: 3.4112\n",
      "Epoch [8400/10000], Train Loss: 16.6291, Validation Loss: 3.1525\n",
      "Epoch [8500/10000], Train Loss: 12.9188, Validation Loss: 3.5795\n",
      "Epoch [8600/10000], Train Loss: 15.6301, Validation Loss: 3.7068\n",
      "Epoch [8700/10000], Train Loss: 13.5588, Validation Loss: 3.2436\n",
      "Epoch [8800/10000], Train Loss: 10.3452, Validation Loss: 3.1736\n",
      "Epoch [8900/10000], Train Loss: 14.2794, Validation Loss: 3.1107\n",
      "Epoch [9000/10000], Train Loss: 13.2672, Validation Loss: 3.0517\n",
      "Epoch [9100/10000], Train Loss: 11.1731, Validation Loss: 3.1339\n",
      "Epoch [9200/10000], Train Loss: 11.9385, Validation Loss: 3.0742\n",
      "Epoch [9300/10000], Train Loss: 12.4045, Validation Loss: 3.2180\n",
      "Epoch [9400/10000], Train Loss: 13.0259, Validation Loss: 3.0014\n",
      "Epoch [9500/10000], Train Loss: 9.6701, Validation Loss: 2.7973\n",
      "Epoch [9600/10000], Train Loss: 10.7385, Validation Loss: 2.7180\n",
      "Epoch [9700/10000], Train Loss: 20.5183, Validation Loss: 4.0383\n",
      "Epoch [9800/10000], Train Loss: 11.2733, Validation Loss: 2.8525\n",
      "Epoch [9900/10000], Train Loss: 9.5564, Validation Loss: 3.0880\n",
      "Epoch [10000/10000], Train Loss: 15.3244, Validation Loss: 3.4906\n"
     ]
    },
    {
     "data": {
      "image/png": "[encoded data removed]",
      "text/plain": [
       "<Figure size 432x288 with 1 Axes>"
      ]
     },
     "metadata": {
      "needs_background": "light"
     },
     "output_type": "display_data"
    }
   ],
   "source": [
    "hidden_size = 20\n",
    "num_layers = 4\n",
    "lr = 0.016297186309040205\n",
    "model2 = FeedforwardNN(input_size, output_size, hidden_size, num_layers)\n",
    "optimizer = optim.Adam(model2.parameters(), lr=0.001)\n",
    "criterion = nn.MSELoss()\n",
    "num_epochs = 10000\n",
    "losses, val_losses, early_stop = train_feed(model2, \n",
    "                                            train_loader, \n",
    "                                            val_loader, \n",
    "                                            optimizer, \n",
    "                                            criterion, \n",
    "                                            num_epochs, \n",
    "                                            print_every=100, \n",
    "                                            save_models=False, \n",
    "                                            patience=1000)\n",
    "plt.plot(losses, label='Training Loss')\n",
    "plt.plot(val_losses, label='Validation Loss')\n",
    "plt.xlabel('Epoch')\n",
    "plt.ylabel('Loss')\n",
    "plt.legend();"
   ]
  },
  {
   "cell_type": "code",
   "execution_count": 54,
   "id": "48a27e90",
   "metadata": {},
   "outputs": [
    {
     "name": "stdout",
     "output_type": "stream",
     "text": [
      "Test loss for model 1: 12.496554374694824\n",
      "Test loss for model 2: 1.1841840744018555\n"
     ]
    }
   ],
   "source": [
    "test_loss_model_1 = cal_loss(model,test_loader,criterion)\n",
    "test_loss_model_2 = cal_loss(model2,test_loader,criterion)\n",
    "print(f'Test loss for model 1: {test_loss_model_1}')\n",
    "print(f'Test loss for model 2: {test_loss_model_2}')"
   ]
  },
  {
   "cell_type": "code",
   "execution_count": 60,
   "id": "74822cf1",
   "metadata": {},
   "outputs": [],
   "source": [
    "class Visualization:\n",
    "    def __init__(self, data):\n",
    "        # convert invariants to tensor\n",
    "        invariants = torch.tensor(data['invriants'], dtype=torch.float32)\n",
    "        invariants.requires_grad = True\n",
    "        self.invariants = invariants\n",
    "        self.bases = data['bases']\n",
    "        self.base1_list = [b.base1 for b in self.bases]\n",
    "        self.base2_list = [b.base2 for b in self.bases]\n",
    "        self.base3_list = [b.base3 for b in self.bases]\n",
    "        self.base4_list = [b.base4 for b in self.bases]\n",
    "        self.base5_list = [b.base5 for b in self.bases]\n",
    "        self.base1_list = torch.stack(self.base1_list)\n",
    "        self.base2_list = torch.stack(self.base2_list)\n",
    "        self.base3_list = torch.stack(self.base3_list)\n",
    "        self.base4_list = torch.stack(self.base4_list)\n",
    "        self.base5_list = torch.stack(self.base5_list)\n",
    "        # target_stress = torch.tensor(data['target_stress'], dtype=torch.float32)\n",
    "        # target_stress.requires_grad = True\n",
    "        target_stress = torch.stack(data['target_stress'])\n",
    "        self.target_stress = target_stress\n",
    "        self.plot_configs = [\n",
    "            {'xrange': (0, 170)  , 'eps_idx': 0, 'subplot_idx': 1, 'xy_idx':11},\n",
    "            {'xrange': (171, 255), 'eps_idx': 1, 'subplot_idx': 2, 'xy_idx':22},\n",
    "            {'xrange': (256, 425), 'eps_idx': 2, 'subplot_idx': 3, 'xy_idx':33},\n",
    "            {'xrange': (426, 595), 'eps_idx': 3, 'subplot_idx': 4, 'xy_idx':12},\n",
    "            {'xrange': (596, 748), 'eps_idx': 4, 'subplot_idx': 5, 'xy_idx':13},\n",
    "            {'xrange': (749, 918), 'eps_idx': 5, 'subplot_idx': 6, 'xy_idx':23},\n",
    "        ]\n",
    "        self.fontsize = 14\n",
    "    def forward(self,model):\n",
    "        psi = model(self.invariants)\n",
    "        dPsidX = torch.autograd.grad(psi, self.invariants, grad_outputs=torch.ones_like(psi), create_graph=True)[0]\n",
    "        sigma = cauchy_stress_vectorized(self.invariants,dPsidX,self.base1_list,self.base2_list,self.base3_list,self.base4_list,self.base5_list)\n",
    "        return sigma\n",
    "    def get_sigma_lin(self,model):\n",
    "        sigma = self.forward(model).detach().numpy()\n",
    "        sigma_labeled = self.target_stress.detach().numpy()\n",
    "        sigma_pred_lin = np.zeros((sigma.shape[0],6))\n",
    "        sigma_labeled_lin = np.zeros((sigma.shape[0],6))\n",
    "        for i in range(sigma.shape[0]):\n",
    "            sigma_pred_lin[i,:] = [sigma[i,0,0],sigma[i,1,1],sigma[i,2,2],sigma[i,0,1],sigma[i,0,2],sigma[i,1,2]]\n",
    "            sigma_labeled_lin[i,:] = [sigma_labeled[i,0,0],sigma_labeled[i,1,1],sigma_labeled[i,2,2],sigma_labeled[i,0,1],sigma_labeled[i,0,2],sigma_labeled[i,1,2]]\n",
    "        return sigma_pred_lin,sigma_labeled_lin\n",
    "    def get_psi(self,model):\n",
    "        model.eval()\n",
    "        with torch.no_grad():\n",
    "            psi = model(self.invariants)\n",
    "        return psi.detach().numpy()\n",
    "    def plot_stresses(self,model,epsMatrix = eps_nominal):\n",
    "        sig_list_pred, stressList_exp = self.get_sigma_lin(model)\n",
    "        # Configuration settings\n",
    "        plt.figure(figsize=(10, 15))  # Adjust figure size as needed\n",
    "\n",
    "        for config in self.plot_configs:\n",
    "            start, end = config['xrange']\n",
    "            eps_idx = config['eps_idx']\n",
    "            subplot_idx = config['subplot_idx']\n",
    "\n",
    "            xrange = range(start, end)\n",
    "            eps = epsMatrix[xrange, eps_idx]\n",
    "            sig = sig_list_pred[xrange, eps_idx]\n",
    "            sig_exp = stressList_exp[xrange, eps_idx]\n",
    "\n",
    "            plt.subplot(3, 2, subplot_idx)\n",
    "            plt.plot(eps, sig, label='Predicted')\n",
    "            plt.plot(eps, sig_exp, '.', label='Experimental')\n",
    "            plt.xlabel(f'$\\epsilon_{{{config[\"xy_idx\"]}}}$', fontsize=self.fontsize)\n",
    "            plt.ylabel(f'$\\sigma_{{{config[\"xy_idx\"]}}}$', fontsize=self.fontsize)\n",
    "            plt.legend()\n",
    "\n",
    "        plt.tight_layout()\n",
    "    def plot_psi(self,model,epsMatrix = eps_nominal):\n",
    "        psi = self.get_psi(model)\n",
    "        plt.figure(figsize=(10, 15))\n",
    "        for config in self.plot_configs:\n",
    "            start, end = config['xrange']\n",
    "            eps_idx = config['eps_idx']\n",
    "            subplot_idx = config['subplot_idx']\n",
    "\n",
    "            xrange = range(start, end)\n",
    "            eps = epsMatrix[xrange, eps_idx]\n",
    "\n",
    "            plt.subplot(3, 2, subplot_idx)\n",
    "            plt.plot(eps, psi[xrange])\n",
    "            plt.xlabel(f'$\\epsilon_{{{config[\"xy_idx\"]}}}$', fontsize=self.fontsize)\n",
    "            plt.ylabel(f'$\\Psi$', fontsize=self.fontsize)\n",
    "        plt.tight_layout()\n",
    "        \n",
    "visualizer = Visualization(data_dict)\n"
   ]
  },
  {
   "cell_type": "code",
   "execution_count": 56,
   "id": "29fdf81c",
   "metadata": {},
   "outputs": [
    {
     "data": {
      "image/png": "[encoded data removed]",
      "text/plain": [
       "<Figure size 720x1080 with 6 Axes>"
      ]
     },
     "metadata": {
      "needs_background": "light"
     },
     "output_type": "display_data"
    }
   ],
   "source": [
    "visualizer.plot_stresses(model)"
   ]
  },
  {
   "cell_type": "code",
   "execution_count": 57,
   "id": "1db2ce50",
   "metadata": {},
   "outputs": [
    {
     "data": {
      "image/png": "[encoded data removed]",
      "text/plain": [
       "<Figure size 720x1080 with 6 Axes>"
      ]
     },
     "metadata": {
      "needs_background": "light"
     },
     "output_type": "display_data"
    }
   ],
   "source": [
    "visualizer.plot_stresses(model2)"
   ]
  },
  {
   "cell_type": "code",
   "execution_count": 61,
   "id": "8d089e67",
   "metadata": {},
   "outputs": [
    {
     "data": {
      "image/png": "[encoded data removed]",
      "text/plain": [
       "<Figure size 720x1080 with 6 Axes>"
      ]
     },
     "metadata": {
      "needs_background": "light"
     },
     "output_type": "display_data"
    }
   ],
   "source": [
    "visualizer.plot_psi(model)"
   ]
  },
  {
   "cell_type": "code",
   "execution_count": 62,
   "id": "5e7b050f",
   "metadata": {},
   "outputs": [
    {
     "data": {
      "image/png": "[encoded data removed]",
      "text/plain": [
       "<Figure size 720x1080 with 6 Axes>"
      ]
     },
     "metadata": {
      "needs_background": "light"
     },
     "output_type": "display_data"
    }
   ],
   "source": [
    "visualizer.plot_psi(model2)"
   ]
  },
  {
   "cell_type": "code",
   "execution_count": null,
   "id": "2ab26ca0",
   "metadata": {},
   "outputs": [],
   "source": []
  }
 ],
 "metadata": {
  "kernelspec": {
   "display_name": "torch",
   "language": "python",
   "name": "torch"
  },
  "language_info": {
   "codemirror_mode": {
    "name": "ipython",
    "version": 3
   },
   "file_extension": ".py",
   "mimetype": "text/x-python",
   "name": "python",
   "nbconvert_exporter": "python",
   "pygments_lexer": "ipython3",
   "version": "3.11.7"
  }
 },
 "nbformat": 4,
 "nbformat_minor": 5
}
